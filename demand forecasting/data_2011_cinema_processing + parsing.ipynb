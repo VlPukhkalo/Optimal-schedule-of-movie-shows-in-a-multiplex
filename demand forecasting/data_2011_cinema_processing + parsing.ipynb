{
 "cells": [
  {
   "cell_type": "code",
   "execution_count": 1,
   "id": "e7199d4a",
   "metadata": {},
   "outputs": [],
   "source": [
    "import sys\n",
    "import os\n",
    "import pandas as pd\n",
    "import numpy as np\n",
    "import matplotlib.pyplot as plt\n",
    "import glob\n",
    "import random\n",
    "import re"
   ]
  },
  {
   "cell_type": "code",
   "execution_count": 309,
   "id": "eadeed39",
   "metadata": {},
   "outputs": [
    {
     "data": {
      "text/plain": [
       "['Archive/Овз•в ®о≠м 2011.xls',\n",
       " 'Archive/Овз•в ђ†ав 2011.xls',\n",
       " 'Archive/Овз•в п≠Ґ†ам 2012.xls',\n",
       " 'Archive/Овз•в Ѓ™вп°ам 2011.xls',\n",
       " 'Archive/Овз•в д•Ґа†Ђм 2011.xls',\n",
       " 'Archive/Овз•в †Ґ£гбв 2011.xls',\n",
       " 'Archive/Овз•в п≠Ґ†ам 2011.xls',\n",
       " 'Archive/Овз•в ®оЂм 2011.xls',\n",
       " 'Archive/Овз•в †ѓа•Ђм 2011.xls',\n",
       " 'Archive/Овз•в ђ†© 2011.xls',\n",
       " 'Archive/Овз•в б•≠вп°ам 2011.xls',\n",
       " 'Archive/Овз•в §•™†°ам 2011.xls',\n",
       " 'Archive/Овз•в ≠Ѓп°ам 2011.xls']"
      ]
     },
     "execution_count": 309,
     "metadata": {},
     "output_type": "execute_result"
    }
   ],
   "source": [
    "os.chdir('/Users/user/Desktop/ВКР/')\n",
    "\n",
    "names = glob.glob('Archive/*')\n",
    "names"
   ]
  },
  {
   "cell_type": "code",
   "execution_count": 310,
   "id": "3739dbd7",
   "metadata": {},
   "outputs": [
    {
     "name": "stdout",
     "output_type": "stream",
     "text": [
      "Ok\n",
      "Ok\n",
      "Ok\n",
      "Ok\n",
      "Ok\n",
      "Ok\n",
      "Ok\n",
      "Ok\n",
      "Ok\n",
      "Ok\n",
      "Ok\n",
      "Ok\n",
      "Ok\n"
     ]
    }
   ],
   "source": [
    "data = pd.DataFrame()\n",
    "for name in names:\n",
    "    df = pd.read_excel(name, names = ['time', 'screen', '?', 'sales', 'occupancy'], index_col = None)\n",
    "    df = df.drop('?', axis = 1)\n",
    "    df = df[~df['time'].isna()]\n",
    "    data = pd.concat([data, df]).reset_index(drop=True)\n",
    "    print('Ok')"
   ]
  },
  {
   "cell_type": "code",
   "execution_count": 311,
   "id": "04235310",
   "metadata": {},
   "outputs": [],
   "source": [
    "films_idx = list(data[data['time'].str.startswith('Фильм:')].index) + [len(data)]\n",
    "films_col = [None for i in range (films_idx[0])]"
   ]
  },
  {
   "cell_type": "code",
   "execution_count": 312,
   "id": "94aaf275",
   "metadata": {},
   "outputs": [],
   "source": [
    "for i in range(1, len(films_idx)):\n",
    "    film = data.iloc[films_idx[i-1]]['time']\n",
    "    films_col = films_col + [film for _ in range(films_idx[i] - films_idx[i-1])]"
   ]
  },
  {
   "cell_type": "code",
   "execution_count": 313,
   "id": "585ac1c2",
   "metadata": {},
   "outputs": [],
   "source": [
    "data['film'] = films_col\n",
    "data = data.dropna()\n",
    "data = data[~data['sales'].str.contains('зрителей').fillna(False)]\n",
    "data = data.reset_index(drop=True)"
   ]
  },
  {
   "cell_type": "code",
   "execution_count": 314,
   "id": "b882e484",
   "metadata": {},
   "outputs": [],
   "source": [
    "data['time'] = pd.to_datetime(data['time'])\n",
    "data['sales'] = data['sales'].astype('int')\n",
    "data['occupancy']  = data['occupancy'].astype('float')\n",
    "data['screen'] = data['screen'].apply(lambda s: int(re.findall(r'-?\\d+\\.?\\d*', s)[0]))"
   ]
  },
  {
   "cell_type": "code",
   "execution_count": 315,
   "id": "c209dd6f",
   "metadata": {},
   "outputs": [],
   "source": [
    "data['film'] = data['film'].apply(lambda x: x.replace('Фильм:', '').strip())"
   ]
  },
  {
   "cell_type": "code",
   "execution_count": 316,
   "id": "fc6acc32",
   "metadata": {},
   "outputs": [],
   "source": [
    "def clear_film(x):\n",
    "    delete_list = ['3D', '(Digital)', 'digital', '3-ДЭ', 'DIGITAL', 'Digital', 'blu ray', 'в 4D', 'в 3 D']\n",
    "    f = x\n",
    "    for item in delete_list:\n",
    "        f = f.replace(item, '').strip()\n",
    "    return f"
   ]
  },
  {
   "cell_type": "code",
   "execution_count": 317,
   "id": "dfa7db84",
   "metadata": {},
   "outputs": [],
   "source": [
    "data['film'] = data['film'].apply(lambda x: clear_film(x))"
   ]
  },
  {
   "cell_type": "code",
   "execution_count": 318,
   "id": "a16df507",
   "metadata": {},
   "outputs": [
    {
     "name": "stdout",
     "output_type": "stream",
     "text": [
      "<class 'pandas.core.frame.DataFrame'>\n",
      "RangeIndex: 26357 entries, 0 to 26356\n",
      "Data columns (total 5 columns):\n",
      " #   Column     Non-Null Count  Dtype         \n",
      "---  ------     --------------  -----         \n",
      " 0   time       26357 non-null  datetime64[ns]\n",
      " 1   screen     26357 non-null  int64         \n",
      " 2   sales      26357 non-null  int64         \n",
      " 3   occupancy  26357 non-null  float64       \n",
      " 4   film       26357 non-null  object        \n",
      "dtypes: datetime64[ns](1), float64(1), int64(2), object(1)\n",
      "memory usage: 1.0+ MB\n"
     ]
    }
   ],
   "source": [
    "data.info()"
   ]
  },
  {
   "cell_type": "code",
   "execution_count": 319,
   "id": "1881eaba",
   "metadata": {},
   "outputs": [],
   "source": [
    "data.to_csv('processed_schedule_data_2011.csv', index = False)"
   ]
  },
  {
   "cell_type": "code",
   "execution_count": 23,
   "id": "fdc0a271",
   "metadata": {},
   "outputs": [
    {
     "data": {
      "text/plain": [
       "238"
      ]
     },
     "execution_count": 23,
     "metadata": {},
     "output_type": "execute_result"
    }
   ],
   "source": [
    "films_names = data['film'].unique()\n",
    "films_names = list(set(films_names))\n",
    "len(films_names)"
   ]
  },
  {
   "cell_type": "markdown",
   "id": "225d573d",
   "metadata": {},
   "source": [
    "# Parsing"
   ]
  },
  {
   "cell_type": "code",
   "execution_count": 149,
   "id": "940de045",
   "metadata": {},
   "outputs": [],
   "source": [
    "import requests\n",
    "from bs4 import BeautifulSoup"
   ]
  },
  {
   "cell_type": "code",
   "execution_count": 150,
   "id": "a86389b6",
   "metadata": {},
   "outputs": [],
   "source": [
    "films_id_ = {}"
   ]
  },
  {
   "cell_type": "code",
   "execution_count": 151,
   "id": "15af6a86",
   "metadata": {},
   "outputs": [],
   "source": [
    "fail = []\n",
    "\n",
    "for film in films_names:\n",
    "    try:\n",
    "        url: str = 'https://www.kinopoisk.ru/index.php?kp_query={}/'.format(film)\n",
    "        res: list[str] = requests.get(url)\n",
    "        soup_kinopoisk: BeautifulSoup = BeautifulSoup(res.text, 'html')\n",
    "\n",
    "        resps = soup_kinopoisk.find(class_='search_results')\n",
    "        resps_children = list(resps.find(class_='name').children)\n",
    "        movie_id = resps_children[0]['data-id']\n",
    "        films_id_[film] = movie_id\n",
    "    except: \n",
    "        fail.append(film)"
   ]
  },
  {
   "cell_type": "code",
   "execution_count": 152,
   "id": "232e768e",
   "metadata": {},
   "outputs": [
    {
     "data": {
      "text/plain": [
       "41"
      ]
     },
     "execution_count": 152,
     "metadata": {},
     "output_type": "execute_result"
    }
   ],
   "source": [
    "len(fail)"
   ]
  },
  {
   "cell_type": "code",
   "execution_count": 153,
   "id": "058b0747",
   "metadata": {},
   "outputs": [],
   "source": [
    "fail2 = []\n",
    "for film in fail:\n",
    "    film_r = ' '.join(film.split(' ')[:-1])\n",
    "    try:\n",
    "        url: str = 'https://www.kinopoisk.ru/index.php?kp_query={}/'.format(film_r)\n",
    "        res: list[str] = requests.get(url)\n",
    "        soup_kinopoisk: BeautifulSoup = BeautifulSoup(res.text, 'html')\n",
    "            \n",
    "        resps = soup_kinopoisk.find(class_='search_results')\n",
    "        resps_children = list(resps.find(class_='name').children)\n",
    "        movie_id = resps_children[0]['data-id']\n",
    "        films_id_[film] = movie_id\n",
    "        \n",
    "    except: \n",
    "        fail2.append(film)"
   ]
  },
  {
   "cell_type": "code",
   "execution_count": 154,
   "id": "27be2d76",
   "metadata": {},
   "outputs": [
    {
     "data": {
      "text/plain": [
       "13"
      ]
     },
     "execution_count": 154,
     "metadata": {},
     "output_type": "execute_result"
    }
   ],
   "source": [
    "len(fail2)"
   ]
  },
  {
   "cell_type": "code",
   "execution_count": 155,
   "id": "b5e19296",
   "metadata": {},
   "outputs": [
    {
     "data": {
      "text/plain": [
       "['Пираты Карибского моря: На странных берегах',\n",
       " 'Три богатыря и шамаханская царица',\n",
       " 'Я-четвертый',\n",
       " 'Орёл девятого легиона',\n",
       " 'Трансформеры 3: Темная сторона луны',\n",
       " 'Ронал-Варвар',\n",
       " 'Высоцкий. Спасибо, что живой',\n",
       " 'Миссия невыполнима:Протокол Фантом',\n",
       " 'Суперменеджер или Мотыга судьбы',\n",
       " 'Криминальная фишка от Генри',\n",
       " 'Ларго Винч 2: Заговор в Бирме',\n",
       " 'Секс и Дзен : экстремальный экстаз',\n",
       " 'Ржевский против Наполеона']"
      ]
     },
     "execution_count": 155,
     "metadata": {},
     "output_type": "execute_result"
    }
   ],
   "source": [
    "fail2"
   ]
  },
  {
   "cell_type": "code",
   "execution_count": 156,
   "id": "343d7b83",
   "metadata": {},
   "outputs": [],
   "source": [
    "films_id_['Трансформеры 3: Темная сторона луны'] = '452899'\n",
    "films_id_['Пираты Карибского моря: На странных берегах'] = '427076'\n",
    "films_id_['Криминальная фишка от Генри'] = '463782'\n",
    "films_id_['Высоцкий. Спасибо, что живой'] = '522036'\n",
    "films_id_['Ронал-Варвар'] = '549198'\n",
    "films_id_['4.3.2.1'] = '474776'\n",
    "films_id_['Суперменеджер или Мотыга судьбы'] = '402980'\n",
    "films_id_['Я-четвертый'] = '468872'\n",
    "films_id_['Ржевский против Наполеона'] = '417854'\n",
    "films_id_['Миссия невыполнима:Протокол Фантом'] = '472362'\n",
    "films_id_['Секс и Дзен : экстремальный экстаз'] = '534911'\n",
    "films_id_['Ларго Винч 2: Заговор в Бирме'] = '464606'\n",
    "films_id_['Три богатыря и шамаханская царица'] = '432650'\n",
    "films_id_['Орёл девятого легиона'] = '455353'\n",
    "films_id_['Неуловимый Люк'] = '415322'\n",
    "films_id_['Смешарики. Начало'] = '570117'\n",
    "films_id_['Ключ саламандры'] = '453312'"
   ]
  },
  {
   "cell_type": "code",
   "execution_count": 157,
   "id": "f6ee20a1",
   "metadata": {},
   "outputs": [
    {
     "data": {
      "text/plain": [
       "238"
      ]
     },
     "execution_count": 157,
     "metadata": {},
     "output_type": "execute_result"
    }
   ],
   "source": [
    "len(films_id_)"
   ]
  },
  {
   "cell_type": "code",
   "execution_count": 253,
   "id": "9d25e6e7",
   "metadata": {},
   "outputs": [],
   "source": [
    "from kinopoisk_unofficial.kinopoisk_api_client import KinopoiskApiClient\n",
    "from kinopoisk_unofficial.request.films.film_request import FilmRequest\n",
    "from kinopoisk_unofficial.request.staff.staff_request import StaffRequest\n",
    "from kinopoisk_unofficial.request.films.box_office_request import BoxOfficeRequest\n",
    "\n",
    "api_client = KinopoiskApiClient('783c58a4-397e-4cad-823b-b78c4a3cefc3')"
   ]
  },
  {
   "cell_type": "code",
   "execution_count": 159,
   "id": "389c5a63",
   "metadata": {},
   "outputs": [],
   "source": [
    "IMDB_df = pd.read_csv('processed_IMDB_dataset.csv')"
   ]
  },
  {
   "cell_type": "code",
   "execution_count": 160,
   "id": "a85f643b",
   "metadata": {},
   "outputs": [],
   "source": [
    "names_in_IMDB = list(set(IMDB_df['title']))"
   ]
  },
  {
   "cell_type": "code",
   "execution_count": 167,
   "id": "9e77daee",
   "metadata": {},
   "outputs": [],
   "source": [
    "metadata_dict = {k:{'name': k, \n",
    "                    'belongs_to_collection':False,\n",
    "                    'english_name': None,\n",
    "                    'film_id': films_id_[k], \n",
    "                    'genres': None, \n",
    "                    'budget':None,\n",
    "                    'currency': None,\n",
    "                    'countries': None, \n",
    "                    'companies': None,\n",
    "                    'film_length': None, \n",
    "                    'rating_await': None, \n",
    "                    'film_age': 0,\n",
    "                    'actors' : None, \n",
    "                    'directors' : None, \n",
    "                    } for k in films_id_.keys()}"
   ]
  },
  {
   "cell_type": "code",
   "execution_count": 168,
   "id": "77a6fead",
   "metadata": {},
   "outputs": [],
   "source": [
    "def get_actors_and_directors(response):\n",
    "    actors = []\n",
    "    directors = []\n",
    "    for person in response.items[:5]:\n",
    "        who = person.profession_text\n",
    "        if who == 'Режиссеры':\n",
    "            directors.append([person.name_ru, person.staff_id])\n",
    "        elif who == 'Актеры':\n",
    "            actors.append([person.name_ru, person.staff_id])\n",
    "            \n",
    "    return actors, directors"
   ]
  },
  {
   "cell_type": "code",
   "execution_count": 169,
   "id": "16816513",
   "metadata": {},
   "outputs": [],
   "source": [
    "def get_budget(response):\n",
    "    budget = 0\n",
    "    currency = None\n",
    "    for i in response.items:\n",
    "        if i.type == 'BUDGET':\n",
    "            budget += i.amount\n",
    "            currency = i.currency_code\n",
    "        elif i.type == 'MARKETING':\n",
    "            budget += i.amount\n",
    "            currency = i.currency_code\n",
    "    return budget, currency"
   ]
  },
  {
   "cell_type": "code",
   "execution_count": 164,
   "id": "c4db9bd3",
   "metadata": {},
   "outputs": [],
   "source": [
    "# film = 'Ёлки'\n",
    "# id_ = 4694773"
   ]
  },
  {
   "cell_type": "code",
   "execution_count": 175,
   "id": "afab754d",
   "metadata": {},
   "outputs": [],
   "source": [
    "def get_movie_info(film):\n",
    "    \n",
    "    id_ = metadata_dict[film]['film_id']\n",
    "    \n",
    "    request = FilmRequest(id_)\n",
    "    response = api_client.films.send_film_request(request)\n",
    "    en_name = response.film.name_en or response.film.name_original\n",
    "\n",
    "    if en_name in names_in_IMDB:\n",
    "        metadata_dict[film]['english_name'] = en_name\n",
    "        temp_dict = dict(IMDB_df[IMDB_df['title'] == en_name].iloc[0])\n",
    "        metadata_dict[film]['belongs_to_collection'] = temp_dict['belongs_to_collection']\n",
    "        metadata_dict[film]['genres'] = eval(temp_dict['genres'])\n",
    "        metadata_dict[film]['budget'] = temp_dict['budget']\n",
    "        metadata_dict[film]['countries'] = eval(temp_dict['production_countries'])\n",
    "        metadata_dict[film]['companies'] = eval(temp_dict['production_companies'])\n",
    "        metadata_dict[film]['film_length'] = temp_dict['runtime']\n",
    "        metadata_dict[film]['rating_await'] = temp_dict['vote_count']\n",
    "        metadata_dict[film]['film_age'] = 0 if not temp_dict['adult'] else 18\n",
    "        metadata_dict[film]['actors'] = temp_dict['cast_ranking']\n",
    "        metadata_dict[film]['directors'] = temp_dict['crew_ranking']\n",
    "\n",
    "    else:\n",
    "        metadata_dict[film]['genres'] = list(map(lambda x: x.genre, response.film.genres))\n",
    "        metadata_dict[film]['countries'] = list(map(lambda x: x.country, response.film.countries))\n",
    "        metadata_dict[film]['companies'] = []\n",
    "        metadata_dict[film]['film_length'] = response.film.film_length\n",
    "        metadata_dict[film]['rating_await'] = response.film.rating_await_count + response.film.rating_kinopoisk_vote_count\n",
    "        metadata_dict[film]['film_age'] = response.film.rating_age_limits\n",
    "\n",
    "        request2 = StaffRequest(id_)\n",
    "        response2 = api_client.staff.send_staff_request(request2)\n",
    "        metadata_dict[film]['actors'], metadata_dict[film]['directors'] = get_actors_and_directors(response2)\n",
    "\n",
    "        request3 = BoxOfficeRequest(id_)\n",
    "        response3 = api_client.films.send_box_office_request(request3)\n",
    "        metadata_dict[film]['budget'], metadata_dict[film]['currency'] = get_budget(response3)"
   ]
  },
  {
   "cell_type": "code",
   "execution_count": 172,
   "id": "afbf8644",
   "metadata": {},
   "outputs": [],
   "source": [
    "done_films = []"
   ]
  },
  {
   "cell_type": "code",
   "execution_count": 176,
   "id": "c382af96",
   "metadata": {},
   "outputs": [
    {
     "name": "stdout",
     "output_type": "stream",
     "text": [
      "Добыча\n",
      "Ранго\n",
      "Беременный\n",
      "Я тоже тебя люблю\n",
      "Механик\n",
      "О чём еще говорят мужчины\n",
      "Схватка\n",
      "Вкус ночи\n",
      "Один День\n",
      "Любовь и другие лекарства\n",
      "Generatiоn П\n",
      "Всё в порядке, мама!\n",
      "Страшно красив\n",
      "Два дня\n",
      "Я не знаю, как она делает это\n",
      "Тачки 2\n",
      "Зелёный шершень\n",
      "Вой Банши\n",
      "Зеленый фонарь\n",
      "Бедная богатая девочка\n",
      "Жених напрокат\n",
      "Супер 8\n",
      "История дельфина\n",
      "Двойник дьявола\n",
      "Хранитель времени\n",
      "Кожа, в которой я живу\n",
      "Аполлон 18\n",
      "Племя\n",
      "Шелуха\n",
      "Нокаут\n",
      "Аноним\n",
      "Выкрутасы\n",
      "Липучка\n",
      "Прошлой ночью в Нью-Йорке\n",
      "Фантом\n",
      "Тайна красной планеты\n",
      "Контрабанда\n",
      "Восстание планеты обезьян\n",
      "Боевой конь\n",
      "Время ведьм\n",
      "Дом грёз\n",
      "О чем еще говорят мужчины\n",
      "Медведь Йоги\n",
      "Коломбиана\n",
      "Служебный роман.Наше время\n",
      "Кукарача\n",
      "Ужасный Генри\n",
      "Гномео и Джульетта\n",
      "Грибы\n",
      "Тихая застава\n",
      "Турист\n",
      "Потомки\n",
      "Бурлеск\n",
      "Близнецы-убийцы\n",
      "Джейн Эйр\n",
      "Палата\n",
      "Люди Икс: Первый класс\n",
      "Гениальный папа\n",
      "Санктум\n",
      "Медвежонок Винни и его друзья\n",
      "Нечто\n",
      "Пункт назначения 5\n",
      "Прямо в сердце\n",
      "Человек, который изменил все\n",
      "Несносные боссы\n",
      "Бабло\n",
      "Реальная сказка\n",
      "Большие Мамочки:Сын как отец\n",
      "Опасный метод\n",
      "Элвин и бурундуки 3\n",
      "Глаз ребёнка\n",
      "Как выйти замуж за миллиардера\n",
      "Неизвестный\n",
      "Король говорит!\n",
      "Стэп бай стэп\n",
      "Дети шпионов\n",
      "Кориолан\n",
      "Заложник смерти\n",
      "127 часов\n",
      "Елена\n",
      "Мантикора\n",
      "Очень опасная штучка\n",
      "Трон: Наследие\n",
      "Чёрный лебедь\n",
      "Война Богов: Бессмертные\n",
      "Смурфики\n",
      "Доброе утро\n",
      "Моя безумная семья\n",
      "Любовь с риском для жизни\n",
      "Хочу как ты\n",
      "Щелкунчик и крысиный король\n",
      "Кошмар за стеной\n",
      "Ёлки 2\n",
      "Камень\n",
      "Подстава\n",
      "Вдребезги\n",
      "Задание\n",
      "Секс по дружбе\n",
      "Свадьба по обмену\n",
      "Форсаж 5\n",
      "Заражение\n",
      "Рапунцель: Запутанная история\n",
      "Резня\n",
      "Путешествие Гулливера\n",
      "Соломенные псы\n",
      "Затаившиеся\n",
      "Кот в сапогах\n",
      "Не сдавайся\n",
      "Без компромиссов\n",
      "Не бойся темноты\n",
      "Неадекватные люди\n",
      "Пять невест\n",
      "Ты и я\n",
      "Отряд особого назначения\n",
      "Паранормальное явление 3\n",
      "Убежище\n",
      "Больше, чем секс\n",
      "51\n",
      "Погоня\n",
      "Драйв\n",
      "Тридцать седьмой роман\n",
      "Сумерки. Сага Рассвет. часть 1\n",
      "Старый Новый год\n",
      "Расплата\n",
      "Пастырь\n",
      "Мой парень из зоопарка\n",
      "Соблазнитель\n",
      "Крик 4\n",
      "Хроники Нарнии: Покоритель Зари\n",
      "Астрал\n",
      "11.11.11\n",
      "Огни притона\n",
      "Области тьмы\n",
      "Как украсть небоскреб\n",
      "Морская бригада\n",
      "Предел риска\n",
      "Девушка с татуировкой дракона\n",
      "Сатисфакция\n",
      "Воды слонам!\n",
      "Кунг-Фу Панда 2\n",
      "Полночь в Париже\n",
      "Конан-варвар\n",
      "Жила-была одна баба\n",
      "На крючке\n",
      "Вторжение: Битва за рай\n",
      "Боец\n",
      "Исходный код\n",
      "Прямо в сердце Д\n",
      "Монстр в Париже\n",
      "ПираМММида\n",
      "Иван Царевич и Серый Волк\n",
      "Время\n",
      "Меняющие реальность\n",
      "Утомленные солнцем 2: Цитадель\n",
      "4.3.2.1\n",
      "Приключения Тинтина: Тайна единорога\n",
      "Ларри Краун\n",
      "Бунт ушастых\n",
      "Пингвины мистера Поппера\n",
      "Бой с тенью: последний раунд\n",
      "Секретная служба Санта Клауса: Операция\n",
      "Голодный кролик атакует\n",
      "Инопланетное вторжение: Битва за Лос-Анджелес\n",
      "Агент Джонни Инглиш: Перезагрузка\n",
      "Смелый большой панда\n",
      "Руки-ноги за любовь\n",
      "Ханна.Совершенное оружие\n",
      "Храбрые перцем\n",
      "Неуловимый Люк\n",
      "Ромовый дневник\n",
      "Мальчишник 2:Из Вегаса в Бангкок\n",
      "Звездные воины: Путь сквозь Вселенную\n",
      "Шерлок Холмс: Игра теней\n",
      "Другой мир 4: Пробуждение\n",
      "Пол: секретный материальчик\n",
      "Эта дурацкая любовь\n",
      "Убойные каникулы\n",
      "Безбрачная неделя\n",
      "Ключ саламандры\n",
      "Варенье из сакуры\n",
      "Красная шапка против зла\n",
      "Гарри Поттер и дары смерти, ч.2\n",
      "Смешарики. Начало\n",
      "Трансформеры 3: Темная сторона луны\n",
      "Пираты Карибского моря: На странных берегах\n",
      "Криминальная фишка от Генри\n",
      "Высоцкий. Спасибо, что живой\n",
      "Ронал-Варвар\n",
      "Суперменеджер или Мотыга судьбы\n",
      "Я-четвертый\n",
      "Ржевский против Наполеона\n",
      "Миссия невыполнима:Протокол Фантом\n",
      "Секс и Дзен : экстремальный экстаз\n",
      "Ларго Винч 2: Заговор в Бирме\n",
      "Три богатыря и шамаханская царица\n",
      "Орёл девятого легиона\n"
     ]
    }
   ],
   "source": [
    "for film in metadata_dict:\n",
    "    if film not in done_films: \n",
    "        get_movie_info(film)\n",
    "        done_films.append(film)\n",
    "        print(film)"
   ]
  },
  {
   "cell_type": "code",
   "execution_count": 185,
   "id": "77f25f1b",
   "metadata": {},
   "outputs": [],
   "source": [
    "movies_info = pd.DataFrame(metadata_dict).T"
   ]
  },
  {
   "cell_type": "code",
   "execution_count": 186,
   "id": "f940d71e",
   "metadata": {},
   "outputs": [],
   "source": [
    "movies_info = movies_info.drop(['name'], axis = 1)\n",
    "movies_info['belongs_to_collection'] = movies_info['belongs_to_collection'].apply(lambda x: 0 if not x else 1)"
   ]
  },
  {
   "cell_type": "code",
   "execution_count": 190,
   "id": "8847d1ce",
   "metadata": {},
   "outputs": [
    {
     "data": {
      "text/plain": [
       "{'Action',\n",
       " 'Adventure',\n",
       " 'Animation',\n",
       " 'Comedy',\n",
       " 'Crime',\n",
       " 'Drama',\n",
       " 'Family',\n",
       " 'Fantasy',\n",
       " 'History',\n",
       " 'Horror',\n",
       " 'Music',\n",
       " 'Mystery',\n",
       " 'Romance',\n",
       " 'Science Fiction',\n",
       " 'Thriller',\n",
       " 'War',\n",
       " 'Western',\n",
       " 'биография',\n",
       " 'боевик',\n",
       " 'вестерн',\n",
       " 'военный',\n",
       " 'детектив',\n",
       " 'детский',\n",
       " 'для взрослых',\n",
       " 'драма',\n",
       " 'история',\n",
       " 'комедия',\n",
       " 'короткометражка',\n",
       " 'криминал',\n",
       " 'мелодрама',\n",
       " 'музыка',\n",
       " 'мультфильм',\n",
       " 'приключения',\n",
       " 'семейный',\n",
       " 'спорт',\n",
       " 'триллер',\n",
       " 'ужасы',\n",
       " 'фантастика',\n",
       " 'фэнтези'}"
      ]
     },
     "execution_count": 190,
     "metadata": {},
     "output_type": "execute_result"
    }
   ],
   "source": [
    "{x for k in movies_info['genres'] for x in k}"
   ]
  },
  {
   "cell_type": "code",
   "execution_count": 191,
   "id": "028632db",
   "metadata": {},
   "outputs": [],
   "source": [
    "translate_genres_dict = {'биография': 'History', \n",
    "                         'боевик': 'Action',\n",
    "                         'вестерн': 'Western',\n",
    "                         'военный': 'War',\n",
    "                         'детектив': 'Mystery',\n",
    "                         'детский': 'Animation',\n",
    "                         'для взрослых': None,\n",
    "                         'драма': 'Drama',\n",
    "                         'история': 'History',\n",
    "                         'комедия': 'Comedy',\n",
    "                         'короткометражка': None,\n",
    "                         'криминал': 'Crime',\n",
    "                         'мелодрама': 'Romance',\n",
    "                         'музыка': 'Music',\n",
    "                         'мультфильм': 'Animation',\n",
    "                         'приключения': 'Adventure',\n",
    "                         'семейный': 'Family',\n",
    "                         'спорт': None,\n",
    "                         'триллер': 'Thriller',\n",
    "                         'ужасы': 'Horror',\n",
    "                         'фантастика': 'Science Fiction',\n",
    "                         'фэнтези': 'Fantasy'}"
   ]
  },
  {
   "cell_type": "code",
   "execution_count": 200,
   "id": "6ff87a89",
   "metadata": {},
   "outputs": [],
   "source": [
    "movies_info['genres'] = movies_info['genres'].apply(lambda x: [translate_genres_dict.get(i, i) for i in x])\n",
    "movies_info['genres'] = movies_info['genres'].apply(lambda x: [i for i in x if i])"
   ]
  },
  {
   "cell_type": "code",
   "execution_count": 212,
   "id": "88098f8b",
   "metadata": {},
   "outputs": [],
   "source": [
    "movies_info['currency'] = movies_info['currency'].apply(lambda x: None if x == '' else x)\n",
    "movies_info['currency'] = movies_info['currency'].fillna('USD')"
   ]
  },
  {
   "cell_type": "code",
   "execution_count": 213,
   "id": "00f5fe0a",
   "metadata": {},
   "outputs": [
    {
     "data": {
      "text/plain": [
       "array(['USD', 'GBP', 'EUR', 'RUB', 'DKK'], dtype=object)"
      ]
     },
     "execution_count": 213,
     "metadata": {},
     "output_type": "execute_result"
    }
   ],
   "source": [
    "movies_info['currency'].unique()"
   ]
  },
  {
   "cell_type": "code",
   "execution_count": 214,
   "id": "02554cb2",
   "metadata": {},
   "outputs": [],
   "source": [
    "currency_courses_dict = {'USD': 1, 'GBP': 1.61, 'EUR': 1.38, 'RUB':0.04, 'DKK': 0.19}"
   ]
  },
  {
   "cell_type": "code",
   "execution_count": 215,
   "id": "e616df77",
   "metadata": {},
   "outputs": [],
   "source": [
    "movies_info['currency_course_to_dollars'] = movies_info['currency']. apply(lambda x: currency_courses_dict[x])"
   ]
  },
  {
   "cell_type": "code",
   "execution_count": 216,
   "id": "d691f83d",
   "metadata": {},
   "outputs": [],
   "source": [
    "movies_info['budget_in_dollars'] = movies_info['budget'] * movies_info['currency_course_to_dollars']"
   ]
  },
  {
   "cell_type": "code",
   "execution_count": 220,
   "id": "6b6e20a9",
   "metadata": {},
   "outputs": [
    {
     "data": {
      "text/plain": [
       "{'Australia',\n",
       " 'Austria',\n",
       " 'Belgium',\n",
       " 'Canada',\n",
       " 'Czech Republic',\n",
       " 'Denmark',\n",
       " 'France',\n",
       " 'Germany',\n",
       " 'Hungary',\n",
       " 'India',\n",
       " 'Ireland',\n",
       " 'Italy',\n",
       " 'Mexico',\n",
       " 'Netherlands',\n",
       " 'New Zealand',\n",
       " 'Poland',\n",
       " 'Serbia and Montenegro',\n",
       " 'Spain',\n",
       " 'Sweden',\n",
       " 'Switzerland',\n",
       " 'United Arab Emirates',\n",
       " 'United Kingdom',\n",
       " 'United States of America',\n",
       " 'Австралия',\n",
       " 'Аргентина',\n",
       " 'Бельгия',\n",
       " 'Великобритания',\n",
       " 'Германия',\n",
       " 'Гонконг',\n",
       " 'Дания',\n",
       " 'Индия',\n",
       " 'Испания',\n",
       " 'Италия',\n",
       " 'Канада',\n",
       " 'Китай',\n",
       " 'Корея Южная',\n",
       " 'Малайзия',\n",
       " 'Нидерланды',\n",
       " 'Россия',\n",
       " 'СССР',\n",
       " 'США',\n",
       " 'Турция',\n",
       " 'Украина',\n",
       " 'Франция',\n",
       " 'Швейцария',\n",
       " 'Япония'}"
      ]
     },
     "execution_count": 220,
     "metadata": {},
     "output_type": "execute_result"
    }
   ],
   "source": [
    "{i for lst in movies_info['countries'] for i in lst}"
   ]
  },
  {
   "cell_type": "code",
   "execution_count": 221,
   "id": "84f56418",
   "metadata": {},
   "outputs": [],
   "source": [
    "translate_countries_dict = {'Австралия': 'Australia',\n",
    "                             'Аргентина': 'Argentina',\n",
    "                             'Бельгия': 'Belgium',\n",
    "                             'Великобритания': 'United Kingdom',\n",
    "                             'Германия': 'Germany',\n",
    "                             'Гонконг': 'Hong Kong',\n",
    "                             'Дания': 'Denmark',\n",
    "                             'Индия': 'India',\n",
    "                             'Испания': 'Spain',\n",
    "                             'Италия': 'Italy',\n",
    "                             'Канада': 'Canada',\n",
    "                             'Китай': 'China',\n",
    "                             'Корея Южная': 'South Korea',\n",
    "                             'Малайзия': 'Malaysia',\n",
    "                             'Нидерланды': 'Netherlands',\n",
    "                             'Россия': 'Russia',\n",
    "                             'СССР': 'Russia',\n",
    "                             'США': 'United States of America',\n",
    "                             'Турция': 'Türkiye',\n",
    "                             'Украина': 'Ukraine',\n",
    "                             'Франция': 'France',\n",
    "                             'Швейцария': 'Switzerland',\n",
    "                             'Япония': 'Japan'}"
   ]
  },
  {
   "cell_type": "code",
   "execution_count": 222,
   "id": "422b4302",
   "metadata": {},
   "outputs": [],
   "source": [
    "movies_info['countries'] = movies_info['countries'].apply(lambda x: [translate_countries_dict.get(i, i) for i in x])\n",
    "movies_info['countries'] = movies_info['countries'].apply(lambda x: [i for i in x if i])"
   ]
  },
  {
   "cell_type": "code",
   "execution_count": 227,
   "id": "898f6c2f",
   "metadata": {},
   "outputs": [],
   "source": [
    "movies_info['actors_ranking'] = movies_info['actors'].apply(lambda x: x if isinstance(x, float) else None)"
   ]
  },
  {
   "cell_type": "code",
   "execution_count": 259,
   "id": "8824e5c6",
   "metadata": {},
   "outputs": [
    {
     "data": {
      "text/plain": [
       "326"
      ]
     },
     "execution_count": 259,
     "metadata": {},
     "output_type": "execute_result"
    }
   ],
   "source": [
    "actors_id = list({k for d in movies_info[movies_info['actors_ranking'].isna()]['actors'].apply(lambda l: [x[-1] for x in l]) for k in d})\n",
    "len(actors_id)"
   ]
  },
  {
   "cell_type": "code",
   "execution_count": 260,
   "id": "958011c7",
   "metadata": {},
   "outputs": [],
   "source": [
    "from kinopoisk_unofficial.request.staff.person_request import PersonRequest"
   ]
  },
  {
   "cell_type": "code",
   "execution_count": 261,
   "id": "8b38e175",
   "metadata": {},
   "outputs": [],
   "source": [
    "def find_average_rating(id_):\n",
    "        request = PersonRequest(id_)\n",
    "        response = api_client.staff.send_person_request(request)\n",
    "        lst_rank = list(map(lambda x: x.rating, response.films))\n",
    "        m = np.array([float(x) for x in lst_rank if isinstance(x, str) ]).mean()\n",
    "        return m"
   ]
  },
  {
   "cell_type": "code",
   "execution_count": 262,
   "id": "3bc1d833",
   "metadata": {},
   "outputs": [],
   "source": [
    "avg_rating = {}\n",
    "i = 0"
   ]
  },
  {
   "cell_type": "code",
   "execution_count": 263,
   "id": "a9fd1413",
   "metadata": {},
   "outputs": [],
   "source": [
    "fail_id = []"
   ]
  },
  {
   "cell_type": "code",
   "execution_count": 264,
   "id": "fb73998c",
   "metadata": {},
   "outputs": [],
   "source": [
    "while i < len(actors_id):\n",
    "    id_ = actors_id[i]\n",
    "    try: avg_rating[id_] = find_average_rating(id_)\n",
    "    except: fail_id.append(id_)\n",
    "    i+=1"
   ]
  },
  {
   "cell_type": "code",
   "execution_count": 265,
   "id": "999d014c",
   "metadata": {},
   "outputs": [
    {
     "data": {
      "text/plain": [
       "186"
      ]
     },
     "execution_count": 265,
     "metadata": {},
     "output_type": "execute_result"
    }
   ],
   "source": [
    "len(fail_id)"
   ]
  },
  {
   "cell_type": "code",
   "execution_count": 281,
   "id": "171a74c9",
   "metadata": {},
   "outputs": [],
   "source": [
    "for id_ in fail_id:\n",
    "    avg_rating[id_] = 3"
   ]
  },
  {
   "cell_type": "code",
   "execution_count": 284,
   "id": "05bfd454",
   "metadata": {},
   "outputs": [],
   "source": [
    "def get_raiting(d):\n",
    "    l = [x[-1] for x in d]\n",
    "    return np.mean(np.array([avg_rating[a] for a in l]))"
   ]
  },
  {
   "cell_type": "code",
   "execution_count": 291,
   "id": "2b58cb1c",
   "metadata": {},
   "outputs": [],
   "source": [
    "movies_info['actors_ranking'] = movies_info['actors'].apply(lambda x: x if isinstance(x, float) else get_raiting(x))"
   ]
  },
  {
   "cell_type": "code",
   "execution_count": 292,
   "id": "d74920c8",
   "metadata": {},
   "outputs": [],
   "source": [
    "movies_info['crew_ranking'] = movies_info['directors'].apply(lambda x: x if isinstance(x, float) else None)"
   ]
  },
  {
   "cell_type": "code",
   "execution_count": 293,
   "id": "9f36aa85",
   "metadata": {},
   "outputs": [
    {
     "data": {
      "text/plain": [
       "116"
      ]
     },
     "execution_count": 293,
     "metadata": {},
     "output_type": "execute_result"
    }
   ],
   "source": [
    "dirs_id = list({k for d in movies_info[movies_info['crew_ranking'].isna()]['directors'].apply(lambda l: [x[-1] for x in l]) for k in d})\n",
    "len(dirs_id)"
   ]
  },
  {
   "cell_type": "code",
   "execution_count": 294,
   "id": "0e845dad",
   "metadata": {},
   "outputs": [],
   "source": [
    "avg_rating = {}\n",
    "i = 0"
   ]
  },
  {
   "cell_type": "code",
   "execution_count": 295,
   "id": "668e46a6",
   "metadata": {},
   "outputs": [],
   "source": [
    "fail_id = []"
   ]
  },
  {
   "cell_type": "code",
   "execution_count": 296,
   "id": "1cc4f5fb",
   "metadata": {},
   "outputs": [],
   "source": [
    "while i < len(dirs_id):\n",
    "    id_ = dirs_id[i]\n",
    "    try: avg_rating[id_] = find_average_rating(id_)\n",
    "    except: fail_id.append(id_)\n",
    "    i+=1"
   ]
  },
  {
   "cell_type": "code",
   "execution_count": 297,
   "id": "667b0430",
   "metadata": {},
   "outputs": [
    {
     "data": {
      "text/plain": [
       "51"
      ]
     },
     "execution_count": 297,
     "metadata": {},
     "output_type": "execute_result"
    }
   ],
   "source": [
    "len(fail_id)"
   ]
  },
  {
   "cell_type": "code",
   "execution_count": 298,
   "id": "636cb668",
   "metadata": {},
   "outputs": [],
   "source": [
    "for id_ in fail_id:\n",
    "    avg_rating[id_] = 3"
   ]
  },
  {
   "cell_type": "code",
   "execution_count": 300,
   "id": "92fd6567",
   "metadata": {},
   "outputs": [],
   "source": [
    "def get_raiting_dirs(d):\n",
    "    l = [x[-1] for x in d]\n",
    "    return np.mean(np.array([avg_rating[a] for a in l]))"
   ]
  },
  {
   "cell_type": "code",
   "execution_count": 301,
   "id": "9e1dd672",
   "metadata": {},
   "outputs": [],
   "source": [
    "movies_info['crew_ranking'] = movies_info['directors'].apply(lambda x: x if isinstance(x, float) else get_raiting(x))"
   ]
  },
  {
   "cell_type": "code",
   "execution_count": 303,
   "id": "3123f3d8",
   "metadata": {},
   "outputs": [],
   "source": [
    "movies_info['companies'] = movies_info['companies'].apply(lambda x: ['other'] if not x else x)"
   ]
  },
  {
   "cell_type": "code",
   "execution_count": 306,
   "id": "cc5b952a",
   "metadata": {},
   "outputs": [],
   "source": [
    "movies_info.reset_index(inplace = True)"
   ]
  },
  {
   "cell_type": "code",
   "execution_count": 308,
   "id": "aa388598",
   "metadata": {},
   "outputs": [],
   "source": [
    "movies_info.to_csv('processed_russian_dataset.csv')"
   ]
  },
  {
   "cell_type": "code",
   "execution_count": null,
   "id": "49aeb004",
   "metadata": {},
   "outputs": [],
   "source": []
  }
 ],
 "metadata": {
  "kernelspec": {
   "display_name": "Python 3 (ipykernel)",
   "language": "python",
   "name": "python3"
  },
  "language_info": {
   "codemirror_mode": {
    "name": "ipython",
    "version": 3
   },
   "file_extension": ".py",
   "mimetype": "text/x-python",
   "name": "python",
   "nbconvert_exporter": "python",
   "pygments_lexer": "ipython3",
   "version": "3.9.12"
  }
 },
 "nbformat": 4,
 "nbformat_minor": 5
}
