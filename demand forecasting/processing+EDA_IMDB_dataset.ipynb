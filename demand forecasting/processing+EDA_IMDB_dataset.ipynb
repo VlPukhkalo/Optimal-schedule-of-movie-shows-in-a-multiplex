{
 "cells": [
  {
   "cell_type": "code",
   "execution_count": 20,
   "id": "e164698e",
   "metadata": {},
   "outputs": [],
   "source": [
    "import pandas as pd\n",
    "import numpy as np\n",
    "import os\n",
    "import glob\n",
    "import ast "
   ]
  },
  {
   "cell_type": "code",
   "execution_count": 87,
   "id": "d02509f9",
   "metadata": {},
   "outputs": [],
   "source": [
    "import matplotlib.pyplot as plt\n",
    "import seaborn as sns"
   ]
  },
  {
   "cell_type": "code",
   "execution_count": 6,
   "id": "c04e3fc9",
   "metadata": {},
   "outputs": [],
   "source": [
    "os.chdir('/Users/user/Desktop/ВКР/Archive_movie')"
   ]
  },
  {
   "cell_type": "code",
   "execution_count": 7,
   "id": "fcb7f7a8",
   "metadata": {},
   "outputs": [
    {
     "data": {
      "text/plain": [
       "['links_small.csv',\n",
       " 'links.csv',\n",
       " 'credits.csv',\n",
       " 'movies_metadata.csv',\n",
       " 'ratings.csv',\n",
       " 'ratings_small.csv',\n",
       " 'keywords.csv',\n",
       " 'catboost_info']"
      ]
     },
     "execution_count": 7,
     "metadata": {},
     "output_type": "execute_result"
    }
   ],
   "source": [
    "names = glob.glob('*')\n",
    "names"
   ]
  },
  {
   "cell_type": "markdown",
   "id": "ae76aac9",
   "metadata": {},
   "source": [
    "# Data understanding and processing"
   ]
  },
  {
   "cell_type": "code",
   "execution_count": 165,
   "id": "18805906",
   "metadata": {},
   "outputs": [
    {
     "name": "stdout",
     "output_type": "stream",
     "text": [
      "<class 'pandas.core.frame.DataFrame'>\n",
      "RangeIndex: 45466 entries, 0 to 45465\n",
      "Data columns (total 24 columns):\n",
      " #   Column                 Non-Null Count  Dtype  \n",
      "---  ------                 --------------  -----  \n",
      " 0   adult                  45466 non-null  object \n",
      " 1   belongs_to_collection  4494 non-null   object \n",
      " 2   budget                 45466 non-null  object \n",
      " 3   genres                 45466 non-null  object \n",
      " 4   homepage               7782 non-null   object \n",
      " 5   id                     45466 non-null  object \n",
      " 6   imdb_id                45449 non-null  object \n",
      " 7   original_language      45455 non-null  object \n",
      " 8   original_title         45466 non-null  object \n",
      " 9   overview               44512 non-null  object \n",
      " 10  popularity             45461 non-null  object \n",
      " 11  poster_path            45080 non-null  object \n",
      " 12  production_companies   45463 non-null  object \n",
      " 13  production_countries   45463 non-null  object \n",
      " 14  release_date           45379 non-null  object \n",
      " 15  revenue                45460 non-null  float64\n",
      " 16  runtime                45203 non-null  float64\n",
      " 17  spoken_languages       45460 non-null  object \n",
      " 18  status                 45379 non-null  object \n",
      " 19  tagline                20412 non-null  object \n",
      " 20  title                  45460 non-null  object \n",
      " 21  video                  45460 non-null  object \n",
      " 22  vote_average           45460 non-null  float64\n",
      " 23  vote_count             45460 non-null  float64\n",
      "dtypes: float64(4), object(20)\n",
      "memory usage: 8.3+ MB\n"
     ]
    },
    {
     "name": "stderr",
     "output_type": "stream",
     "text": [
      "/var/folders/d7/b6t8w9c960vb7cps3hrj9q_h0000gn/T/ipykernel_34729/266220343.py:1: DtypeWarning: Columns (10) have mixed types. Specify dtype option on import or set low_memory=False.\n",
      "  metadata = pd.read_csv('movies_metadata.csv')\n"
     ]
    }
   ],
   "source": [
    "metadata = pd.read_csv('movies_metadata.csv')\n",
    "metadata.info()"
   ]
  },
  {
   "cell_type": "code",
   "execution_count": 166,
   "id": "6d2e1475",
   "metadata": {},
   "outputs": [
    {
     "data": {
      "text/plain": [
       "adult                        0\n",
       "belongs_to_collection    40972\n",
       "budget                       0\n",
       "genres                       0\n",
       "homepage                 37684\n",
       "id                           0\n",
       "imdb_id                     17\n",
       "original_language           11\n",
       "original_title               0\n",
       "overview                   954\n",
       "popularity                   5\n",
       "poster_path                386\n",
       "production_companies         3\n",
       "production_countries         3\n",
       "release_date                87\n",
       "revenue                      6\n",
       "runtime                    263\n",
       "spoken_languages             6\n",
       "status                      87\n",
       "tagline                  25054\n",
       "title                        6\n",
       "video                        6\n",
       "vote_average                 6\n",
       "vote_count                   6\n",
       "dtype: int64"
      ]
     },
     "execution_count": 166,
     "metadata": {},
     "output_type": "execute_result"
    }
   ],
   "source": [
    "metadata.isnull().sum()"
   ]
  },
  {
   "cell_type": "code",
   "execution_count": 167,
   "id": "45775a21",
   "metadata": {},
   "outputs": [
    {
     "data": {
      "text/html": [
       "<div>\n",
       "<style scoped>\n",
       "    .dataframe tbody tr th:only-of-type {\n",
       "        vertical-align: middle;\n",
       "    }\n",
       "\n",
       "    .dataframe tbody tr th {\n",
       "        vertical-align: top;\n",
       "    }\n",
       "\n",
       "    .dataframe thead th {\n",
       "        text-align: right;\n",
       "    }\n",
       "</style>\n",
       "<table border=\"1\" class=\"dataframe\">\n",
       "  <thead>\n",
       "    <tr style=\"text-align: right;\">\n",
       "      <th></th>\n",
       "      <th>revenue</th>\n",
       "      <th>runtime</th>\n",
       "      <th>vote_average</th>\n",
       "      <th>vote_count</th>\n",
       "    </tr>\n",
       "  </thead>\n",
       "  <tbody>\n",
       "    <tr>\n",
       "      <th>count</th>\n",
       "      <td>4.546000e+04</td>\n",
       "      <td>45203.000000</td>\n",
       "      <td>45460.000000</td>\n",
       "      <td>45460.000000</td>\n",
       "    </tr>\n",
       "    <tr>\n",
       "      <th>mean</th>\n",
       "      <td>1.120935e+07</td>\n",
       "      <td>94.128199</td>\n",
       "      <td>5.618207</td>\n",
       "      <td>109.897338</td>\n",
       "    </tr>\n",
       "    <tr>\n",
       "      <th>std</th>\n",
       "      <td>6.433225e+07</td>\n",
       "      <td>38.407810</td>\n",
       "      <td>1.924216</td>\n",
       "      <td>491.310374</td>\n",
       "    </tr>\n",
       "    <tr>\n",
       "      <th>min</th>\n",
       "      <td>0.000000e+00</td>\n",
       "      <td>0.000000</td>\n",
       "      <td>0.000000</td>\n",
       "      <td>0.000000</td>\n",
       "    </tr>\n",
       "    <tr>\n",
       "      <th>25%</th>\n",
       "      <td>0.000000e+00</td>\n",
       "      <td>85.000000</td>\n",
       "      <td>5.000000</td>\n",
       "      <td>3.000000</td>\n",
       "    </tr>\n",
       "    <tr>\n",
       "      <th>50%</th>\n",
       "      <td>0.000000e+00</td>\n",
       "      <td>95.000000</td>\n",
       "      <td>6.000000</td>\n",
       "      <td>10.000000</td>\n",
       "    </tr>\n",
       "    <tr>\n",
       "      <th>75%</th>\n",
       "      <td>0.000000e+00</td>\n",
       "      <td>107.000000</td>\n",
       "      <td>6.800000</td>\n",
       "      <td>34.000000</td>\n",
       "    </tr>\n",
       "    <tr>\n",
       "      <th>max</th>\n",
       "      <td>2.787965e+09</td>\n",
       "      <td>1256.000000</td>\n",
       "      <td>10.000000</td>\n",
       "      <td>14075.000000</td>\n",
       "    </tr>\n",
       "  </tbody>\n",
       "</table>\n",
       "</div>"
      ],
      "text/plain": [
       "            revenue       runtime  vote_average    vote_count\n",
       "count  4.546000e+04  45203.000000  45460.000000  45460.000000\n",
       "mean   1.120935e+07     94.128199      5.618207    109.897338\n",
       "std    6.433225e+07     38.407810      1.924216    491.310374\n",
       "min    0.000000e+00      0.000000      0.000000      0.000000\n",
       "25%    0.000000e+00     85.000000      5.000000      3.000000\n",
       "50%    0.000000e+00     95.000000      6.000000     10.000000\n",
       "75%    0.000000e+00    107.000000      6.800000     34.000000\n",
       "max    2.787965e+09   1256.000000     10.000000  14075.000000"
      ]
     },
     "execution_count": 167,
     "metadata": {},
     "output_type": "execute_result"
    }
   ],
   "source": [
    "metadata.describe()"
   ]
  },
  {
   "cell_type": "markdown",
   "id": "7c7f2d39",
   "metadata": {},
   "source": [
    "Add information about casts and directors to the metadata about the movie. Also add keywords."
   ]
  },
  {
   "cell_type": "code",
   "execution_count": 168,
   "id": "f3e2b307",
   "metadata": {},
   "outputs": [],
   "source": [
    "credits_df=pd.read_csv('credits.csv')\n",
    "keywords=pd.read_csv('keywords.csv')"
   ]
  },
  {
   "cell_type": "code",
   "execution_count": 169,
   "id": "08afbb69",
   "metadata": {},
   "outputs": [
    {
     "data": {
      "text/plain": [
       "Index(['adult', 'belongs_to_collection', 'budget', 'genres', 'homepage', 'id',\n",
       "       'imdb_id', 'original_language', 'original_title', 'overview',\n",
       "       'popularity', 'poster_path', 'production_companies',\n",
       "       'production_countries', 'release_date', 'revenue', 'runtime',\n",
       "       'spoken_languages', 'status', 'tagline', 'title', 'video',\n",
       "       'vote_average', 'vote_count', 'cast', 'crew', 'keywords'],\n",
       "      dtype='object')"
      ]
     },
     "execution_count": 169,
     "metadata": {},
     "output_type": "execute_result"
    }
   ],
   "source": [
    "i=metadata['id'][metadata['id'].str.contains('-')].index\n",
    "metadata.drop(i,inplace=True)\n",
    "metadata['id']=metadata['id'].astype('int')\n",
    "metadata=metadata.merge(credits_df,on='id')\n",
    "metadata=metadata.merge(keywords,on='id')\n",
    "metadata.columns"
   ]
  },
  {
   "cell_type": "markdown",
   "id": "54f6590a",
   "metadata": {},
   "source": [
    "Processing columns"
   ]
  },
  {
   "cell_type": "code",
   "execution_count": 170,
   "id": "997d97df",
   "metadata": {},
   "outputs": [],
   "source": [
    "metadata['belongs_to_collection'] = metadata['belongs_to_collection'].apply(lambda x: 0 if pd.isnull(x) else 1)"
   ]
  },
  {
   "cell_type": "code",
   "execution_count": 171,
   "id": "29806efb",
   "metadata": {},
   "outputs": [],
   "source": [
    "metadata['homepage'] = metadata['homepage'].apply(lambda x: 0 if pd.isnull(x) else 1)"
   ]
  },
  {
   "cell_type": "code",
   "execution_count": 173,
   "id": "6d837c11",
   "metadata": {},
   "outputs": [],
   "source": [
    "metadata['adult'] = metadata['adult'].apply(lambda x: 1 if eval(x) else 0)"
   ]
  },
  {
   "cell_type": "code",
   "execution_count": 175,
   "id": "2b72bbbe",
   "metadata": {},
   "outputs": [],
   "source": [
    "metadata['overview_tagline_join'] = (metadata['overview'].apply(lambda x: '' if pd.isnull(x) else x) + \\\n",
    "                                    metadata['tagline'].apply(lambda x: '' if pd.isnull(x) else x)).apply(lambda x: None if x=='' else x)"
   ]
  },
  {
   "cell_type": "code",
   "execution_count": 176,
   "id": "4e72c242",
   "metadata": {},
   "outputs": [],
   "source": [
    "metadata = metadata.drop(['overview', 'tagline'], axis = 1)"
   ]
  },
  {
   "cell_type": "code",
   "execution_count": 177,
   "id": "ad3139f9",
   "metadata": {},
   "outputs": [],
   "source": [
    "metadata = metadata.drop(['poster_path'], axis = 1)"
   ]
  },
  {
   "cell_type": "code",
   "execution_count": 178,
   "id": "34068110",
   "metadata": {},
   "outputs": [],
   "source": [
    "metadata.dropna(inplace = True)"
   ]
  },
  {
   "cell_type": "code",
   "execution_count": 179,
   "id": "5c16a759",
   "metadata": {},
   "outputs": [],
   "source": [
    "def convert(obj): \n",
    "    l=[] \n",
    "    for i in ast.literal_eval(obj): \n",
    "        l.append(i['name']) \n",
    "    return l"
   ]
  },
  {
   "cell_type": "code",
   "execution_count": 180,
   "id": "9cd1e2c7",
   "metadata": {},
   "outputs": [],
   "source": [
    "metadata['genres']=metadata['genres'].apply(convert)\n",
    "metadata['keywords']=metadata['keywords'].apply(convert)"
   ]
  },
  {
   "cell_type": "code",
   "execution_count": 181,
   "id": "a199d438",
   "metadata": {},
   "outputs": [],
   "source": [
    "metadata['production_companies'] = metadata['production_companies'].apply(convert)\n",
    "metadata['production_countries'] = metadata['production_countries'].apply(convert)"
   ]
  },
  {
   "cell_type": "code",
   "execution_count": 182,
   "id": "f3830b36",
   "metadata": {},
   "outputs": [],
   "source": [
    "metadata['spoken_languages'] = metadata['spoken_languages'].apply(convert)"
   ]
  },
  {
   "cell_type": "code",
   "execution_count": 183,
   "id": "605e7b77",
   "metadata": {},
   "outputs": [],
   "source": [
    "def convert(obj):\n",
    "    l=[] \n",
    "    counter=0 \n",
    "    for i in ast.literal_eval(obj): \n",
    "        if counter !=3 : \n",
    "            l.append(i['name']) \n",
    "            counter+=1 \n",
    "        else: \n",
    "            break \n",
    "    return l"
   ]
  },
  {
   "cell_type": "code",
   "execution_count": 184,
   "id": "458aabe9",
   "metadata": {},
   "outputs": [],
   "source": [
    "metadata['cast']=metadata['cast'].apply(convert)"
   ]
  },
  {
   "cell_type": "code",
   "execution_count": 185,
   "id": "0b0bc80f",
   "metadata": {},
   "outputs": [],
   "source": [
    "def fetch_director(obj):\n",
    "    l=[]\n",
    "    for i in ast.literal_eval(obj):\n",
    "        if i['job']=='Director':\n",
    "            l.append(i['name'])\n",
    "    return l"
   ]
  },
  {
   "cell_type": "code",
   "execution_count": 186,
   "id": "c01d055a",
   "metadata": {},
   "outputs": [],
   "source": [
    "metadata['crew']=metadata['crew'].apply(fetch_director)"
   ]
  },
  {
   "cell_type": "code",
   "execution_count": 187,
   "id": "12fc12cf",
   "metadata": {},
   "outputs": [],
   "source": [
    "float_columns = ['budget', 'popularity', 'revenue', 'runtime', 'vote_average', 'vote_count']\n",
    "for col in float_columns:\n",
    "    metadata[col] = metadata[col].astype(float)"
   ]
  },
  {
   "cell_type": "code",
   "execution_count": 188,
   "id": "227b30ff",
   "metadata": {},
   "outputs": [],
   "source": [
    "from itertools import chain\n",
    "\n",
    "temp = pd.DataFrame({\n",
    "    'genres' : list(chain.from_iterable(metadata.genres.tolist())), \n",
    "    'revenue' : metadata.revenue.repeat(metadata.genres.str.len())\n",
    "})"
   ]
  },
  {
   "cell_type": "code",
   "execution_count": 189,
   "id": "709d65b2",
   "metadata": {},
   "outputs": [
    {
     "data": {
      "text/plain": [
       "<BarContainer object of 20 artists>"
      ]
     },
     "execution_count": 189,
     "metadata": {},
     "output_type": "execute_result"
    },
    {
     "data": {
      "image/png": "[encoded data removed]",
      "text/plain": [
       "<Figure size 432x288 with 1 Axes>"
      ]
     },
     "metadata": {
      "needs_background": "light"
     },
     "output_type": "display_data"
    }
   ],
   "source": [
    "genres_revenue = dict(temp.groupby('genres').revenue.mean())\n",
    "plt.barh(list(genres_revenue.keys()), genres_revenue.values())"
   ]
  },
  {
   "cell_type": "markdown",
   "id": "d1949aa1",
   "metadata": {},
   "source": [
    "Adventures earn the most, and documentary earn the least. "
   ]
  },
  {
   "cell_type": "code",
   "execution_count": 190,
   "id": "4ce1d665",
   "metadata": {},
   "outputs": [],
   "source": [
    "temp = pd.DataFrame({\n",
    "    'production countries' : list(chain.from_iterable(metadata['production_countries'].tolist())), \n",
    "    'revenue' : metadata.revenue.repeat(metadata['production_countries'].str.len())\n",
    "})"
   ]
  },
  {
   "cell_type": "markdown",
   "id": "bbae7d5e",
   "metadata": {},
   "source": [
    "Top 15 countries by movie revenue"
   ]
  },
  {
   "cell_type": "code",
   "execution_count": 191,
   "id": "7a143f9f",
   "metadata": {},
   "outputs": [
    {
     "data": {
      "text/plain": [
       "<BarContainer object of 15 artists>"
      ]
     },
     "execution_count": 191,
     "metadata": {},
     "output_type": "execute_result"
    },
    {
     "data": {
      "image/png": "[encoded data removed]",
      "text/plain": [
       "<Figure size 432x288 with 1 Axes>"
      ]
     },
     "metadata": {
      "needs_background": "light"
     },
     "output_type": "display_data"
    }
   ],
   "source": [
    "countries_revenue = dict(temp.groupby('production countries').revenue.mean())\n",
    "countries_revenue_max = {k: countries_revenue[k] for k in sorted(countries_revenue, key=countries_revenue.get)[-15:]}\n",
    "plt.barh(list(countries_revenue_max.keys()), countries_revenue_max.values())"
   ]
  },
  {
   "cell_type": "markdown",
   "id": "0187728a",
   "metadata": {},
   "source": [
    "Top 15 countries by movie budget"
   ]
  },
  {
   "cell_type": "code",
   "execution_count": 192,
   "id": "d52a18ba",
   "metadata": {},
   "outputs": [
    {
     "data": {
      "text/plain": [
       "<BarContainer object of 15 artists>"
      ]
     },
     "execution_count": 192,
     "metadata": {},
     "output_type": "execute_result"
    },
    {
     "data": {
      "image/png": "[encoded data removed]",
      "text/plain": [
       "<Figure size 432x288 with 1 Axes>"
      ]
     },
     "metadata": {
      "needs_background": "light"
     },
     "output_type": "display_data"
    }
   ],
   "source": [
    "temp = pd.DataFrame({\n",
    "    'production countries' : list(chain.from_iterable(metadata['production_countries'].tolist())), \n",
    "    'budget' : metadata.budget.repeat(metadata['production_countries'].str.len())\n",
    "})\n",
    "\n",
    "countries_budget = dict(temp.groupby('production countries').budget.mean())\n",
    "countries_budget_max = {k: countries_budget[k] for k in sorted(countries_budget, key=countries_budget.get)[-15:]}\n",
    "plt.barh(list(countries_budget_max.keys()), countries_budget_max.values())"
   ]
  },
  {
   "cell_type": "code",
   "execution_count": 193,
   "id": "e1e475b6",
   "metadata": {},
   "outputs": [
    {
     "data": {
      "text/plain": [
       "<AxesSubplot:>"
      ]
     },
     "execution_count": 193,
     "metadata": {},
     "output_type": "execute_result"
    },
    {
     "data": {
      "image/png": "[encoded data removed]",
      "text/plain": [
       "<Figure size 432x288 with 1 Axes>"
      ]
     },
     "metadata": {
      "needs_background": "light"
     },
     "output_type": "display_data"
    }
   ],
   "source": [
    "metadata.boxplot(column = 'revenue')"
   ]
  },
  {
   "cell_type": "code",
   "execution_count": 194,
   "id": "4f59e3aa",
   "metadata": {},
   "outputs": [
    {
     "data": {
      "text/plain": [
       "7513"
      ]
     },
     "execution_count": 194,
     "metadata": {},
     "output_type": "execute_result"
    }
   ],
   "source": [
    "metadata[metadata['revenue'] > 0]['id'].count()"
   ]
  },
  {
   "cell_type": "markdown",
   "id": "b0caf200",
   "metadata": {},
   "source": [
    "Since only films that were released in cinemas are considered, those items in which the profit value is zero should be removed"
   ]
  },
  {
   "cell_type": "code",
   "execution_count": 195,
   "id": "4b63ad65",
   "metadata": {},
   "outputs": [],
   "source": [
    "metadata = metadata[metadata['revenue'] > 0]"
   ]
  },
  {
   "cell_type": "code",
   "execution_count": 196,
   "id": "ce08ae33",
   "metadata": {},
   "outputs": [
    {
     "data": {
      "text/plain": [
       "count    7.513000e+03\n",
       "mean     6.842426e+07\n",
       "std      1.460801e+08\n",
       "min      1.000000e+00\n",
       "25%      2.346150e+06\n",
       "50%      1.675716e+07\n",
       "75%      6.682104e+07\n",
       "max      2.787965e+09\n",
       "Name: revenue, dtype: float64"
      ]
     },
     "execution_count": 196,
     "metadata": {},
     "output_type": "execute_result"
    }
   ],
   "source": [
    "metadata.revenue.describe()"
   ]
  },
  {
   "cell_type": "code",
   "execution_count": 197,
   "id": "11c11238",
   "metadata": {},
   "outputs": [
    {
     "data": {
      "text/plain": [
       "<AxesSubplot:>"
      ]
     },
     "execution_count": 197,
     "metadata": {},
     "output_type": "execute_result"
    },
    {
     "data": {
      "image/png": "[encoded data removed]",
      "text/plain": [
       "<Figure size 432x288 with 1 Axes>"
      ]
     },
     "metadata": {
      "needs_background": "light"
     },
     "output_type": "display_data"
    }
   ],
   "source": [
    "metadata.boxplot(column = 'revenue')"
   ]
  },
  {
   "cell_type": "code",
   "execution_count": 198,
   "id": "80f7a6bc",
   "metadata": {},
   "outputs": [
    {
     "data": {
      "text/plain": [
       "Index(['adult', 'belongs_to_collection', 'budget', 'genres', 'homepage', 'id',\n",
       "       'imdb_id', 'original_language', 'original_title', 'popularity',\n",
       "       'production_companies', 'production_countries', 'release_date',\n",
       "       'revenue', 'runtime', 'spoken_languages', 'status', 'title', 'video',\n",
       "       'vote_average', 'vote_count', 'cast', 'crew', 'keywords',\n",
       "       'overview_tagline_join'],\n",
       "      dtype='object')"
      ]
     },
     "execution_count": 198,
     "metadata": {},
     "output_type": "execute_result"
    }
   ],
   "source": [
    "metadata.columns"
   ]
  },
  {
   "cell_type": "code",
   "execution_count": 199,
   "id": "dec2528b",
   "metadata": {},
   "outputs": [
    {
     "data": {
      "text/plain": [
       "<AxesSubplot:>"
      ]
     },
     "execution_count": 199,
     "metadata": {},
     "output_type": "execute_result"
    },
    {
     "data": {
      "image/png": "[encoded data removed]",
      "text/plain": [
       "<Figure size 432x288 with 2 Axes>"
      ]
     },
     "metadata": {
      "needs_background": "light"
     },
     "output_type": "display_data"
    }
   ],
   "source": [
    "sns.heatmap(metadata[['adult', 'belongs_to_collection', 'budget','homepage', 'popularity', 'runtime', 'vote_average', 'vote_count','revenue']].corr())"
   ]
  },
  {
   "cell_type": "markdown",
   "id": "b9b37366",
   "metadata": {},
   "source": [
    "The film's budget is the biggest influence on the box office, the number of votes is also important (for unreleased films, this can be the number of votes waiting for the film). Other factors that play a role are the possession of the film in the collection and the popularity of the film. However, the popularity of the film is not known before its release, so it is of no interest to us."
   ]
  },
  {
   "cell_type": "markdown",
   "id": "291015a9",
   "metadata": {},
   "source": [
    "Genres and countries of production, as well as production companies, can be converted into categorical features. Let's encode them:"
   ]
  },
  {
   "cell_type": "code",
   "execution_count": 200,
   "id": "293aed37",
   "metadata": {},
   "outputs": [],
   "source": [
    "from sklearn.preprocessing import MultiLabelBinarizer"
   ]
  },
  {
   "cell_type": "code",
   "execution_count": 201,
   "id": "5e1685b3",
   "metadata": {},
   "outputs": [],
   "source": [
    "mlb = MultiLabelBinarizer()\n",
    "res = mlb.fit_transform(metadata['genres'])\n",
    "for i in range(len(mlb.classes_)):\n",
    "    metadata[mlb.classes_[i]] = res.T[i]"
   ]
  },
  {
   "cell_type": "code",
   "execution_count": 202,
   "id": "05d560d6",
   "metadata": {},
   "outputs": [],
   "source": [
    "mlb = MultiLabelBinarizer()\n",
    "res = mlb.fit_transform(metadata['genres'])\n",
    "for i in range(len(mlb.classes_)):\n",
    "    metadata[mlb.classes_[i]] = res.T[i]"
   ]
  },
  {
   "cell_type": "markdown",
   "id": "5c390978",
   "metadata": {},
   "source": [
    "For each country, we calculate its occurrence in the data set and replace rarely occurring countries with \"other\""
   ]
  },
  {
   "cell_type": "code",
   "execution_count": 129,
   "id": "52ef78de",
   "metadata": {},
   "outputs": [],
   "source": [
    "from collections import Counter\n",
    "count_countries = Counter([item for lst in metadata['production_countries'] for item in lst])"
   ]
  },
  {
   "cell_type": "code",
   "execution_count": 140,
   "id": "2dd09d1a",
   "metadata": {},
   "outputs": [
    {
     "data": {
      "text/plain": [
       "dict_values([5681, 922, 609, 418, 170, 135, 150, 24, 324, 173, 96, 43, 129, 72, 1, 20, 26, 11, 37, 45, 4, 1, 62, 233, 18, 30, 24, 17, 41, 8, 58, 17, 30, 23, 103, 6, 1, 23, 2, 26, 3, 4, 1, 5, 16, 3, 1, 3, 13, 1, 7, 3, 61, 3, 9, 6, 5, 3, 10, 1, 13, 1, 1, 11, 1, 1, 1, 10, 8, 8, 3, 1, 1, 1, 1, 16, 2, 1, 1, 2, 1, 5, 1, 1, 1, 1, 1, 1, 1, 2, 1, 1, 1, 2, 2, 4, 1, 1])"
      ]
     },
     "execution_count": 140,
     "metadata": {},
     "output_type": "execute_result"
    }
   ],
   "source": [
    "count_countries.values()"
   ]
  },
  {
   "cell_type": "code",
   "execution_count": 160,
   "id": "525f1bba",
   "metadata": {},
   "outputs": [
    {
     "data": {
      "text/plain": [
       "0        [United States of America]\n",
       "1        [United States of America]\n",
       "3        [United States of America]\n",
       "4        [United States of America]\n",
       "5        [United States of America]\n",
       "                    ...            \n",
       "46543                      [Russia]\n",
       "46563                      [Russia]\n",
       "46571                       [other]\n",
       "46574                      [Russia]\n",
       "46584                      [Russia]\n",
       "Name: production_countries, Length: 7513, dtype: object"
      ]
     },
     "execution_count": 160,
     "metadata": {},
     "output_type": "execute_result"
    }
   ],
   "source": [
    "other = [k for k in count_countries.keys() if count_countries[k] <= 5]\n",
    "metadata['production_countries'] = metadata['production_countries'].apply(lambda x: list({i if i not in other else \"other\" for i in x}))\n",
    "metadata['production_countries'] = metadata['production_countries'].apply(lambda x: ['other'] if not x else x)"
   ]
  },
  {
   "cell_type": "code",
   "execution_count": 203,
   "id": "191dd724",
   "metadata": {},
   "outputs": [
    {
     "name": "stderr",
     "output_type": "stream",
     "text": [
      "/var/folders/d7/b6t8w9c960vb7cps3hrj9q_h0000gn/T/ipykernel_34729/2942120319.py:4: PerformanceWarning: DataFrame is highly fragmented.  This is usually the result of calling `frame.insert` many times, which has poor performance.  Consider joining all columns at once using pd.concat(axis=1) instead. To get a de-fragmented frame, use `newframe = frame.copy()`\n",
      "  metadata[mlb.classes_[i]] = res.T[i]\n",
      "/var/folders/d7/b6t8w9c960vb7cps3hrj9q_h0000gn/T/ipykernel_34729/2942120319.py:4: PerformanceWarning: DataFrame is highly fragmented.  This is usually the result of calling `frame.insert` many times, which has poor performance.  Consider joining all columns at once using pd.concat(axis=1) instead. To get a de-fragmented frame, use `newframe = frame.copy()`\n",
      "  metadata[mlb.classes_[i]] = res.T[i]\n",
      "/var/folders/d7/b6t8w9c960vb7cps3hrj9q_h0000gn/T/ipykernel_34729/2942120319.py:4: PerformanceWarning: DataFrame is highly fragmented.  This is usually the result of calling `frame.insert` many times, which has poor performance.  Consider joining all columns at once using pd.concat(axis=1) instead. To get a de-fragmented frame, use `newframe = frame.copy()`\n",
      "  metadata[mlb.classes_[i]] = res.T[i]\n",
      "/var/folders/d7/b6t8w9c960vb7cps3hrj9q_h0000gn/T/ipykernel_34729/2942120319.py:4: PerformanceWarning: DataFrame is highly fragmented.  This is usually the result of calling `frame.insert` many times, which has poor performance.  Consider joining all columns at once using pd.concat(axis=1) instead. To get a de-fragmented frame, use `newframe = frame.copy()`\n",
      "  metadata[mlb.classes_[i]] = res.T[i]\n",
      "/var/folders/d7/b6t8w9c960vb7cps3hrj9q_h0000gn/T/ipykernel_34729/2942120319.py:4: PerformanceWarning: DataFrame is highly fragmented.  This is usually the result of calling `frame.insert` many times, which has poor performance.  Consider joining all columns at once using pd.concat(axis=1) instead. To get a de-fragmented frame, use `newframe = frame.copy()`\n",
      "  metadata[mlb.classes_[i]] = res.T[i]\n",
      "/var/folders/d7/b6t8w9c960vb7cps3hrj9q_h0000gn/T/ipykernel_34729/2942120319.py:4: PerformanceWarning: DataFrame is highly fragmented.  This is usually the result of calling `frame.insert` many times, which has poor performance.  Consider joining all columns at once using pd.concat(axis=1) instead. To get a de-fragmented frame, use `newframe = frame.copy()`\n",
      "  metadata[mlb.classes_[i]] = res.T[i]\n",
      "/var/folders/d7/b6t8w9c960vb7cps3hrj9q_h0000gn/T/ipykernel_34729/2942120319.py:4: PerformanceWarning: DataFrame is highly fragmented.  This is usually the result of calling `frame.insert` many times, which has poor performance.  Consider joining all columns at once using pd.concat(axis=1) instead. To get a de-fragmented frame, use `newframe = frame.copy()`\n",
      "  metadata[mlb.classes_[i]] = res.T[i]\n",
      "/var/folders/d7/b6t8w9c960vb7cps3hrj9q_h0000gn/T/ipykernel_34729/2942120319.py:4: PerformanceWarning: DataFrame is highly fragmented.  This is usually the result of calling `frame.insert` many times, which has poor performance.  Consider joining all columns at once using pd.concat(axis=1) instead. To get a de-fragmented frame, use `newframe = frame.copy()`\n",
      "  metadata[mlb.classes_[i]] = res.T[i]\n",
      "/var/folders/d7/b6t8w9c960vb7cps3hrj9q_h0000gn/T/ipykernel_34729/2942120319.py:4: PerformanceWarning: DataFrame is highly fragmented.  This is usually the result of calling `frame.insert` many times, which has poor performance.  Consider joining all columns at once using pd.concat(axis=1) instead. To get a de-fragmented frame, use `newframe = frame.copy()`\n",
      "  metadata[mlb.classes_[i]] = res.T[i]\n",
      "/var/folders/d7/b6t8w9c960vb7cps3hrj9q_h0000gn/T/ipykernel_34729/2942120319.py:4: PerformanceWarning: DataFrame is highly fragmented.  This is usually the result of calling `frame.insert` many times, which has poor performance.  Consider joining all columns at once using pd.concat(axis=1) instead. To get a de-fragmented frame, use `newframe = frame.copy()`\n",
      "  metadata[mlb.classes_[i]] = res.T[i]\n",
      "/var/folders/d7/b6t8w9c960vb7cps3hrj9q_h0000gn/T/ipykernel_34729/2942120319.py:4: PerformanceWarning: DataFrame is highly fragmented.  This is usually the result of calling `frame.insert` many times, which has poor performance.  Consider joining all columns at once using pd.concat(axis=1) instead. To get a de-fragmented frame, use `newframe = frame.copy()`\n",
      "  metadata[mlb.classes_[i]] = res.T[i]\n",
      "/var/folders/d7/b6t8w9c960vb7cps3hrj9q_h0000gn/T/ipykernel_34729/2942120319.py:4: PerformanceWarning: DataFrame is highly fragmented.  This is usually the result of calling `frame.insert` many times, which has poor performance.  Consider joining all columns at once using pd.concat(axis=1) instead. To get a de-fragmented frame, use `newframe = frame.copy()`\n",
      "  metadata[mlb.classes_[i]] = res.T[i]\n",
      "/var/folders/d7/b6t8w9c960vb7cps3hrj9q_h0000gn/T/ipykernel_34729/2942120319.py:4: PerformanceWarning: DataFrame is highly fragmented.  This is usually the result of calling `frame.insert` many times, which has poor performance.  Consider joining all columns at once using pd.concat(axis=1) instead. To get a de-fragmented frame, use `newframe = frame.copy()`\n",
      "  metadata[mlb.classes_[i]] = res.T[i]\n",
      "/var/folders/d7/b6t8w9c960vb7cps3hrj9q_h0000gn/T/ipykernel_34729/2942120319.py:4: PerformanceWarning: DataFrame is highly fragmented.  This is usually the result of calling `frame.insert` many times, which has poor performance.  Consider joining all columns at once using pd.concat(axis=1) instead. To get a de-fragmented frame, use `newframe = frame.copy()`\n",
      "  metadata[mlb.classes_[i]] = res.T[i]\n",
      "/var/folders/d7/b6t8w9c960vb7cps3hrj9q_h0000gn/T/ipykernel_34729/2942120319.py:4: PerformanceWarning: DataFrame is highly fragmented.  This is usually the result of calling `frame.insert` many times, which has poor performance.  Consider joining all columns at once using pd.concat(axis=1) instead. To get a de-fragmented frame, use `newframe = frame.copy()`\n",
      "  metadata[mlb.classes_[i]] = res.T[i]\n",
      "/var/folders/d7/b6t8w9c960vb7cps3hrj9q_h0000gn/T/ipykernel_34729/2942120319.py:4: PerformanceWarning: DataFrame is highly fragmented.  This is usually the result of calling `frame.insert` many times, which has poor performance.  Consider joining all columns at once using pd.concat(axis=1) instead. To get a de-fragmented frame, use `newframe = frame.copy()`\n",
      "  metadata[mlb.classes_[i]] = res.T[i]\n",
      "/var/folders/d7/b6t8w9c960vb7cps3hrj9q_h0000gn/T/ipykernel_34729/2942120319.py:4: PerformanceWarning: DataFrame is highly fragmented.  This is usually the result of calling `frame.insert` many times, which has poor performance.  Consider joining all columns at once using pd.concat(axis=1) instead. To get a de-fragmented frame, use `newframe = frame.copy()`\n",
      "  metadata[mlb.classes_[i]] = res.T[i]\n",
      "/var/folders/d7/b6t8w9c960vb7cps3hrj9q_h0000gn/T/ipykernel_34729/2942120319.py:4: PerformanceWarning: DataFrame is highly fragmented.  This is usually the result of calling `frame.insert` many times, which has poor performance.  Consider joining all columns at once using pd.concat(axis=1) instead. To get a de-fragmented frame, use `newframe = frame.copy()`\n",
      "  metadata[mlb.classes_[i]] = res.T[i]\n",
      "/var/folders/d7/b6t8w9c960vb7cps3hrj9q_h0000gn/T/ipykernel_34729/2942120319.py:4: PerformanceWarning: DataFrame is highly fragmented.  This is usually the result of calling `frame.insert` many times, which has poor performance.  Consider joining all columns at once using pd.concat(axis=1) instead. To get a de-fragmented frame, use `newframe = frame.copy()`\n",
      "  metadata[mlb.classes_[i]] = res.T[i]\n",
      "/var/folders/d7/b6t8w9c960vb7cps3hrj9q_h0000gn/T/ipykernel_34729/2942120319.py:4: PerformanceWarning: DataFrame is highly fragmented.  This is usually the result of calling `frame.insert` many times, which has poor performance.  Consider joining all columns at once using pd.concat(axis=1) instead. To get a de-fragmented frame, use `newframe = frame.copy()`\n",
      "  metadata[mlb.classes_[i]] = res.T[i]\n",
      "/var/folders/d7/b6t8w9c960vb7cps3hrj9q_h0000gn/T/ipykernel_34729/2942120319.py:4: PerformanceWarning: DataFrame is highly fragmented.  This is usually the result of calling `frame.insert` many times, which has poor performance.  Consider joining all columns at once using pd.concat(axis=1) instead. To get a de-fragmented frame, use `newframe = frame.copy()`\n",
      "  metadata[mlb.classes_[i]] = res.T[i]\n"
     ]
    }
   ],
   "source": [
    "mlb = MultiLabelBinarizer()\n",
    "res = mlb.fit_transform(metadata['production_countries'])\n",
    "for i in range(len(mlb.classes_)):\n",
    "    metadata[mlb.classes_[i]] = res.T[i]"
   ]
  },
  {
   "cell_type": "markdown",
   "id": "d443a873",
   "metadata": {},
   "source": [
    "Do the same with companies"
   ]
  },
  {
   "cell_type": "code",
   "execution_count": 204,
   "id": "bad50dd4",
   "metadata": {},
   "outputs": [
    {
     "data": {
      "text/plain": [
       "dict_values([18, 121, 2, 19, 343, 4, 158, 81, 9, 491, 464, 1, 5, 105, 22, 238, 44, 68, 3, 54, 12, 3, 8, 208, 22, 2, 1, 1, 141, 18, 112, 7, 1, 40, 16, 42, 138, 20, 6, 1, 1, 199, 7, 1, 17, 2, 15, 4, 1, 12, 6, 1, 23, 2, 28, 3, 2, 2, 1, 1, 1, 1, 3, 8, 16, 1, 10, 1, 36, 64, 16, 1, 1, 3, 4, 3, 2, 149, 11, 1, 12, 7, 409, 3, 1, 60, 3, 2, 2, 2, 1, 1, 1, 5, 9, 38, 2, 2, 3, 10, 1, 15, 31, 3, 6, 15, 13, 1, 1, 1, 16, 7, 18, 5, 10, 2, 48, 3, 8, 1, 1, 16, 14, 1, 2, 1, 1, 2, 1, 1, 6, 13, 8, 2, 4, 1, 1, 1, 17, 1, 9, 2, 7, 1, 1, 3, 1, 1, 3, 7, 37, 2, 4, 1, 1, 2, 1, 10, 46, 2, 20, 11, 2, 3, 13, 3, 2, 13, 6, 1, 14, 4, 8, 6, 22, 1, 1, 5, 1, 10, 2, 4, 1, 1, 1, 8, 5, 3, 26, 4, 2, 2, 56, 2, 11, 3, 12, 66, 2, 1, 4, 21, 3, 2, 1, 3, 4, 2, 6, 4, 2, 11, 1, 1, 1, 8, 1, 2, 21, 4, 1, 1, 11, 11, 3, 1, 1, 13, 12, 4, 8, 6, 8, 4, 1, 5, 4, 1, 1, 1, 1, 56, 40, 4, 1, 1, 1, 5, 1, 1, 1, 8, 2, 4, 1, 1, 1, 1, 2, 13, 1, 17, 14, 1, 2, 3, 4, 2, 1, 2, 8, 15, 1, 5, 1, 6, 4, 1, 3, 8, 1, 1, 1, 2, 2, 1, 1, 1, 1, 1, 3, 8, 11, 16, 1, 16, 3, 2, 1, 10, 1, 7, 1, 25, 14, 13, 20, 3, 52, 1, 2, 1, 1, 3, 2, 69, 13, 1, 1, 1, 3, 1, 7, 2, 1, 2, 1, 6, 4, 1, 48, 2, 1, 2, 7, 4, 5, 1, 1, 4, 90, 3, 1, 1, 1, 3, 49, 7, 2, 1, 1, 7, 1, 1, 8, 1, 1, 1, 5, 1, 1, 1, 3, 1, 1, 2, 1, 2, 1, 2, 8, 13, 6, 10, 3, 1, 3, 1, 6, 1, 1, 3, 1, 4, 1, 1, 2, 1, 2, 1, 1, 3, 1, 1, 1, 1, 1, 8, 1, 1, 3, 1, 2, 6, 4, 1, 5, 1, 3, 2, 1, 3, 7, 4, 3, 1, 1, 1, 4, 3, 5, 1, 1, 3, 1, 3, 5, 71, 1, 7, 4, 3, 1, 6, 1, 1, 1, 1, 3, 3, 1, 1, 2, 1, 12, 2, 2, 3, 9, 1, 3, 12, 4, 1, 1, 1, 3, 1, 1, 1, 1, 1, 1, 1, 1, 1, 1, 1, 3, 1, 1, 1, 1, 1, 1, 5, 1, 1, 1, 2, 2, 3, 2, 2, 6, 1, 12, 2, 2, 1, 1, 13, 8, 19, 3, 1, 1, 2, 3, 1, 1, 1, 5, 16, 1, 1, 4, 2, 1, 1, 1, 3, 1, 1, 1, 8, 1, 5, 2, 1, 1, 1, 3, 1, 6, 4, 1, 1, 1, 1, 4, 2, 1, 1, 2, 1, 6, 1, 1, 4, 16, 5, 1, 1, 1, 2, 3, 2, 2, 3, 1, 1, 3, 1, 4, 3, 1, 1, 3, 16, 2, 1, 3, 3, 9, 1, 1, 1, 5, 3, 1, 4, 1, 5, 1, 1, 2, 2, 2, 6, 2, 1, 1, 13, 1, 5, 7, 1, 2, 16, 6, 1, 2, 1, 3, 3, 3, 1, 2, 5, 1, 1, 2, 2, 1, 1, 1, 1, 1, 3, 2, 3, 1, 2, 1, 2, 1, 1, 8, 3, 1, 2, 2, 17, 1, 4, 1, 1, 2, 10, 3, 1, 4, 2, 1, 1, 1, 4, 3, 3, 6, 1, 7, 24, 1, 1, 3, 1, 1, 2, 1, 3, 7, 1, 3, 9, 1, 1, 1, 1, 13, 2, 1, 1, 10, 1, 16, 8, 5, 4, 6, 1, 1, 1, 1, 1, 1, 2, 2, 4, 1, 2, 2, 2, 4, 1, 9, 1, 3, 1, 6, 10, 1, 23, 1, 1, 3, 13, 2, 1, 1, 1, 1, 1, 78, 2, 9, 1, 6, 7, 6, 1, 1, 13, 17, 4, 6, 1, 1, 2, 4, 3, 1, 1, 1, 2, 1, 2, 12, 1, 2, 6, 2, 2, 1, 1, 4, 3, 1, 3, 2, 1, 3, 1, 1, 1, 6, 3, 1, 2, 1, 1, 1, 2, 1, 62, 3, 1, 1, 3, 1, 1, 1, 1, 2, 2, 15, 10, 1, 8, 1, 1, 2, 1, 1, 1, 1, 1, 1, 2, 1, 1, 1, 1, 1, 1, 1, 2, 2, 1, 1, 4, 7, 2, 3, 1, 2, 8, 1, 1, 1, 1, 1, 1, 2, 3, 2, 1, 1, 1, 1, 1, 1, 5, 1, 15, 1, 1, 1, 7, 1, 7, 1, 1, 3, 8, 3, 14, 2, 9, 1, 1, 1, 1, 1, 2, 1, 3, 1, 4, 2, 2, 1, 3, 1, 1, 1, 3, 1, 2, 1, 2, 1, 1, 1, 1, 2, 5, 2, 1, 1, 1, 3, 1, 1, 1, 1, 2, 1, 2, 1, 1, 5, 3, 19, 3, 1, 1, 8, 1, 1, 5, 1, 1, 1, 1, 1, 2, 1, 2, 1, 1, 4, 1, 7, 9, 1, 2, 1, 6, 4, 1, 3, 2, 35, 2, 1, 1, 2, 3, 1, 8, 35, 2, 1, 1, 2, 1, 12, 5, 14, 1, 2, 1, 1, 40, 1, 5, 3, 4, 2, 10, 1, 3, 5, 17, 13, 1, 2, 1, 1, 1, 26, 1, 2, 1, 1, 1, 1, 1, 2, 2, 1, 9, 1, 1, 1, 2, 1, 1, 5, 3, 1, 3, 1, 16, 1, 1, 1, 1, 6, 1, 1, 1, 1, 3, 1, 1, 6, 1, 1, 2, 1, 1, 2, 1, 1, 1, 2, 1, 3, 1, 1, 1, 3, 6, 1, 2, 1, 1, 2, 5, 1, 1, 1, 2, 1, 1, 1, 1, 1, 2, 3, 1, 1, 4, 1, 2, 2, 1, 15, 1, 1, 10, 1, 7, 1, 1, 1, 2, 1, 1, 1, 1, 1, 1, 1, 1, 3, 21, 1, 5, 2, 4, 4, 3, 1, 1, 2, 8, 1, 1, 1, 1, 1, 6, 3, 2, 1, 1, 1, 1, 1, 1, 6, 4, 1, 11, 3, 31, 2, 1, 1, 1, 7, 2, 1, 1, 1, 18, 1, 2, 2, 1, 37, 5, 1, 1, 1, 1, 2, 1, 2, 1, 1, 3, 3, 2, 1, 5, 14, 37, 5, 3, 3, 1, 1, 1, 1, 1, 1, 3, 1, 2, 1, 1, 1, 2, 1, 3, 1, 1, 1, 4, 1, 1, 1, 1, 1, 1, 1, 2, 1, 2, 1, 2, 1, 1, 35, 1, 1, 1, 1, 1, 1, 1, 1, 1, 2, 4, 3, 2, 2, 3, 1, 1, 1, 1, 1, 8, 1, 1, 1, 1, 1, 1, 1, 1, 2, 1, 12, 1, 1, 1, 16, 5, 1, 1, 1, 12, 3, 6, 1, 1, 1, 1, 5, 1, 2, 6, 1, 1, 1, 1, 1, 1, 1, 1, 3, 3, 14, 11, 1, 2, 2, 1, 9, 1, 1, 1, 1, 2, 10, 1, 4, 1, 2, 3, 30, 13, 4, 2, 1, 1, 1, 1, 1, 1, 1, 16, 8, 3, 1, 2, 1, 3, 5, 2, 1, 1, 1, 1, 18, 1, 1, 1, 1, 1, 1, 1, 1, 19, 1, 1, 6, 1, 1, 2, 1, 1, 1, 4, 1, 3, 3, 1, 4, 5, 1, 1, 1, 2, 1, 5, 1, 4, 4, 2, 1, 2, 1, 1, 1, 3, 1, 1, 1, 1, 1, 2, 1, 4, 1, 1, 1, 1, 1, 1, 1, 1, 1, 1, 1, 1, 3, 1, 3, 1, 1, 2, 1, 1, 1, 1, 1, 1, 4, 1, 2, 1, 22, 1, 4, 11, 1, 1, 1, 9, 1, 1, 1, 1, 1, 1, 1, 1, 2, 1, 1, 2, 2, 8, 2, 1, 1, 1, 1, 1, 1, 5, 2, 2, 1, 2, 1, 3, 2, 1, 1, 2, 1, 1, 1, 1, 1, 5, 1, 4, 1, 2, 1, 1, 3, 1, 1, 1, 5, 1, 3, 2, 5, 6, 4, 1, 1, 1, 2, 2, 3, 1, 1, 4, 5, 4, 1, 3, 1, 4, 1, 1, 11, 1, 1, 2, 1, 1, 1, 1, 2, 1, 1, 1, 1, 1, 1, 1, 1, 2, 1, 6, 1, 5, 5, 1, 1, 1, 1, 1, 1, 1, 1, 1, 5, 1, 7, 2, 8, 1, 7, 1, 1, 5, 30, 3, 1, 5, 1, 29, 3, 1, 1, 1, 1, 1, 1, 1, 1, 2, 1, 1, 1, 1, 3, 1, 3, 1, 37, 1, 9, 1, 6, 1, 1, 1, 9, 10, 2, 2, 1, 1, 1, 1, 1, 1, 5, 1, 1, 40, 1, 1, 1, 2, 1, 1, 1, 14, 5, 1, 5, 2, 1, 1, 1, 7, 24, 2, 1, 3, 1, 1, 16, 1, 1, 5, 1, 1, 4, 1, 1, 7, 2, 1, 1, 1, 1, 1, 2, 11, 2, 1, 1, 1, 1, 1, 1, 1, 3, 3, 2, 3, 1, 1, 1, 1, 1, 1, 1, 3, 2, 1, 1, 1, 1, 1, 1, 1, 1, 1, 1, 2, 1, 1, 1, 1, 2, 1, 1, 1, 1, 8, 32, 2, 1, 1, 1, 1, 9, 9, 8, 8, 1, 4, 1, 1, 2, 1, 1, 1, 1, 1, 1, 1, 1, 2, 2, 1, 1, 14, 1, 1, 1, 1, 1, 1, 2, 1, 1, 6, 1, 1, 3, 2, 2, 1, 1, 1, 1, 1, 14, 8, 1, 32, 1, 1, 1, 1, 1, 1, 1, 1, 1, 1, 2, 1, 2, 1, 3, 15, 2, 1, 1, 1, 2, 1, 1, 1, 1, 1, 1, 1, 2, 3, 1, 9, 10, 8, 1, 3, 1, 1, 1, 1, 1, 1, 1, 1, 1, 1, 1, 1, 1, 6, 3, 1, 2, 1, 1, 1, 6, 1, 1, 1, 2, 1, 1, 2, 1, 1, 1, 1, 1, 1, 1, 1, 1, 7, 2, 1, 2, 1, 1, 2, 1, 1, 1, 2, 2, 8, 1, 1, 1, 1, 1, 1, 1, 1, 1, 1, 1, 1, 1, 1, 8, 1, 1, 1, 5, 2, 1, 1, 5, 2, 2, 1, 1, 4, 4, 1, 6, 1, 1, 6, 1, 1, 1, 6, 2, 2, 1, 1, 1, 1, 1, 1, 1, 1, 1, 1, 3, 2, 1, 1, 1, 1, 4, 1, 1, 1, 10, 1, 1, 1, 6, 13, 5, 1, 1, 9, 1, 4, 1, 9, 1, 1, 1, 1, 3, 2, 1, 1, 6, 3, 1, 4, 2, 1, 13, 1, 2, 4, 2, 4, 4, 6, 1, 1, 2, 1, 1, 1, 1, 1, 1, 1, 2, 2, 8, 1, 3, 1, 9, 1, 1, 1, 1, 1, 1, 1, 2, 8, 8, 1, 2, 1, 4, 1, 1, 1, 1, 3, 1, 1, 1, 1, 1, 1, 1, 1, 5, 1, 1, 3, 2, 4, 1, 2, 3, 5, 1, 5, 1, 1, 1, 1, 1, 3, 2, 1, 5, 2, 4, 1, 3, 4, 1, 1, 3, 1, 1, 1, 1, 1, 1, 1, 1, 1, 1, 1, 1, 3, 11, 13, 2, 13, 1, 1, 1, 1, 1, 1, 1, 1, 1, 1, 1, 2, 1, 1, 1, 1, 1, 1, 1, 4, 2, 1, 3, 1, 1, 1, 4, 3, 12, 1, 1, 1, 5, 1, 1, 2, 2, 3, 1, 1, 1, 1, 1, 1, 1, 1, 2, 1, 11, 1, 3, 13, 4, 1, 2, 1, 3, 1, 1, 1, 1, 1, 1, 1, 1, 1, 1, 3, 1, 1, 4, 3, 9, 1, 1, 1, 1, 1, 1, 1, 1, 1, 4, 1, 1, 46, 1, 1, 3, 1, 1, 1, 1, 1, 1, 5, 4, 1, 6, 1, 1, 1, 1, 2, 1, 1, 1, 7, 1, 2, 1, 1, 1, 2, 1, 2, 1, 1, 1, 1, 1, 1, 1, 1, 1, 1, 1, 1, 3, 1, 9, 1, 10, 3, 1, 2, 1, 1, 1, 2, 1, 1, 1, 1, 1, 1, 1, 1, 1, 3, 3, 1, 1, 1, 1, 2, 1, 1, 2, 1, 1, 5, 1, 1, 1, 1, 1, 1, 1, 2, 4, 3, 1, 4, 1, 7, 1, 1, 1, 1, 1, 2, 1, 1, 2, 1, 1, 2, 1, 1, 5, 1, 1, 1, 4, 1, 2, 2, 1, 1, 1, 1, 1, 1, 1, 2, 1, 2, 1, 1, 1, 1, 1, 3, 7, 2, 1, 1, 1, 2, 1, 30, 1, 1, 1, 10, 2, 1, 1, 4, 4, 2, 33, 3, 1, 1, 1, 1, 2, 4, 1, 1, 3, 2, 2, 1, 1, 1, 3, 2, 1, 1, 1, 2, 1, 1, 4, 1, 1, 1, 1, 1, 1, 2, 4, 4, 2, 2, 32, 3, 1, 1, 1, 1, 1, 1, 1, 1, 1, 1, 1, 1, 3, 1, 1, 2, 1, 1, 3, 20, 1, 4, 14, 2, 1, 2, 1, 3, 2, 1, 1, 1, 1, 1, 1, 1, 1, 1, 1, 1, 1, 1, 1, 1, 1, 1, 11, 1, 1, 1, 2, 2, 1, 1, 1, 1, 1, 2, 3, 6, 12, 1, 7, 3, 1, 1, 1, 1, 1, 2, 2, 2, 2, 1, 3, 1, 1, 4, 5, 3, 1, 1, 1, 12, 5, 1, 1, 1, 1, 1, 1, 5, 4, 5, 1, 3, 1, 1, 1, 7, 1, 1, 4, 6, 4, 2, 1, 1, 1, 1, 1, 3, 1, 1, 1, 1, 1, 1, 1, 1, 1, 1, 5, 1, 1, 1, 1, 2, 3, 1, 1, 1, 1, 1, 3, 1, 3, 1, 1, 1, 1, 1, 1, 1, 1, 1, 1, 1, 7, 11, 6, 1, 1, 1, 2, 1, 1, 1, 1, 3, 1, 1, 1, 7, 9, 1, 1, 2, 1, 1, 3, 1, 2, 1, 1, 1, 1, 1, 1, 1, 1, 1, 3, 2, 2, 2, 7, 2, 2, 2, 4, 17, 12, 1, 1, 1, 1, 1, 2, 2, 1, 1, 4, 3, 1, 7, 10, 1, 1, 2, 1, 1, 1, 1, 1, 1, 1, 1, 1, 1, 1, 1, 1, 1, 3, 1, 5, 1, 1, 1, 1, 1, 2, 1, 2, 2, 1, 1, 1, 1, 3, 1, 1, 1, 4, 1, 2, 2, 1, 1, 1, 2, 6, 5, 1, 5, 1, 1, 4, 1, 2, 1, 1, 4, 1, 4, 8, 1, 1, 5, 1, 3, 1, 5, 1, 1, 3, 1, 3, 1, 21, 3, 1, 1, 1, 1, 1, 1, 1, 1, 1, 1, 1, 1, 1, 1, 2, 11, 1, 1, 1, 4, 2, 2, 1, 1, 7, 7, 1, 3, 1, 1, 1, 1, 1, 1, 1, 4, 4, 2, 2, 2, 1, 2, 1, 1, 1, 1, 1, 1, 13, 1, 1, 1, 1, 1, 1, 1, 4, 2, 1, 1, 1, 1, 1, 1, 1, 2, 3, 1, 12, 1, 3, 1, 2, 16, 5, 1, 4, 1, 3, 1, 1, 8, 8, 12, 8, 1, 1, 2, 3, 1, 1, 1, 1, 1, 1, 1, 2, 1, 1, 1, 1, 2, 2, 2, 1, 1, 1, 1, 1, 1, 1, 1, 1, 2, 1, 1, 1, 1, 1, 1, 2, 1, 1, 1, 8, 1, 1, 1, 1, 1, 1, 2, 1, 1, 1, 1, 5, 1, 1, 1, 1, 1, 1, 1, 1, 1, 1, 1, 4, 1, 1, 1, 1, 1, 8, 6, 1, 1, 1, 1, 1, 1, 1, 2, 1, 1, 18, 1, 8, 2, 2, 5, 8, 1, 21, 2, 1, 1, 2, 1, 1, 1, 1, 1, 1, 1, 1, 1, 1, 1, 1, 14, 1, 3, 1, 1, 2, 1, 15, 4, 1, 2, 3, 1, 2, 1, 14, 1, 1, 1, 1, 1, 1, 2, 1, 1, 1, 5, 1, 2, 1, 1, 8, 1, 1, 1, 1, 1, 1, 1, 2, 2, 4, 1, 1, 1, 1, 11, 25, 3, 1, 2, 3, 1, 2, 3, 1, 9, 1, 3, 4, 1, 1, 12, 9, 7, 1, 1, 14, 3, 2, 1, 1, 3, 1, 1, 2, 1, 1, 1, 1, 1, 2, 1, 1, 1, 1, 1, 1, 3, 1, 1, 1, 1, 1, 1, 1, 1, 1, 1, 1, 1, 1, 1, 1, 1, 1, 1, 1, 1, 4, 1, 1, 2, 1, 1, 1, 1, 1, 1, 1, 1, 1, 1, 1, 2, 1, 1, 1, 1, 5, 1, 1, 2, 3, 1, 2, 1, 1, 1, 1, 5, 1, 1, 3, 2, 1, 2, 1, 16, 1, 1, 1, 1, 1, 1, 1, 1, 1, 2, 2, 1, 1, 4, 1, 8, 4, 2, 3, 1, 2, 1, 3, 2, 1, 1, 1, 1, 8, 1, 1, 2, 1, 3, 4, 1, 1, 1, 10, 1, 1, 5, 1, 1, 1, 1, 2, 2, 2, 1, 3, 1, 1, 1, 1, 4, 2, 2, 15, 1, 2, 1, 4, 12, 3, 15, 1, 1, 5, 1, 2, 1, 11, 1, 1, 1, 1, 1, 1, 1, 1, 5, 1, 2, 1, 1, 1, 1, 1, 3, 3, 5, 1, 1, 1, 1, 1, 1, 1, 1, 2, 1, 1, 2, 2, 10, 3, 17, 1, 2, 8, 1, 6, 1, 1, 4, 1, 1, 1, 2, 1, 1, 1, 1, 20, 13, 3, 2, 1, 1, 2, 2, 2, 1, 1, 1, 3, 1, 1, 1, 1, 7, 2, 1, 1, 2, 1, 1, 8, 1, 1, 2, 2, 1, 2, 1, 1, 1, 1, 1, 1, 2, 1, 7, 2, 1, 1, 1, 1, 1, 1, 1, 1, 1, 2, 5, 1, 2, 1, 2, 2, 1, 1, 1, 3, 2, 1, 1, 2, 1, 1, 1, 40, 1, 1, 1, 1, 1, 1, 1, 2, 1, 3, 1, 1, 1, 1, 2, 1, 2, 2, 1, 1, 1, 1, 1, 1, 1, 1, 1, 1, 1, 1, 3, 2, 1, 1, 1, 1, 3, 1, 1, 2, 2, 2, 1, 1, 1, 1, 44, 1, 1, 1, 3, 3, 9, 1, 1, 3, 3, 1, 1, 9, 1, 2, 1, 1, 1, 1, 2, 4, 1, 1, 3, 1, 5, 5, 1, 3, 1, 3, 2, 1, 2, 1, 2, 1, 1, 1, 1, 1, 1, 1, 3, 1, 9, 2, 2, 36, 8, 3, 1, 1, 1, 1, 3, 3, 1, 2, 1, 1, 1, 1, 2, 1, 1, 1, 1, 1, 1, 1, 6, 1, 2, 3, 3, 1, 1, 5, 1, 2, 1, 2, 1, 3, 4, 1, 1, 1, 3, 2, 10, 1, 12, 1, 2, 1, 1, 1, 1, 2, 3, 7, 1, 1, 2, 1, 15, 1, 1, 9, 1, 1, 2, 1, 1, 1, 2, 1, 2, 1, 1, 1, 1, 1, 1, 1, 1, 1, 1, 3, 1, 1, 1, 5, 1, 3, 1, 1, 1, 2, 1, 1, 3, 1, 1, 3, 4, 3, 1, 1, 1, 1, 1, 11, 4, 1, 1, 1, 5, 2, 1, 4, 22, 3, 1, 1, 2, 7, 5, 1, 1, 5, 1, 1, 1, 1, 1, 1, 1, 1, 2, 1, 62, 7, 3, 2, 1, 1, 3, 1, 1, 1, 1, 2, 4, 4, 2, 1, 1, 1, 6, 1, 6, 12, 1, 1, 1, 1, 1, 1, 1, 1, 1, 1, 1, 9, 6, 2, 1, 1, 6, 1, 115, 1, 19, 3, 1, 2, 2, 27, 1, 1, 1, 5, 2, 1, 1, 1, 1, 1, 1, 1, 2, 2, 1, 1, 2, 1, 1, 2, 1, 1, 1, 1, 1, 1, 1, 13, 14, 1, 1, 1, 13, 22, 1, 2, 16, 1, 1, 1, 1, 1, 1, 1, 11, 8, 10, 1, 1, 1, 1, 1, 8, 1, 1, 1, 2, 2, 2, 4, 2, 1, 1, 1, 3, 7, 1, 3, 1, 1, 3, 2, 2, 5, 4, 2, 1, 1, 1, 1, 1, 2, 1, 1, 1, 1, 2, 3, 1, 1, 4, 1, 1, 1, 1, 11, 1, 3, 1, 1, 1, 1, 2, 5, 1, 3, 1, 1, 1, 1, 1, 1, 2, 1, 3, 2, 1, 1, 2, 1, 1, 1, 1, 2, 2, 3, 2, 1, 1, 2, 3, 1, 9, 1, 1, 5, 3, 1, 2, 1, 4, 7, 1, 1, 1, 1, 1, 1, 1, 1, 1, 1, 1, 2, 2, 1, 1, 1, 2, 3, 2, 1, 1, 1, 1, 1, 5, 1, 1, 1, 1, 1, 1, 4, 1, 1, 1, 1, 3, 1, 1, 2, 1, 1, 3, 1, 1, 1, 1, 7, 3, 2, 1, 1, 2, 1, 1, 1, 2, 1, 2, 1, 1, 2, 1, 2, 1, 1, 1, 1, 2, 6, 8, 10, 2, 1, 6, 1, 1, 1, 1, 1, 13, 1, 5, 1, 1, 2, 1, 3, 1, 1, 3, 2, 1, 1, 1, 2, 1, 1, 1, 1, 4, 2, 1, 3, 1, 6, 1, 2, 1, 1, 1, 7, 5, 1, 1, 2, 3, 13, 1, 1, 1, 1, 1, 3, 1, 1, 1, 1, 1, 1, 1, 1, 1, 3, 2, 1, 1, 1, 7, 1, 1, 1, 7, 7, 1, 1, 2, 1, 1, 1, 9, 1, 1, 1, 1, 1, 1, 1, 1, 1, 1, 4, 1, 1, 1, 1, 2, 1, 1, 1, 1, 1, 2, 2, 1, 1, 1, 1, 1, 3, 3, 2, 1, 1, 1, 1, 3, 1, 1, 16, 1, 1, 2, 4, 3, 1, 1, 1, 1, 1, 1, 4, 1, 1, 1, 1, 1, 1, 1, 1, 1, 2, 1, 1, 1, 1, 1, 1, 1, 4, 1, 1, 1, 1, 1, 1, 15, 4, 2, 1, 2, 1, 1, 2, 3, 1, 5, 7, 1, 1, 1, 1, 1, 1, 1, 2, 2, 8, 1, 3, 1, 1, 1, 1, 1, 6, 4, 1, 1, 2, 1, 1, 2, 2, 1, 1, 1, 1, 4, 1, 1, 1, 1, 3, 3, 1, 1, 4, 2, 1, 2, 27, 1, 1, 2, 1, 5, 3, 2, 1, 1, 1, 1, 1, 1, 1, 1, 4, 5, 9, 1, 1, 1, 1, 1, 1, 1, 4, 1, 1, 1, 2, 4, 2, 3, 1, 3, 4, 1, 6, 1, 1, 1, 10, 1, 1, 2, 2, 1, 1, 1, 1, 3, 1, 1, 1, 1, 1, 1, 1, 8, 11, 1, 1, 1, 8, 1, 1, 1, 1, 2, 1, 7, 1, 3, 2, 1, 2, 3, 2, 1, 19, 7, 5, 1, 1, 1, 1, 1, 1, 1, 1, 1, 1, 2, 1, 1, 1, 1, 1, 9, 2, 7, 1, 1, 1, 1, 1, 3, 1, 1, 2, 1, 1, 1, 1, 1, 1, 2, 2, 1, 2, 1, 1, 2, 1, 2, 3, 4, 1, 1, 1, 1, 1, 1, 1, 4, 1, 1, 1, 5, 2, 1, 1, 1, 1, 1, 1, 1, 1, 1, 1, 1, 12, 9, 1, 1, 1, 1, 1, 1, 1, 1, 1, 1, 1, 3, 5, 5, 1, 4, 1, 1, 6, 1, 9, 2, 2, 1, 1, 1, 1, 1, 4, 1, 1, 1, 1, 5, 1, 1, 2, 1, 1, 1, 4, 1, 1, 1, 1, 1, 1, 5, 7, 32, 1, 1, 1, 1, 1, 1, 1, 7, 1, 4, 1, 1, 3, 1, 2, 1, 1, 1, 2, 1, 2, 1, 1, 1, 5, 3, 1, 2, 1, 2, 1, 1, 1, 1, 2, 2, 1, 1, 1, 4, 1, 1, 3, 13, 1, 1, 1, 1, 1, 1, 5, 9, 2, 1, 1, 1, 2, 1, 1, 1, 1, 2, 1, 1, 7, 4, 1, 1, 1, 1, 1, 1, 1, 1, 14, 1, 1, 2, 1, 1, 1, 2, 1, 1, 2, 2, 1, 1, 1, 1, 3, 1, 1, 1, 3, 3, 1, 2, 1, 1, 1, 1, 1, 8, 1, 1, 2, 2, 18, 4, 1, 1, 3, 6, 1, 1, 1, 1, 1, 1, 1, 1, 3, 2, 2, 2, 1, 1, 2, 1, 1, 1, 1, 1, 1, 1, 1, 13, 1, 16, 2, 1, 1, 1, 1, 3, 1, 1, 2, 1, 1, 4, 1, 1, 1, 4, 1, 4, 1, 1, 1, 6, 1, 3, 2, 1, 3, 8, 2, 1, 1, 8, 1, 1, 1, 1, 1, 1, 1, 1, 1, 2, 2, 1, 4, 6, 1, 6, 1, 1, 1, 1, 5, 2, 1, 1, 1, 5, 2, 1, 2, 1, 1, 1, 1, 1, 1, 11, 1, 1, 1, 1, 1, 1, 1, 6, 2, 9, 1, 2, 1, 1, 1, 1, 1, 1, 2, 2, 1, 1, 1, 1, 2, 1, 1, 2, 5, 1, 1, 1, 3, 1, 6, 1, 1, 1, 1, 1, 1, 1, 1, 1, 5, 1, 1, 1, 1, 1, 1, 1, 1, 1, 1, 2, 1, 1, 6, 3, 2, 1, 5, 1, 2, 1, 1, 7, 1, 1, 12, 1, 1, 5, 2, 1, 2, 1, 1, 6, 2, 1, 1, 1, 1, 1, 1, 6, 5, 1, 1, 1, 1, 1, 1, 1, 2, 1, 1, 4, 1, 1, 3, 2, 1, 5, 1, 1, 1, 1, 1, 3, 10, 2, 1, 1, 1, 1, 1, 1, 2, 1, 1, 1, 1, 1, 1, 6, 1, 2, 1, 1, 1, 2, 2, 3, 1, 2, 12, 1, 1, 3, 1, 1, 2, 1, 1, 1, 1, 4, 1, 4, 6, 1, 1, 1, 1, 1, 2, 1, 1, 3, 2, 4, 1, 1, 1, 1, 1, 1, 8, 1, 15, 1, 1, 1, 1, 1, 2, 4, 22, 1, 2, 1, 3, 1, 1, 1, 1, 3, 17, 16, 1, 4, 1, 1, 9, 2, 2, 1, 1, 1, 1, 2, 3, 1, 1, 3, 1, 1, 2, 1, 1, 1, 1, 1, 2, 1, 1, 1, 1, 2, 7, 1, 2, 1, 1, 1, 1, 1, 2, 1, 1, 2, 2, 1, 1, 3, 4, 1, 3, 1, 2, 1, 1, 1, 1, 6, 1, 1, 1, 1, 1, 1, 8, 4, 2, 1, 1, 1, 1, 1, 1, 2, 1, 1, 1, 1, 1, 1, 1, 3, 1, 1, 1, 2, 1, 1, 2, 1, 1, 6, 1, 1, 1, 2, 1, 1, 1, 1, 8, 1, 3, 1, 5, 3, 3, 1, 1, 1, 1, 1, 1, 5, 1, 3, 3, 5, 1, 1, 1, 1, 1, 2, 1, 1, 7, 3, 1, 3, 4, 3, 1, 1, 15, 1, 1, 2, 1, 1, 1, 2, 2, 1, 1, 8, 1, 2, 2, 4, 2, 1, 1, 1, 1, 2, 1, 3, 1, 4, 3, 1, 1, 2, 2, 1, 1, 1, 1, 2, 1, 1, 1, 1, 5, 3, 13, 1, 1, 1, 1, 4, 3, 1, 1, 1, 1, 1, 2, 6, 5, 25, 1, 1, 6, 1, 2, 1, 1, 2, 1, 1, 1, 1, 1, 1, 3, 1, 1, 1, 2, 3, 1, 1, 1, 6, 3, 2, 2, 1, 1, 1, 2, 2, 3, 1, 1, 1, 1, 2, 7, 1, 2, 1, 1, 1, 1, 1, 1, 1, 1, 2, 1, 1, 2, 1, 2, 1, 1, 1, 2, 3, 2, 1, 1, 1, 1, 1, 2, 1, 5, 1, 1, 1, 1, 7, 1, 2, 1, 5, 4, 1, 1, 1, 2, 1, 1, 1, 1, 3, 4, 1, 1, 1, 1, 1, 1, 1, 1, 3, 2, 3, 1, 1, 4, 2, 1, 1, 1, 1, 1, 12, 1, 1, 1, 1, 1, 5, 1, 1, 2, 1, 1, 1, 1, 1, 2, 1, 5, 1, 1, 1, 1, 1, 2, 4, 1, 1, 1, 1, 1, 1, 4, 1, 3, 1, 1, 2, 1, 1, 1, 1, 2, 2, 1, 6, 1, 1, 1, 1, 1, 1, 1, 1, 1, 1, 1, 1, 1, 2, 2, 1, 9, 1, 1, 1, 4, 1, 1, 1, 1, 2, 1, 2, 2, 1, 2, 1, 1, 1, 1, 1, 9, 1, 1, 1, 1, 6, 1, 2, 1, 1, 1, 2, 1, 2, 3, 1, 1, 6, 1, 1, 1, 1, 2, 7, 1, 1, 2, 1, 1, 1, 14, 5, 3, 1, 1, 1, 2, 2, 1, 1, 1, 1, 1, 1, 4, 2, 2, 1, 1, 2, 1, 5, 1, 1, 1, 1, 1, 1, 1, 2, 1, 1, 1, 1, 2, 2, 1, 1, 1, 1, 1, 1, 1, 1, 1, 1, 3, 1, 10, 1, 1, 1, 1, 1, 3, 1, 1, 3, 1, 1, 1, 1, 1, 1, 1, 1, 1, 1, 2, 2, 1, 1, 1, 1, 1, 1, 4, 13, 1, 3, 3, 1, 5, 1, 1, 1, 1, 2, 5, 1, 1, 1, 1, 1, 1, 5, 2, 1, 1, 1, 1, 1, 1, 1, 1, 4, 6, 3, 1, 3, 1, 8, 4, 1, 2, 1, 1, 1, 1, 1, 1, 2, 1, 1, 1, 1, 1, 12, 2, 2, 1, 3, 1, 4, 1, 1, 1, 1, 1, 1, 1, 1, 1, 2, 12, 9, 3, 1, 2, 1, 1, 1, 2, 1, 1, 1, 1, 1, 3, 1, 1, 1, 1, 3, 1, 2, 1, 1, 2, 1, 1, 2, 7, 1, 4, 1, 2, 1, 1, 1, 2, 1, 1, 1, 1, 1, 1, 1, 1, 1, 1, 3, 1, 4, 1, 1, 1, 1, 2, 1, 1, 1, 1, 1, 1, 1, 2, 5, 1, 1, 6, 1, 1, 8, 1, 1, 1, 1, 1, 2, 1, 1, 1, 4, 2, 2, 1, 1, 1, 2, 1, 1, 2, 5, 3, 1, 1, 1, 1, 35, 1, 1, 1, 1, 1, 1, 1, 1, 1, 2, 2, 1, 1, 1, 2, 6, 1, 1, 1, 1, 2, 3, 1, 3, 1, 1, 1, 1, 1, 2, 4, 1, 1, 1, 1, 1, 1, 1, 1, 1, 1, 1, 1, 1, 1, 1, 1, 1, 1, 1, 1, 1, 1, 1, 1, 7, 4, 2, 1, 1, 3, 1, 1, 1, 1, 1, 1, 3, 1, 1, 2, 1, 1, 1, 1, 2, 4, 1, 2, 3, 1, 1, 1, 2, 3, 2, 16, 1, 1, 1, 1, 12, 4, 1, 1, 1, 1, 5, 1, 1, 1, 2, 2, 2, 13, 2, 1, 1, 1, 2, 1, 2, 1, 2, 1, 4, 2, 1, 1, 2, 1, 1, 6, 1, 1, 1, 1, 1, 3, 1, 4, 1, 1, 1, 3, 4, 4, 4, 2, 3, 3, 3, 4, 1, 1, 1, 2, 1, 1, 1, 2, 1, 1, 2, 2, 1, 1, 4, 4, 2, 1, 1, 1, 2, 1, 3, 1, 1, 1, 1, 1, 1, 1, 1, 1, 1, 1, 1, 1, 3, 3, 1, 1, 5, 1, 1, 1, 1, 1, 1, 1, 1, 1, 1, 1, 1, 2, 10, 2, 1, 11, 9, 8, 8, 1, 1, 2, 1, 1, 3, 4, 1, 4, 4, 2, 1, 1, 2, 1, 1, 2, 2, 1, 2, 1, 2, 1, 1, 1, 1, 1, 1, 1, 2, 4, 1, 1, 1, 1, 1, 1, 2, 1, 1, 1, 1, 1, 4, 6, 1, 34, 4, 1, 1, 2, 1, 1, 2, 1, 3, 1, 1, 1, 1, 1, 2, 1, 1, 1, 2, 1, 1, 1, 1, 1, 1, 5, 3, 1, 1, 1, 2, 2, 1, 1, 37, 2, 1, 1, 1, 1, 1, 2, 2, 3, 1, 3, 1, 4, 6, 1, 1, 1, 1, 1, 2, 1, 1, 1, 1, 1, 1, 2, 1, 1, 1, 1, 1, 1, 10, 2, 1, 1, 1, 2, 2, 1, 1, 1, 1, 1, 1, 2, 2, 5, 1, 1, 2, 2, 1, 1, 1, 1, 2, 3, 2, 1, 1, 1, 1, 3, 2, 6, 2, 1, 1, 1, 1, 1, 2, 1, 1, 1, 2, 1, 2, 1, 1, 4, 1, 3, 1, 1, 1, 1, 1, 2, 1, 1, 1, 1, 4, 1, 1, 1, 2, 1, 2, 2, 2, 1, 1, 1, 2, 1, 1, 1, 1, 2, 6, 2, 1, 2, 3, 4, 2, 2, 6, 5, 1, 1, 1, 1, 1, 1, 1, 1, 2, 1, 4, 2, 2, 1, 2, 1, 1, 3, 3, 1, 1, 1, 2, 3, 1, 1, 1, 1, 1, 1, 1, 3, 2, 1, 1, 1, 1, 1, 1, 1, 1, 1, 3, 2, 1, 1, 2, 1, 1, 1, 1, 1, 2, 4, 1, 1, 1, 2, 1, 1, 3, 2, 1, 1, 1, 1, 1, 3, 1, 1, 1, 1, 1, 1, 1, 1, 2, 3, 1, 3, 1, 3, 1, 1, 1, 1, 2, 2, 1, 2, 5, 1, 1, 3, 1, 4, 1, 1, 1, 1, 1, 1, 1, 1, 1, 1, 1, 1, 1, 1, 1, 1, 1, 3, 2, 1, 1, 1, 3, 3, 1, 1, 2, 3, 2, 1, 1, 1, 2, 1, 1, 2, 1, 1, 1, 1, 1, 1, 1, 3, 1, 1, 1, 1, 2, 6, 1, 1, 1, 1, 1, 2, 1, 1, 1, 1, 1, 1, 1, 1, 1, 1, 1, 1, 1, 1, 1, 2, 1, 1, 1, 2, 1, 1, 1, 1, 1, 1, 1, 1, 1, 1, 2, 1, 1, 1, 1, 3, 1, 1, 3, 1, 1, 1, 2, 5, 1, 1, 1, 6, 1, 1, 1, 1, 1, 2, 1, 1, 1, 1, 1, 1, 1, 1, 1, 1, 1, 1, 1, 2, 17, 1, 1, 1, 1, 1, 1, 1, 1, 1, 1, 1, 2, 1, 1, 1, 1, 1, 1, 2, 1, 1, 2, 1, 1, 1, 1, 1, 1, 1, 1, 1, 1, 2, 1, 1, 1, 1, 1, 1, 1, 4, 1, 1, 1, 1, 1, 1, 1, 1, 2, 1, 1, 3, 1, 1, 1, 1, 1, 1, 1, 1, 1, 2, 3, 2, 2, 1, 1, 1, 3, 1, 1, 2, 1, 1, 1, 1, 4, 1, 1, 1, 1, 1, 3, 1, 1, 1, 1, 2, 2, 3, 1, 2, 1, 1, 1, 1, 1, 1, 2, 1, 1, 1, 1, 2, 2, 1, 2, 1, 18, 1, 1, 2, 1, 2, 2, 1, 1, 1, 1, 1, 5, 1, 1, 1, 1, 1, 1, 1, 1, 1, 1, 1, 1, 3, 1, 1, 1, 1, 1, 2, 2, 1, 2, 1, 1, 1, 1, 1, 1, 2, 4, 5, 2, 3, 3, 1, 2, 1, 1, 2, 2, 1, 2, 5, 1, 1, 1, 1, 1, 1, 1, 1, 1, 1, 1, 1, 1, 1, 1, 2, 1, 2, 1, 1, 1, 2, 1, 1, 1, 1, 1, 1, 1, 1, 1, 1, 1, 2, 3, 3, 1, 1, 2, 2, 9, 1, 1, 1, 1, 1, 1, 4, 1, 1, 1, 1, 1, 4, 2, 2, 1, 1, 2, 3, 1, 1, 1, 1, 1, 1, 1, 1, 1, 1, 1, 1, 1, 1, 1, 1, 1, 1, 1, 1, 1, 1, 2, 1, 1, 2, 3, 2, 1, 1, 1, 1, 1, 1, 1, 1, 1, 1, 1, 1, 1, 1, 1, 1, 1, 1, 1, 1, 1, 1, 1, 1, 1, 1, 1, 1, 1, 3, 1, 1, 1, 1, 2, 3, 1, 1, 2, 1, 2, 6, 1, 1, 1, 1, 1, 1, 1, 1, 1, 1, 1, 1, 1, 1, 1, 1, 1, 1, 1, 7, 1, 1, 4, 4, 2, 1, 2, 1, 1, 1, 2, 1, 1, 2, 1, 2, 1, 1, 1, 1, 1, 1, 1, 1, 1, 1, 2, 1, 1, 1, 1, 1, 4, 3, 1, 2, 1, 1, 1, 1, 1, 1, 1, 1, 1, 1, 1, 1, 1, 4, 1, 1, 1, 1, 1, 1, 1, 1, 1, 1, 1, 1, 1, 3, 2, 2, 1, 1, 1, 1, 1, 1, 1, 1, 1, 1, 1, 1, 1, 1, 2, 3, 1, 1, 1, 2, 1, 1, 1, 1, 3, 1, 1, 1, 1, 1, 1, 1, 1, 1, 1, 1, 2, 2, 3, 1, 1, 1, 1, 1, 1, 1, 2, 1, 1, 1, 1, 1, 1, 1, 1, 1, 1, 2, 1, 5, 1, 1, 1, 1, 1, 1, 1, 1, 1, 1, 1, 1, 1, 1, 2, 3, 1, 2, 2, 1, 1, 1, 1, 1, 1, 1, 1, 1, 1, 1, 1, 1, 1, 1, 1, 1, 1, 1, 1, 1, 2, 1, 1, 3, 2, 2, 1, 1, 3, 1, 1, 1, 1, 1, 1, 2, 1, 1, 1, 1, 1, 1, 1, 1, 1, 1, 1, 1, 1, 3, 1, 2, 3, 1, 1, 1, 1, 1, 1, 1, 1, 1, 3, 1, 1, 1, 2, 1, 1, 2, 1, 1, 1, 1, 1, 1, 1, 1, 1, 4, 1, 1, 1, 1, 1, 1, 1, 3, 1, 1, 2, 1, 1, 1, 1, 1, 3, 1, 1, 1, 2, 2, 1, 1, 1, 2, 1, 1, 1, 1, 1, 2, 1, 1, 1, 1, 1, 1, 1, 2, 2, 1, 1, 2, 2, 1, 1, 3, 1, 1, 1, 1, 2, 3, 1, 2, 2, 1, 1, 1, 1, 1, 1, 1, 1, 1, 1, 1, 3, 1, 1, 3, 1, 1, 1, 1, 1, 1, 5, 1, 2, 1, 1, 4, 4, 1, 2, 1, 1, 1, 1, 1, 1, 4, 1, 1, 2, 2, 1, 1, 1, 1, 2, 1, 1, 1, 1, 2, 1, 1, 1, 1, 1, 1, 2, 4, 2, 1, 3, 1, 1, 1, 1, 1, 2, 1, 4, 2, 1, 1, 2, 1, 1, 3, 1, 1, 1, 1, 5, 1, 1, 1, 1, 1, 2, 1, 3, 1, 1, 1, 1, 1, 1, 1, 2, 2, 1, 1, 1, 1, 1, 1, 1, 2, 7, 1, 1, 1, 2, 1, 1, 3, 1, 1, 1, 1, 1, 1, 1, 9, 1, 1, 1, 1, 1, 1, 1, 1, 1, 1, 1, 1, 1, 1, 1, 1, 1, 1, 1, 1, 1, 1, 1, 1, 1, 5, 1, 1, 2, 1, 1, 1, 1, 1, 2, 1, 1, 1, 1, 1, 1, 1, 1, 1, 1, 2, 2, 1, 1, 1, 1, 2, 1, 1, 1, 1, 1, 1, 1, 1, 1, 1, 1, 1, 1, 2, 1, 1, 2, 1, 1, 3, 1, 1, 1, 1, 1, 1, 1, 3, 1, 3, 1, 1, 1, 1, 2, 1, 1, 2, 3, 1, 1, 2, 1, 1, 1, 1, 1, 1, 1, 1, 3, 1, 2, 1, 1, 1, 1, 1, 1, 2, 2, 1, 1, 1, 1, 1, 1, 2, 1, 1, 1, 1, 1, 1, 1, 1, 1, 1, 1, 1, 1, 1, 1, 1, 1, 1, 1, 1, 1, 1, 1, 1, 1, 1, 1, 2, 1, 1, 1, 1, 1, 1, 1, 1, 1, 1, 1, 1, 1, 1, 1, 1, 1, 3, 1, 3, 2, 2, 2, 3, 2, 2, 2, 2, 2, 2, 2, 2, 2, 3, 2, 2, 2, 2, 2, 2, 2, 2, 2, 2, 2, 2, 2, 2, 2, 2, 2, 2, 2, 2, 2, 2, 2, 2, 2, 2, 2, 2, 3, 2, 4, 2, 2, 2, 2, 2, 2, 2, 2, 4, 2, 3, 2, 2, 2, 2, 2, 2, 2, 2, 2, 2, 2, 2, 2, 2, 2, 2, 2, 2, 2, 2, 2, 2, 2, 2, 3, 1, 1, 1, 1, 1, 1, 1, 1, 1, 1, 1, 1, 1, 1, 1, 1, 1, 1, 1, 1, 1, 1, 1, 1, 1, 1, 1, 6, 1, 2, 1, 1, 1, 2, 1, 1, 1, 1, 1, 1, 1, 1, 1, 1, 1, 1, 1, 1, 1, 1, 1, 1, 1, 1, 1, 1, 3, 1, 1, 1, 1, 2, 2, 2, 1, 1, 1, 1, 1, 1, 1, 1, 1, 1, 3, 1, 1, 1, 1, 1, 1, 1, 1, 1, 1, 1, 2, 1, 1, 1, 1, 1, 1, 1, 1, 1, 1, 1, 1, 1, 1, 2, 1, 2, 2, 2, 1, 1, 1, 1, 1, 1, 1, 1, 1, 1, 1, 1, 1, 1, 1, 1, 1, 1, 1, 2, 1, 1, 1, 1, 1, 1, 1, 1, 1, 2, 1, 1, 1, 1, 1, 2, 1, 1, 2, 1, 1, 2, 1, 1, 1, 1, 1, 1, 1, 1, 1, 1, 1, 1, 1, 1, 1, 1, 1, 2, 1, 1, 2, 1, 2, 1, 1, 1, 1, 1, 1, 1, 1, 1, 1, 1, 1, 1, 1, 1, 1, 1, 1, 1, 1, 1, 1, 1, 1, 1, 2, 1, 1, 1, 1, 1, 1, 1, 1, 1, 1, 1, 1, 1, 1, 1, 1, 1, 1, 1, 1, 1, 1, 2, 1, 1, 1, 1, 1, 1, 1, 1, 1, 1, 1, 1, 1, 1, 1, 1, 2, 1, 1, 1, 1, 1, 2, 1, 2, 1, 1, 1, 1, 1, 1, 1, 1, 1, 1, 1, 1, 1, 1, 1, 2, 1, 1, 1, 1, 1, 1, 1, 1, 1, 1, 1, 1, 1, 1, 2, 1, 1, 1, 1, 2, 1, 1, 1, 1, 1, 2, 1, 1, 1, 1, 1, 1, 1, 1, 1, 1, 1, 2, 1, 1, 1, 1, 1, 1, 1, 1, 1, 1, 1, 1, 1, 1, 1, 1, 1, 1, 1, 1, 1, 1, 1, 1, 1, 1, 1, 1, 1, 1, 1, 1, 1, 1, 1, 1, 1, 1, 1, 1, 1, 1, 1, 1, 1, 1, 1, 1, 1, 1, 1, 1, 1, 1, 1, 1, 1, 1, 1, 1, 1, 1, 1, 1, 1, 1, 1, 1, 1, 1, 1, 1, 1, 1, 1, 1, 1, 1, 1, 1, 1, 2, 1, 1, 1, 1, 1, 1, 1, 1, 1, 1, 1, 1, 2, 1, 1, 1, 1, 1, 1, 1, 1, 1, 1, 2, 1, 1, 1, 1, 1, 1, 1, 1, 1, 1, 1, 1, 1, 1, 1, 1, 1, 1, 1, 1, 1, 1, 1, 1, 1, 1, 1, 1, 1, 1, 1, 1, 1, 1, 1, 1, 1, 1, 1, 1, 1, 1, 1, 1, 1, 1, 1, 1, 2, 1, 1, 3, 1, 1, 1, 1, 1, 1, 1, 1, 1, 1, 1, 1, 1, 1, 1, 1, 4, 1, 1, 1, 1, 1, 1, 1, 1, 1, 1, 1, 1, 1, 1, 1, 1, 1, 1, 1, 1, 1, 1, 1, 1, 1, 1, 1, 1, 1, 1, 1, 1, 1, 1, 1, 2, 1, 1, 1, 1, 1, 1, 1, 1, 1, 1, 1, 1, 1, 1, 1, 1, 1, 1, 1, 1, 1, 1, 1, 1, 1, 1, 1, 1])"
      ]
     },
     "execution_count": 204,
     "metadata": {},
     "output_type": "execute_result"
    }
   ],
   "source": [
    "from collections import Counter\n",
    "count_companies = Counter([item for lst in metadata['production_companies'] for item in lst])\n",
    "count_companies.values()"
   ]
  },
  {
   "cell_type": "code",
   "execution_count": 205,
   "id": "22120e22",
   "metadata": {},
   "outputs": [],
   "source": [
    "other = [k for k in count_companies.keys() if count_companies[k] <= 5]\n",
    "metadata['production_companies'] = metadata['production_companies'].apply(lambda x: list({i if i not in other else \"other\" for i in x}))\n",
    "metadata['production_companies'] = metadata['production_companies'].apply(lambda x: ['other'] if not x else x)"
   ]
  },
  {
   "cell_type": "code",
   "execution_count": 206,
   "id": "2decaff4",
   "metadata": {},
   "outputs": [
    {
     "name": "stderr",
     "output_type": "stream",
     "text": [
      "/var/folders/d7/b6t8w9c960vb7cps3hrj9q_h0000gn/T/ipykernel_34729/3856767485.py:4: PerformanceWarning: DataFrame is highly fragmented.  This is usually the result of calling `frame.insert` many times, which has poor performance.  Consider joining all columns at once using pd.concat(axis=1) instead. To get a de-fragmented frame, use `newframe = frame.copy()`\n",
      "  metadata[mlb.classes_[i]] = res.T[i]\n",
      "/var/folders/d7/b6t8w9c960vb7cps3hrj9q_h0000gn/T/ipykernel_34729/3856767485.py:4: PerformanceWarning: DataFrame is highly fragmented.  This is usually the result of calling `frame.insert` many times, which has poor performance.  Consider joining all columns at once using pd.concat(axis=1) instead. To get a de-fragmented frame, use `newframe = frame.copy()`\n",
      "  metadata[mlb.classes_[i]] = res.T[i]\n",
      "/var/folders/d7/b6t8w9c960vb7cps3hrj9q_h0000gn/T/ipykernel_34729/3856767485.py:4: PerformanceWarning: DataFrame is highly fragmented.  This is usually the result of calling `frame.insert` many times, which has poor performance.  Consider joining all columns at once using pd.concat(axis=1) instead. To get a de-fragmented frame, use `newframe = frame.copy()`\n",
      "  metadata[mlb.classes_[i]] = res.T[i]\n",
      "/var/folders/d7/b6t8w9c960vb7cps3hrj9q_h0000gn/T/ipykernel_34729/3856767485.py:4: PerformanceWarning: DataFrame is highly fragmented.  This is usually the result of calling `frame.insert` many times, which has poor performance.  Consider joining all columns at once using pd.concat(axis=1) instead. To get a de-fragmented frame, use `newframe = frame.copy()`\n",
      "  metadata[mlb.classes_[i]] = res.T[i]\n",
      "/var/folders/d7/b6t8w9c960vb7cps3hrj9q_h0000gn/T/ipykernel_34729/3856767485.py:4: PerformanceWarning: DataFrame is highly fragmented.  This is usually the result of calling `frame.insert` many times, which has poor performance.  Consider joining all columns at once using pd.concat(axis=1) instead. To get a de-fragmented frame, use `newframe = frame.copy()`\n",
      "  metadata[mlb.classes_[i]] = res.T[i]\n",
      "/var/folders/d7/b6t8w9c960vb7cps3hrj9q_h0000gn/T/ipykernel_34729/3856767485.py:4: PerformanceWarning: DataFrame is highly fragmented.  This is usually the result of calling `frame.insert` many times, which has poor performance.  Consider joining all columns at once using pd.concat(axis=1) instead. To get a de-fragmented frame, use `newframe = frame.copy()`\n",
      "  metadata[mlb.classes_[i]] = res.T[i]\n",
      "/var/folders/d7/b6t8w9c960vb7cps3hrj9q_h0000gn/T/ipykernel_34729/3856767485.py:4: PerformanceWarning: DataFrame is highly fragmented.  This is usually the result of calling `frame.insert` many times, which has poor performance.  Consider joining all columns at once using pd.concat(axis=1) instead. To get a de-fragmented frame, use `newframe = frame.copy()`\n",
      "  metadata[mlb.classes_[i]] = res.T[i]\n",
      "/var/folders/d7/b6t8w9c960vb7cps3hrj9q_h0000gn/T/ipykernel_34729/3856767485.py:4: PerformanceWarning: DataFrame is highly fragmented.  This is usually the result of calling `frame.insert` many times, which has poor performance.  Consider joining all columns at once using pd.concat(axis=1) instead. To get a de-fragmented frame, use `newframe = frame.copy()`\n",
      "  metadata[mlb.classes_[i]] = res.T[i]\n",
      "/var/folders/d7/b6t8w9c960vb7cps3hrj9q_h0000gn/T/ipykernel_34729/3856767485.py:4: PerformanceWarning: DataFrame is highly fragmented.  This is usually the result of calling `frame.insert` many times, which has poor performance.  Consider joining all columns at once using pd.concat(axis=1) instead. To get a de-fragmented frame, use `newframe = frame.copy()`\n",
      "  metadata[mlb.classes_[i]] = res.T[i]\n",
      "/var/folders/d7/b6t8w9c960vb7cps3hrj9q_h0000gn/T/ipykernel_34729/3856767485.py:4: PerformanceWarning: DataFrame is highly fragmented.  This is usually the result of calling `frame.insert` many times, which has poor performance.  Consider joining all columns at once using pd.concat(axis=1) instead. To get a de-fragmented frame, use `newframe = frame.copy()`\n",
      "  metadata[mlb.classes_[i]] = res.T[i]\n",
      "/var/folders/d7/b6t8w9c960vb7cps3hrj9q_h0000gn/T/ipykernel_34729/3856767485.py:4: PerformanceWarning: DataFrame is highly fragmented.  This is usually the result of calling `frame.insert` many times, which has poor performance.  Consider joining all columns at once using pd.concat(axis=1) instead. To get a de-fragmented frame, use `newframe = frame.copy()`\n",
      "  metadata[mlb.classes_[i]] = res.T[i]\n",
      "/var/folders/d7/b6t8w9c960vb7cps3hrj9q_h0000gn/T/ipykernel_34729/3856767485.py:4: PerformanceWarning: DataFrame is highly fragmented.  This is usually the result of calling `frame.insert` many times, which has poor performance.  Consider joining all columns at once using pd.concat(axis=1) instead. To get a de-fragmented frame, use `newframe = frame.copy()`\n",
      "  metadata[mlb.classes_[i]] = res.T[i]\n",
      "/var/folders/d7/b6t8w9c960vb7cps3hrj9q_h0000gn/T/ipykernel_34729/3856767485.py:4: PerformanceWarning: DataFrame is highly fragmented.  This is usually the result of calling `frame.insert` many times, which has poor performance.  Consider joining all columns at once using pd.concat(axis=1) instead. To get a de-fragmented frame, use `newframe = frame.copy()`\n",
      "  metadata[mlb.classes_[i]] = res.T[i]\n",
      "/var/folders/d7/b6t8w9c960vb7cps3hrj9q_h0000gn/T/ipykernel_34729/3856767485.py:4: PerformanceWarning: DataFrame is highly fragmented.  This is usually the result of calling `frame.insert` many times, which has poor performance.  Consider joining all columns at once using pd.concat(axis=1) instead. To get a de-fragmented frame, use `newframe = frame.copy()`\n",
      "  metadata[mlb.classes_[i]] = res.T[i]\n",
      "/var/folders/d7/b6t8w9c960vb7cps3hrj9q_h0000gn/T/ipykernel_34729/3856767485.py:4: PerformanceWarning: DataFrame is highly fragmented.  This is usually the result of calling `frame.insert` many times, which has poor performance.  Consider joining all columns at once using pd.concat(axis=1) instead. To get a de-fragmented frame, use `newframe = frame.copy()`\n",
      "  metadata[mlb.classes_[i]] = res.T[i]\n",
      "/var/folders/d7/b6t8w9c960vb7cps3hrj9q_h0000gn/T/ipykernel_34729/3856767485.py:4: PerformanceWarning: DataFrame is highly fragmented.  This is usually the result of calling `frame.insert` many times, which has poor performance.  Consider joining all columns at once using pd.concat(axis=1) instead. To get a de-fragmented frame, use `newframe = frame.copy()`\n",
      "  metadata[mlb.classes_[i]] = res.T[i]\n",
      "/var/folders/d7/b6t8w9c960vb7cps3hrj9q_h0000gn/T/ipykernel_34729/3856767485.py:4: PerformanceWarning: DataFrame is highly fragmented.  This is usually the result of calling `frame.insert` many times, which has poor performance.  Consider joining all columns at once using pd.concat(axis=1) instead. To get a de-fragmented frame, use `newframe = frame.copy()`\n",
      "  metadata[mlb.classes_[i]] = res.T[i]\n",
      "/var/folders/d7/b6t8w9c960vb7cps3hrj9q_h0000gn/T/ipykernel_34729/3856767485.py:4: PerformanceWarning: DataFrame is highly fragmented.  This is usually the result of calling `frame.insert` many times, which has poor performance.  Consider joining all columns at once using pd.concat(axis=1) instead. To get a de-fragmented frame, use `newframe = frame.copy()`\n",
      "  metadata[mlb.classes_[i]] = res.T[i]\n",
      "/var/folders/d7/b6t8w9c960vb7cps3hrj9q_h0000gn/T/ipykernel_34729/3856767485.py:4: PerformanceWarning: DataFrame is highly fragmented.  This is usually the result of calling `frame.insert` many times, which has poor performance.  Consider joining all columns at once using pd.concat(axis=1) instead. To get a de-fragmented frame, use `newframe = frame.copy()`\n",
      "  metadata[mlb.classes_[i]] = res.T[i]\n",
      "/var/folders/d7/b6t8w9c960vb7cps3hrj9q_h0000gn/T/ipykernel_34729/3856767485.py:4: PerformanceWarning: DataFrame is highly fragmented.  This is usually the result of calling `frame.insert` many times, which has poor performance.  Consider joining all columns at once using pd.concat(axis=1) instead. To get a de-fragmented frame, use `newframe = frame.copy()`\n",
      "  metadata[mlb.classes_[i]] = res.T[i]\n",
      "/var/folders/d7/b6t8w9c960vb7cps3hrj9q_h0000gn/T/ipykernel_34729/3856767485.py:4: PerformanceWarning: DataFrame is highly fragmented.  This is usually the result of calling `frame.insert` many times, which has poor performance.  Consider joining all columns at once using pd.concat(axis=1) instead. To get a de-fragmented frame, use `newframe = frame.copy()`\n",
      "  metadata[mlb.classes_[i]] = res.T[i]\n",
      "/var/folders/d7/b6t8w9c960vb7cps3hrj9q_h0000gn/T/ipykernel_34729/3856767485.py:4: PerformanceWarning: DataFrame is highly fragmented.  This is usually the result of calling `frame.insert` many times, which has poor performance.  Consider joining all columns at once using pd.concat(axis=1) instead. To get a de-fragmented frame, use `newframe = frame.copy()`\n",
      "  metadata[mlb.classes_[i]] = res.T[i]\n",
      "/var/folders/d7/b6t8w9c960vb7cps3hrj9q_h0000gn/T/ipykernel_34729/3856767485.py:4: PerformanceWarning: DataFrame is highly fragmented.  This is usually the result of calling `frame.insert` many times, which has poor performance.  Consider joining all columns at once using pd.concat(axis=1) instead. To get a de-fragmented frame, use `newframe = frame.copy()`\n",
      "  metadata[mlb.classes_[i]] = res.T[i]\n",
      "/var/folders/d7/b6t8w9c960vb7cps3hrj9q_h0000gn/T/ipykernel_34729/3856767485.py:4: PerformanceWarning: DataFrame is highly fragmented.  This is usually the result of calling `frame.insert` many times, which has poor performance.  Consider joining all columns at once using pd.concat(axis=1) instead. To get a de-fragmented frame, use `newframe = frame.copy()`\n",
      "  metadata[mlb.classes_[i]] = res.T[i]\n",
      "/var/folders/d7/b6t8w9c960vb7cps3hrj9q_h0000gn/T/ipykernel_34729/3856767485.py:4: PerformanceWarning: DataFrame is highly fragmented.  This is usually the result of calling `frame.insert` many times, which has poor performance.  Consider joining all columns at once using pd.concat(axis=1) instead. To get a de-fragmented frame, use `newframe = frame.copy()`\n",
      "  metadata[mlb.classes_[i]] = res.T[i]\n",
      "/var/folders/d7/b6t8w9c960vb7cps3hrj9q_h0000gn/T/ipykernel_34729/3856767485.py:4: PerformanceWarning: DataFrame is highly fragmented.  This is usually the result of calling `frame.insert` many times, which has poor performance.  Consider joining all columns at once using pd.concat(axis=1) instead. To get a de-fragmented frame, use `newframe = frame.copy()`\n",
      "  metadata[mlb.classes_[i]] = res.T[i]\n",
      "/var/folders/d7/b6t8w9c960vb7cps3hrj9q_h0000gn/T/ipykernel_34729/3856767485.py:4: PerformanceWarning: DataFrame is highly fragmented.  This is usually the result of calling `frame.insert` many times, which has poor performance.  Consider joining all columns at once using pd.concat(axis=1) instead. To get a de-fragmented frame, use `newframe = frame.copy()`\n",
      "  metadata[mlb.classes_[i]] = res.T[i]\n",
      "/var/folders/d7/b6t8w9c960vb7cps3hrj9q_h0000gn/T/ipykernel_34729/3856767485.py:4: PerformanceWarning: DataFrame is highly fragmented.  This is usually the result of calling `frame.insert` many times, which has poor performance.  Consider joining all columns at once using pd.concat(axis=1) instead. To get a de-fragmented frame, use `newframe = frame.copy()`\n",
      "  metadata[mlb.classes_[i]] = res.T[i]\n",
      "/var/folders/d7/b6t8w9c960vb7cps3hrj9q_h0000gn/T/ipykernel_34729/3856767485.py:4: PerformanceWarning: DataFrame is highly fragmented.  This is usually the result of calling `frame.insert` many times, which has poor performance.  Consider joining all columns at once using pd.concat(axis=1) instead. To get a de-fragmented frame, use `newframe = frame.copy()`\n",
      "  metadata[mlb.classes_[i]] = res.T[i]\n",
      "/var/folders/d7/b6t8w9c960vb7cps3hrj9q_h0000gn/T/ipykernel_34729/3856767485.py:4: PerformanceWarning: DataFrame is highly fragmented.  This is usually the result of calling `frame.insert` many times, which has poor performance.  Consider joining all columns at once using pd.concat(axis=1) instead. To get a de-fragmented frame, use `newframe = frame.copy()`\n",
      "  metadata[mlb.classes_[i]] = res.T[i]\n",
      "/var/folders/d7/b6t8w9c960vb7cps3hrj9q_h0000gn/T/ipykernel_34729/3856767485.py:4: PerformanceWarning: DataFrame is highly fragmented.  This is usually the result of calling `frame.insert` many times, which has poor performance.  Consider joining all columns at once using pd.concat(axis=1) instead. To get a de-fragmented frame, use `newframe = frame.copy()`\n",
      "  metadata[mlb.classes_[i]] = res.T[i]\n",
      "/var/folders/d7/b6t8w9c960vb7cps3hrj9q_h0000gn/T/ipykernel_34729/3856767485.py:4: PerformanceWarning: DataFrame is highly fragmented.  This is usually the result of calling `frame.insert` many times, which has poor performance.  Consider joining all columns at once using pd.concat(axis=1) instead. To get a de-fragmented frame, use `newframe = frame.copy()`\n",
      "  metadata[mlb.classes_[i]] = res.T[i]\n",
      "/var/folders/d7/b6t8w9c960vb7cps3hrj9q_h0000gn/T/ipykernel_34729/3856767485.py:4: PerformanceWarning: DataFrame is highly fragmented.  This is usually the result of calling `frame.insert` many times, which has poor performance.  Consider joining all columns at once using pd.concat(axis=1) instead. To get a de-fragmented frame, use `newframe = frame.copy()`\n",
      "  metadata[mlb.classes_[i]] = res.T[i]\n",
      "/var/folders/d7/b6t8w9c960vb7cps3hrj9q_h0000gn/T/ipykernel_34729/3856767485.py:4: PerformanceWarning: DataFrame is highly fragmented.  This is usually the result of calling `frame.insert` many times, which has poor performance.  Consider joining all columns at once using pd.concat(axis=1) instead. To get a de-fragmented frame, use `newframe = frame.copy()`\n",
      "  metadata[mlb.classes_[i]] = res.T[i]\n",
      "/var/folders/d7/b6t8w9c960vb7cps3hrj9q_h0000gn/T/ipykernel_34729/3856767485.py:4: PerformanceWarning: DataFrame is highly fragmented.  This is usually the result of calling `frame.insert` many times, which has poor performance.  Consider joining all columns at once using pd.concat(axis=1) instead. To get a de-fragmented frame, use `newframe = frame.copy()`\n",
      "  metadata[mlb.classes_[i]] = res.T[i]\n",
      "/var/folders/d7/b6t8w9c960vb7cps3hrj9q_h0000gn/T/ipykernel_34729/3856767485.py:4: PerformanceWarning: DataFrame is highly fragmented.  This is usually the result of calling `frame.insert` many times, which has poor performance.  Consider joining all columns at once using pd.concat(axis=1) instead. To get a de-fragmented frame, use `newframe = frame.copy()`\n",
      "  metadata[mlb.classes_[i]] = res.T[i]\n",
      "/var/folders/d7/b6t8w9c960vb7cps3hrj9q_h0000gn/T/ipykernel_34729/3856767485.py:4: PerformanceWarning: DataFrame is highly fragmented.  This is usually the result of calling `frame.insert` many times, which has poor performance.  Consider joining all columns at once using pd.concat(axis=1) instead. To get a de-fragmented frame, use `newframe = frame.copy()`\n",
      "  metadata[mlb.classes_[i]] = res.T[i]\n",
      "/var/folders/d7/b6t8w9c960vb7cps3hrj9q_h0000gn/T/ipykernel_34729/3856767485.py:4: PerformanceWarning: DataFrame is highly fragmented.  This is usually the result of calling `frame.insert` many times, which has poor performance.  Consider joining all columns at once using pd.concat(axis=1) instead. To get a de-fragmented frame, use `newframe = frame.copy()`\n",
      "  metadata[mlb.classes_[i]] = res.T[i]\n",
      "/var/folders/d7/b6t8w9c960vb7cps3hrj9q_h0000gn/T/ipykernel_34729/3856767485.py:4: PerformanceWarning: DataFrame is highly fragmented.  This is usually the result of calling `frame.insert` many times, which has poor performance.  Consider joining all columns at once using pd.concat(axis=1) instead. To get a de-fragmented frame, use `newframe = frame.copy()`\n",
      "  metadata[mlb.classes_[i]] = res.T[i]\n",
      "/var/folders/d7/b6t8w9c960vb7cps3hrj9q_h0000gn/T/ipykernel_34729/3856767485.py:4: PerformanceWarning: DataFrame is highly fragmented.  This is usually the result of calling `frame.insert` many times, which has poor performance.  Consider joining all columns at once using pd.concat(axis=1) instead. To get a de-fragmented frame, use `newframe = frame.copy()`\n",
      "  metadata[mlb.classes_[i]] = res.T[i]\n",
      "/var/folders/d7/b6t8w9c960vb7cps3hrj9q_h0000gn/T/ipykernel_34729/3856767485.py:4: PerformanceWarning: DataFrame is highly fragmented.  This is usually the result of calling `frame.insert` many times, which has poor performance.  Consider joining all columns at once using pd.concat(axis=1) instead. To get a de-fragmented frame, use `newframe = frame.copy()`\n",
      "  metadata[mlb.classes_[i]] = res.T[i]\n",
      "/var/folders/d7/b6t8w9c960vb7cps3hrj9q_h0000gn/T/ipykernel_34729/3856767485.py:4: PerformanceWarning: DataFrame is highly fragmented.  This is usually the result of calling `frame.insert` many times, which has poor performance.  Consider joining all columns at once using pd.concat(axis=1) instead. To get a de-fragmented frame, use `newframe = frame.copy()`\n",
      "  metadata[mlb.classes_[i]] = res.T[i]\n",
      "/var/folders/d7/b6t8w9c960vb7cps3hrj9q_h0000gn/T/ipykernel_34729/3856767485.py:4: PerformanceWarning: DataFrame is highly fragmented.  This is usually the result of calling `frame.insert` many times, which has poor performance.  Consider joining all columns at once using pd.concat(axis=1) instead. To get a de-fragmented frame, use `newframe = frame.copy()`\n",
      "  metadata[mlb.classes_[i]] = res.T[i]\n",
      "/var/folders/d7/b6t8w9c960vb7cps3hrj9q_h0000gn/T/ipykernel_34729/3856767485.py:4: PerformanceWarning: DataFrame is highly fragmented.  This is usually the result of calling `frame.insert` many times, which has poor performance.  Consider joining all columns at once using pd.concat(axis=1) instead. To get a de-fragmented frame, use `newframe = frame.copy()`\n",
      "  metadata[mlb.classes_[i]] = res.T[i]\n",
      "/var/folders/d7/b6t8w9c960vb7cps3hrj9q_h0000gn/T/ipykernel_34729/3856767485.py:4: PerformanceWarning: DataFrame is highly fragmented.  This is usually the result of calling `frame.insert` many times, which has poor performance.  Consider joining all columns at once using pd.concat(axis=1) instead. To get a de-fragmented frame, use `newframe = frame.copy()`\n",
      "  metadata[mlb.classes_[i]] = res.T[i]\n",
      "/var/folders/d7/b6t8w9c960vb7cps3hrj9q_h0000gn/T/ipykernel_34729/3856767485.py:4: PerformanceWarning: DataFrame is highly fragmented.  This is usually the result of calling `frame.insert` many times, which has poor performance.  Consider joining all columns at once using pd.concat(axis=1) instead. To get a de-fragmented frame, use `newframe = frame.copy()`\n",
      "  metadata[mlb.classes_[i]] = res.T[i]\n",
      "/var/folders/d7/b6t8w9c960vb7cps3hrj9q_h0000gn/T/ipykernel_34729/3856767485.py:4: PerformanceWarning: DataFrame is highly fragmented.  This is usually the result of calling `frame.insert` many times, which has poor performance.  Consider joining all columns at once using pd.concat(axis=1) instead. To get a de-fragmented frame, use `newframe = frame.copy()`\n",
      "  metadata[mlb.classes_[i]] = res.T[i]\n",
      "/var/folders/d7/b6t8w9c960vb7cps3hrj9q_h0000gn/T/ipykernel_34729/3856767485.py:4: PerformanceWarning: DataFrame is highly fragmented.  This is usually the result of calling `frame.insert` many times, which has poor performance.  Consider joining all columns at once using pd.concat(axis=1) instead. To get a de-fragmented frame, use `newframe = frame.copy()`\n",
      "  metadata[mlb.classes_[i]] = res.T[i]\n",
      "/var/folders/d7/b6t8w9c960vb7cps3hrj9q_h0000gn/T/ipykernel_34729/3856767485.py:4: PerformanceWarning: DataFrame is highly fragmented.  This is usually the result of calling `frame.insert` many times, which has poor performance.  Consider joining all columns at once using pd.concat(axis=1) instead. To get a de-fragmented frame, use `newframe = frame.copy()`\n",
      "  metadata[mlb.classes_[i]] = res.T[i]\n",
      "/var/folders/d7/b6t8w9c960vb7cps3hrj9q_h0000gn/T/ipykernel_34729/3856767485.py:4: PerformanceWarning: DataFrame is highly fragmented.  This is usually the result of calling `frame.insert` many times, which has poor performance.  Consider joining all columns at once using pd.concat(axis=1) instead. To get a de-fragmented frame, use `newframe = frame.copy()`\n",
      "  metadata[mlb.classes_[i]] = res.T[i]\n",
      "/var/folders/d7/b6t8w9c960vb7cps3hrj9q_h0000gn/T/ipykernel_34729/3856767485.py:4: PerformanceWarning: DataFrame is highly fragmented.  This is usually the result of calling `frame.insert` many times, which has poor performance.  Consider joining all columns at once using pd.concat(axis=1) instead. To get a de-fragmented frame, use `newframe = frame.copy()`\n",
      "  metadata[mlb.classes_[i]] = res.T[i]\n",
      "/var/folders/d7/b6t8w9c960vb7cps3hrj9q_h0000gn/T/ipykernel_34729/3856767485.py:4: PerformanceWarning: DataFrame is highly fragmented.  This is usually the result of calling `frame.insert` many times, which has poor performance.  Consider joining all columns at once using pd.concat(axis=1) instead. To get a de-fragmented frame, use `newframe = frame.copy()`\n",
      "  metadata[mlb.classes_[i]] = res.T[i]\n"
     ]
    },
    {
     "name": "stderr",
     "output_type": "stream",
     "text": [
      "/var/folders/d7/b6t8w9c960vb7cps3hrj9q_h0000gn/T/ipykernel_34729/3856767485.py:4: PerformanceWarning: DataFrame is highly fragmented.  This is usually the result of calling `frame.insert` many times, which has poor performance.  Consider joining all columns at once using pd.concat(axis=1) instead. To get a de-fragmented frame, use `newframe = frame.copy()`\n",
      "  metadata[mlb.classes_[i]] = res.T[i]\n",
      "/var/folders/d7/b6t8w9c960vb7cps3hrj9q_h0000gn/T/ipykernel_34729/3856767485.py:4: PerformanceWarning: DataFrame is highly fragmented.  This is usually the result of calling `frame.insert` many times, which has poor performance.  Consider joining all columns at once using pd.concat(axis=1) instead. To get a de-fragmented frame, use `newframe = frame.copy()`\n",
      "  metadata[mlb.classes_[i]] = res.T[i]\n",
      "/var/folders/d7/b6t8w9c960vb7cps3hrj9q_h0000gn/T/ipykernel_34729/3856767485.py:4: PerformanceWarning: DataFrame is highly fragmented.  This is usually the result of calling `frame.insert` many times, which has poor performance.  Consider joining all columns at once using pd.concat(axis=1) instead. To get a de-fragmented frame, use `newframe = frame.copy()`\n",
      "  metadata[mlb.classes_[i]] = res.T[i]\n",
      "/var/folders/d7/b6t8w9c960vb7cps3hrj9q_h0000gn/T/ipykernel_34729/3856767485.py:4: PerformanceWarning: DataFrame is highly fragmented.  This is usually the result of calling `frame.insert` many times, which has poor performance.  Consider joining all columns at once using pd.concat(axis=1) instead. To get a de-fragmented frame, use `newframe = frame.copy()`\n",
      "  metadata[mlb.classes_[i]] = res.T[i]\n",
      "/var/folders/d7/b6t8w9c960vb7cps3hrj9q_h0000gn/T/ipykernel_34729/3856767485.py:4: PerformanceWarning: DataFrame is highly fragmented.  This is usually the result of calling `frame.insert` many times, which has poor performance.  Consider joining all columns at once using pd.concat(axis=1) instead. To get a de-fragmented frame, use `newframe = frame.copy()`\n",
      "  metadata[mlb.classes_[i]] = res.T[i]\n",
      "/var/folders/d7/b6t8w9c960vb7cps3hrj9q_h0000gn/T/ipykernel_34729/3856767485.py:4: PerformanceWarning: DataFrame is highly fragmented.  This is usually the result of calling `frame.insert` many times, which has poor performance.  Consider joining all columns at once using pd.concat(axis=1) instead. To get a de-fragmented frame, use `newframe = frame.copy()`\n",
      "  metadata[mlb.classes_[i]] = res.T[i]\n",
      "/var/folders/d7/b6t8w9c960vb7cps3hrj9q_h0000gn/T/ipykernel_34729/3856767485.py:4: PerformanceWarning: DataFrame is highly fragmented.  This is usually the result of calling `frame.insert` many times, which has poor performance.  Consider joining all columns at once using pd.concat(axis=1) instead. To get a de-fragmented frame, use `newframe = frame.copy()`\n",
      "  metadata[mlb.classes_[i]] = res.T[i]\n",
      "/var/folders/d7/b6t8w9c960vb7cps3hrj9q_h0000gn/T/ipykernel_34729/3856767485.py:4: PerformanceWarning: DataFrame is highly fragmented.  This is usually the result of calling `frame.insert` many times, which has poor performance.  Consider joining all columns at once using pd.concat(axis=1) instead. To get a de-fragmented frame, use `newframe = frame.copy()`\n",
      "  metadata[mlb.classes_[i]] = res.T[i]\n",
      "/var/folders/d7/b6t8w9c960vb7cps3hrj9q_h0000gn/T/ipykernel_34729/3856767485.py:4: PerformanceWarning: DataFrame is highly fragmented.  This is usually the result of calling `frame.insert` many times, which has poor performance.  Consider joining all columns at once using pd.concat(axis=1) instead. To get a de-fragmented frame, use `newframe = frame.copy()`\n",
      "  metadata[mlb.classes_[i]] = res.T[i]\n",
      "/var/folders/d7/b6t8w9c960vb7cps3hrj9q_h0000gn/T/ipykernel_34729/3856767485.py:4: PerformanceWarning: DataFrame is highly fragmented.  This is usually the result of calling `frame.insert` many times, which has poor performance.  Consider joining all columns at once using pd.concat(axis=1) instead. To get a de-fragmented frame, use `newframe = frame.copy()`\n",
      "  metadata[mlb.classes_[i]] = res.T[i]\n",
      "/var/folders/d7/b6t8w9c960vb7cps3hrj9q_h0000gn/T/ipykernel_34729/3856767485.py:4: PerformanceWarning: DataFrame is highly fragmented.  This is usually the result of calling `frame.insert` many times, which has poor performance.  Consider joining all columns at once using pd.concat(axis=1) instead. To get a de-fragmented frame, use `newframe = frame.copy()`\n",
      "  metadata[mlb.classes_[i]] = res.T[i]\n",
      "/var/folders/d7/b6t8w9c960vb7cps3hrj9q_h0000gn/T/ipykernel_34729/3856767485.py:4: PerformanceWarning: DataFrame is highly fragmented.  This is usually the result of calling `frame.insert` many times, which has poor performance.  Consider joining all columns at once using pd.concat(axis=1) instead. To get a de-fragmented frame, use `newframe = frame.copy()`\n",
      "  metadata[mlb.classes_[i]] = res.T[i]\n",
      "/var/folders/d7/b6t8w9c960vb7cps3hrj9q_h0000gn/T/ipykernel_34729/3856767485.py:4: PerformanceWarning: DataFrame is highly fragmented.  This is usually the result of calling `frame.insert` many times, which has poor performance.  Consider joining all columns at once using pd.concat(axis=1) instead. To get a de-fragmented frame, use `newframe = frame.copy()`\n",
      "  metadata[mlb.classes_[i]] = res.T[i]\n",
      "/var/folders/d7/b6t8w9c960vb7cps3hrj9q_h0000gn/T/ipykernel_34729/3856767485.py:4: PerformanceWarning: DataFrame is highly fragmented.  This is usually the result of calling `frame.insert` many times, which has poor performance.  Consider joining all columns at once using pd.concat(axis=1) instead. To get a de-fragmented frame, use `newframe = frame.copy()`\n",
      "  metadata[mlb.classes_[i]] = res.T[i]\n",
      "/var/folders/d7/b6t8w9c960vb7cps3hrj9q_h0000gn/T/ipykernel_34729/3856767485.py:4: PerformanceWarning: DataFrame is highly fragmented.  This is usually the result of calling `frame.insert` many times, which has poor performance.  Consider joining all columns at once using pd.concat(axis=1) instead. To get a de-fragmented frame, use `newframe = frame.copy()`\n",
      "  metadata[mlb.classes_[i]] = res.T[i]\n",
      "/var/folders/d7/b6t8w9c960vb7cps3hrj9q_h0000gn/T/ipykernel_34729/3856767485.py:4: PerformanceWarning: DataFrame is highly fragmented.  This is usually the result of calling `frame.insert` many times, which has poor performance.  Consider joining all columns at once using pd.concat(axis=1) instead. To get a de-fragmented frame, use `newframe = frame.copy()`\n",
      "  metadata[mlb.classes_[i]] = res.T[i]\n",
      "/var/folders/d7/b6t8w9c960vb7cps3hrj9q_h0000gn/T/ipykernel_34729/3856767485.py:4: PerformanceWarning: DataFrame is highly fragmented.  This is usually the result of calling `frame.insert` many times, which has poor performance.  Consider joining all columns at once using pd.concat(axis=1) instead. To get a de-fragmented frame, use `newframe = frame.copy()`\n",
      "  metadata[mlb.classes_[i]] = res.T[i]\n",
      "/var/folders/d7/b6t8w9c960vb7cps3hrj9q_h0000gn/T/ipykernel_34729/3856767485.py:4: PerformanceWarning: DataFrame is highly fragmented.  This is usually the result of calling `frame.insert` many times, which has poor performance.  Consider joining all columns at once using pd.concat(axis=1) instead. To get a de-fragmented frame, use `newframe = frame.copy()`\n",
      "  metadata[mlb.classes_[i]] = res.T[i]\n",
      "/var/folders/d7/b6t8w9c960vb7cps3hrj9q_h0000gn/T/ipykernel_34729/3856767485.py:4: PerformanceWarning: DataFrame is highly fragmented.  This is usually the result of calling `frame.insert` many times, which has poor performance.  Consider joining all columns at once using pd.concat(axis=1) instead. To get a de-fragmented frame, use `newframe = frame.copy()`\n",
      "  metadata[mlb.classes_[i]] = res.T[i]\n",
      "/var/folders/d7/b6t8w9c960vb7cps3hrj9q_h0000gn/T/ipykernel_34729/3856767485.py:4: PerformanceWarning: DataFrame is highly fragmented.  This is usually the result of calling `frame.insert` many times, which has poor performance.  Consider joining all columns at once using pd.concat(axis=1) instead. To get a de-fragmented frame, use `newframe = frame.copy()`\n",
      "  metadata[mlb.classes_[i]] = res.T[i]\n",
      "/var/folders/d7/b6t8w9c960vb7cps3hrj9q_h0000gn/T/ipykernel_34729/3856767485.py:4: PerformanceWarning: DataFrame is highly fragmented.  This is usually the result of calling `frame.insert` many times, which has poor performance.  Consider joining all columns at once using pd.concat(axis=1) instead. To get a de-fragmented frame, use `newframe = frame.copy()`\n",
      "  metadata[mlb.classes_[i]] = res.T[i]\n",
      "/var/folders/d7/b6t8w9c960vb7cps3hrj9q_h0000gn/T/ipykernel_34729/3856767485.py:4: PerformanceWarning: DataFrame is highly fragmented.  This is usually the result of calling `frame.insert` many times, which has poor performance.  Consider joining all columns at once using pd.concat(axis=1) instead. To get a de-fragmented frame, use `newframe = frame.copy()`\n",
      "  metadata[mlb.classes_[i]] = res.T[i]\n",
      "/var/folders/d7/b6t8w9c960vb7cps3hrj9q_h0000gn/T/ipykernel_34729/3856767485.py:4: PerformanceWarning: DataFrame is highly fragmented.  This is usually the result of calling `frame.insert` many times, which has poor performance.  Consider joining all columns at once using pd.concat(axis=1) instead. To get a de-fragmented frame, use `newframe = frame.copy()`\n",
      "  metadata[mlb.classes_[i]] = res.T[i]\n",
      "/var/folders/d7/b6t8w9c960vb7cps3hrj9q_h0000gn/T/ipykernel_34729/3856767485.py:4: PerformanceWarning: DataFrame is highly fragmented.  This is usually the result of calling `frame.insert` many times, which has poor performance.  Consider joining all columns at once using pd.concat(axis=1) instead. To get a de-fragmented frame, use `newframe = frame.copy()`\n",
      "  metadata[mlb.classes_[i]] = res.T[i]\n",
      "/var/folders/d7/b6t8w9c960vb7cps3hrj9q_h0000gn/T/ipykernel_34729/3856767485.py:4: PerformanceWarning: DataFrame is highly fragmented.  This is usually the result of calling `frame.insert` many times, which has poor performance.  Consider joining all columns at once using pd.concat(axis=1) instead. To get a de-fragmented frame, use `newframe = frame.copy()`\n",
      "  metadata[mlb.classes_[i]] = res.T[i]\n",
      "/var/folders/d7/b6t8w9c960vb7cps3hrj9q_h0000gn/T/ipykernel_34729/3856767485.py:4: PerformanceWarning: DataFrame is highly fragmented.  This is usually the result of calling `frame.insert` many times, which has poor performance.  Consider joining all columns at once using pd.concat(axis=1) instead. To get a de-fragmented frame, use `newframe = frame.copy()`\n",
      "  metadata[mlb.classes_[i]] = res.T[i]\n",
      "/var/folders/d7/b6t8w9c960vb7cps3hrj9q_h0000gn/T/ipykernel_34729/3856767485.py:4: PerformanceWarning: DataFrame is highly fragmented.  This is usually the result of calling `frame.insert` many times, which has poor performance.  Consider joining all columns at once using pd.concat(axis=1) instead. To get a de-fragmented frame, use `newframe = frame.copy()`\n",
      "  metadata[mlb.classes_[i]] = res.T[i]\n",
      "/var/folders/d7/b6t8w9c960vb7cps3hrj9q_h0000gn/T/ipykernel_34729/3856767485.py:4: PerformanceWarning: DataFrame is highly fragmented.  This is usually the result of calling `frame.insert` many times, which has poor performance.  Consider joining all columns at once using pd.concat(axis=1) instead. To get a de-fragmented frame, use `newframe = frame.copy()`\n",
      "  metadata[mlb.classes_[i]] = res.T[i]\n",
      "/var/folders/d7/b6t8w9c960vb7cps3hrj9q_h0000gn/T/ipykernel_34729/3856767485.py:4: PerformanceWarning: DataFrame is highly fragmented.  This is usually the result of calling `frame.insert` many times, which has poor performance.  Consider joining all columns at once using pd.concat(axis=1) instead. To get a de-fragmented frame, use `newframe = frame.copy()`\n",
      "  metadata[mlb.classes_[i]] = res.T[i]\n",
      "/var/folders/d7/b6t8w9c960vb7cps3hrj9q_h0000gn/T/ipykernel_34729/3856767485.py:4: PerformanceWarning: DataFrame is highly fragmented.  This is usually the result of calling `frame.insert` many times, which has poor performance.  Consider joining all columns at once using pd.concat(axis=1) instead. To get a de-fragmented frame, use `newframe = frame.copy()`\n",
      "  metadata[mlb.classes_[i]] = res.T[i]\n",
      "/var/folders/d7/b6t8w9c960vb7cps3hrj9q_h0000gn/T/ipykernel_34729/3856767485.py:4: PerformanceWarning: DataFrame is highly fragmented.  This is usually the result of calling `frame.insert` many times, which has poor performance.  Consider joining all columns at once using pd.concat(axis=1) instead. To get a de-fragmented frame, use `newframe = frame.copy()`\n",
      "  metadata[mlb.classes_[i]] = res.T[i]\n",
      "/var/folders/d7/b6t8w9c960vb7cps3hrj9q_h0000gn/T/ipykernel_34729/3856767485.py:4: PerformanceWarning: DataFrame is highly fragmented.  This is usually the result of calling `frame.insert` many times, which has poor performance.  Consider joining all columns at once using pd.concat(axis=1) instead. To get a de-fragmented frame, use `newframe = frame.copy()`\n",
      "  metadata[mlb.classes_[i]] = res.T[i]\n",
      "/var/folders/d7/b6t8w9c960vb7cps3hrj9q_h0000gn/T/ipykernel_34729/3856767485.py:4: PerformanceWarning: DataFrame is highly fragmented.  This is usually the result of calling `frame.insert` many times, which has poor performance.  Consider joining all columns at once using pd.concat(axis=1) instead. To get a de-fragmented frame, use `newframe = frame.copy()`\n",
      "  metadata[mlb.classes_[i]] = res.T[i]\n",
      "/var/folders/d7/b6t8w9c960vb7cps3hrj9q_h0000gn/T/ipykernel_34729/3856767485.py:4: PerformanceWarning: DataFrame is highly fragmented.  This is usually the result of calling `frame.insert` many times, which has poor performance.  Consider joining all columns at once using pd.concat(axis=1) instead. To get a de-fragmented frame, use `newframe = frame.copy()`\n",
      "  metadata[mlb.classes_[i]] = res.T[i]\n",
      "/var/folders/d7/b6t8w9c960vb7cps3hrj9q_h0000gn/T/ipykernel_34729/3856767485.py:4: PerformanceWarning: DataFrame is highly fragmented.  This is usually the result of calling `frame.insert` many times, which has poor performance.  Consider joining all columns at once using pd.concat(axis=1) instead. To get a de-fragmented frame, use `newframe = frame.copy()`\n",
      "  metadata[mlb.classes_[i]] = res.T[i]\n",
      "/var/folders/d7/b6t8w9c960vb7cps3hrj9q_h0000gn/T/ipykernel_34729/3856767485.py:4: PerformanceWarning: DataFrame is highly fragmented.  This is usually the result of calling `frame.insert` many times, which has poor performance.  Consider joining all columns at once using pd.concat(axis=1) instead. To get a de-fragmented frame, use `newframe = frame.copy()`\n",
      "  metadata[mlb.classes_[i]] = res.T[i]\n",
      "/var/folders/d7/b6t8w9c960vb7cps3hrj9q_h0000gn/T/ipykernel_34729/3856767485.py:4: PerformanceWarning: DataFrame is highly fragmented.  This is usually the result of calling `frame.insert` many times, which has poor performance.  Consider joining all columns at once using pd.concat(axis=1) instead. To get a de-fragmented frame, use `newframe = frame.copy()`\n",
      "  metadata[mlb.classes_[i]] = res.T[i]\n",
      "/var/folders/d7/b6t8w9c960vb7cps3hrj9q_h0000gn/T/ipykernel_34729/3856767485.py:4: PerformanceWarning: DataFrame is highly fragmented.  This is usually the result of calling `frame.insert` many times, which has poor performance.  Consider joining all columns at once using pd.concat(axis=1) instead. To get a de-fragmented frame, use `newframe = frame.copy()`\n",
      "  metadata[mlb.classes_[i]] = res.T[i]\n",
      "/var/folders/d7/b6t8w9c960vb7cps3hrj9q_h0000gn/T/ipykernel_34729/3856767485.py:4: PerformanceWarning: DataFrame is highly fragmented.  This is usually the result of calling `frame.insert` many times, which has poor performance.  Consider joining all columns at once using pd.concat(axis=1) instead. To get a de-fragmented frame, use `newframe = frame.copy()`\n",
      "  metadata[mlb.classes_[i]] = res.T[i]\n",
      "/var/folders/d7/b6t8w9c960vb7cps3hrj9q_h0000gn/T/ipykernel_34729/3856767485.py:4: PerformanceWarning: DataFrame is highly fragmented.  This is usually the result of calling `frame.insert` many times, which has poor performance.  Consider joining all columns at once using pd.concat(axis=1) instead. To get a de-fragmented frame, use `newframe = frame.copy()`\n",
      "  metadata[mlb.classes_[i]] = res.T[i]\n",
      "/var/folders/d7/b6t8w9c960vb7cps3hrj9q_h0000gn/T/ipykernel_34729/3856767485.py:4: PerformanceWarning: DataFrame is highly fragmented.  This is usually the result of calling `frame.insert` many times, which has poor performance.  Consider joining all columns at once using pd.concat(axis=1) instead. To get a de-fragmented frame, use `newframe = frame.copy()`\n",
      "  metadata[mlb.classes_[i]] = res.T[i]\n",
      "/var/folders/d7/b6t8w9c960vb7cps3hrj9q_h0000gn/T/ipykernel_34729/3856767485.py:4: PerformanceWarning: DataFrame is highly fragmented.  This is usually the result of calling `frame.insert` many times, which has poor performance.  Consider joining all columns at once using pd.concat(axis=1) instead. To get a de-fragmented frame, use `newframe = frame.copy()`\n",
      "  metadata[mlb.classes_[i]] = res.T[i]\n",
      "/var/folders/d7/b6t8w9c960vb7cps3hrj9q_h0000gn/T/ipykernel_34729/3856767485.py:4: PerformanceWarning: DataFrame is highly fragmented.  This is usually the result of calling `frame.insert` many times, which has poor performance.  Consider joining all columns at once using pd.concat(axis=1) instead. To get a de-fragmented frame, use `newframe = frame.copy()`\n",
      "  metadata[mlb.classes_[i]] = res.T[i]\n",
      "/var/folders/d7/b6t8w9c960vb7cps3hrj9q_h0000gn/T/ipykernel_34729/3856767485.py:4: PerformanceWarning: DataFrame is highly fragmented.  This is usually the result of calling `frame.insert` many times, which has poor performance.  Consider joining all columns at once using pd.concat(axis=1) instead. To get a de-fragmented frame, use `newframe = frame.copy()`\n",
      "  metadata[mlb.classes_[i]] = res.T[i]\n",
      "/var/folders/d7/b6t8w9c960vb7cps3hrj9q_h0000gn/T/ipykernel_34729/3856767485.py:4: PerformanceWarning: DataFrame is highly fragmented.  This is usually the result of calling `frame.insert` many times, which has poor performance.  Consider joining all columns at once using pd.concat(axis=1) instead. To get a de-fragmented frame, use `newframe = frame.copy()`\n",
      "  metadata[mlb.classes_[i]] = res.T[i]\n",
      "/var/folders/d7/b6t8w9c960vb7cps3hrj9q_h0000gn/T/ipykernel_34729/3856767485.py:4: PerformanceWarning: DataFrame is highly fragmented.  This is usually the result of calling `frame.insert` many times, which has poor performance.  Consider joining all columns at once using pd.concat(axis=1) instead. To get a de-fragmented frame, use `newframe = frame.copy()`\n",
      "  metadata[mlb.classes_[i]] = res.T[i]\n",
      "/var/folders/d7/b6t8w9c960vb7cps3hrj9q_h0000gn/T/ipykernel_34729/3856767485.py:4: PerformanceWarning: DataFrame is highly fragmented.  This is usually the result of calling `frame.insert` many times, which has poor performance.  Consider joining all columns at once using pd.concat(axis=1) instead. To get a de-fragmented frame, use `newframe = frame.copy()`\n",
      "  metadata[mlb.classes_[i]] = res.T[i]\n",
      "/var/folders/d7/b6t8w9c960vb7cps3hrj9q_h0000gn/T/ipykernel_34729/3856767485.py:4: PerformanceWarning: DataFrame is highly fragmented.  This is usually the result of calling `frame.insert` many times, which has poor performance.  Consider joining all columns at once using pd.concat(axis=1) instead. To get a de-fragmented frame, use `newframe = frame.copy()`\n",
      "  metadata[mlb.classes_[i]] = res.T[i]\n",
      "/var/folders/d7/b6t8w9c960vb7cps3hrj9q_h0000gn/T/ipykernel_34729/3856767485.py:4: PerformanceWarning: DataFrame is highly fragmented.  This is usually the result of calling `frame.insert` many times, which has poor performance.  Consider joining all columns at once using pd.concat(axis=1) instead. To get a de-fragmented frame, use `newframe = frame.copy()`\n",
      "  metadata[mlb.classes_[i]] = res.T[i]\n",
      "/var/folders/d7/b6t8w9c960vb7cps3hrj9q_h0000gn/T/ipykernel_34729/3856767485.py:4: PerformanceWarning: DataFrame is highly fragmented.  This is usually the result of calling `frame.insert` many times, which has poor performance.  Consider joining all columns at once using pd.concat(axis=1) instead. To get a de-fragmented frame, use `newframe = frame.copy()`\n",
      "  metadata[mlb.classes_[i]] = res.T[i]\n"
     ]
    },
    {
     "name": "stderr",
     "output_type": "stream",
     "text": [
      "/var/folders/d7/b6t8w9c960vb7cps3hrj9q_h0000gn/T/ipykernel_34729/3856767485.py:4: PerformanceWarning: DataFrame is highly fragmented.  This is usually the result of calling `frame.insert` many times, which has poor performance.  Consider joining all columns at once using pd.concat(axis=1) instead. To get a de-fragmented frame, use `newframe = frame.copy()`\n",
      "  metadata[mlb.classes_[i]] = res.T[i]\n",
      "/var/folders/d7/b6t8w9c960vb7cps3hrj9q_h0000gn/T/ipykernel_34729/3856767485.py:4: PerformanceWarning: DataFrame is highly fragmented.  This is usually the result of calling `frame.insert` many times, which has poor performance.  Consider joining all columns at once using pd.concat(axis=1) instead. To get a de-fragmented frame, use `newframe = frame.copy()`\n",
      "  metadata[mlb.classes_[i]] = res.T[i]\n",
      "/var/folders/d7/b6t8w9c960vb7cps3hrj9q_h0000gn/T/ipykernel_34729/3856767485.py:4: PerformanceWarning: DataFrame is highly fragmented.  This is usually the result of calling `frame.insert` many times, which has poor performance.  Consider joining all columns at once using pd.concat(axis=1) instead. To get a de-fragmented frame, use `newframe = frame.copy()`\n",
      "  metadata[mlb.classes_[i]] = res.T[i]\n",
      "/var/folders/d7/b6t8w9c960vb7cps3hrj9q_h0000gn/T/ipykernel_34729/3856767485.py:4: PerformanceWarning: DataFrame is highly fragmented.  This is usually the result of calling `frame.insert` many times, which has poor performance.  Consider joining all columns at once using pd.concat(axis=1) instead. To get a de-fragmented frame, use `newframe = frame.copy()`\n",
      "  metadata[mlb.classes_[i]] = res.T[i]\n",
      "/var/folders/d7/b6t8w9c960vb7cps3hrj9q_h0000gn/T/ipykernel_34729/3856767485.py:4: PerformanceWarning: DataFrame is highly fragmented.  This is usually the result of calling `frame.insert` many times, which has poor performance.  Consider joining all columns at once using pd.concat(axis=1) instead. To get a de-fragmented frame, use `newframe = frame.copy()`\n",
      "  metadata[mlb.classes_[i]] = res.T[i]\n",
      "/var/folders/d7/b6t8w9c960vb7cps3hrj9q_h0000gn/T/ipykernel_34729/3856767485.py:4: PerformanceWarning: DataFrame is highly fragmented.  This is usually the result of calling `frame.insert` many times, which has poor performance.  Consider joining all columns at once using pd.concat(axis=1) instead. To get a de-fragmented frame, use `newframe = frame.copy()`\n",
      "  metadata[mlb.classes_[i]] = res.T[i]\n",
      "/var/folders/d7/b6t8w9c960vb7cps3hrj9q_h0000gn/T/ipykernel_34729/3856767485.py:4: PerformanceWarning: DataFrame is highly fragmented.  This is usually the result of calling `frame.insert` many times, which has poor performance.  Consider joining all columns at once using pd.concat(axis=1) instead. To get a de-fragmented frame, use `newframe = frame.copy()`\n",
      "  metadata[mlb.classes_[i]] = res.T[i]\n",
      "/var/folders/d7/b6t8w9c960vb7cps3hrj9q_h0000gn/T/ipykernel_34729/3856767485.py:4: PerformanceWarning: DataFrame is highly fragmented.  This is usually the result of calling `frame.insert` many times, which has poor performance.  Consider joining all columns at once using pd.concat(axis=1) instead. To get a de-fragmented frame, use `newframe = frame.copy()`\n",
      "  metadata[mlb.classes_[i]] = res.T[i]\n",
      "/var/folders/d7/b6t8w9c960vb7cps3hrj9q_h0000gn/T/ipykernel_34729/3856767485.py:4: PerformanceWarning: DataFrame is highly fragmented.  This is usually the result of calling `frame.insert` many times, which has poor performance.  Consider joining all columns at once using pd.concat(axis=1) instead. To get a de-fragmented frame, use `newframe = frame.copy()`\n",
      "  metadata[mlb.classes_[i]] = res.T[i]\n",
      "/var/folders/d7/b6t8w9c960vb7cps3hrj9q_h0000gn/T/ipykernel_34729/3856767485.py:4: PerformanceWarning: DataFrame is highly fragmented.  This is usually the result of calling `frame.insert` many times, which has poor performance.  Consider joining all columns at once using pd.concat(axis=1) instead. To get a de-fragmented frame, use `newframe = frame.copy()`\n",
      "  metadata[mlb.classes_[i]] = res.T[i]\n",
      "/var/folders/d7/b6t8w9c960vb7cps3hrj9q_h0000gn/T/ipykernel_34729/3856767485.py:4: PerformanceWarning: DataFrame is highly fragmented.  This is usually the result of calling `frame.insert` many times, which has poor performance.  Consider joining all columns at once using pd.concat(axis=1) instead. To get a de-fragmented frame, use `newframe = frame.copy()`\n",
      "  metadata[mlb.classes_[i]] = res.T[i]\n",
      "/var/folders/d7/b6t8w9c960vb7cps3hrj9q_h0000gn/T/ipykernel_34729/3856767485.py:4: PerformanceWarning: DataFrame is highly fragmented.  This is usually the result of calling `frame.insert` many times, which has poor performance.  Consider joining all columns at once using pd.concat(axis=1) instead. To get a de-fragmented frame, use `newframe = frame.copy()`\n",
      "  metadata[mlb.classes_[i]] = res.T[i]\n",
      "/var/folders/d7/b6t8w9c960vb7cps3hrj9q_h0000gn/T/ipykernel_34729/3856767485.py:4: PerformanceWarning: DataFrame is highly fragmented.  This is usually the result of calling `frame.insert` many times, which has poor performance.  Consider joining all columns at once using pd.concat(axis=1) instead. To get a de-fragmented frame, use `newframe = frame.copy()`\n",
      "  metadata[mlb.classes_[i]] = res.T[i]\n",
      "/var/folders/d7/b6t8w9c960vb7cps3hrj9q_h0000gn/T/ipykernel_34729/3856767485.py:4: PerformanceWarning: DataFrame is highly fragmented.  This is usually the result of calling `frame.insert` many times, which has poor performance.  Consider joining all columns at once using pd.concat(axis=1) instead. To get a de-fragmented frame, use `newframe = frame.copy()`\n",
      "  metadata[mlb.classes_[i]] = res.T[i]\n",
      "/var/folders/d7/b6t8w9c960vb7cps3hrj9q_h0000gn/T/ipykernel_34729/3856767485.py:4: PerformanceWarning: DataFrame is highly fragmented.  This is usually the result of calling `frame.insert` many times, which has poor performance.  Consider joining all columns at once using pd.concat(axis=1) instead. To get a de-fragmented frame, use `newframe = frame.copy()`\n",
      "  metadata[mlb.classes_[i]] = res.T[i]\n",
      "/var/folders/d7/b6t8w9c960vb7cps3hrj9q_h0000gn/T/ipykernel_34729/3856767485.py:4: PerformanceWarning: DataFrame is highly fragmented.  This is usually the result of calling `frame.insert` many times, which has poor performance.  Consider joining all columns at once using pd.concat(axis=1) instead. To get a de-fragmented frame, use `newframe = frame.copy()`\n",
      "  metadata[mlb.classes_[i]] = res.T[i]\n",
      "/var/folders/d7/b6t8w9c960vb7cps3hrj9q_h0000gn/T/ipykernel_34729/3856767485.py:4: PerformanceWarning: DataFrame is highly fragmented.  This is usually the result of calling `frame.insert` many times, which has poor performance.  Consider joining all columns at once using pd.concat(axis=1) instead. To get a de-fragmented frame, use `newframe = frame.copy()`\n",
      "  metadata[mlb.classes_[i]] = res.T[i]\n",
      "/var/folders/d7/b6t8w9c960vb7cps3hrj9q_h0000gn/T/ipykernel_34729/3856767485.py:4: PerformanceWarning: DataFrame is highly fragmented.  This is usually the result of calling `frame.insert` many times, which has poor performance.  Consider joining all columns at once using pd.concat(axis=1) instead. To get a de-fragmented frame, use `newframe = frame.copy()`\n",
      "  metadata[mlb.classes_[i]] = res.T[i]\n",
      "/var/folders/d7/b6t8w9c960vb7cps3hrj9q_h0000gn/T/ipykernel_34729/3856767485.py:4: PerformanceWarning: DataFrame is highly fragmented.  This is usually the result of calling `frame.insert` many times, which has poor performance.  Consider joining all columns at once using pd.concat(axis=1) instead. To get a de-fragmented frame, use `newframe = frame.copy()`\n",
      "  metadata[mlb.classes_[i]] = res.T[i]\n",
      "/var/folders/d7/b6t8w9c960vb7cps3hrj9q_h0000gn/T/ipykernel_34729/3856767485.py:4: PerformanceWarning: DataFrame is highly fragmented.  This is usually the result of calling `frame.insert` many times, which has poor performance.  Consider joining all columns at once using pd.concat(axis=1) instead. To get a de-fragmented frame, use `newframe = frame.copy()`\n",
      "  metadata[mlb.classes_[i]] = res.T[i]\n",
      "/var/folders/d7/b6t8w9c960vb7cps3hrj9q_h0000gn/T/ipykernel_34729/3856767485.py:4: PerformanceWarning: DataFrame is highly fragmented.  This is usually the result of calling `frame.insert` many times, which has poor performance.  Consider joining all columns at once using pd.concat(axis=1) instead. To get a de-fragmented frame, use `newframe = frame.copy()`\n",
      "  metadata[mlb.classes_[i]] = res.T[i]\n",
      "/var/folders/d7/b6t8w9c960vb7cps3hrj9q_h0000gn/T/ipykernel_34729/3856767485.py:4: PerformanceWarning: DataFrame is highly fragmented.  This is usually the result of calling `frame.insert` many times, which has poor performance.  Consider joining all columns at once using pd.concat(axis=1) instead. To get a de-fragmented frame, use `newframe = frame.copy()`\n",
      "  metadata[mlb.classes_[i]] = res.T[i]\n",
      "/var/folders/d7/b6t8w9c960vb7cps3hrj9q_h0000gn/T/ipykernel_34729/3856767485.py:4: PerformanceWarning: DataFrame is highly fragmented.  This is usually the result of calling `frame.insert` many times, which has poor performance.  Consider joining all columns at once using pd.concat(axis=1) instead. To get a de-fragmented frame, use `newframe = frame.copy()`\n",
      "  metadata[mlb.classes_[i]] = res.T[i]\n",
      "/var/folders/d7/b6t8w9c960vb7cps3hrj9q_h0000gn/T/ipykernel_34729/3856767485.py:4: PerformanceWarning: DataFrame is highly fragmented.  This is usually the result of calling `frame.insert` many times, which has poor performance.  Consider joining all columns at once using pd.concat(axis=1) instead. To get a de-fragmented frame, use `newframe = frame.copy()`\n",
      "  metadata[mlb.classes_[i]] = res.T[i]\n",
      "/var/folders/d7/b6t8w9c960vb7cps3hrj9q_h0000gn/T/ipykernel_34729/3856767485.py:4: PerformanceWarning: DataFrame is highly fragmented.  This is usually the result of calling `frame.insert` many times, which has poor performance.  Consider joining all columns at once using pd.concat(axis=1) instead. To get a de-fragmented frame, use `newframe = frame.copy()`\n",
      "  metadata[mlb.classes_[i]] = res.T[i]\n",
      "/var/folders/d7/b6t8w9c960vb7cps3hrj9q_h0000gn/T/ipykernel_34729/3856767485.py:4: PerformanceWarning: DataFrame is highly fragmented.  This is usually the result of calling `frame.insert` many times, which has poor performance.  Consider joining all columns at once using pd.concat(axis=1) instead. To get a de-fragmented frame, use `newframe = frame.copy()`\n",
      "  metadata[mlb.classes_[i]] = res.T[i]\n",
      "/var/folders/d7/b6t8w9c960vb7cps3hrj9q_h0000gn/T/ipykernel_34729/3856767485.py:4: PerformanceWarning: DataFrame is highly fragmented.  This is usually the result of calling `frame.insert` many times, which has poor performance.  Consider joining all columns at once using pd.concat(axis=1) instead. To get a de-fragmented frame, use `newframe = frame.copy()`\n",
      "  metadata[mlb.classes_[i]] = res.T[i]\n",
      "/var/folders/d7/b6t8w9c960vb7cps3hrj9q_h0000gn/T/ipykernel_34729/3856767485.py:4: PerformanceWarning: DataFrame is highly fragmented.  This is usually the result of calling `frame.insert` many times, which has poor performance.  Consider joining all columns at once using pd.concat(axis=1) instead. To get a de-fragmented frame, use `newframe = frame.copy()`\n",
      "  metadata[mlb.classes_[i]] = res.T[i]\n",
      "/var/folders/d7/b6t8w9c960vb7cps3hrj9q_h0000gn/T/ipykernel_34729/3856767485.py:4: PerformanceWarning: DataFrame is highly fragmented.  This is usually the result of calling `frame.insert` many times, which has poor performance.  Consider joining all columns at once using pd.concat(axis=1) instead. To get a de-fragmented frame, use `newframe = frame.copy()`\n",
      "  metadata[mlb.classes_[i]] = res.T[i]\n",
      "/var/folders/d7/b6t8w9c960vb7cps3hrj9q_h0000gn/T/ipykernel_34729/3856767485.py:4: PerformanceWarning: DataFrame is highly fragmented.  This is usually the result of calling `frame.insert` many times, which has poor performance.  Consider joining all columns at once using pd.concat(axis=1) instead. To get a de-fragmented frame, use `newframe = frame.copy()`\n",
      "  metadata[mlb.classes_[i]] = res.T[i]\n",
      "/var/folders/d7/b6t8w9c960vb7cps3hrj9q_h0000gn/T/ipykernel_34729/3856767485.py:4: PerformanceWarning: DataFrame is highly fragmented.  This is usually the result of calling `frame.insert` many times, which has poor performance.  Consider joining all columns at once using pd.concat(axis=1) instead. To get a de-fragmented frame, use `newframe = frame.copy()`\n",
      "  metadata[mlb.classes_[i]] = res.T[i]\n",
      "/var/folders/d7/b6t8w9c960vb7cps3hrj9q_h0000gn/T/ipykernel_34729/3856767485.py:4: PerformanceWarning: DataFrame is highly fragmented.  This is usually the result of calling `frame.insert` many times, which has poor performance.  Consider joining all columns at once using pd.concat(axis=1) instead. To get a de-fragmented frame, use `newframe = frame.copy()`\n",
      "  metadata[mlb.classes_[i]] = res.T[i]\n",
      "/var/folders/d7/b6t8w9c960vb7cps3hrj9q_h0000gn/T/ipykernel_34729/3856767485.py:4: PerformanceWarning: DataFrame is highly fragmented.  This is usually the result of calling `frame.insert` many times, which has poor performance.  Consider joining all columns at once using pd.concat(axis=1) instead. To get a de-fragmented frame, use `newframe = frame.copy()`\n",
      "  metadata[mlb.classes_[i]] = res.T[i]\n",
      "/var/folders/d7/b6t8w9c960vb7cps3hrj9q_h0000gn/T/ipykernel_34729/3856767485.py:4: PerformanceWarning: DataFrame is highly fragmented.  This is usually the result of calling `frame.insert` many times, which has poor performance.  Consider joining all columns at once using pd.concat(axis=1) instead. To get a de-fragmented frame, use `newframe = frame.copy()`\n",
      "  metadata[mlb.classes_[i]] = res.T[i]\n",
      "/var/folders/d7/b6t8w9c960vb7cps3hrj9q_h0000gn/T/ipykernel_34729/3856767485.py:4: PerformanceWarning: DataFrame is highly fragmented.  This is usually the result of calling `frame.insert` many times, which has poor performance.  Consider joining all columns at once using pd.concat(axis=1) instead. To get a de-fragmented frame, use `newframe = frame.copy()`\n",
      "  metadata[mlb.classes_[i]] = res.T[i]\n",
      "/var/folders/d7/b6t8w9c960vb7cps3hrj9q_h0000gn/T/ipykernel_34729/3856767485.py:4: PerformanceWarning: DataFrame is highly fragmented.  This is usually the result of calling `frame.insert` many times, which has poor performance.  Consider joining all columns at once using pd.concat(axis=1) instead. To get a de-fragmented frame, use `newframe = frame.copy()`\n",
      "  metadata[mlb.classes_[i]] = res.T[i]\n",
      "/var/folders/d7/b6t8w9c960vb7cps3hrj9q_h0000gn/T/ipykernel_34729/3856767485.py:4: PerformanceWarning: DataFrame is highly fragmented.  This is usually the result of calling `frame.insert` many times, which has poor performance.  Consider joining all columns at once using pd.concat(axis=1) instead. To get a de-fragmented frame, use `newframe = frame.copy()`\n",
      "  metadata[mlb.classes_[i]] = res.T[i]\n",
      "/var/folders/d7/b6t8w9c960vb7cps3hrj9q_h0000gn/T/ipykernel_34729/3856767485.py:4: PerformanceWarning: DataFrame is highly fragmented.  This is usually the result of calling `frame.insert` many times, which has poor performance.  Consider joining all columns at once using pd.concat(axis=1) instead. To get a de-fragmented frame, use `newframe = frame.copy()`\n",
      "  metadata[mlb.classes_[i]] = res.T[i]\n",
      "/var/folders/d7/b6t8w9c960vb7cps3hrj9q_h0000gn/T/ipykernel_34729/3856767485.py:4: PerformanceWarning: DataFrame is highly fragmented.  This is usually the result of calling `frame.insert` many times, which has poor performance.  Consider joining all columns at once using pd.concat(axis=1) instead. To get a de-fragmented frame, use `newframe = frame.copy()`\n",
      "  metadata[mlb.classes_[i]] = res.T[i]\n",
      "/var/folders/d7/b6t8w9c960vb7cps3hrj9q_h0000gn/T/ipykernel_34729/3856767485.py:4: PerformanceWarning: DataFrame is highly fragmented.  This is usually the result of calling `frame.insert` many times, which has poor performance.  Consider joining all columns at once using pd.concat(axis=1) instead. To get a de-fragmented frame, use `newframe = frame.copy()`\n",
      "  metadata[mlb.classes_[i]] = res.T[i]\n",
      "/var/folders/d7/b6t8w9c960vb7cps3hrj9q_h0000gn/T/ipykernel_34729/3856767485.py:4: PerformanceWarning: DataFrame is highly fragmented.  This is usually the result of calling `frame.insert` many times, which has poor performance.  Consider joining all columns at once using pd.concat(axis=1) instead. To get a de-fragmented frame, use `newframe = frame.copy()`\n",
      "  metadata[mlb.classes_[i]] = res.T[i]\n",
      "/var/folders/d7/b6t8w9c960vb7cps3hrj9q_h0000gn/T/ipykernel_34729/3856767485.py:4: PerformanceWarning: DataFrame is highly fragmented.  This is usually the result of calling `frame.insert` many times, which has poor performance.  Consider joining all columns at once using pd.concat(axis=1) instead. To get a de-fragmented frame, use `newframe = frame.copy()`\n",
      "  metadata[mlb.classes_[i]] = res.T[i]\n",
      "/var/folders/d7/b6t8w9c960vb7cps3hrj9q_h0000gn/T/ipykernel_34729/3856767485.py:4: PerformanceWarning: DataFrame is highly fragmented.  This is usually the result of calling `frame.insert` many times, which has poor performance.  Consider joining all columns at once using pd.concat(axis=1) instead. To get a de-fragmented frame, use `newframe = frame.copy()`\n",
      "  metadata[mlb.classes_[i]] = res.T[i]\n",
      "/var/folders/d7/b6t8w9c960vb7cps3hrj9q_h0000gn/T/ipykernel_34729/3856767485.py:4: PerformanceWarning: DataFrame is highly fragmented.  This is usually the result of calling `frame.insert` many times, which has poor performance.  Consider joining all columns at once using pd.concat(axis=1) instead. To get a de-fragmented frame, use `newframe = frame.copy()`\n",
      "  metadata[mlb.classes_[i]] = res.T[i]\n",
      "/var/folders/d7/b6t8w9c960vb7cps3hrj9q_h0000gn/T/ipykernel_34729/3856767485.py:4: PerformanceWarning: DataFrame is highly fragmented.  This is usually the result of calling `frame.insert` many times, which has poor performance.  Consider joining all columns at once using pd.concat(axis=1) instead. To get a de-fragmented frame, use `newframe = frame.copy()`\n",
      "  metadata[mlb.classes_[i]] = res.T[i]\n",
      "/var/folders/d7/b6t8w9c960vb7cps3hrj9q_h0000gn/T/ipykernel_34729/3856767485.py:4: PerformanceWarning: DataFrame is highly fragmented.  This is usually the result of calling `frame.insert` many times, which has poor performance.  Consider joining all columns at once using pd.concat(axis=1) instead. To get a de-fragmented frame, use `newframe = frame.copy()`\n",
      "  metadata[mlb.classes_[i]] = res.T[i]\n",
      "/var/folders/d7/b6t8w9c960vb7cps3hrj9q_h0000gn/T/ipykernel_34729/3856767485.py:4: PerformanceWarning: DataFrame is highly fragmented.  This is usually the result of calling `frame.insert` many times, which has poor performance.  Consider joining all columns at once using pd.concat(axis=1) instead. To get a de-fragmented frame, use `newframe = frame.copy()`\n",
      "  metadata[mlb.classes_[i]] = res.T[i]\n",
      "/var/folders/d7/b6t8w9c960vb7cps3hrj9q_h0000gn/T/ipykernel_34729/3856767485.py:4: PerformanceWarning: DataFrame is highly fragmented.  This is usually the result of calling `frame.insert` many times, which has poor performance.  Consider joining all columns at once using pd.concat(axis=1) instead. To get a de-fragmented frame, use `newframe = frame.copy()`\n",
      "  metadata[mlb.classes_[i]] = res.T[i]\n",
      "/var/folders/d7/b6t8w9c960vb7cps3hrj9q_h0000gn/T/ipykernel_34729/3856767485.py:4: PerformanceWarning: DataFrame is highly fragmented.  This is usually the result of calling `frame.insert` many times, which has poor performance.  Consider joining all columns at once using pd.concat(axis=1) instead. To get a de-fragmented frame, use `newframe = frame.copy()`\n",
      "  metadata[mlb.classes_[i]] = res.T[i]\n",
      "/var/folders/d7/b6t8w9c960vb7cps3hrj9q_h0000gn/T/ipykernel_34729/3856767485.py:4: PerformanceWarning: DataFrame is highly fragmented.  This is usually the result of calling `frame.insert` many times, which has poor performance.  Consider joining all columns at once using pd.concat(axis=1) instead. To get a de-fragmented frame, use `newframe = frame.copy()`\n",
      "  metadata[mlb.classes_[i]] = res.T[i]\n"
     ]
    },
    {
     "name": "stderr",
     "output_type": "stream",
     "text": [
      "/var/folders/d7/b6t8w9c960vb7cps3hrj9q_h0000gn/T/ipykernel_34729/3856767485.py:4: PerformanceWarning: DataFrame is highly fragmented.  This is usually the result of calling `frame.insert` many times, which has poor performance.  Consider joining all columns at once using pd.concat(axis=1) instead. To get a de-fragmented frame, use `newframe = frame.copy()`\n",
      "  metadata[mlb.classes_[i]] = res.T[i]\n",
      "/var/folders/d7/b6t8w9c960vb7cps3hrj9q_h0000gn/T/ipykernel_34729/3856767485.py:4: PerformanceWarning: DataFrame is highly fragmented.  This is usually the result of calling `frame.insert` many times, which has poor performance.  Consider joining all columns at once using pd.concat(axis=1) instead. To get a de-fragmented frame, use `newframe = frame.copy()`\n",
      "  metadata[mlb.classes_[i]] = res.T[i]\n",
      "/var/folders/d7/b6t8w9c960vb7cps3hrj9q_h0000gn/T/ipykernel_34729/3856767485.py:4: PerformanceWarning: DataFrame is highly fragmented.  This is usually the result of calling `frame.insert` many times, which has poor performance.  Consider joining all columns at once using pd.concat(axis=1) instead. To get a de-fragmented frame, use `newframe = frame.copy()`\n",
      "  metadata[mlb.classes_[i]] = res.T[i]\n",
      "/var/folders/d7/b6t8w9c960vb7cps3hrj9q_h0000gn/T/ipykernel_34729/3856767485.py:4: PerformanceWarning: DataFrame is highly fragmented.  This is usually the result of calling `frame.insert` many times, which has poor performance.  Consider joining all columns at once using pd.concat(axis=1) instead. To get a de-fragmented frame, use `newframe = frame.copy()`\n",
      "  metadata[mlb.classes_[i]] = res.T[i]\n",
      "/var/folders/d7/b6t8w9c960vb7cps3hrj9q_h0000gn/T/ipykernel_34729/3856767485.py:4: PerformanceWarning: DataFrame is highly fragmented.  This is usually the result of calling `frame.insert` many times, which has poor performance.  Consider joining all columns at once using pd.concat(axis=1) instead. To get a de-fragmented frame, use `newframe = frame.copy()`\n",
      "  metadata[mlb.classes_[i]] = res.T[i]\n",
      "/var/folders/d7/b6t8w9c960vb7cps3hrj9q_h0000gn/T/ipykernel_34729/3856767485.py:4: PerformanceWarning: DataFrame is highly fragmented.  This is usually the result of calling `frame.insert` many times, which has poor performance.  Consider joining all columns at once using pd.concat(axis=1) instead. To get a de-fragmented frame, use `newframe = frame.copy()`\n",
      "  metadata[mlb.classes_[i]] = res.T[i]\n",
      "/var/folders/d7/b6t8w9c960vb7cps3hrj9q_h0000gn/T/ipykernel_34729/3856767485.py:4: PerformanceWarning: DataFrame is highly fragmented.  This is usually the result of calling `frame.insert` many times, which has poor performance.  Consider joining all columns at once using pd.concat(axis=1) instead. To get a de-fragmented frame, use `newframe = frame.copy()`\n",
      "  metadata[mlb.classes_[i]] = res.T[i]\n",
      "/var/folders/d7/b6t8w9c960vb7cps3hrj9q_h0000gn/T/ipykernel_34729/3856767485.py:4: PerformanceWarning: DataFrame is highly fragmented.  This is usually the result of calling `frame.insert` many times, which has poor performance.  Consider joining all columns at once using pd.concat(axis=1) instead. To get a de-fragmented frame, use `newframe = frame.copy()`\n",
      "  metadata[mlb.classes_[i]] = res.T[i]\n",
      "/var/folders/d7/b6t8w9c960vb7cps3hrj9q_h0000gn/T/ipykernel_34729/3856767485.py:4: PerformanceWarning: DataFrame is highly fragmented.  This is usually the result of calling `frame.insert` many times, which has poor performance.  Consider joining all columns at once using pd.concat(axis=1) instead. To get a de-fragmented frame, use `newframe = frame.copy()`\n",
      "  metadata[mlb.classes_[i]] = res.T[i]\n",
      "/var/folders/d7/b6t8w9c960vb7cps3hrj9q_h0000gn/T/ipykernel_34729/3856767485.py:4: PerformanceWarning: DataFrame is highly fragmented.  This is usually the result of calling `frame.insert` many times, which has poor performance.  Consider joining all columns at once using pd.concat(axis=1) instead. To get a de-fragmented frame, use `newframe = frame.copy()`\n",
      "  metadata[mlb.classes_[i]] = res.T[i]\n",
      "/var/folders/d7/b6t8w9c960vb7cps3hrj9q_h0000gn/T/ipykernel_34729/3856767485.py:4: PerformanceWarning: DataFrame is highly fragmented.  This is usually the result of calling `frame.insert` many times, which has poor performance.  Consider joining all columns at once using pd.concat(axis=1) instead. To get a de-fragmented frame, use `newframe = frame.copy()`\n",
      "  metadata[mlb.classes_[i]] = res.T[i]\n",
      "/var/folders/d7/b6t8w9c960vb7cps3hrj9q_h0000gn/T/ipykernel_34729/3856767485.py:4: PerformanceWarning: DataFrame is highly fragmented.  This is usually the result of calling `frame.insert` many times, which has poor performance.  Consider joining all columns at once using pd.concat(axis=1) instead. To get a de-fragmented frame, use `newframe = frame.copy()`\n",
      "  metadata[mlb.classes_[i]] = res.T[i]\n",
      "/var/folders/d7/b6t8w9c960vb7cps3hrj9q_h0000gn/T/ipykernel_34729/3856767485.py:4: PerformanceWarning: DataFrame is highly fragmented.  This is usually the result of calling `frame.insert` many times, which has poor performance.  Consider joining all columns at once using pd.concat(axis=1) instead. To get a de-fragmented frame, use `newframe = frame.copy()`\n",
      "  metadata[mlb.classes_[i]] = res.T[i]\n",
      "/var/folders/d7/b6t8w9c960vb7cps3hrj9q_h0000gn/T/ipykernel_34729/3856767485.py:4: PerformanceWarning: DataFrame is highly fragmented.  This is usually the result of calling `frame.insert` many times, which has poor performance.  Consider joining all columns at once using pd.concat(axis=1) instead. To get a de-fragmented frame, use `newframe = frame.copy()`\n",
      "  metadata[mlb.classes_[i]] = res.T[i]\n",
      "/var/folders/d7/b6t8w9c960vb7cps3hrj9q_h0000gn/T/ipykernel_34729/3856767485.py:4: PerformanceWarning: DataFrame is highly fragmented.  This is usually the result of calling `frame.insert` many times, which has poor performance.  Consider joining all columns at once using pd.concat(axis=1) instead. To get a de-fragmented frame, use `newframe = frame.copy()`\n",
      "  metadata[mlb.classes_[i]] = res.T[i]\n",
      "/var/folders/d7/b6t8w9c960vb7cps3hrj9q_h0000gn/T/ipykernel_34729/3856767485.py:4: PerformanceWarning: DataFrame is highly fragmented.  This is usually the result of calling `frame.insert` many times, which has poor performance.  Consider joining all columns at once using pd.concat(axis=1) instead. To get a de-fragmented frame, use `newframe = frame.copy()`\n",
      "  metadata[mlb.classes_[i]] = res.T[i]\n",
      "/var/folders/d7/b6t8w9c960vb7cps3hrj9q_h0000gn/T/ipykernel_34729/3856767485.py:4: PerformanceWarning: DataFrame is highly fragmented.  This is usually the result of calling `frame.insert` many times, which has poor performance.  Consider joining all columns at once using pd.concat(axis=1) instead. To get a de-fragmented frame, use `newframe = frame.copy()`\n",
      "  metadata[mlb.classes_[i]] = res.T[i]\n",
      "/var/folders/d7/b6t8w9c960vb7cps3hrj9q_h0000gn/T/ipykernel_34729/3856767485.py:4: PerformanceWarning: DataFrame is highly fragmented.  This is usually the result of calling `frame.insert` many times, which has poor performance.  Consider joining all columns at once using pd.concat(axis=1) instead. To get a de-fragmented frame, use `newframe = frame.copy()`\n",
      "  metadata[mlb.classes_[i]] = res.T[i]\n",
      "/var/folders/d7/b6t8w9c960vb7cps3hrj9q_h0000gn/T/ipykernel_34729/3856767485.py:4: PerformanceWarning: DataFrame is highly fragmented.  This is usually the result of calling `frame.insert` many times, which has poor performance.  Consider joining all columns at once using pd.concat(axis=1) instead. To get a de-fragmented frame, use `newframe = frame.copy()`\n",
      "  metadata[mlb.classes_[i]] = res.T[i]\n",
      "/var/folders/d7/b6t8w9c960vb7cps3hrj9q_h0000gn/T/ipykernel_34729/3856767485.py:4: PerformanceWarning: DataFrame is highly fragmented.  This is usually the result of calling `frame.insert` many times, which has poor performance.  Consider joining all columns at once using pd.concat(axis=1) instead. To get a de-fragmented frame, use `newframe = frame.copy()`\n",
      "  metadata[mlb.classes_[i]] = res.T[i]\n",
      "/var/folders/d7/b6t8w9c960vb7cps3hrj9q_h0000gn/T/ipykernel_34729/3856767485.py:4: PerformanceWarning: DataFrame is highly fragmented.  This is usually the result of calling `frame.insert` many times, which has poor performance.  Consider joining all columns at once using pd.concat(axis=1) instead. To get a de-fragmented frame, use `newframe = frame.copy()`\n",
      "  metadata[mlb.classes_[i]] = res.T[i]\n",
      "/var/folders/d7/b6t8w9c960vb7cps3hrj9q_h0000gn/T/ipykernel_34729/3856767485.py:4: PerformanceWarning: DataFrame is highly fragmented.  This is usually the result of calling `frame.insert` many times, which has poor performance.  Consider joining all columns at once using pd.concat(axis=1) instead. To get a de-fragmented frame, use `newframe = frame.copy()`\n",
      "  metadata[mlb.classes_[i]] = res.T[i]\n",
      "/var/folders/d7/b6t8w9c960vb7cps3hrj9q_h0000gn/T/ipykernel_34729/3856767485.py:4: PerformanceWarning: DataFrame is highly fragmented.  This is usually the result of calling `frame.insert` many times, which has poor performance.  Consider joining all columns at once using pd.concat(axis=1) instead. To get a de-fragmented frame, use `newframe = frame.copy()`\n",
      "  metadata[mlb.classes_[i]] = res.T[i]\n",
      "/var/folders/d7/b6t8w9c960vb7cps3hrj9q_h0000gn/T/ipykernel_34729/3856767485.py:4: PerformanceWarning: DataFrame is highly fragmented.  This is usually the result of calling `frame.insert` many times, which has poor performance.  Consider joining all columns at once using pd.concat(axis=1) instead. To get a de-fragmented frame, use `newframe = frame.copy()`\n",
      "  metadata[mlb.classes_[i]] = res.T[i]\n",
      "/var/folders/d7/b6t8w9c960vb7cps3hrj9q_h0000gn/T/ipykernel_34729/3856767485.py:4: PerformanceWarning: DataFrame is highly fragmented.  This is usually the result of calling `frame.insert` many times, which has poor performance.  Consider joining all columns at once using pd.concat(axis=1) instead. To get a de-fragmented frame, use `newframe = frame.copy()`\n",
      "  metadata[mlb.classes_[i]] = res.T[i]\n",
      "/var/folders/d7/b6t8w9c960vb7cps3hrj9q_h0000gn/T/ipykernel_34729/3856767485.py:4: PerformanceWarning: DataFrame is highly fragmented.  This is usually the result of calling `frame.insert` many times, which has poor performance.  Consider joining all columns at once using pd.concat(axis=1) instead. To get a de-fragmented frame, use `newframe = frame.copy()`\n",
      "  metadata[mlb.classes_[i]] = res.T[i]\n",
      "/var/folders/d7/b6t8w9c960vb7cps3hrj9q_h0000gn/T/ipykernel_34729/3856767485.py:4: PerformanceWarning: DataFrame is highly fragmented.  This is usually the result of calling `frame.insert` many times, which has poor performance.  Consider joining all columns at once using pd.concat(axis=1) instead. To get a de-fragmented frame, use `newframe = frame.copy()`\n",
      "  metadata[mlb.classes_[i]] = res.T[i]\n",
      "/var/folders/d7/b6t8w9c960vb7cps3hrj9q_h0000gn/T/ipykernel_34729/3856767485.py:4: PerformanceWarning: DataFrame is highly fragmented.  This is usually the result of calling `frame.insert` many times, which has poor performance.  Consider joining all columns at once using pd.concat(axis=1) instead. To get a de-fragmented frame, use `newframe = frame.copy()`\n",
      "  metadata[mlb.classes_[i]] = res.T[i]\n",
      "/var/folders/d7/b6t8w9c960vb7cps3hrj9q_h0000gn/T/ipykernel_34729/3856767485.py:4: PerformanceWarning: DataFrame is highly fragmented.  This is usually the result of calling `frame.insert` many times, which has poor performance.  Consider joining all columns at once using pd.concat(axis=1) instead. To get a de-fragmented frame, use `newframe = frame.copy()`\n",
      "  metadata[mlb.classes_[i]] = res.T[i]\n",
      "/var/folders/d7/b6t8w9c960vb7cps3hrj9q_h0000gn/T/ipykernel_34729/3856767485.py:4: PerformanceWarning: DataFrame is highly fragmented.  This is usually the result of calling `frame.insert` many times, which has poor performance.  Consider joining all columns at once using pd.concat(axis=1) instead. To get a de-fragmented frame, use `newframe = frame.copy()`\n",
      "  metadata[mlb.classes_[i]] = res.T[i]\n",
      "/var/folders/d7/b6t8w9c960vb7cps3hrj9q_h0000gn/T/ipykernel_34729/3856767485.py:4: PerformanceWarning: DataFrame is highly fragmented.  This is usually the result of calling `frame.insert` many times, which has poor performance.  Consider joining all columns at once using pd.concat(axis=1) instead. To get a de-fragmented frame, use `newframe = frame.copy()`\n",
      "  metadata[mlb.classes_[i]] = res.T[i]\n",
      "/var/folders/d7/b6t8w9c960vb7cps3hrj9q_h0000gn/T/ipykernel_34729/3856767485.py:4: PerformanceWarning: DataFrame is highly fragmented.  This is usually the result of calling `frame.insert` many times, which has poor performance.  Consider joining all columns at once using pd.concat(axis=1) instead. To get a de-fragmented frame, use `newframe = frame.copy()`\n",
      "  metadata[mlb.classes_[i]] = res.T[i]\n",
      "/var/folders/d7/b6t8w9c960vb7cps3hrj9q_h0000gn/T/ipykernel_34729/3856767485.py:4: PerformanceWarning: DataFrame is highly fragmented.  This is usually the result of calling `frame.insert` many times, which has poor performance.  Consider joining all columns at once using pd.concat(axis=1) instead. To get a de-fragmented frame, use `newframe = frame.copy()`\n",
      "  metadata[mlb.classes_[i]] = res.T[i]\n",
      "/var/folders/d7/b6t8w9c960vb7cps3hrj9q_h0000gn/T/ipykernel_34729/3856767485.py:4: PerformanceWarning: DataFrame is highly fragmented.  This is usually the result of calling `frame.insert` many times, which has poor performance.  Consider joining all columns at once using pd.concat(axis=1) instead. To get a de-fragmented frame, use `newframe = frame.copy()`\n",
      "  metadata[mlb.classes_[i]] = res.T[i]\n",
      "/var/folders/d7/b6t8w9c960vb7cps3hrj9q_h0000gn/T/ipykernel_34729/3856767485.py:4: PerformanceWarning: DataFrame is highly fragmented.  This is usually the result of calling `frame.insert` many times, which has poor performance.  Consider joining all columns at once using pd.concat(axis=1) instead. To get a de-fragmented frame, use `newframe = frame.copy()`\n",
      "  metadata[mlb.classes_[i]] = res.T[i]\n",
      "/var/folders/d7/b6t8w9c960vb7cps3hrj9q_h0000gn/T/ipykernel_34729/3856767485.py:4: PerformanceWarning: DataFrame is highly fragmented.  This is usually the result of calling `frame.insert` many times, which has poor performance.  Consider joining all columns at once using pd.concat(axis=1) instead. To get a de-fragmented frame, use `newframe = frame.copy()`\n",
      "  metadata[mlb.classes_[i]] = res.T[i]\n",
      "/var/folders/d7/b6t8w9c960vb7cps3hrj9q_h0000gn/T/ipykernel_34729/3856767485.py:4: PerformanceWarning: DataFrame is highly fragmented.  This is usually the result of calling `frame.insert` many times, which has poor performance.  Consider joining all columns at once using pd.concat(axis=1) instead. To get a de-fragmented frame, use `newframe = frame.copy()`\n",
      "  metadata[mlb.classes_[i]] = res.T[i]\n",
      "/var/folders/d7/b6t8w9c960vb7cps3hrj9q_h0000gn/T/ipykernel_34729/3856767485.py:4: PerformanceWarning: DataFrame is highly fragmented.  This is usually the result of calling `frame.insert` many times, which has poor performance.  Consider joining all columns at once using pd.concat(axis=1) instead. To get a de-fragmented frame, use `newframe = frame.copy()`\n",
      "  metadata[mlb.classes_[i]] = res.T[i]\n",
      "/var/folders/d7/b6t8w9c960vb7cps3hrj9q_h0000gn/T/ipykernel_34729/3856767485.py:4: PerformanceWarning: DataFrame is highly fragmented.  This is usually the result of calling `frame.insert` many times, which has poor performance.  Consider joining all columns at once using pd.concat(axis=1) instead. To get a de-fragmented frame, use `newframe = frame.copy()`\n",
      "  metadata[mlb.classes_[i]] = res.T[i]\n",
      "/var/folders/d7/b6t8w9c960vb7cps3hrj9q_h0000gn/T/ipykernel_34729/3856767485.py:4: PerformanceWarning: DataFrame is highly fragmented.  This is usually the result of calling `frame.insert` many times, which has poor performance.  Consider joining all columns at once using pd.concat(axis=1) instead. To get a de-fragmented frame, use `newframe = frame.copy()`\n",
      "  metadata[mlb.classes_[i]] = res.T[i]\n",
      "/var/folders/d7/b6t8w9c960vb7cps3hrj9q_h0000gn/T/ipykernel_34729/3856767485.py:4: PerformanceWarning: DataFrame is highly fragmented.  This is usually the result of calling `frame.insert` many times, which has poor performance.  Consider joining all columns at once using pd.concat(axis=1) instead. To get a de-fragmented frame, use `newframe = frame.copy()`\n",
      "  metadata[mlb.classes_[i]] = res.T[i]\n",
      "/var/folders/d7/b6t8w9c960vb7cps3hrj9q_h0000gn/T/ipykernel_34729/3856767485.py:4: PerformanceWarning: DataFrame is highly fragmented.  This is usually the result of calling `frame.insert` many times, which has poor performance.  Consider joining all columns at once using pd.concat(axis=1) instead. To get a de-fragmented frame, use `newframe = frame.copy()`\n",
      "  metadata[mlb.classes_[i]] = res.T[i]\n",
      "/var/folders/d7/b6t8w9c960vb7cps3hrj9q_h0000gn/T/ipykernel_34729/3856767485.py:4: PerformanceWarning: DataFrame is highly fragmented.  This is usually the result of calling `frame.insert` many times, which has poor performance.  Consider joining all columns at once using pd.concat(axis=1) instead. To get a de-fragmented frame, use `newframe = frame.copy()`\n",
      "  metadata[mlb.classes_[i]] = res.T[i]\n",
      "/var/folders/d7/b6t8w9c960vb7cps3hrj9q_h0000gn/T/ipykernel_34729/3856767485.py:4: PerformanceWarning: DataFrame is highly fragmented.  This is usually the result of calling `frame.insert` many times, which has poor performance.  Consider joining all columns at once using pd.concat(axis=1) instead. To get a de-fragmented frame, use `newframe = frame.copy()`\n",
      "  metadata[mlb.classes_[i]] = res.T[i]\n",
      "/var/folders/d7/b6t8w9c960vb7cps3hrj9q_h0000gn/T/ipykernel_34729/3856767485.py:4: PerformanceWarning: DataFrame is highly fragmented.  This is usually the result of calling `frame.insert` many times, which has poor performance.  Consider joining all columns at once using pd.concat(axis=1) instead. To get a de-fragmented frame, use `newframe = frame.copy()`\n",
      "  metadata[mlb.classes_[i]] = res.T[i]\n",
      "/var/folders/d7/b6t8w9c960vb7cps3hrj9q_h0000gn/T/ipykernel_34729/3856767485.py:4: PerformanceWarning: DataFrame is highly fragmented.  This is usually the result of calling `frame.insert` many times, which has poor performance.  Consider joining all columns at once using pd.concat(axis=1) instead. To get a de-fragmented frame, use `newframe = frame.copy()`\n",
      "  metadata[mlb.classes_[i]] = res.T[i]\n",
      "/var/folders/d7/b6t8w9c960vb7cps3hrj9q_h0000gn/T/ipykernel_34729/3856767485.py:4: PerformanceWarning: DataFrame is highly fragmented.  This is usually the result of calling `frame.insert` many times, which has poor performance.  Consider joining all columns at once using pd.concat(axis=1) instead. To get a de-fragmented frame, use `newframe = frame.copy()`\n",
      "  metadata[mlb.classes_[i]] = res.T[i]\n",
      "/var/folders/d7/b6t8w9c960vb7cps3hrj9q_h0000gn/T/ipykernel_34729/3856767485.py:4: PerformanceWarning: DataFrame is highly fragmented.  This is usually the result of calling `frame.insert` many times, which has poor performance.  Consider joining all columns at once using pd.concat(axis=1) instead. To get a de-fragmented frame, use `newframe = frame.copy()`\n",
      "  metadata[mlb.classes_[i]] = res.T[i]\n",
      "/var/folders/d7/b6t8w9c960vb7cps3hrj9q_h0000gn/T/ipykernel_34729/3856767485.py:4: PerformanceWarning: DataFrame is highly fragmented.  This is usually the result of calling `frame.insert` many times, which has poor performance.  Consider joining all columns at once using pd.concat(axis=1) instead. To get a de-fragmented frame, use `newframe = frame.copy()`\n",
      "  metadata[mlb.classes_[i]] = res.T[i]\n",
      "/var/folders/d7/b6t8w9c960vb7cps3hrj9q_h0000gn/T/ipykernel_34729/3856767485.py:4: PerformanceWarning: DataFrame is highly fragmented.  This is usually the result of calling `frame.insert` many times, which has poor performance.  Consider joining all columns at once using pd.concat(axis=1) instead. To get a de-fragmented frame, use `newframe = frame.copy()`\n",
      "  metadata[mlb.classes_[i]] = res.T[i]\n",
      "/var/folders/d7/b6t8w9c960vb7cps3hrj9q_h0000gn/T/ipykernel_34729/3856767485.py:4: PerformanceWarning: DataFrame is highly fragmented.  This is usually the result of calling `frame.insert` many times, which has poor performance.  Consider joining all columns at once using pd.concat(axis=1) instead. To get a de-fragmented frame, use `newframe = frame.copy()`\n",
      "  metadata[mlb.classes_[i]] = res.T[i]\n",
      "/var/folders/d7/b6t8w9c960vb7cps3hrj9q_h0000gn/T/ipykernel_34729/3856767485.py:4: PerformanceWarning: DataFrame is highly fragmented.  This is usually the result of calling `frame.insert` many times, which has poor performance.  Consider joining all columns at once using pd.concat(axis=1) instead. To get a de-fragmented frame, use `newframe = frame.copy()`\n",
      "  metadata[mlb.classes_[i]] = res.T[i]\n",
      "/var/folders/d7/b6t8w9c960vb7cps3hrj9q_h0000gn/T/ipykernel_34729/3856767485.py:4: PerformanceWarning: DataFrame is highly fragmented.  This is usually the result of calling `frame.insert` many times, which has poor performance.  Consider joining all columns at once using pd.concat(axis=1) instead. To get a de-fragmented frame, use `newframe = frame.copy()`\n",
      "  metadata[mlb.classes_[i]] = res.T[i]\n"
     ]
    },
    {
     "name": "stderr",
     "output_type": "stream",
     "text": [
      "/var/folders/d7/b6t8w9c960vb7cps3hrj9q_h0000gn/T/ipykernel_34729/3856767485.py:4: PerformanceWarning: DataFrame is highly fragmented.  This is usually the result of calling `frame.insert` many times, which has poor performance.  Consider joining all columns at once using pd.concat(axis=1) instead. To get a de-fragmented frame, use `newframe = frame.copy()`\n",
      "  metadata[mlb.classes_[i]] = res.T[i]\n",
      "/var/folders/d7/b6t8w9c960vb7cps3hrj9q_h0000gn/T/ipykernel_34729/3856767485.py:4: PerformanceWarning: DataFrame is highly fragmented.  This is usually the result of calling `frame.insert` many times, which has poor performance.  Consider joining all columns at once using pd.concat(axis=1) instead. To get a de-fragmented frame, use `newframe = frame.copy()`\n",
      "  metadata[mlb.classes_[i]] = res.T[i]\n",
      "/var/folders/d7/b6t8w9c960vb7cps3hrj9q_h0000gn/T/ipykernel_34729/3856767485.py:4: PerformanceWarning: DataFrame is highly fragmented.  This is usually the result of calling `frame.insert` many times, which has poor performance.  Consider joining all columns at once using pd.concat(axis=1) instead. To get a de-fragmented frame, use `newframe = frame.copy()`\n",
      "  metadata[mlb.classes_[i]] = res.T[i]\n",
      "/var/folders/d7/b6t8w9c960vb7cps3hrj9q_h0000gn/T/ipykernel_34729/3856767485.py:4: PerformanceWarning: DataFrame is highly fragmented.  This is usually the result of calling `frame.insert` many times, which has poor performance.  Consider joining all columns at once using pd.concat(axis=1) instead. To get a de-fragmented frame, use `newframe = frame.copy()`\n",
      "  metadata[mlb.classes_[i]] = res.T[i]\n",
      "/var/folders/d7/b6t8w9c960vb7cps3hrj9q_h0000gn/T/ipykernel_34729/3856767485.py:4: PerformanceWarning: DataFrame is highly fragmented.  This is usually the result of calling `frame.insert` many times, which has poor performance.  Consider joining all columns at once using pd.concat(axis=1) instead. To get a de-fragmented frame, use `newframe = frame.copy()`\n",
      "  metadata[mlb.classes_[i]] = res.T[i]\n",
      "/var/folders/d7/b6t8w9c960vb7cps3hrj9q_h0000gn/T/ipykernel_34729/3856767485.py:4: PerformanceWarning: DataFrame is highly fragmented.  This is usually the result of calling `frame.insert` many times, which has poor performance.  Consider joining all columns at once using pd.concat(axis=1) instead. To get a de-fragmented frame, use `newframe = frame.copy()`\n",
      "  metadata[mlb.classes_[i]] = res.T[i]\n",
      "/var/folders/d7/b6t8w9c960vb7cps3hrj9q_h0000gn/T/ipykernel_34729/3856767485.py:4: PerformanceWarning: DataFrame is highly fragmented.  This is usually the result of calling `frame.insert` many times, which has poor performance.  Consider joining all columns at once using pd.concat(axis=1) instead. To get a de-fragmented frame, use `newframe = frame.copy()`\n",
      "  metadata[mlb.classes_[i]] = res.T[i]\n",
      "/var/folders/d7/b6t8w9c960vb7cps3hrj9q_h0000gn/T/ipykernel_34729/3856767485.py:4: PerformanceWarning: DataFrame is highly fragmented.  This is usually the result of calling `frame.insert` many times, which has poor performance.  Consider joining all columns at once using pd.concat(axis=1) instead. To get a de-fragmented frame, use `newframe = frame.copy()`\n",
      "  metadata[mlb.classes_[i]] = res.T[i]\n",
      "/var/folders/d7/b6t8w9c960vb7cps3hrj9q_h0000gn/T/ipykernel_34729/3856767485.py:4: PerformanceWarning: DataFrame is highly fragmented.  This is usually the result of calling `frame.insert` many times, which has poor performance.  Consider joining all columns at once using pd.concat(axis=1) instead. To get a de-fragmented frame, use `newframe = frame.copy()`\n",
      "  metadata[mlb.classes_[i]] = res.T[i]\n",
      "/var/folders/d7/b6t8w9c960vb7cps3hrj9q_h0000gn/T/ipykernel_34729/3856767485.py:4: PerformanceWarning: DataFrame is highly fragmented.  This is usually the result of calling `frame.insert` many times, which has poor performance.  Consider joining all columns at once using pd.concat(axis=1) instead. To get a de-fragmented frame, use `newframe = frame.copy()`\n",
      "  metadata[mlb.classes_[i]] = res.T[i]\n",
      "/var/folders/d7/b6t8w9c960vb7cps3hrj9q_h0000gn/T/ipykernel_34729/3856767485.py:4: PerformanceWarning: DataFrame is highly fragmented.  This is usually the result of calling `frame.insert` many times, which has poor performance.  Consider joining all columns at once using pd.concat(axis=1) instead. To get a de-fragmented frame, use `newframe = frame.copy()`\n",
      "  metadata[mlb.classes_[i]] = res.T[i]\n",
      "/var/folders/d7/b6t8w9c960vb7cps3hrj9q_h0000gn/T/ipykernel_34729/3856767485.py:4: PerformanceWarning: DataFrame is highly fragmented.  This is usually the result of calling `frame.insert` many times, which has poor performance.  Consider joining all columns at once using pd.concat(axis=1) instead. To get a de-fragmented frame, use `newframe = frame.copy()`\n",
      "  metadata[mlb.classes_[i]] = res.T[i]\n",
      "/var/folders/d7/b6t8w9c960vb7cps3hrj9q_h0000gn/T/ipykernel_34729/3856767485.py:4: PerformanceWarning: DataFrame is highly fragmented.  This is usually the result of calling `frame.insert` many times, which has poor performance.  Consider joining all columns at once using pd.concat(axis=1) instead. To get a de-fragmented frame, use `newframe = frame.copy()`\n",
      "  metadata[mlb.classes_[i]] = res.T[i]\n",
      "/var/folders/d7/b6t8w9c960vb7cps3hrj9q_h0000gn/T/ipykernel_34729/3856767485.py:4: PerformanceWarning: DataFrame is highly fragmented.  This is usually the result of calling `frame.insert` many times, which has poor performance.  Consider joining all columns at once using pd.concat(axis=1) instead. To get a de-fragmented frame, use `newframe = frame.copy()`\n",
      "  metadata[mlb.classes_[i]] = res.T[i]\n",
      "/var/folders/d7/b6t8w9c960vb7cps3hrj9q_h0000gn/T/ipykernel_34729/3856767485.py:4: PerformanceWarning: DataFrame is highly fragmented.  This is usually the result of calling `frame.insert` many times, which has poor performance.  Consider joining all columns at once using pd.concat(axis=1) instead. To get a de-fragmented frame, use `newframe = frame.copy()`\n",
      "  metadata[mlb.classes_[i]] = res.T[i]\n",
      "/var/folders/d7/b6t8w9c960vb7cps3hrj9q_h0000gn/T/ipykernel_34729/3856767485.py:4: PerformanceWarning: DataFrame is highly fragmented.  This is usually the result of calling `frame.insert` many times, which has poor performance.  Consider joining all columns at once using pd.concat(axis=1) instead. To get a de-fragmented frame, use `newframe = frame.copy()`\n",
      "  metadata[mlb.classes_[i]] = res.T[i]\n",
      "/var/folders/d7/b6t8w9c960vb7cps3hrj9q_h0000gn/T/ipykernel_34729/3856767485.py:4: PerformanceWarning: DataFrame is highly fragmented.  This is usually the result of calling `frame.insert` many times, which has poor performance.  Consider joining all columns at once using pd.concat(axis=1) instead. To get a de-fragmented frame, use `newframe = frame.copy()`\n",
      "  metadata[mlb.classes_[i]] = res.T[i]\n",
      "/var/folders/d7/b6t8w9c960vb7cps3hrj9q_h0000gn/T/ipykernel_34729/3856767485.py:4: PerformanceWarning: DataFrame is highly fragmented.  This is usually the result of calling `frame.insert` many times, which has poor performance.  Consider joining all columns at once using pd.concat(axis=1) instead. To get a de-fragmented frame, use `newframe = frame.copy()`\n",
      "  metadata[mlb.classes_[i]] = res.T[i]\n",
      "/var/folders/d7/b6t8w9c960vb7cps3hrj9q_h0000gn/T/ipykernel_34729/3856767485.py:4: PerformanceWarning: DataFrame is highly fragmented.  This is usually the result of calling `frame.insert` many times, which has poor performance.  Consider joining all columns at once using pd.concat(axis=1) instead. To get a de-fragmented frame, use `newframe = frame.copy()`\n",
      "  metadata[mlb.classes_[i]] = res.T[i]\n",
      "/var/folders/d7/b6t8w9c960vb7cps3hrj9q_h0000gn/T/ipykernel_34729/3856767485.py:4: PerformanceWarning: DataFrame is highly fragmented.  This is usually the result of calling `frame.insert` many times, which has poor performance.  Consider joining all columns at once using pd.concat(axis=1) instead. To get a de-fragmented frame, use `newframe = frame.copy()`\n",
      "  metadata[mlb.classes_[i]] = res.T[i]\n",
      "/var/folders/d7/b6t8w9c960vb7cps3hrj9q_h0000gn/T/ipykernel_34729/3856767485.py:4: PerformanceWarning: DataFrame is highly fragmented.  This is usually the result of calling `frame.insert` many times, which has poor performance.  Consider joining all columns at once using pd.concat(axis=1) instead. To get a de-fragmented frame, use `newframe = frame.copy()`\n",
      "  metadata[mlb.classes_[i]] = res.T[i]\n",
      "/var/folders/d7/b6t8w9c960vb7cps3hrj9q_h0000gn/T/ipykernel_34729/3856767485.py:4: PerformanceWarning: DataFrame is highly fragmented.  This is usually the result of calling `frame.insert` many times, which has poor performance.  Consider joining all columns at once using pd.concat(axis=1) instead. To get a de-fragmented frame, use `newframe = frame.copy()`\n",
      "  metadata[mlb.classes_[i]] = res.T[i]\n",
      "/var/folders/d7/b6t8w9c960vb7cps3hrj9q_h0000gn/T/ipykernel_34729/3856767485.py:4: PerformanceWarning: DataFrame is highly fragmented.  This is usually the result of calling `frame.insert` many times, which has poor performance.  Consider joining all columns at once using pd.concat(axis=1) instead. To get a de-fragmented frame, use `newframe = frame.copy()`\n",
      "  metadata[mlb.classes_[i]] = res.T[i]\n",
      "/var/folders/d7/b6t8w9c960vb7cps3hrj9q_h0000gn/T/ipykernel_34729/3856767485.py:4: PerformanceWarning: DataFrame is highly fragmented.  This is usually the result of calling `frame.insert` many times, which has poor performance.  Consider joining all columns at once using pd.concat(axis=1) instead. To get a de-fragmented frame, use `newframe = frame.copy()`\n",
      "  metadata[mlb.classes_[i]] = res.T[i]\n",
      "/var/folders/d7/b6t8w9c960vb7cps3hrj9q_h0000gn/T/ipykernel_34729/3856767485.py:4: PerformanceWarning: DataFrame is highly fragmented.  This is usually the result of calling `frame.insert` many times, which has poor performance.  Consider joining all columns at once using pd.concat(axis=1) instead. To get a de-fragmented frame, use `newframe = frame.copy()`\n",
      "  metadata[mlb.classes_[i]] = res.T[i]\n",
      "/var/folders/d7/b6t8w9c960vb7cps3hrj9q_h0000gn/T/ipykernel_34729/3856767485.py:4: PerformanceWarning: DataFrame is highly fragmented.  This is usually the result of calling `frame.insert` many times, which has poor performance.  Consider joining all columns at once using pd.concat(axis=1) instead. To get a de-fragmented frame, use `newframe = frame.copy()`\n",
      "  metadata[mlb.classes_[i]] = res.T[i]\n",
      "/var/folders/d7/b6t8w9c960vb7cps3hrj9q_h0000gn/T/ipykernel_34729/3856767485.py:4: PerformanceWarning: DataFrame is highly fragmented.  This is usually the result of calling `frame.insert` many times, which has poor performance.  Consider joining all columns at once using pd.concat(axis=1) instead. To get a de-fragmented frame, use `newframe = frame.copy()`\n",
      "  metadata[mlb.classes_[i]] = res.T[i]\n",
      "/var/folders/d7/b6t8w9c960vb7cps3hrj9q_h0000gn/T/ipykernel_34729/3856767485.py:4: PerformanceWarning: DataFrame is highly fragmented.  This is usually the result of calling `frame.insert` many times, which has poor performance.  Consider joining all columns at once using pd.concat(axis=1) instead. To get a de-fragmented frame, use `newframe = frame.copy()`\n",
      "  metadata[mlb.classes_[i]] = res.T[i]\n",
      "/var/folders/d7/b6t8w9c960vb7cps3hrj9q_h0000gn/T/ipykernel_34729/3856767485.py:4: PerformanceWarning: DataFrame is highly fragmented.  This is usually the result of calling `frame.insert` many times, which has poor performance.  Consider joining all columns at once using pd.concat(axis=1) instead. To get a de-fragmented frame, use `newframe = frame.copy()`\n",
      "  metadata[mlb.classes_[i]] = res.T[i]\n",
      "/var/folders/d7/b6t8w9c960vb7cps3hrj9q_h0000gn/T/ipykernel_34729/3856767485.py:4: PerformanceWarning: DataFrame is highly fragmented.  This is usually the result of calling `frame.insert` many times, which has poor performance.  Consider joining all columns at once using pd.concat(axis=1) instead. To get a de-fragmented frame, use `newframe = frame.copy()`\n",
      "  metadata[mlb.classes_[i]] = res.T[i]\n",
      "/var/folders/d7/b6t8w9c960vb7cps3hrj9q_h0000gn/T/ipykernel_34729/3856767485.py:4: PerformanceWarning: DataFrame is highly fragmented.  This is usually the result of calling `frame.insert` many times, which has poor performance.  Consider joining all columns at once using pd.concat(axis=1) instead. To get a de-fragmented frame, use `newframe = frame.copy()`\n",
      "  metadata[mlb.classes_[i]] = res.T[i]\n",
      "/var/folders/d7/b6t8w9c960vb7cps3hrj9q_h0000gn/T/ipykernel_34729/3856767485.py:4: PerformanceWarning: DataFrame is highly fragmented.  This is usually the result of calling `frame.insert` many times, which has poor performance.  Consider joining all columns at once using pd.concat(axis=1) instead. To get a de-fragmented frame, use `newframe = frame.copy()`\n",
      "  metadata[mlb.classes_[i]] = res.T[i]\n",
      "/var/folders/d7/b6t8w9c960vb7cps3hrj9q_h0000gn/T/ipykernel_34729/3856767485.py:4: PerformanceWarning: DataFrame is highly fragmented.  This is usually the result of calling `frame.insert` many times, which has poor performance.  Consider joining all columns at once using pd.concat(axis=1) instead. To get a de-fragmented frame, use `newframe = frame.copy()`\n",
      "  metadata[mlb.classes_[i]] = res.T[i]\n",
      "/var/folders/d7/b6t8w9c960vb7cps3hrj9q_h0000gn/T/ipykernel_34729/3856767485.py:4: PerformanceWarning: DataFrame is highly fragmented.  This is usually the result of calling `frame.insert` many times, which has poor performance.  Consider joining all columns at once using pd.concat(axis=1) instead. To get a de-fragmented frame, use `newframe = frame.copy()`\n",
      "  metadata[mlb.classes_[i]] = res.T[i]\n",
      "/var/folders/d7/b6t8w9c960vb7cps3hrj9q_h0000gn/T/ipykernel_34729/3856767485.py:4: PerformanceWarning: DataFrame is highly fragmented.  This is usually the result of calling `frame.insert` many times, which has poor performance.  Consider joining all columns at once using pd.concat(axis=1) instead. To get a de-fragmented frame, use `newframe = frame.copy()`\n",
      "  metadata[mlb.classes_[i]] = res.T[i]\n",
      "/var/folders/d7/b6t8w9c960vb7cps3hrj9q_h0000gn/T/ipykernel_34729/3856767485.py:4: PerformanceWarning: DataFrame is highly fragmented.  This is usually the result of calling `frame.insert` many times, which has poor performance.  Consider joining all columns at once using pd.concat(axis=1) instead. To get a de-fragmented frame, use `newframe = frame.copy()`\n",
      "  metadata[mlb.classes_[i]] = res.T[i]\n",
      "/var/folders/d7/b6t8w9c960vb7cps3hrj9q_h0000gn/T/ipykernel_34729/3856767485.py:4: PerformanceWarning: DataFrame is highly fragmented.  This is usually the result of calling `frame.insert` many times, which has poor performance.  Consider joining all columns at once using pd.concat(axis=1) instead. To get a de-fragmented frame, use `newframe = frame.copy()`\n",
      "  metadata[mlb.classes_[i]] = res.T[i]\n",
      "/var/folders/d7/b6t8w9c960vb7cps3hrj9q_h0000gn/T/ipykernel_34729/3856767485.py:4: PerformanceWarning: DataFrame is highly fragmented.  This is usually the result of calling `frame.insert` many times, which has poor performance.  Consider joining all columns at once using pd.concat(axis=1) instead. To get a de-fragmented frame, use `newframe = frame.copy()`\n",
      "  metadata[mlb.classes_[i]] = res.T[i]\n",
      "/var/folders/d7/b6t8w9c960vb7cps3hrj9q_h0000gn/T/ipykernel_34729/3856767485.py:4: PerformanceWarning: DataFrame is highly fragmented.  This is usually the result of calling `frame.insert` many times, which has poor performance.  Consider joining all columns at once using pd.concat(axis=1) instead. To get a de-fragmented frame, use `newframe = frame.copy()`\n",
      "  metadata[mlb.classes_[i]] = res.T[i]\n",
      "/var/folders/d7/b6t8w9c960vb7cps3hrj9q_h0000gn/T/ipykernel_34729/3856767485.py:4: PerformanceWarning: DataFrame is highly fragmented.  This is usually the result of calling `frame.insert` many times, which has poor performance.  Consider joining all columns at once using pd.concat(axis=1) instead. To get a de-fragmented frame, use `newframe = frame.copy()`\n",
      "  metadata[mlb.classes_[i]] = res.T[i]\n",
      "/var/folders/d7/b6t8w9c960vb7cps3hrj9q_h0000gn/T/ipykernel_34729/3856767485.py:4: PerformanceWarning: DataFrame is highly fragmented.  This is usually the result of calling `frame.insert` many times, which has poor performance.  Consider joining all columns at once using pd.concat(axis=1) instead. To get a de-fragmented frame, use `newframe = frame.copy()`\n",
      "  metadata[mlb.classes_[i]] = res.T[i]\n",
      "/var/folders/d7/b6t8w9c960vb7cps3hrj9q_h0000gn/T/ipykernel_34729/3856767485.py:4: PerformanceWarning: DataFrame is highly fragmented.  This is usually the result of calling `frame.insert` many times, which has poor performance.  Consider joining all columns at once using pd.concat(axis=1) instead. To get a de-fragmented frame, use `newframe = frame.copy()`\n",
      "  metadata[mlb.classes_[i]] = res.T[i]\n",
      "/var/folders/d7/b6t8w9c960vb7cps3hrj9q_h0000gn/T/ipykernel_34729/3856767485.py:4: PerformanceWarning: DataFrame is highly fragmented.  This is usually the result of calling `frame.insert` many times, which has poor performance.  Consider joining all columns at once using pd.concat(axis=1) instead. To get a de-fragmented frame, use `newframe = frame.copy()`\n",
      "  metadata[mlb.classes_[i]] = res.T[i]\n",
      "/var/folders/d7/b6t8w9c960vb7cps3hrj9q_h0000gn/T/ipykernel_34729/3856767485.py:4: PerformanceWarning: DataFrame is highly fragmented.  This is usually the result of calling `frame.insert` many times, which has poor performance.  Consider joining all columns at once using pd.concat(axis=1) instead. To get a de-fragmented frame, use `newframe = frame.copy()`\n",
      "  metadata[mlb.classes_[i]] = res.T[i]\n",
      "/var/folders/d7/b6t8w9c960vb7cps3hrj9q_h0000gn/T/ipykernel_34729/3856767485.py:4: PerformanceWarning: DataFrame is highly fragmented.  This is usually the result of calling `frame.insert` many times, which has poor performance.  Consider joining all columns at once using pd.concat(axis=1) instead. To get a de-fragmented frame, use `newframe = frame.copy()`\n",
      "  metadata[mlb.classes_[i]] = res.T[i]\n",
      "/var/folders/d7/b6t8w9c960vb7cps3hrj9q_h0000gn/T/ipykernel_34729/3856767485.py:4: PerformanceWarning: DataFrame is highly fragmented.  This is usually the result of calling `frame.insert` many times, which has poor performance.  Consider joining all columns at once using pd.concat(axis=1) instead. To get a de-fragmented frame, use `newframe = frame.copy()`\n",
      "  metadata[mlb.classes_[i]] = res.T[i]\n",
      "/var/folders/d7/b6t8w9c960vb7cps3hrj9q_h0000gn/T/ipykernel_34729/3856767485.py:4: PerformanceWarning: DataFrame is highly fragmented.  This is usually the result of calling `frame.insert` many times, which has poor performance.  Consider joining all columns at once using pd.concat(axis=1) instead. To get a de-fragmented frame, use `newframe = frame.copy()`\n",
      "  metadata[mlb.classes_[i]] = res.T[i]\n",
      "/var/folders/d7/b6t8w9c960vb7cps3hrj9q_h0000gn/T/ipykernel_34729/3856767485.py:4: PerformanceWarning: DataFrame is highly fragmented.  This is usually the result of calling `frame.insert` many times, which has poor performance.  Consider joining all columns at once using pd.concat(axis=1) instead. To get a de-fragmented frame, use `newframe = frame.copy()`\n",
      "  metadata[mlb.classes_[i]] = res.T[i]\n",
      "/var/folders/d7/b6t8w9c960vb7cps3hrj9q_h0000gn/T/ipykernel_34729/3856767485.py:4: PerformanceWarning: DataFrame is highly fragmented.  This is usually the result of calling `frame.insert` many times, which has poor performance.  Consider joining all columns at once using pd.concat(axis=1) instead. To get a de-fragmented frame, use `newframe = frame.copy()`\n",
      "  metadata[mlb.classes_[i]] = res.T[i]\n",
      "/var/folders/d7/b6t8w9c960vb7cps3hrj9q_h0000gn/T/ipykernel_34729/3856767485.py:4: PerformanceWarning: DataFrame is highly fragmented.  This is usually the result of calling `frame.insert` many times, which has poor performance.  Consider joining all columns at once using pd.concat(axis=1) instead. To get a de-fragmented frame, use `newframe = frame.copy()`\n",
      "  metadata[mlb.classes_[i]] = res.T[i]\n",
      "/var/folders/d7/b6t8w9c960vb7cps3hrj9q_h0000gn/T/ipykernel_34729/3856767485.py:4: PerformanceWarning: DataFrame is highly fragmented.  This is usually the result of calling `frame.insert` many times, which has poor performance.  Consider joining all columns at once using pd.concat(axis=1) instead. To get a de-fragmented frame, use `newframe = frame.copy()`\n",
      "  metadata[mlb.classes_[i]] = res.T[i]\n"
     ]
    },
    {
     "name": "stderr",
     "output_type": "stream",
     "text": [
      "/var/folders/d7/b6t8w9c960vb7cps3hrj9q_h0000gn/T/ipykernel_34729/3856767485.py:4: PerformanceWarning: DataFrame is highly fragmented.  This is usually the result of calling `frame.insert` many times, which has poor performance.  Consider joining all columns at once using pd.concat(axis=1) instead. To get a de-fragmented frame, use `newframe = frame.copy()`\n",
      "  metadata[mlb.classes_[i]] = res.T[i]\n",
      "/var/folders/d7/b6t8w9c960vb7cps3hrj9q_h0000gn/T/ipykernel_34729/3856767485.py:4: PerformanceWarning: DataFrame is highly fragmented.  This is usually the result of calling `frame.insert` many times, which has poor performance.  Consider joining all columns at once using pd.concat(axis=1) instead. To get a de-fragmented frame, use `newframe = frame.copy()`\n",
      "  metadata[mlb.classes_[i]] = res.T[i]\n",
      "/var/folders/d7/b6t8w9c960vb7cps3hrj9q_h0000gn/T/ipykernel_34729/3856767485.py:4: PerformanceWarning: DataFrame is highly fragmented.  This is usually the result of calling `frame.insert` many times, which has poor performance.  Consider joining all columns at once using pd.concat(axis=1) instead. To get a de-fragmented frame, use `newframe = frame.copy()`\n",
      "  metadata[mlb.classes_[i]] = res.T[i]\n",
      "/var/folders/d7/b6t8w9c960vb7cps3hrj9q_h0000gn/T/ipykernel_34729/3856767485.py:4: PerformanceWarning: DataFrame is highly fragmented.  This is usually the result of calling `frame.insert` many times, which has poor performance.  Consider joining all columns at once using pd.concat(axis=1) instead. To get a de-fragmented frame, use `newframe = frame.copy()`\n",
      "  metadata[mlb.classes_[i]] = res.T[i]\n",
      "/var/folders/d7/b6t8w9c960vb7cps3hrj9q_h0000gn/T/ipykernel_34729/3856767485.py:4: PerformanceWarning: DataFrame is highly fragmented.  This is usually the result of calling `frame.insert` many times, which has poor performance.  Consider joining all columns at once using pd.concat(axis=1) instead. To get a de-fragmented frame, use `newframe = frame.copy()`\n",
      "  metadata[mlb.classes_[i]] = res.T[i]\n",
      "/var/folders/d7/b6t8w9c960vb7cps3hrj9q_h0000gn/T/ipykernel_34729/3856767485.py:4: PerformanceWarning: DataFrame is highly fragmented.  This is usually the result of calling `frame.insert` many times, which has poor performance.  Consider joining all columns at once using pd.concat(axis=1) instead. To get a de-fragmented frame, use `newframe = frame.copy()`\n",
      "  metadata[mlb.classes_[i]] = res.T[i]\n",
      "/var/folders/d7/b6t8w9c960vb7cps3hrj9q_h0000gn/T/ipykernel_34729/3856767485.py:4: PerformanceWarning: DataFrame is highly fragmented.  This is usually the result of calling `frame.insert` many times, which has poor performance.  Consider joining all columns at once using pd.concat(axis=1) instead. To get a de-fragmented frame, use `newframe = frame.copy()`\n",
      "  metadata[mlb.classes_[i]] = res.T[i]\n",
      "/var/folders/d7/b6t8w9c960vb7cps3hrj9q_h0000gn/T/ipykernel_34729/3856767485.py:4: PerformanceWarning: DataFrame is highly fragmented.  This is usually the result of calling `frame.insert` many times, which has poor performance.  Consider joining all columns at once using pd.concat(axis=1) instead. To get a de-fragmented frame, use `newframe = frame.copy()`\n",
      "  metadata[mlb.classes_[i]] = res.T[i]\n",
      "/var/folders/d7/b6t8w9c960vb7cps3hrj9q_h0000gn/T/ipykernel_34729/3856767485.py:4: PerformanceWarning: DataFrame is highly fragmented.  This is usually the result of calling `frame.insert` many times, which has poor performance.  Consider joining all columns at once using pd.concat(axis=1) instead. To get a de-fragmented frame, use `newframe = frame.copy()`\n",
      "  metadata[mlb.classes_[i]] = res.T[i]\n",
      "/var/folders/d7/b6t8w9c960vb7cps3hrj9q_h0000gn/T/ipykernel_34729/3856767485.py:4: PerformanceWarning: DataFrame is highly fragmented.  This is usually the result of calling `frame.insert` many times, which has poor performance.  Consider joining all columns at once using pd.concat(axis=1) instead. To get a de-fragmented frame, use `newframe = frame.copy()`\n",
      "  metadata[mlb.classes_[i]] = res.T[i]\n",
      "/var/folders/d7/b6t8w9c960vb7cps3hrj9q_h0000gn/T/ipykernel_34729/3856767485.py:4: PerformanceWarning: DataFrame is highly fragmented.  This is usually the result of calling `frame.insert` many times, which has poor performance.  Consider joining all columns at once using pd.concat(axis=1) instead. To get a de-fragmented frame, use `newframe = frame.copy()`\n",
      "  metadata[mlb.classes_[i]] = res.T[i]\n",
      "/var/folders/d7/b6t8w9c960vb7cps3hrj9q_h0000gn/T/ipykernel_34729/3856767485.py:4: PerformanceWarning: DataFrame is highly fragmented.  This is usually the result of calling `frame.insert` many times, which has poor performance.  Consider joining all columns at once using pd.concat(axis=1) instead. To get a de-fragmented frame, use `newframe = frame.copy()`\n",
      "  metadata[mlb.classes_[i]] = res.T[i]\n",
      "/var/folders/d7/b6t8w9c960vb7cps3hrj9q_h0000gn/T/ipykernel_34729/3856767485.py:4: PerformanceWarning: DataFrame is highly fragmented.  This is usually the result of calling `frame.insert` many times, which has poor performance.  Consider joining all columns at once using pd.concat(axis=1) instead. To get a de-fragmented frame, use `newframe = frame.copy()`\n",
      "  metadata[mlb.classes_[i]] = res.T[i]\n",
      "/var/folders/d7/b6t8w9c960vb7cps3hrj9q_h0000gn/T/ipykernel_34729/3856767485.py:4: PerformanceWarning: DataFrame is highly fragmented.  This is usually the result of calling `frame.insert` many times, which has poor performance.  Consider joining all columns at once using pd.concat(axis=1) instead. To get a de-fragmented frame, use `newframe = frame.copy()`\n",
      "  metadata[mlb.classes_[i]] = res.T[i]\n",
      "/var/folders/d7/b6t8w9c960vb7cps3hrj9q_h0000gn/T/ipykernel_34729/3856767485.py:4: PerformanceWarning: DataFrame is highly fragmented.  This is usually the result of calling `frame.insert` many times, which has poor performance.  Consider joining all columns at once using pd.concat(axis=1) instead. To get a de-fragmented frame, use `newframe = frame.copy()`\n",
      "  metadata[mlb.classes_[i]] = res.T[i]\n",
      "/var/folders/d7/b6t8w9c960vb7cps3hrj9q_h0000gn/T/ipykernel_34729/3856767485.py:4: PerformanceWarning: DataFrame is highly fragmented.  This is usually the result of calling `frame.insert` many times, which has poor performance.  Consider joining all columns at once using pd.concat(axis=1) instead. To get a de-fragmented frame, use `newframe = frame.copy()`\n",
      "  metadata[mlb.classes_[i]] = res.T[i]\n",
      "/var/folders/d7/b6t8w9c960vb7cps3hrj9q_h0000gn/T/ipykernel_34729/3856767485.py:4: PerformanceWarning: DataFrame is highly fragmented.  This is usually the result of calling `frame.insert` many times, which has poor performance.  Consider joining all columns at once using pd.concat(axis=1) instead. To get a de-fragmented frame, use `newframe = frame.copy()`\n",
      "  metadata[mlb.classes_[i]] = res.T[i]\n",
      "/var/folders/d7/b6t8w9c960vb7cps3hrj9q_h0000gn/T/ipykernel_34729/3856767485.py:4: PerformanceWarning: DataFrame is highly fragmented.  This is usually the result of calling `frame.insert` many times, which has poor performance.  Consider joining all columns at once using pd.concat(axis=1) instead. To get a de-fragmented frame, use `newframe = frame.copy()`\n",
      "  metadata[mlb.classes_[i]] = res.T[i]\n",
      "/var/folders/d7/b6t8w9c960vb7cps3hrj9q_h0000gn/T/ipykernel_34729/3856767485.py:4: PerformanceWarning: DataFrame is highly fragmented.  This is usually the result of calling `frame.insert` many times, which has poor performance.  Consider joining all columns at once using pd.concat(axis=1) instead. To get a de-fragmented frame, use `newframe = frame.copy()`\n",
      "  metadata[mlb.classes_[i]] = res.T[i]\n",
      "/var/folders/d7/b6t8w9c960vb7cps3hrj9q_h0000gn/T/ipykernel_34729/3856767485.py:4: PerformanceWarning: DataFrame is highly fragmented.  This is usually the result of calling `frame.insert` many times, which has poor performance.  Consider joining all columns at once using pd.concat(axis=1) instead. To get a de-fragmented frame, use `newframe = frame.copy()`\n",
      "  metadata[mlb.classes_[i]] = res.T[i]\n",
      "/var/folders/d7/b6t8w9c960vb7cps3hrj9q_h0000gn/T/ipykernel_34729/3856767485.py:4: PerformanceWarning: DataFrame is highly fragmented.  This is usually the result of calling `frame.insert` many times, which has poor performance.  Consider joining all columns at once using pd.concat(axis=1) instead. To get a de-fragmented frame, use `newframe = frame.copy()`\n",
      "  metadata[mlb.classes_[i]] = res.T[i]\n",
      "/var/folders/d7/b6t8w9c960vb7cps3hrj9q_h0000gn/T/ipykernel_34729/3856767485.py:4: PerformanceWarning: DataFrame is highly fragmented.  This is usually the result of calling `frame.insert` many times, which has poor performance.  Consider joining all columns at once using pd.concat(axis=1) instead. To get a de-fragmented frame, use `newframe = frame.copy()`\n",
      "  metadata[mlb.classes_[i]] = res.T[i]\n",
      "/var/folders/d7/b6t8w9c960vb7cps3hrj9q_h0000gn/T/ipykernel_34729/3856767485.py:4: PerformanceWarning: DataFrame is highly fragmented.  This is usually the result of calling `frame.insert` many times, which has poor performance.  Consider joining all columns at once using pd.concat(axis=1) instead. To get a de-fragmented frame, use `newframe = frame.copy()`\n",
      "  metadata[mlb.classes_[i]] = res.T[i]\n",
      "/var/folders/d7/b6t8w9c960vb7cps3hrj9q_h0000gn/T/ipykernel_34729/3856767485.py:4: PerformanceWarning: DataFrame is highly fragmented.  This is usually the result of calling `frame.insert` many times, which has poor performance.  Consider joining all columns at once using pd.concat(axis=1) instead. To get a de-fragmented frame, use `newframe = frame.copy()`\n",
      "  metadata[mlb.classes_[i]] = res.T[i]\n",
      "/var/folders/d7/b6t8w9c960vb7cps3hrj9q_h0000gn/T/ipykernel_34729/3856767485.py:4: PerformanceWarning: DataFrame is highly fragmented.  This is usually the result of calling `frame.insert` many times, which has poor performance.  Consider joining all columns at once using pd.concat(axis=1) instead. To get a de-fragmented frame, use `newframe = frame.copy()`\n",
      "  metadata[mlb.classes_[i]] = res.T[i]\n",
      "/var/folders/d7/b6t8w9c960vb7cps3hrj9q_h0000gn/T/ipykernel_34729/3856767485.py:4: PerformanceWarning: DataFrame is highly fragmented.  This is usually the result of calling `frame.insert` many times, which has poor performance.  Consider joining all columns at once using pd.concat(axis=1) instead. To get a de-fragmented frame, use `newframe = frame.copy()`\n",
      "  metadata[mlb.classes_[i]] = res.T[i]\n",
      "/var/folders/d7/b6t8w9c960vb7cps3hrj9q_h0000gn/T/ipykernel_34729/3856767485.py:4: PerformanceWarning: DataFrame is highly fragmented.  This is usually the result of calling `frame.insert` many times, which has poor performance.  Consider joining all columns at once using pd.concat(axis=1) instead. To get a de-fragmented frame, use `newframe = frame.copy()`\n",
      "  metadata[mlb.classes_[i]] = res.T[i]\n",
      "/var/folders/d7/b6t8w9c960vb7cps3hrj9q_h0000gn/T/ipykernel_34729/3856767485.py:4: PerformanceWarning: DataFrame is highly fragmented.  This is usually the result of calling `frame.insert` many times, which has poor performance.  Consider joining all columns at once using pd.concat(axis=1) instead. To get a de-fragmented frame, use `newframe = frame.copy()`\n",
      "  metadata[mlb.classes_[i]] = res.T[i]\n",
      "/var/folders/d7/b6t8w9c960vb7cps3hrj9q_h0000gn/T/ipykernel_34729/3856767485.py:4: PerformanceWarning: DataFrame is highly fragmented.  This is usually the result of calling `frame.insert` many times, which has poor performance.  Consider joining all columns at once using pd.concat(axis=1) instead. To get a de-fragmented frame, use `newframe = frame.copy()`\n",
      "  metadata[mlb.classes_[i]] = res.T[i]\n",
      "/var/folders/d7/b6t8w9c960vb7cps3hrj9q_h0000gn/T/ipykernel_34729/3856767485.py:4: PerformanceWarning: DataFrame is highly fragmented.  This is usually the result of calling `frame.insert` many times, which has poor performance.  Consider joining all columns at once using pd.concat(axis=1) instead. To get a de-fragmented frame, use `newframe = frame.copy()`\n",
      "  metadata[mlb.classes_[i]] = res.T[i]\n",
      "/var/folders/d7/b6t8w9c960vb7cps3hrj9q_h0000gn/T/ipykernel_34729/3856767485.py:4: PerformanceWarning: DataFrame is highly fragmented.  This is usually the result of calling `frame.insert` many times, which has poor performance.  Consider joining all columns at once using pd.concat(axis=1) instead. To get a de-fragmented frame, use `newframe = frame.copy()`\n",
      "  metadata[mlb.classes_[i]] = res.T[i]\n",
      "/var/folders/d7/b6t8w9c960vb7cps3hrj9q_h0000gn/T/ipykernel_34729/3856767485.py:4: PerformanceWarning: DataFrame is highly fragmented.  This is usually the result of calling `frame.insert` many times, which has poor performance.  Consider joining all columns at once using pd.concat(axis=1) instead. To get a de-fragmented frame, use `newframe = frame.copy()`\n",
      "  metadata[mlb.classes_[i]] = res.T[i]\n",
      "/var/folders/d7/b6t8w9c960vb7cps3hrj9q_h0000gn/T/ipykernel_34729/3856767485.py:4: PerformanceWarning: DataFrame is highly fragmented.  This is usually the result of calling `frame.insert` many times, which has poor performance.  Consider joining all columns at once using pd.concat(axis=1) instead. To get a de-fragmented frame, use `newframe = frame.copy()`\n",
      "  metadata[mlb.classes_[i]] = res.T[i]\n",
      "/var/folders/d7/b6t8w9c960vb7cps3hrj9q_h0000gn/T/ipykernel_34729/3856767485.py:4: PerformanceWarning: DataFrame is highly fragmented.  This is usually the result of calling `frame.insert` many times, which has poor performance.  Consider joining all columns at once using pd.concat(axis=1) instead. To get a de-fragmented frame, use `newframe = frame.copy()`\n",
      "  metadata[mlb.classes_[i]] = res.T[i]\n",
      "/var/folders/d7/b6t8w9c960vb7cps3hrj9q_h0000gn/T/ipykernel_34729/3856767485.py:4: PerformanceWarning: DataFrame is highly fragmented.  This is usually the result of calling `frame.insert` many times, which has poor performance.  Consider joining all columns at once using pd.concat(axis=1) instead. To get a de-fragmented frame, use `newframe = frame.copy()`\n",
      "  metadata[mlb.classes_[i]] = res.T[i]\n",
      "/var/folders/d7/b6t8w9c960vb7cps3hrj9q_h0000gn/T/ipykernel_34729/3856767485.py:4: PerformanceWarning: DataFrame is highly fragmented.  This is usually the result of calling `frame.insert` many times, which has poor performance.  Consider joining all columns at once using pd.concat(axis=1) instead. To get a de-fragmented frame, use `newframe = frame.copy()`\n",
      "  metadata[mlb.classes_[i]] = res.T[i]\n",
      "/var/folders/d7/b6t8w9c960vb7cps3hrj9q_h0000gn/T/ipykernel_34729/3856767485.py:4: PerformanceWarning: DataFrame is highly fragmented.  This is usually the result of calling `frame.insert` many times, which has poor performance.  Consider joining all columns at once using pd.concat(axis=1) instead. To get a de-fragmented frame, use `newframe = frame.copy()`\n",
      "  metadata[mlb.classes_[i]] = res.T[i]\n",
      "/var/folders/d7/b6t8w9c960vb7cps3hrj9q_h0000gn/T/ipykernel_34729/3856767485.py:4: PerformanceWarning: DataFrame is highly fragmented.  This is usually the result of calling `frame.insert` many times, which has poor performance.  Consider joining all columns at once using pd.concat(axis=1) instead. To get a de-fragmented frame, use `newframe = frame.copy()`\n",
      "  metadata[mlb.classes_[i]] = res.T[i]\n",
      "/var/folders/d7/b6t8w9c960vb7cps3hrj9q_h0000gn/T/ipykernel_34729/3856767485.py:4: PerformanceWarning: DataFrame is highly fragmented.  This is usually the result of calling `frame.insert` many times, which has poor performance.  Consider joining all columns at once using pd.concat(axis=1) instead. To get a de-fragmented frame, use `newframe = frame.copy()`\n",
      "  metadata[mlb.classes_[i]] = res.T[i]\n",
      "/var/folders/d7/b6t8w9c960vb7cps3hrj9q_h0000gn/T/ipykernel_34729/3856767485.py:4: PerformanceWarning: DataFrame is highly fragmented.  This is usually the result of calling `frame.insert` many times, which has poor performance.  Consider joining all columns at once using pd.concat(axis=1) instead. To get a de-fragmented frame, use `newframe = frame.copy()`\n",
      "  metadata[mlb.classes_[i]] = res.T[i]\n",
      "/var/folders/d7/b6t8w9c960vb7cps3hrj9q_h0000gn/T/ipykernel_34729/3856767485.py:4: PerformanceWarning: DataFrame is highly fragmented.  This is usually the result of calling `frame.insert` many times, which has poor performance.  Consider joining all columns at once using pd.concat(axis=1) instead. To get a de-fragmented frame, use `newframe = frame.copy()`\n",
      "  metadata[mlb.classes_[i]] = res.T[i]\n",
      "/var/folders/d7/b6t8w9c960vb7cps3hrj9q_h0000gn/T/ipykernel_34729/3856767485.py:4: PerformanceWarning: DataFrame is highly fragmented.  This is usually the result of calling `frame.insert` many times, which has poor performance.  Consider joining all columns at once using pd.concat(axis=1) instead. To get a de-fragmented frame, use `newframe = frame.copy()`\n",
      "  metadata[mlb.classes_[i]] = res.T[i]\n",
      "/var/folders/d7/b6t8w9c960vb7cps3hrj9q_h0000gn/T/ipykernel_34729/3856767485.py:4: PerformanceWarning: DataFrame is highly fragmented.  This is usually the result of calling `frame.insert` many times, which has poor performance.  Consider joining all columns at once using pd.concat(axis=1) instead. To get a de-fragmented frame, use `newframe = frame.copy()`\n",
      "  metadata[mlb.classes_[i]] = res.T[i]\n",
      "/var/folders/d7/b6t8w9c960vb7cps3hrj9q_h0000gn/T/ipykernel_34729/3856767485.py:4: PerformanceWarning: DataFrame is highly fragmented.  This is usually the result of calling `frame.insert` many times, which has poor performance.  Consider joining all columns at once using pd.concat(axis=1) instead. To get a de-fragmented frame, use `newframe = frame.copy()`\n",
      "  metadata[mlb.classes_[i]] = res.T[i]\n",
      "/var/folders/d7/b6t8w9c960vb7cps3hrj9q_h0000gn/T/ipykernel_34729/3856767485.py:4: PerformanceWarning: DataFrame is highly fragmented.  This is usually the result of calling `frame.insert` many times, which has poor performance.  Consider joining all columns at once using pd.concat(axis=1) instead. To get a de-fragmented frame, use `newframe = frame.copy()`\n",
      "  metadata[mlb.classes_[i]] = res.T[i]\n",
      "/var/folders/d7/b6t8w9c960vb7cps3hrj9q_h0000gn/T/ipykernel_34729/3856767485.py:4: PerformanceWarning: DataFrame is highly fragmented.  This is usually the result of calling `frame.insert` many times, which has poor performance.  Consider joining all columns at once using pd.concat(axis=1) instead. To get a de-fragmented frame, use `newframe = frame.copy()`\n",
      "  metadata[mlb.classes_[i]] = res.T[i]\n",
      "/var/folders/d7/b6t8w9c960vb7cps3hrj9q_h0000gn/T/ipykernel_34729/3856767485.py:4: PerformanceWarning: DataFrame is highly fragmented.  This is usually the result of calling `frame.insert` many times, which has poor performance.  Consider joining all columns at once using pd.concat(axis=1) instead. To get a de-fragmented frame, use `newframe = frame.copy()`\n",
      "  metadata[mlb.classes_[i]] = res.T[i]\n",
      "/var/folders/d7/b6t8w9c960vb7cps3hrj9q_h0000gn/T/ipykernel_34729/3856767485.py:4: PerformanceWarning: DataFrame is highly fragmented.  This is usually the result of calling `frame.insert` many times, which has poor performance.  Consider joining all columns at once using pd.concat(axis=1) instead. To get a de-fragmented frame, use `newframe = frame.copy()`\n",
      "  metadata[mlb.classes_[i]] = res.T[i]\n",
      "/var/folders/d7/b6t8w9c960vb7cps3hrj9q_h0000gn/T/ipykernel_34729/3856767485.py:4: PerformanceWarning: DataFrame is highly fragmented.  This is usually the result of calling `frame.insert` many times, which has poor performance.  Consider joining all columns at once using pd.concat(axis=1) instead. To get a de-fragmented frame, use `newframe = frame.copy()`\n",
      "  metadata[mlb.classes_[i]] = res.T[i]\n",
      "/var/folders/d7/b6t8w9c960vb7cps3hrj9q_h0000gn/T/ipykernel_34729/3856767485.py:4: PerformanceWarning: DataFrame is highly fragmented.  This is usually the result of calling `frame.insert` many times, which has poor performance.  Consider joining all columns at once using pd.concat(axis=1) instead. To get a de-fragmented frame, use `newframe = frame.copy()`\n",
      "  metadata[mlb.classes_[i]] = res.T[i]\n",
      "/var/folders/d7/b6t8w9c960vb7cps3hrj9q_h0000gn/T/ipykernel_34729/3856767485.py:4: PerformanceWarning: DataFrame is highly fragmented.  This is usually the result of calling `frame.insert` many times, which has poor performance.  Consider joining all columns at once using pd.concat(axis=1) instead. To get a de-fragmented frame, use `newframe = frame.copy()`\n",
      "  metadata[mlb.classes_[i]] = res.T[i]\n",
      "/var/folders/d7/b6t8w9c960vb7cps3hrj9q_h0000gn/T/ipykernel_34729/3856767485.py:4: PerformanceWarning: DataFrame is highly fragmented.  This is usually the result of calling `frame.insert` many times, which has poor performance.  Consider joining all columns at once using pd.concat(axis=1) instead. To get a de-fragmented frame, use `newframe = frame.copy()`\n",
      "  metadata[mlb.classes_[i]] = res.T[i]\n",
      "/var/folders/d7/b6t8w9c960vb7cps3hrj9q_h0000gn/T/ipykernel_34729/3856767485.py:4: PerformanceWarning: DataFrame is highly fragmented.  This is usually the result of calling `frame.insert` many times, which has poor performance.  Consider joining all columns at once using pd.concat(axis=1) instead. To get a de-fragmented frame, use `newframe = frame.copy()`\n",
      "  metadata[mlb.classes_[i]] = res.T[i]\n"
     ]
    },
    {
     "name": "stderr",
     "output_type": "stream",
     "text": [
      "/var/folders/d7/b6t8w9c960vb7cps3hrj9q_h0000gn/T/ipykernel_34729/3856767485.py:4: PerformanceWarning: DataFrame is highly fragmented.  This is usually the result of calling `frame.insert` many times, which has poor performance.  Consider joining all columns at once using pd.concat(axis=1) instead. To get a de-fragmented frame, use `newframe = frame.copy()`\n",
      "  metadata[mlb.classes_[i]] = res.T[i]\n",
      "/var/folders/d7/b6t8w9c960vb7cps3hrj9q_h0000gn/T/ipykernel_34729/3856767485.py:4: PerformanceWarning: DataFrame is highly fragmented.  This is usually the result of calling `frame.insert` many times, which has poor performance.  Consider joining all columns at once using pd.concat(axis=1) instead. To get a de-fragmented frame, use `newframe = frame.copy()`\n",
      "  metadata[mlb.classes_[i]] = res.T[i]\n",
      "/var/folders/d7/b6t8w9c960vb7cps3hrj9q_h0000gn/T/ipykernel_34729/3856767485.py:4: PerformanceWarning: DataFrame is highly fragmented.  This is usually the result of calling `frame.insert` many times, which has poor performance.  Consider joining all columns at once using pd.concat(axis=1) instead. To get a de-fragmented frame, use `newframe = frame.copy()`\n",
      "  metadata[mlb.classes_[i]] = res.T[i]\n",
      "/var/folders/d7/b6t8w9c960vb7cps3hrj9q_h0000gn/T/ipykernel_34729/3856767485.py:4: PerformanceWarning: DataFrame is highly fragmented.  This is usually the result of calling `frame.insert` many times, which has poor performance.  Consider joining all columns at once using pd.concat(axis=1) instead. To get a de-fragmented frame, use `newframe = frame.copy()`\n",
      "  metadata[mlb.classes_[i]] = res.T[i]\n",
      "/var/folders/d7/b6t8w9c960vb7cps3hrj9q_h0000gn/T/ipykernel_34729/3856767485.py:4: PerformanceWarning: DataFrame is highly fragmented.  This is usually the result of calling `frame.insert` many times, which has poor performance.  Consider joining all columns at once using pd.concat(axis=1) instead. To get a de-fragmented frame, use `newframe = frame.copy()`\n",
      "  metadata[mlb.classes_[i]] = res.T[i]\n",
      "/var/folders/d7/b6t8w9c960vb7cps3hrj9q_h0000gn/T/ipykernel_34729/3856767485.py:4: PerformanceWarning: DataFrame is highly fragmented.  This is usually the result of calling `frame.insert` many times, which has poor performance.  Consider joining all columns at once using pd.concat(axis=1) instead. To get a de-fragmented frame, use `newframe = frame.copy()`\n",
      "  metadata[mlb.classes_[i]] = res.T[i]\n",
      "/var/folders/d7/b6t8w9c960vb7cps3hrj9q_h0000gn/T/ipykernel_34729/3856767485.py:4: PerformanceWarning: DataFrame is highly fragmented.  This is usually the result of calling `frame.insert` many times, which has poor performance.  Consider joining all columns at once using pd.concat(axis=1) instead. To get a de-fragmented frame, use `newframe = frame.copy()`\n",
      "  metadata[mlb.classes_[i]] = res.T[i]\n",
      "/var/folders/d7/b6t8w9c960vb7cps3hrj9q_h0000gn/T/ipykernel_34729/3856767485.py:4: PerformanceWarning: DataFrame is highly fragmented.  This is usually the result of calling `frame.insert` many times, which has poor performance.  Consider joining all columns at once using pd.concat(axis=1) instead. To get a de-fragmented frame, use `newframe = frame.copy()`\n",
      "  metadata[mlb.classes_[i]] = res.T[i]\n",
      "/var/folders/d7/b6t8w9c960vb7cps3hrj9q_h0000gn/T/ipykernel_34729/3856767485.py:4: PerformanceWarning: DataFrame is highly fragmented.  This is usually the result of calling `frame.insert` many times, which has poor performance.  Consider joining all columns at once using pd.concat(axis=1) instead. To get a de-fragmented frame, use `newframe = frame.copy()`\n",
      "  metadata[mlb.classes_[i]] = res.T[i]\n",
      "/var/folders/d7/b6t8w9c960vb7cps3hrj9q_h0000gn/T/ipykernel_34729/3856767485.py:4: PerformanceWarning: DataFrame is highly fragmented.  This is usually the result of calling `frame.insert` many times, which has poor performance.  Consider joining all columns at once using pd.concat(axis=1) instead. To get a de-fragmented frame, use `newframe = frame.copy()`\n",
      "  metadata[mlb.classes_[i]] = res.T[i]\n",
      "/var/folders/d7/b6t8w9c960vb7cps3hrj9q_h0000gn/T/ipykernel_34729/3856767485.py:4: PerformanceWarning: DataFrame is highly fragmented.  This is usually the result of calling `frame.insert` many times, which has poor performance.  Consider joining all columns at once using pd.concat(axis=1) instead. To get a de-fragmented frame, use `newframe = frame.copy()`\n",
      "  metadata[mlb.classes_[i]] = res.T[i]\n",
      "/var/folders/d7/b6t8w9c960vb7cps3hrj9q_h0000gn/T/ipykernel_34729/3856767485.py:4: PerformanceWarning: DataFrame is highly fragmented.  This is usually the result of calling `frame.insert` many times, which has poor performance.  Consider joining all columns at once using pd.concat(axis=1) instead. To get a de-fragmented frame, use `newframe = frame.copy()`\n",
      "  metadata[mlb.classes_[i]] = res.T[i]\n",
      "/var/folders/d7/b6t8w9c960vb7cps3hrj9q_h0000gn/T/ipykernel_34729/3856767485.py:4: PerformanceWarning: DataFrame is highly fragmented.  This is usually the result of calling `frame.insert` many times, which has poor performance.  Consider joining all columns at once using pd.concat(axis=1) instead. To get a de-fragmented frame, use `newframe = frame.copy()`\n",
      "  metadata[mlb.classes_[i]] = res.T[i]\n",
      "/var/folders/d7/b6t8w9c960vb7cps3hrj9q_h0000gn/T/ipykernel_34729/3856767485.py:4: PerformanceWarning: DataFrame is highly fragmented.  This is usually the result of calling `frame.insert` many times, which has poor performance.  Consider joining all columns at once using pd.concat(axis=1) instead. To get a de-fragmented frame, use `newframe = frame.copy()`\n",
      "  metadata[mlb.classes_[i]] = res.T[i]\n",
      "/var/folders/d7/b6t8w9c960vb7cps3hrj9q_h0000gn/T/ipykernel_34729/3856767485.py:4: PerformanceWarning: DataFrame is highly fragmented.  This is usually the result of calling `frame.insert` many times, which has poor performance.  Consider joining all columns at once using pd.concat(axis=1) instead. To get a de-fragmented frame, use `newframe = frame.copy()`\n",
      "  metadata[mlb.classes_[i]] = res.T[i]\n",
      "/var/folders/d7/b6t8w9c960vb7cps3hrj9q_h0000gn/T/ipykernel_34729/3856767485.py:4: PerformanceWarning: DataFrame is highly fragmented.  This is usually the result of calling `frame.insert` many times, which has poor performance.  Consider joining all columns at once using pd.concat(axis=1) instead. To get a de-fragmented frame, use `newframe = frame.copy()`\n",
      "  metadata[mlb.classes_[i]] = res.T[i]\n",
      "/var/folders/d7/b6t8w9c960vb7cps3hrj9q_h0000gn/T/ipykernel_34729/3856767485.py:4: PerformanceWarning: DataFrame is highly fragmented.  This is usually the result of calling `frame.insert` many times, which has poor performance.  Consider joining all columns at once using pd.concat(axis=1) instead. To get a de-fragmented frame, use `newframe = frame.copy()`\n",
      "  metadata[mlb.classes_[i]] = res.T[i]\n",
      "/var/folders/d7/b6t8w9c960vb7cps3hrj9q_h0000gn/T/ipykernel_34729/3856767485.py:4: PerformanceWarning: DataFrame is highly fragmented.  This is usually the result of calling `frame.insert` many times, which has poor performance.  Consider joining all columns at once using pd.concat(axis=1) instead. To get a de-fragmented frame, use `newframe = frame.copy()`\n",
      "  metadata[mlb.classes_[i]] = res.T[i]\n",
      "/var/folders/d7/b6t8w9c960vb7cps3hrj9q_h0000gn/T/ipykernel_34729/3856767485.py:4: PerformanceWarning: DataFrame is highly fragmented.  This is usually the result of calling `frame.insert` many times, which has poor performance.  Consider joining all columns at once using pd.concat(axis=1) instead. To get a de-fragmented frame, use `newframe = frame.copy()`\n",
      "  metadata[mlb.classes_[i]] = res.T[i]\n",
      "/var/folders/d7/b6t8w9c960vb7cps3hrj9q_h0000gn/T/ipykernel_34729/3856767485.py:4: PerformanceWarning: DataFrame is highly fragmented.  This is usually the result of calling `frame.insert` many times, which has poor performance.  Consider joining all columns at once using pd.concat(axis=1) instead. To get a de-fragmented frame, use `newframe = frame.copy()`\n",
      "  metadata[mlb.classes_[i]] = res.T[i]\n",
      "/var/folders/d7/b6t8w9c960vb7cps3hrj9q_h0000gn/T/ipykernel_34729/3856767485.py:4: PerformanceWarning: DataFrame is highly fragmented.  This is usually the result of calling `frame.insert` many times, which has poor performance.  Consider joining all columns at once using pd.concat(axis=1) instead. To get a de-fragmented frame, use `newframe = frame.copy()`\n",
      "  metadata[mlb.classes_[i]] = res.T[i]\n",
      "/var/folders/d7/b6t8w9c960vb7cps3hrj9q_h0000gn/T/ipykernel_34729/3856767485.py:4: PerformanceWarning: DataFrame is highly fragmented.  This is usually the result of calling `frame.insert` many times, which has poor performance.  Consider joining all columns at once using pd.concat(axis=1) instead. To get a de-fragmented frame, use `newframe = frame.copy()`\n",
      "  metadata[mlb.classes_[i]] = res.T[i]\n",
      "/var/folders/d7/b6t8w9c960vb7cps3hrj9q_h0000gn/T/ipykernel_34729/3856767485.py:4: PerformanceWarning: DataFrame is highly fragmented.  This is usually the result of calling `frame.insert` many times, which has poor performance.  Consider joining all columns at once using pd.concat(axis=1) instead. To get a de-fragmented frame, use `newframe = frame.copy()`\n",
      "  metadata[mlb.classes_[i]] = res.T[i]\n",
      "/var/folders/d7/b6t8w9c960vb7cps3hrj9q_h0000gn/T/ipykernel_34729/3856767485.py:4: PerformanceWarning: DataFrame is highly fragmented.  This is usually the result of calling `frame.insert` many times, which has poor performance.  Consider joining all columns at once using pd.concat(axis=1) instead. To get a de-fragmented frame, use `newframe = frame.copy()`\n",
      "  metadata[mlb.classes_[i]] = res.T[i]\n",
      "/var/folders/d7/b6t8w9c960vb7cps3hrj9q_h0000gn/T/ipykernel_34729/3856767485.py:4: PerformanceWarning: DataFrame is highly fragmented.  This is usually the result of calling `frame.insert` many times, which has poor performance.  Consider joining all columns at once using pd.concat(axis=1) instead. To get a de-fragmented frame, use `newframe = frame.copy()`\n",
      "  metadata[mlb.classes_[i]] = res.T[i]\n",
      "/var/folders/d7/b6t8w9c960vb7cps3hrj9q_h0000gn/T/ipykernel_34729/3856767485.py:4: PerformanceWarning: DataFrame is highly fragmented.  This is usually the result of calling `frame.insert` many times, which has poor performance.  Consider joining all columns at once using pd.concat(axis=1) instead. To get a de-fragmented frame, use `newframe = frame.copy()`\n",
      "  metadata[mlb.classes_[i]] = res.T[i]\n",
      "/var/folders/d7/b6t8w9c960vb7cps3hrj9q_h0000gn/T/ipykernel_34729/3856767485.py:4: PerformanceWarning: DataFrame is highly fragmented.  This is usually the result of calling `frame.insert` many times, which has poor performance.  Consider joining all columns at once using pd.concat(axis=1) instead. To get a de-fragmented frame, use `newframe = frame.copy()`\n",
      "  metadata[mlb.classes_[i]] = res.T[i]\n",
      "/var/folders/d7/b6t8w9c960vb7cps3hrj9q_h0000gn/T/ipykernel_34729/3856767485.py:4: PerformanceWarning: DataFrame is highly fragmented.  This is usually the result of calling `frame.insert` many times, which has poor performance.  Consider joining all columns at once using pd.concat(axis=1) instead. To get a de-fragmented frame, use `newframe = frame.copy()`\n",
      "  metadata[mlb.classes_[i]] = res.T[i]\n",
      "/var/folders/d7/b6t8w9c960vb7cps3hrj9q_h0000gn/T/ipykernel_34729/3856767485.py:4: PerformanceWarning: DataFrame is highly fragmented.  This is usually the result of calling `frame.insert` many times, which has poor performance.  Consider joining all columns at once using pd.concat(axis=1) instead. To get a de-fragmented frame, use `newframe = frame.copy()`\n",
      "  metadata[mlb.classes_[i]] = res.T[i]\n",
      "/var/folders/d7/b6t8w9c960vb7cps3hrj9q_h0000gn/T/ipykernel_34729/3856767485.py:4: PerformanceWarning: DataFrame is highly fragmented.  This is usually the result of calling `frame.insert` many times, which has poor performance.  Consider joining all columns at once using pd.concat(axis=1) instead. To get a de-fragmented frame, use `newframe = frame.copy()`\n",
      "  metadata[mlb.classes_[i]] = res.T[i]\n",
      "/var/folders/d7/b6t8w9c960vb7cps3hrj9q_h0000gn/T/ipykernel_34729/3856767485.py:4: PerformanceWarning: DataFrame is highly fragmented.  This is usually the result of calling `frame.insert` many times, which has poor performance.  Consider joining all columns at once using pd.concat(axis=1) instead. To get a de-fragmented frame, use `newframe = frame.copy()`\n",
      "  metadata[mlb.classes_[i]] = res.T[i]\n",
      "/var/folders/d7/b6t8w9c960vb7cps3hrj9q_h0000gn/T/ipykernel_34729/3856767485.py:4: PerformanceWarning: DataFrame is highly fragmented.  This is usually the result of calling `frame.insert` many times, which has poor performance.  Consider joining all columns at once using pd.concat(axis=1) instead. To get a de-fragmented frame, use `newframe = frame.copy()`\n",
      "  metadata[mlb.classes_[i]] = res.T[i]\n",
      "/var/folders/d7/b6t8w9c960vb7cps3hrj9q_h0000gn/T/ipykernel_34729/3856767485.py:4: PerformanceWarning: DataFrame is highly fragmented.  This is usually the result of calling `frame.insert` many times, which has poor performance.  Consider joining all columns at once using pd.concat(axis=1) instead. To get a de-fragmented frame, use `newframe = frame.copy()`\n",
      "  metadata[mlb.classes_[i]] = res.T[i]\n",
      "/var/folders/d7/b6t8w9c960vb7cps3hrj9q_h0000gn/T/ipykernel_34729/3856767485.py:4: PerformanceWarning: DataFrame is highly fragmented.  This is usually the result of calling `frame.insert` many times, which has poor performance.  Consider joining all columns at once using pd.concat(axis=1) instead. To get a de-fragmented frame, use `newframe = frame.copy()`\n",
      "  metadata[mlb.classes_[i]] = res.T[i]\n",
      "/var/folders/d7/b6t8w9c960vb7cps3hrj9q_h0000gn/T/ipykernel_34729/3856767485.py:4: PerformanceWarning: DataFrame is highly fragmented.  This is usually the result of calling `frame.insert` many times, which has poor performance.  Consider joining all columns at once using pd.concat(axis=1) instead. To get a de-fragmented frame, use `newframe = frame.copy()`\n",
      "  metadata[mlb.classes_[i]] = res.T[i]\n",
      "/var/folders/d7/b6t8w9c960vb7cps3hrj9q_h0000gn/T/ipykernel_34729/3856767485.py:4: PerformanceWarning: DataFrame is highly fragmented.  This is usually the result of calling `frame.insert` many times, which has poor performance.  Consider joining all columns at once using pd.concat(axis=1) instead. To get a de-fragmented frame, use `newframe = frame.copy()`\n",
      "  metadata[mlb.classes_[i]] = res.T[i]\n",
      "/var/folders/d7/b6t8w9c960vb7cps3hrj9q_h0000gn/T/ipykernel_34729/3856767485.py:4: PerformanceWarning: DataFrame is highly fragmented.  This is usually the result of calling `frame.insert` many times, which has poor performance.  Consider joining all columns at once using pd.concat(axis=1) instead. To get a de-fragmented frame, use `newframe = frame.copy()`\n",
      "  metadata[mlb.classes_[i]] = res.T[i]\n",
      "/var/folders/d7/b6t8w9c960vb7cps3hrj9q_h0000gn/T/ipykernel_34729/3856767485.py:4: PerformanceWarning: DataFrame is highly fragmented.  This is usually the result of calling `frame.insert` many times, which has poor performance.  Consider joining all columns at once using pd.concat(axis=1) instead. To get a de-fragmented frame, use `newframe = frame.copy()`\n",
      "  metadata[mlb.classes_[i]] = res.T[i]\n",
      "/var/folders/d7/b6t8w9c960vb7cps3hrj9q_h0000gn/T/ipykernel_34729/3856767485.py:4: PerformanceWarning: DataFrame is highly fragmented.  This is usually the result of calling `frame.insert` many times, which has poor performance.  Consider joining all columns at once using pd.concat(axis=1) instead. To get a de-fragmented frame, use `newframe = frame.copy()`\n",
      "  metadata[mlb.classes_[i]] = res.T[i]\n",
      "/var/folders/d7/b6t8w9c960vb7cps3hrj9q_h0000gn/T/ipykernel_34729/3856767485.py:4: PerformanceWarning: DataFrame is highly fragmented.  This is usually the result of calling `frame.insert` many times, which has poor performance.  Consider joining all columns at once using pd.concat(axis=1) instead. To get a de-fragmented frame, use `newframe = frame.copy()`\n",
      "  metadata[mlb.classes_[i]] = res.T[i]\n",
      "/var/folders/d7/b6t8w9c960vb7cps3hrj9q_h0000gn/T/ipykernel_34729/3856767485.py:4: PerformanceWarning: DataFrame is highly fragmented.  This is usually the result of calling `frame.insert` many times, which has poor performance.  Consider joining all columns at once using pd.concat(axis=1) instead. To get a de-fragmented frame, use `newframe = frame.copy()`\n",
      "  metadata[mlb.classes_[i]] = res.T[i]\n",
      "/var/folders/d7/b6t8w9c960vb7cps3hrj9q_h0000gn/T/ipykernel_34729/3856767485.py:4: PerformanceWarning: DataFrame is highly fragmented.  This is usually the result of calling `frame.insert` many times, which has poor performance.  Consider joining all columns at once using pd.concat(axis=1) instead. To get a de-fragmented frame, use `newframe = frame.copy()`\n",
      "  metadata[mlb.classes_[i]] = res.T[i]\n",
      "/var/folders/d7/b6t8w9c960vb7cps3hrj9q_h0000gn/T/ipykernel_34729/3856767485.py:4: PerformanceWarning: DataFrame is highly fragmented.  This is usually the result of calling `frame.insert` many times, which has poor performance.  Consider joining all columns at once using pd.concat(axis=1) instead. To get a de-fragmented frame, use `newframe = frame.copy()`\n",
      "  metadata[mlb.classes_[i]] = res.T[i]\n",
      "/var/folders/d7/b6t8w9c960vb7cps3hrj9q_h0000gn/T/ipykernel_34729/3856767485.py:4: PerformanceWarning: DataFrame is highly fragmented.  This is usually the result of calling `frame.insert` many times, which has poor performance.  Consider joining all columns at once using pd.concat(axis=1) instead. To get a de-fragmented frame, use `newframe = frame.copy()`\n",
      "  metadata[mlb.classes_[i]] = res.T[i]\n",
      "/var/folders/d7/b6t8w9c960vb7cps3hrj9q_h0000gn/T/ipykernel_34729/3856767485.py:4: PerformanceWarning: DataFrame is highly fragmented.  This is usually the result of calling `frame.insert` many times, which has poor performance.  Consider joining all columns at once using pd.concat(axis=1) instead. To get a de-fragmented frame, use `newframe = frame.copy()`\n",
      "  metadata[mlb.classes_[i]] = res.T[i]\n",
      "/var/folders/d7/b6t8w9c960vb7cps3hrj9q_h0000gn/T/ipykernel_34729/3856767485.py:4: PerformanceWarning: DataFrame is highly fragmented.  This is usually the result of calling `frame.insert` many times, which has poor performance.  Consider joining all columns at once using pd.concat(axis=1) instead. To get a de-fragmented frame, use `newframe = frame.copy()`\n",
      "  metadata[mlb.classes_[i]] = res.T[i]\n",
      "/var/folders/d7/b6t8w9c960vb7cps3hrj9q_h0000gn/T/ipykernel_34729/3856767485.py:4: PerformanceWarning: DataFrame is highly fragmented.  This is usually the result of calling `frame.insert` many times, which has poor performance.  Consider joining all columns at once using pd.concat(axis=1) instead. To get a de-fragmented frame, use `newframe = frame.copy()`\n",
      "  metadata[mlb.classes_[i]] = res.T[i]\n",
      "/var/folders/d7/b6t8w9c960vb7cps3hrj9q_h0000gn/T/ipykernel_34729/3856767485.py:4: PerformanceWarning: DataFrame is highly fragmented.  This is usually the result of calling `frame.insert` many times, which has poor performance.  Consider joining all columns at once using pd.concat(axis=1) instead. To get a de-fragmented frame, use `newframe = frame.copy()`\n",
      "  metadata[mlb.classes_[i]] = res.T[i]\n",
      "/var/folders/d7/b6t8w9c960vb7cps3hrj9q_h0000gn/T/ipykernel_34729/3856767485.py:4: PerformanceWarning: DataFrame is highly fragmented.  This is usually the result of calling `frame.insert` many times, which has poor performance.  Consider joining all columns at once using pd.concat(axis=1) instead. To get a de-fragmented frame, use `newframe = frame.copy()`\n",
      "  metadata[mlb.classes_[i]] = res.T[i]\n",
      "/var/folders/d7/b6t8w9c960vb7cps3hrj9q_h0000gn/T/ipykernel_34729/3856767485.py:4: PerformanceWarning: DataFrame is highly fragmented.  This is usually the result of calling `frame.insert` many times, which has poor performance.  Consider joining all columns at once using pd.concat(axis=1) instead. To get a de-fragmented frame, use `newframe = frame.copy()`\n",
      "  metadata[mlb.classes_[i]] = res.T[i]\n",
      "/var/folders/d7/b6t8w9c960vb7cps3hrj9q_h0000gn/T/ipykernel_34729/3856767485.py:4: PerformanceWarning: DataFrame is highly fragmented.  This is usually the result of calling `frame.insert` many times, which has poor performance.  Consider joining all columns at once using pd.concat(axis=1) instead. To get a de-fragmented frame, use `newframe = frame.copy()`\n",
      "  metadata[mlb.classes_[i]] = res.T[i]\n"
     ]
    },
    {
     "name": "stderr",
     "output_type": "stream",
     "text": [
      "/var/folders/d7/b6t8w9c960vb7cps3hrj9q_h0000gn/T/ipykernel_34729/3856767485.py:4: PerformanceWarning: DataFrame is highly fragmented.  This is usually the result of calling `frame.insert` many times, which has poor performance.  Consider joining all columns at once using pd.concat(axis=1) instead. To get a de-fragmented frame, use `newframe = frame.copy()`\n",
      "  metadata[mlb.classes_[i]] = res.T[i]\n",
      "/var/folders/d7/b6t8w9c960vb7cps3hrj9q_h0000gn/T/ipykernel_34729/3856767485.py:4: PerformanceWarning: DataFrame is highly fragmented.  This is usually the result of calling `frame.insert` many times, which has poor performance.  Consider joining all columns at once using pd.concat(axis=1) instead. To get a de-fragmented frame, use `newframe = frame.copy()`\n",
      "  metadata[mlb.classes_[i]] = res.T[i]\n",
      "/var/folders/d7/b6t8w9c960vb7cps3hrj9q_h0000gn/T/ipykernel_34729/3856767485.py:4: PerformanceWarning: DataFrame is highly fragmented.  This is usually the result of calling `frame.insert` many times, which has poor performance.  Consider joining all columns at once using pd.concat(axis=1) instead. To get a de-fragmented frame, use `newframe = frame.copy()`\n",
      "  metadata[mlb.classes_[i]] = res.T[i]\n",
      "/var/folders/d7/b6t8w9c960vb7cps3hrj9q_h0000gn/T/ipykernel_34729/3856767485.py:4: PerformanceWarning: DataFrame is highly fragmented.  This is usually the result of calling `frame.insert` many times, which has poor performance.  Consider joining all columns at once using pd.concat(axis=1) instead. To get a de-fragmented frame, use `newframe = frame.copy()`\n",
      "  metadata[mlb.classes_[i]] = res.T[i]\n",
      "/var/folders/d7/b6t8w9c960vb7cps3hrj9q_h0000gn/T/ipykernel_34729/3856767485.py:4: PerformanceWarning: DataFrame is highly fragmented.  This is usually the result of calling `frame.insert` many times, which has poor performance.  Consider joining all columns at once using pd.concat(axis=1) instead. To get a de-fragmented frame, use `newframe = frame.copy()`\n",
      "  metadata[mlb.classes_[i]] = res.T[i]\n",
      "/var/folders/d7/b6t8w9c960vb7cps3hrj9q_h0000gn/T/ipykernel_34729/3856767485.py:4: PerformanceWarning: DataFrame is highly fragmented.  This is usually the result of calling `frame.insert` many times, which has poor performance.  Consider joining all columns at once using pd.concat(axis=1) instead. To get a de-fragmented frame, use `newframe = frame.copy()`\n",
      "  metadata[mlb.classes_[i]] = res.T[i]\n",
      "/var/folders/d7/b6t8w9c960vb7cps3hrj9q_h0000gn/T/ipykernel_34729/3856767485.py:4: PerformanceWarning: DataFrame is highly fragmented.  This is usually the result of calling `frame.insert` many times, which has poor performance.  Consider joining all columns at once using pd.concat(axis=1) instead. To get a de-fragmented frame, use `newframe = frame.copy()`\n",
      "  metadata[mlb.classes_[i]] = res.T[i]\n",
      "/var/folders/d7/b6t8w9c960vb7cps3hrj9q_h0000gn/T/ipykernel_34729/3856767485.py:4: PerformanceWarning: DataFrame is highly fragmented.  This is usually the result of calling `frame.insert` many times, which has poor performance.  Consider joining all columns at once using pd.concat(axis=1) instead. To get a de-fragmented frame, use `newframe = frame.copy()`\n",
      "  metadata[mlb.classes_[i]] = res.T[i]\n",
      "/var/folders/d7/b6t8w9c960vb7cps3hrj9q_h0000gn/T/ipykernel_34729/3856767485.py:4: PerformanceWarning: DataFrame is highly fragmented.  This is usually the result of calling `frame.insert` many times, which has poor performance.  Consider joining all columns at once using pd.concat(axis=1) instead. To get a de-fragmented frame, use `newframe = frame.copy()`\n",
      "  metadata[mlb.classes_[i]] = res.T[i]\n",
      "/var/folders/d7/b6t8w9c960vb7cps3hrj9q_h0000gn/T/ipykernel_34729/3856767485.py:4: PerformanceWarning: DataFrame is highly fragmented.  This is usually the result of calling `frame.insert` many times, which has poor performance.  Consider joining all columns at once using pd.concat(axis=1) instead. To get a de-fragmented frame, use `newframe = frame.copy()`\n",
      "  metadata[mlb.classes_[i]] = res.T[i]\n",
      "/var/folders/d7/b6t8w9c960vb7cps3hrj9q_h0000gn/T/ipykernel_34729/3856767485.py:4: PerformanceWarning: DataFrame is highly fragmented.  This is usually the result of calling `frame.insert` many times, which has poor performance.  Consider joining all columns at once using pd.concat(axis=1) instead. To get a de-fragmented frame, use `newframe = frame.copy()`\n",
      "  metadata[mlb.classes_[i]] = res.T[i]\n",
      "/var/folders/d7/b6t8w9c960vb7cps3hrj9q_h0000gn/T/ipykernel_34729/3856767485.py:4: PerformanceWarning: DataFrame is highly fragmented.  This is usually the result of calling `frame.insert` many times, which has poor performance.  Consider joining all columns at once using pd.concat(axis=1) instead. To get a de-fragmented frame, use `newframe = frame.copy()`\n",
      "  metadata[mlb.classes_[i]] = res.T[i]\n",
      "/var/folders/d7/b6t8w9c960vb7cps3hrj9q_h0000gn/T/ipykernel_34729/3856767485.py:4: PerformanceWarning: DataFrame is highly fragmented.  This is usually the result of calling `frame.insert` many times, which has poor performance.  Consider joining all columns at once using pd.concat(axis=1) instead. To get a de-fragmented frame, use `newframe = frame.copy()`\n",
      "  metadata[mlb.classes_[i]] = res.T[i]\n",
      "/var/folders/d7/b6t8w9c960vb7cps3hrj9q_h0000gn/T/ipykernel_34729/3856767485.py:4: PerformanceWarning: DataFrame is highly fragmented.  This is usually the result of calling `frame.insert` many times, which has poor performance.  Consider joining all columns at once using pd.concat(axis=1) instead. To get a de-fragmented frame, use `newframe = frame.copy()`\n",
      "  metadata[mlb.classes_[i]] = res.T[i]\n",
      "/var/folders/d7/b6t8w9c960vb7cps3hrj9q_h0000gn/T/ipykernel_34729/3856767485.py:4: PerformanceWarning: DataFrame is highly fragmented.  This is usually the result of calling `frame.insert` many times, which has poor performance.  Consider joining all columns at once using pd.concat(axis=1) instead. To get a de-fragmented frame, use `newframe = frame.copy()`\n",
      "  metadata[mlb.classes_[i]] = res.T[i]\n",
      "/var/folders/d7/b6t8w9c960vb7cps3hrj9q_h0000gn/T/ipykernel_34729/3856767485.py:4: PerformanceWarning: DataFrame is highly fragmented.  This is usually the result of calling `frame.insert` many times, which has poor performance.  Consider joining all columns at once using pd.concat(axis=1) instead. To get a de-fragmented frame, use `newframe = frame.copy()`\n",
      "  metadata[mlb.classes_[i]] = res.T[i]\n",
      "/var/folders/d7/b6t8w9c960vb7cps3hrj9q_h0000gn/T/ipykernel_34729/3856767485.py:4: PerformanceWarning: DataFrame is highly fragmented.  This is usually the result of calling `frame.insert` many times, which has poor performance.  Consider joining all columns at once using pd.concat(axis=1) instead. To get a de-fragmented frame, use `newframe = frame.copy()`\n",
      "  metadata[mlb.classes_[i]] = res.T[i]\n",
      "/var/folders/d7/b6t8w9c960vb7cps3hrj9q_h0000gn/T/ipykernel_34729/3856767485.py:4: PerformanceWarning: DataFrame is highly fragmented.  This is usually the result of calling `frame.insert` many times, which has poor performance.  Consider joining all columns at once using pd.concat(axis=1) instead. To get a de-fragmented frame, use `newframe = frame.copy()`\n",
      "  metadata[mlb.classes_[i]] = res.T[i]\n",
      "/var/folders/d7/b6t8w9c960vb7cps3hrj9q_h0000gn/T/ipykernel_34729/3856767485.py:4: PerformanceWarning: DataFrame is highly fragmented.  This is usually the result of calling `frame.insert` many times, which has poor performance.  Consider joining all columns at once using pd.concat(axis=1) instead. To get a de-fragmented frame, use `newframe = frame.copy()`\n",
      "  metadata[mlb.classes_[i]] = res.T[i]\n",
      "/var/folders/d7/b6t8w9c960vb7cps3hrj9q_h0000gn/T/ipykernel_34729/3856767485.py:4: PerformanceWarning: DataFrame is highly fragmented.  This is usually the result of calling `frame.insert` many times, which has poor performance.  Consider joining all columns at once using pd.concat(axis=1) instead. To get a de-fragmented frame, use `newframe = frame.copy()`\n",
      "  metadata[mlb.classes_[i]] = res.T[i]\n",
      "/var/folders/d7/b6t8w9c960vb7cps3hrj9q_h0000gn/T/ipykernel_34729/3856767485.py:4: PerformanceWarning: DataFrame is highly fragmented.  This is usually the result of calling `frame.insert` many times, which has poor performance.  Consider joining all columns at once using pd.concat(axis=1) instead. To get a de-fragmented frame, use `newframe = frame.copy()`\n",
      "  metadata[mlb.classes_[i]] = res.T[i]\n",
      "/var/folders/d7/b6t8w9c960vb7cps3hrj9q_h0000gn/T/ipykernel_34729/3856767485.py:4: PerformanceWarning: DataFrame is highly fragmented.  This is usually the result of calling `frame.insert` many times, which has poor performance.  Consider joining all columns at once using pd.concat(axis=1) instead. To get a de-fragmented frame, use `newframe = frame.copy()`\n",
      "  metadata[mlb.classes_[i]] = res.T[i]\n",
      "/var/folders/d7/b6t8w9c960vb7cps3hrj9q_h0000gn/T/ipykernel_34729/3856767485.py:4: PerformanceWarning: DataFrame is highly fragmented.  This is usually the result of calling `frame.insert` many times, which has poor performance.  Consider joining all columns at once using pd.concat(axis=1) instead. To get a de-fragmented frame, use `newframe = frame.copy()`\n",
      "  metadata[mlb.classes_[i]] = res.T[i]\n",
      "/var/folders/d7/b6t8w9c960vb7cps3hrj9q_h0000gn/T/ipykernel_34729/3856767485.py:4: PerformanceWarning: DataFrame is highly fragmented.  This is usually the result of calling `frame.insert` many times, which has poor performance.  Consider joining all columns at once using pd.concat(axis=1) instead. To get a de-fragmented frame, use `newframe = frame.copy()`\n",
      "  metadata[mlb.classes_[i]] = res.T[i]\n",
      "/var/folders/d7/b6t8w9c960vb7cps3hrj9q_h0000gn/T/ipykernel_34729/3856767485.py:4: PerformanceWarning: DataFrame is highly fragmented.  This is usually the result of calling `frame.insert` many times, which has poor performance.  Consider joining all columns at once using pd.concat(axis=1) instead. To get a de-fragmented frame, use `newframe = frame.copy()`\n",
      "  metadata[mlb.classes_[i]] = res.T[i]\n",
      "/var/folders/d7/b6t8w9c960vb7cps3hrj9q_h0000gn/T/ipykernel_34729/3856767485.py:4: PerformanceWarning: DataFrame is highly fragmented.  This is usually the result of calling `frame.insert` many times, which has poor performance.  Consider joining all columns at once using pd.concat(axis=1) instead. To get a de-fragmented frame, use `newframe = frame.copy()`\n",
      "  metadata[mlb.classes_[i]] = res.T[i]\n",
      "/var/folders/d7/b6t8w9c960vb7cps3hrj9q_h0000gn/T/ipykernel_34729/3856767485.py:4: PerformanceWarning: DataFrame is highly fragmented.  This is usually the result of calling `frame.insert` many times, which has poor performance.  Consider joining all columns at once using pd.concat(axis=1) instead. To get a de-fragmented frame, use `newframe = frame.copy()`\n",
      "  metadata[mlb.classes_[i]] = res.T[i]\n",
      "/var/folders/d7/b6t8w9c960vb7cps3hrj9q_h0000gn/T/ipykernel_34729/3856767485.py:4: PerformanceWarning: DataFrame is highly fragmented.  This is usually the result of calling `frame.insert` many times, which has poor performance.  Consider joining all columns at once using pd.concat(axis=1) instead. To get a de-fragmented frame, use `newframe = frame.copy()`\n",
      "  metadata[mlb.classes_[i]] = res.T[i]\n",
      "/var/folders/d7/b6t8w9c960vb7cps3hrj9q_h0000gn/T/ipykernel_34729/3856767485.py:4: PerformanceWarning: DataFrame is highly fragmented.  This is usually the result of calling `frame.insert` many times, which has poor performance.  Consider joining all columns at once using pd.concat(axis=1) instead. To get a de-fragmented frame, use `newframe = frame.copy()`\n",
      "  metadata[mlb.classes_[i]] = res.T[i]\n",
      "/var/folders/d7/b6t8w9c960vb7cps3hrj9q_h0000gn/T/ipykernel_34729/3856767485.py:4: PerformanceWarning: DataFrame is highly fragmented.  This is usually the result of calling `frame.insert` many times, which has poor performance.  Consider joining all columns at once using pd.concat(axis=1) instead. To get a de-fragmented frame, use `newframe = frame.copy()`\n",
      "  metadata[mlb.classes_[i]] = res.T[i]\n",
      "/var/folders/d7/b6t8w9c960vb7cps3hrj9q_h0000gn/T/ipykernel_34729/3856767485.py:4: PerformanceWarning: DataFrame is highly fragmented.  This is usually the result of calling `frame.insert` many times, which has poor performance.  Consider joining all columns at once using pd.concat(axis=1) instead. To get a de-fragmented frame, use `newframe = frame.copy()`\n",
      "  metadata[mlb.classes_[i]] = res.T[i]\n",
      "/var/folders/d7/b6t8w9c960vb7cps3hrj9q_h0000gn/T/ipykernel_34729/3856767485.py:4: PerformanceWarning: DataFrame is highly fragmented.  This is usually the result of calling `frame.insert` many times, which has poor performance.  Consider joining all columns at once using pd.concat(axis=1) instead. To get a de-fragmented frame, use `newframe = frame.copy()`\n",
      "  metadata[mlb.classes_[i]] = res.T[i]\n",
      "/var/folders/d7/b6t8w9c960vb7cps3hrj9q_h0000gn/T/ipykernel_34729/3856767485.py:4: PerformanceWarning: DataFrame is highly fragmented.  This is usually the result of calling `frame.insert` many times, which has poor performance.  Consider joining all columns at once using pd.concat(axis=1) instead. To get a de-fragmented frame, use `newframe = frame.copy()`\n",
      "  metadata[mlb.classes_[i]] = res.T[i]\n",
      "/var/folders/d7/b6t8w9c960vb7cps3hrj9q_h0000gn/T/ipykernel_34729/3856767485.py:4: PerformanceWarning: DataFrame is highly fragmented.  This is usually the result of calling `frame.insert` many times, which has poor performance.  Consider joining all columns at once using pd.concat(axis=1) instead. To get a de-fragmented frame, use `newframe = frame.copy()`\n",
      "  metadata[mlb.classes_[i]] = res.T[i]\n",
      "/var/folders/d7/b6t8w9c960vb7cps3hrj9q_h0000gn/T/ipykernel_34729/3856767485.py:4: PerformanceWarning: DataFrame is highly fragmented.  This is usually the result of calling `frame.insert` many times, which has poor performance.  Consider joining all columns at once using pd.concat(axis=1) instead. To get a de-fragmented frame, use `newframe = frame.copy()`\n",
      "  metadata[mlb.classes_[i]] = res.T[i]\n",
      "/var/folders/d7/b6t8w9c960vb7cps3hrj9q_h0000gn/T/ipykernel_34729/3856767485.py:4: PerformanceWarning: DataFrame is highly fragmented.  This is usually the result of calling `frame.insert` many times, which has poor performance.  Consider joining all columns at once using pd.concat(axis=1) instead. To get a de-fragmented frame, use `newframe = frame.copy()`\n",
      "  metadata[mlb.classes_[i]] = res.T[i]\n",
      "/var/folders/d7/b6t8w9c960vb7cps3hrj9q_h0000gn/T/ipykernel_34729/3856767485.py:4: PerformanceWarning: DataFrame is highly fragmented.  This is usually the result of calling `frame.insert` many times, which has poor performance.  Consider joining all columns at once using pd.concat(axis=1) instead. To get a de-fragmented frame, use `newframe = frame.copy()`\n",
      "  metadata[mlb.classes_[i]] = res.T[i]\n",
      "/var/folders/d7/b6t8w9c960vb7cps3hrj9q_h0000gn/T/ipykernel_34729/3856767485.py:4: PerformanceWarning: DataFrame is highly fragmented.  This is usually the result of calling `frame.insert` many times, which has poor performance.  Consider joining all columns at once using pd.concat(axis=1) instead. To get a de-fragmented frame, use `newframe = frame.copy()`\n",
      "  metadata[mlb.classes_[i]] = res.T[i]\n",
      "/var/folders/d7/b6t8w9c960vb7cps3hrj9q_h0000gn/T/ipykernel_34729/3856767485.py:4: PerformanceWarning: DataFrame is highly fragmented.  This is usually the result of calling `frame.insert` many times, which has poor performance.  Consider joining all columns at once using pd.concat(axis=1) instead. To get a de-fragmented frame, use `newframe = frame.copy()`\n",
      "  metadata[mlb.classes_[i]] = res.T[i]\n",
      "/var/folders/d7/b6t8w9c960vb7cps3hrj9q_h0000gn/T/ipykernel_34729/3856767485.py:4: PerformanceWarning: DataFrame is highly fragmented.  This is usually the result of calling `frame.insert` many times, which has poor performance.  Consider joining all columns at once using pd.concat(axis=1) instead. To get a de-fragmented frame, use `newframe = frame.copy()`\n",
      "  metadata[mlb.classes_[i]] = res.T[i]\n",
      "/var/folders/d7/b6t8w9c960vb7cps3hrj9q_h0000gn/T/ipykernel_34729/3856767485.py:4: PerformanceWarning: DataFrame is highly fragmented.  This is usually the result of calling `frame.insert` many times, which has poor performance.  Consider joining all columns at once using pd.concat(axis=1) instead. To get a de-fragmented frame, use `newframe = frame.copy()`\n",
      "  metadata[mlb.classes_[i]] = res.T[i]\n",
      "/var/folders/d7/b6t8w9c960vb7cps3hrj9q_h0000gn/T/ipykernel_34729/3856767485.py:4: PerformanceWarning: DataFrame is highly fragmented.  This is usually the result of calling `frame.insert` many times, which has poor performance.  Consider joining all columns at once using pd.concat(axis=1) instead. To get a de-fragmented frame, use `newframe = frame.copy()`\n",
      "  metadata[mlb.classes_[i]] = res.T[i]\n",
      "/var/folders/d7/b6t8w9c960vb7cps3hrj9q_h0000gn/T/ipykernel_34729/3856767485.py:4: PerformanceWarning: DataFrame is highly fragmented.  This is usually the result of calling `frame.insert` many times, which has poor performance.  Consider joining all columns at once using pd.concat(axis=1) instead. To get a de-fragmented frame, use `newframe = frame.copy()`\n",
      "  metadata[mlb.classes_[i]] = res.T[i]\n",
      "/var/folders/d7/b6t8w9c960vb7cps3hrj9q_h0000gn/T/ipykernel_34729/3856767485.py:4: PerformanceWarning: DataFrame is highly fragmented.  This is usually the result of calling `frame.insert` many times, which has poor performance.  Consider joining all columns at once using pd.concat(axis=1) instead. To get a de-fragmented frame, use `newframe = frame.copy()`\n",
      "  metadata[mlb.classes_[i]] = res.T[i]\n",
      "/var/folders/d7/b6t8w9c960vb7cps3hrj9q_h0000gn/T/ipykernel_34729/3856767485.py:4: PerformanceWarning: DataFrame is highly fragmented.  This is usually the result of calling `frame.insert` many times, which has poor performance.  Consider joining all columns at once using pd.concat(axis=1) instead. To get a de-fragmented frame, use `newframe = frame.copy()`\n",
      "  metadata[mlb.classes_[i]] = res.T[i]\n",
      "/var/folders/d7/b6t8w9c960vb7cps3hrj9q_h0000gn/T/ipykernel_34729/3856767485.py:4: PerformanceWarning: DataFrame is highly fragmented.  This is usually the result of calling `frame.insert` many times, which has poor performance.  Consider joining all columns at once using pd.concat(axis=1) instead. To get a de-fragmented frame, use `newframe = frame.copy()`\n",
      "  metadata[mlb.classes_[i]] = res.T[i]\n",
      "/var/folders/d7/b6t8w9c960vb7cps3hrj9q_h0000gn/T/ipykernel_34729/3856767485.py:4: PerformanceWarning: DataFrame is highly fragmented.  This is usually the result of calling `frame.insert` many times, which has poor performance.  Consider joining all columns at once using pd.concat(axis=1) instead. To get a de-fragmented frame, use `newframe = frame.copy()`\n",
      "  metadata[mlb.classes_[i]] = res.T[i]\n",
      "/var/folders/d7/b6t8w9c960vb7cps3hrj9q_h0000gn/T/ipykernel_34729/3856767485.py:4: PerformanceWarning: DataFrame is highly fragmented.  This is usually the result of calling `frame.insert` many times, which has poor performance.  Consider joining all columns at once using pd.concat(axis=1) instead. To get a de-fragmented frame, use `newframe = frame.copy()`\n",
      "  metadata[mlb.classes_[i]] = res.T[i]\n",
      "/var/folders/d7/b6t8w9c960vb7cps3hrj9q_h0000gn/T/ipykernel_34729/3856767485.py:4: PerformanceWarning: DataFrame is highly fragmented.  This is usually the result of calling `frame.insert` many times, which has poor performance.  Consider joining all columns at once using pd.concat(axis=1) instead. To get a de-fragmented frame, use `newframe = frame.copy()`\n",
      "  metadata[mlb.classes_[i]] = res.T[i]\n",
      "/var/folders/d7/b6t8w9c960vb7cps3hrj9q_h0000gn/T/ipykernel_34729/3856767485.py:4: PerformanceWarning: DataFrame is highly fragmented.  This is usually the result of calling `frame.insert` many times, which has poor performance.  Consider joining all columns at once using pd.concat(axis=1) instead. To get a de-fragmented frame, use `newframe = frame.copy()`\n",
      "  metadata[mlb.classes_[i]] = res.T[i]\n",
      "/var/folders/d7/b6t8w9c960vb7cps3hrj9q_h0000gn/T/ipykernel_34729/3856767485.py:4: PerformanceWarning: DataFrame is highly fragmented.  This is usually the result of calling `frame.insert` many times, which has poor performance.  Consider joining all columns at once using pd.concat(axis=1) instead. To get a de-fragmented frame, use `newframe = frame.copy()`\n",
      "  metadata[mlb.classes_[i]] = res.T[i]\n"
     ]
    },
    {
     "name": "stderr",
     "output_type": "stream",
     "text": [
      "/var/folders/d7/b6t8w9c960vb7cps3hrj9q_h0000gn/T/ipykernel_34729/3856767485.py:4: PerformanceWarning: DataFrame is highly fragmented.  This is usually the result of calling `frame.insert` many times, which has poor performance.  Consider joining all columns at once using pd.concat(axis=1) instead. To get a de-fragmented frame, use `newframe = frame.copy()`\n",
      "  metadata[mlb.classes_[i]] = res.T[i]\n",
      "/var/folders/d7/b6t8w9c960vb7cps3hrj9q_h0000gn/T/ipykernel_34729/3856767485.py:4: PerformanceWarning: DataFrame is highly fragmented.  This is usually the result of calling `frame.insert` many times, which has poor performance.  Consider joining all columns at once using pd.concat(axis=1) instead. To get a de-fragmented frame, use `newframe = frame.copy()`\n",
      "  metadata[mlb.classes_[i]] = res.T[i]\n",
      "/var/folders/d7/b6t8w9c960vb7cps3hrj9q_h0000gn/T/ipykernel_34729/3856767485.py:4: PerformanceWarning: DataFrame is highly fragmented.  This is usually the result of calling `frame.insert` many times, which has poor performance.  Consider joining all columns at once using pd.concat(axis=1) instead. To get a de-fragmented frame, use `newframe = frame.copy()`\n",
      "  metadata[mlb.classes_[i]] = res.T[i]\n",
      "/var/folders/d7/b6t8w9c960vb7cps3hrj9q_h0000gn/T/ipykernel_34729/3856767485.py:4: PerformanceWarning: DataFrame is highly fragmented.  This is usually the result of calling `frame.insert` many times, which has poor performance.  Consider joining all columns at once using pd.concat(axis=1) instead. To get a de-fragmented frame, use `newframe = frame.copy()`\n",
      "  metadata[mlb.classes_[i]] = res.T[i]\n",
      "/var/folders/d7/b6t8w9c960vb7cps3hrj9q_h0000gn/T/ipykernel_34729/3856767485.py:4: PerformanceWarning: DataFrame is highly fragmented.  This is usually the result of calling `frame.insert` many times, which has poor performance.  Consider joining all columns at once using pd.concat(axis=1) instead. To get a de-fragmented frame, use `newframe = frame.copy()`\n",
      "  metadata[mlb.classes_[i]] = res.T[i]\n",
      "/var/folders/d7/b6t8w9c960vb7cps3hrj9q_h0000gn/T/ipykernel_34729/3856767485.py:4: PerformanceWarning: DataFrame is highly fragmented.  This is usually the result of calling `frame.insert` many times, which has poor performance.  Consider joining all columns at once using pd.concat(axis=1) instead. To get a de-fragmented frame, use `newframe = frame.copy()`\n",
      "  metadata[mlb.classes_[i]] = res.T[i]\n",
      "/var/folders/d7/b6t8w9c960vb7cps3hrj9q_h0000gn/T/ipykernel_34729/3856767485.py:4: PerformanceWarning: DataFrame is highly fragmented.  This is usually the result of calling `frame.insert` many times, which has poor performance.  Consider joining all columns at once using pd.concat(axis=1) instead. To get a de-fragmented frame, use `newframe = frame.copy()`\n",
      "  metadata[mlb.classes_[i]] = res.T[i]\n",
      "/var/folders/d7/b6t8w9c960vb7cps3hrj9q_h0000gn/T/ipykernel_34729/3856767485.py:4: PerformanceWarning: DataFrame is highly fragmented.  This is usually the result of calling `frame.insert` many times, which has poor performance.  Consider joining all columns at once using pd.concat(axis=1) instead. To get a de-fragmented frame, use `newframe = frame.copy()`\n",
      "  metadata[mlb.classes_[i]] = res.T[i]\n",
      "/var/folders/d7/b6t8w9c960vb7cps3hrj9q_h0000gn/T/ipykernel_34729/3856767485.py:4: PerformanceWarning: DataFrame is highly fragmented.  This is usually the result of calling `frame.insert` many times, which has poor performance.  Consider joining all columns at once using pd.concat(axis=1) instead. To get a de-fragmented frame, use `newframe = frame.copy()`\n",
      "  metadata[mlb.classes_[i]] = res.T[i]\n",
      "/var/folders/d7/b6t8w9c960vb7cps3hrj9q_h0000gn/T/ipykernel_34729/3856767485.py:4: PerformanceWarning: DataFrame is highly fragmented.  This is usually the result of calling `frame.insert` many times, which has poor performance.  Consider joining all columns at once using pd.concat(axis=1) instead. To get a de-fragmented frame, use `newframe = frame.copy()`\n",
      "  metadata[mlb.classes_[i]] = res.T[i]\n",
      "/var/folders/d7/b6t8w9c960vb7cps3hrj9q_h0000gn/T/ipykernel_34729/3856767485.py:4: PerformanceWarning: DataFrame is highly fragmented.  This is usually the result of calling `frame.insert` many times, which has poor performance.  Consider joining all columns at once using pd.concat(axis=1) instead. To get a de-fragmented frame, use `newframe = frame.copy()`\n",
      "  metadata[mlb.classes_[i]] = res.T[i]\n",
      "/var/folders/d7/b6t8w9c960vb7cps3hrj9q_h0000gn/T/ipykernel_34729/3856767485.py:4: PerformanceWarning: DataFrame is highly fragmented.  This is usually the result of calling `frame.insert` many times, which has poor performance.  Consider joining all columns at once using pd.concat(axis=1) instead. To get a de-fragmented frame, use `newframe = frame.copy()`\n",
      "  metadata[mlb.classes_[i]] = res.T[i]\n",
      "/var/folders/d7/b6t8w9c960vb7cps3hrj9q_h0000gn/T/ipykernel_34729/3856767485.py:4: PerformanceWarning: DataFrame is highly fragmented.  This is usually the result of calling `frame.insert` many times, which has poor performance.  Consider joining all columns at once using pd.concat(axis=1) instead. To get a de-fragmented frame, use `newframe = frame.copy()`\n",
      "  metadata[mlb.classes_[i]] = res.T[i]\n",
      "/var/folders/d7/b6t8w9c960vb7cps3hrj9q_h0000gn/T/ipykernel_34729/3856767485.py:4: PerformanceWarning: DataFrame is highly fragmented.  This is usually the result of calling `frame.insert` many times, which has poor performance.  Consider joining all columns at once using pd.concat(axis=1) instead. To get a de-fragmented frame, use `newframe = frame.copy()`\n",
      "  metadata[mlb.classes_[i]] = res.T[i]\n",
      "/var/folders/d7/b6t8w9c960vb7cps3hrj9q_h0000gn/T/ipykernel_34729/3856767485.py:4: PerformanceWarning: DataFrame is highly fragmented.  This is usually the result of calling `frame.insert` many times, which has poor performance.  Consider joining all columns at once using pd.concat(axis=1) instead. To get a de-fragmented frame, use `newframe = frame.copy()`\n",
      "  metadata[mlb.classes_[i]] = res.T[i]\n",
      "/var/folders/d7/b6t8w9c960vb7cps3hrj9q_h0000gn/T/ipykernel_34729/3856767485.py:4: PerformanceWarning: DataFrame is highly fragmented.  This is usually the result of calling `frame.insert` many times, which has poor performance.  Consider joining all columns at once using pd.concat(axis=1) instead. To get a de-fragmented frame, use `newframe = frame.copy()`\n",
      "  metadata[mlb.classes_[i]] = res.T[i]\n",
      "/var/folders/d7/b6t8w9c960vb7cps3hrj9q_h0000gn/T/ipykernel_34729/3856767485.py:4: PerformanceWarning: DataFrame is highly fragmented.  This is usually the result of calling `frame.insert` many times, which has poor performance.  Consider joining all columns at once using pd.concat(axis=1) instead. To get a de-fragmented frame, use `newframe = frame.copy()`\n",
      "  metadata[mlb.classes_[i]] = res.T[i]\n",
      "/var/folders/d7/b6t8w9c960vb7cps3hrj9q_h0000gn/T/ipykernel_34729/3856767485.py:4: PerformanceWarning: DataFrame is highly fragmented.  This is usually the result of calling `frame.insert` many times, which has poor performance.  Consider joining all columns at once using pd.concat(axis=1) instead. To get a de-fragmented frame, use `newframe = frame.copy()`\n",
      "  metadata[mlb.classes_[i]] = res.T[i]\n",
      "/var/folders/d7/b6t8w9c960vb7cps3hrj9q_h0000gn/T/ipykernel_34729/3856767485.py:4: PerformanceWarning: DataFrame is highly fragmented.  This is usually the result of calling `frame.insert` many times, which has poor performance.  Consider joining all columns at once using pd.concat(axis=1) instead. To get a de-fragmented frame, use `newframe = frame.copy()`\n",
      "  metadata[mlb.classes_[i]] = res.T[i]\n",
      "/var/folders/d7/b6t8w9c960vb7cps3hrj9q_h0000gn/T/ipykernel_34729/3856767485.py:4: PerformanceWarning: DataFrame is highly fragmented.  This is usually the result of calling `frame.insert` many times, which has poor performance.  Consider joining all columns at once using pd.concat(axis=1) instead. To get a de-fragmented frame, use `newframe = frame.copy()`\n",
      "  metadata[mlb.classes_[i]] = res.T[i]\n",
      "/var/folders/d7/b6t8w9c960vb7cps3hrj9q_h0000gn/T/ipykernel_34729/3856767485.py:4: PerformanceWarning: DataFrame is highly fragmented.  This is usually the result of calling `frame.insert` many times, which has poor performance.  Consider joining all columns at once using pd.concat(axis=1) instead. To get a de-fragmented frame, use `newframe = frame.copy()`\n",
      "  metadata[mlb.classes_[i]] = res.T[i]\n",
      "/var/folders/d7/b6t8w9c960vb7cps3hrj9q_h0000gn/T/ipykernel_34729/3856767485.py:4: PerformanceWarning: DataFrame is highly fragmented.  This is usually the result of calling `frame.insert` many times, which has poor performance.  Consider joining all columns at once using pd.concat(axis=1) instead. To get a de-fragmented frame, use `newframe = frame.copy()`\n",
      "  metadata[mlb.classes_[i]] = res.T[i]\n",
      "/var/folders/d7/b6t8w9c960vb7cps3hrj9q_h0000gn/T/ipykernel_34729/3856767485.py:4: PerformanceWarning: DataFrame is highly fragmented.  This is usually the result of calling `frame.insert` many times, which has poor performance.  Consider joining all columns at once using pd.concat(axis=1) instead. To get a de-fragmented frame, use `newframe = frame.copy()`\n",
      "  metadata[mlb.classes_[i]] = res.T[i]\n",
      "/var/folders/d7/b6t8w9c960vb7cps3hrj9q_h0000gn/T/ipykernel_34729/3856767485.py:4: PerformanceWarning: DataFrame is highly fragmented.  This is usually the result of calling `frame.insert` many times, which has poor performance.  Consider joining all columns at once using pd.concat(axis=1) instead. To get a de-fragmented frame, use `newframe = frame.copy()`\n",
      "  metadata[mlb.classes_[i]] = res.T[i]\n",
      "/var/folders/d7/b6t8w9c960vb7cps3hrj9q_h0000gn/T/ipykernel_34729/3856767485.py:4: PerformanceWarning: DataFrame is highly fragmented.  This is usually the result of calling `frame.insert` many times, which has poor performance.  Consider joining all columns at once using pd.concat(axis=1) instead. To get a de-fragmented frame, use `newframe = frame.copy()`\n",
      "  metadata[mlb.classes_[i]] = res.T[i]\n",
      "/var/folders/d7/b6t8w9c960vb7cps3hrj9q_h0000gn/T/ipykernel_34729/3856767485.py:4: PerformanceWarning: DataFrame is highly fragmented.  This is usually the result of calling `frame.insert` many times, which has poor performance.  Consider joining all columns at once using pd.concat(axis=1) instead. To get a de-fragmented frame, use `newframe = frame.copy()`\n",
      "  metadata[mlb.classes_[i]] = res.T[i]\n",
      "/var/folders/d7/b6t8w9c960vb7cps3hrj9q_h0000gn/T/ipykernel_34729/3856767485.py:4: PerformanceWarning: DataFrame is highly fragmented.  This is usually the result of calling `frame.insert` many times, which has poor performance.  Consider joining all columns at once using pd.concat(axis=1) instead. To get a de-fragmented frame, use `newframe = frame.copy()`\n",
      "  metadata[mlb.classes_[i]] = res.T[i]\n",
      "/var/folders/d7/b6t8w9c960vb7cps3hrj9q_h0000gn/T/ipykernel_34729/3856767485.py:4: PerformanceWarning: DataFrame is highly fragmented.  This is usually the result of calling `frame.insert` many times, which has poor performance.  Consider joining all columns at once using pd.concat(axis=1) instead. To get a de-fragmented frame, use `newframe = frame.copy()`\n",
      "  metadata[mlb.classes_[i]] = res.T[i]\n",
      "/var/folders/d7/b6t8w9c960vb7cps3hrj9q_h0000gn/T/ipykernel_34729/3856767485.py:4: PerformanceWarning: DataFrame is highly fragmented.  This is usually the result of calling `frame.insert` many times, which has poor performance.  Consider joining all columns at once using pd.concat(axis=1) instead. To get a de-fragmented frame, use `newframe = frame.copy()`\n",
      "  metadata[mlb.classes_[i]] = res.T[i]\n",
      "/var/folders/d7/b6t8w9c960vb7cps3hrj9q_h0000gn/T/ipykernel_34729/3856767485.py:4: PerformanceWarning: DataFrame is highly fragmented.  This is usually the result of calling `frame.insert` many times, which has poor performance.  Consider joining all columns at once using pd.concat(axis=1) instead. To get a de-fragmented frame, use `newframe = frame.copy()`\n",
      "  metadata[mlb.classes_[i]] = res.T[i]\n",
      "/var/folders/d7/b6t8w9c960vb7cps3hrj9q_h0000gn/T/ipykernel_34729/3856767485.py:4: PerformanceWarning: DataFrame is highly fragmented.  This is usually the result of calling `frame.insert` many times, which has poor performance.  Consider joining all columns at once using pd.concat(axis=1) instead. To get a de-fragmented frame, use `newframe = frame.copy()`\n",
      "  metadata[mlb.classes_[i]] = res.T[i]\n",
      "/var/folders/d7/b6t8w9c960vb7cps3hrj9q_h0000gn/T/ipykernel_34729/3856767485.py:4: PerformanceWarning: DataFrame is highly fragmented.  This is usually the result of calling `frame.insert` many times, which has poor performance.  Consider joining all columns at once using pd.concat(axis=1) instead. To get a de-fragmented frame, use `newframe = frame.copy()`\n",
      "  metadata[mlb.classes_[i]] = res.T[i]\n",
      "/var/folders/d7/b6t8w9c960vb7cps3hrj9q_h0000gn/T/ipykernel_34729/3856767485.py:4: PerformanceWarning: DataFrame is highly fragmented.  This is usually the result of calling `frame.insert` many times, which has poor performance.  Consider joining all columns at once using pd.concat(axis=1) instead. To get a de-fragmented frame, use `newframe = frame.copy()`\n",
      "  metadata[mlb.classes_[i]] = res.T[i]\n",
      "/var/folders/d7/b6t8w9c960vb7cps3hrj9q_h0000gn/T/ipykernel_34729/3856767485.py:4: PerformanceWarning: DataFrame is highly fragmented.  This is usually the result of calling `frame.insert` many times, which has poor performance.  Consider joining all columns at once using pd.concat(axis=1) instead. To get a de-fragmented frame, use `newframe = frame.copy()`\n",
      "  metadata[mlb.classes_[i]] = res.T[i]\n",
      "/var/folders/d7/b6t8w9c960vb7cps3hrj9q_h0000gn/T/ipykernel_34729/3856767485.py:4: PerformanceWarning: DataFrame is highly fragmented.  This is usually the result of calling `frame.insert` many times, which has poor performance.  Consider joining all columns at once using pd.concat(axis=1) instead. To get a de-fragmented frame, use `newframe = frame.copy()`\n",
      "  metadata[mlb.classes_[i]] = res.T[i]\n",
      "/var/folders/d7/b6t8w9c960vb7cps3hrj9q_h0000gn/T/ipykernel_34729/3856767485.py:4: PerformanceWarning: DataFrame is highly fragmented.  This is usually the result of calling `frame.insert` many times, which has poor performance.  Consider joining all columns at once using pd.concat(axis=1) instead. To get a de-fragmented frame, use `newframe = frame.copy()`\n",
      "  metadata[mlb.classes_[i]] = res.T[i]\n",
      "/var/folders/d7/b6t8w9c960vb7cps3hrj9q_h0000gn/T/ipykernel_34729/3856767485.py:4: PerformanceWarning: DataFrame is highly fragmented.  This is usually the result of calling `frame.insert` many times, which has poor performance.  Consider joining all columns at once using pd.concat(axis=1) instead. To get a de-fragmented frame, use `newframe = frame.copy()`\n",
      "  metadata[mlb.classes_[i]] = res.T[i]\n",
      "/var/folders/d7/b6t8w9c960vb7cps3hrj9q_h0000gn/T/ipykernel_34729/3856767485.py:4: PerformanceWarning: DataFrame is highly fragmented.  This is usually the result of calling `frame.insert` many times, which has poor performance.  Consider joining all columns at once using pd.concat(axis=1) instead. To get a de-fragmented frame, use `newframe = frame.copy()`\n",
      "  metadata[mlb.classes_[i]] = res.T[i]\n",
      "/var/folders/d7/b6t8w9c960vb7cps3hrj9q_h0000gn/T/ipykernel_34729/3856767485.py:4: PerformanceWarning: DataFrame is highly fragmented.  This is usually the result of calling `frame.insert` many times, which has poor performance.  Consider joining all columns at once using pd.concat(axis=1) instead. To get a de-fragmented frame, use `newframe = frame.copy()`\n",
      "  metadata[mlb.classes_[i]] = res.T[i]\n",
      "/var/folders/d7/b6t8w9c960vb7cps3hrj9q_h0000gn/T/ipykernel_34729/3856767485.py:4: PerformanceWarning: DataFrame is highly fragmented.  This is usually the result of calling `frame.insert` many times, which has poor performance.  Consider joining all columns at once using pd.concat(axis=1) instead. To get a de-fragmented frame, use `newframe = frame.copy()`\n",
      "  metadata[mlb.classes_[i]] = res.T[i]\n",
      "/var/folders/d7/b6t8w9c960vb7cps3hrj9q_h0000gn/T/ipykernel_34729/3856767485.py:4: PerformanceWarning: DataFrame is highly fragmented.  This is usually the result of calling `frame.insert` many times, which has poor performance.  Consider joining all columns at once using pd.concat(axis=1) instead. To get a de-fragmented frame, use `newframe = frame.copy()`\n",
      "  metadata[mlb.classes_[i]] = res.T[i]\n",
      "/var/folders/d7/b6t8w9c960vb7cps3hrj9q_h0000gn/T/ipykernel_34729/3856767485.py:4: PerformanceWarning: DataFrame is highly fragmented.  This is usually the result of calling `frame.insert` many times, which has poor performance.  Consider joining all columns at once using pd.concat(axis=1) instead. To get a de-fragmented frame, use `newframe = frame.copy()`\n",
      "  metadata[mlb.classes_[i]] = res.T[i]\n",
      "/var/folders/d7/b6t8w9c960vb7cps3hrj9q_h0000gn/T/ipykernel_34729/3856767485.py:4: PerformanceWarning: DataFrame is highly fragmented.  This is usually the result of calling `frame.insert` many times, which has poor performance.  Consider joining all columns at once using pd.concat(axis=1) instead. To get a de-fragmented frame, use `newframe = frame.copy()`\n",
      "  metadata[mlb.classes_[i]] = res.T[i]\n",
      "/var/folders/d7/b6t8w9c960vb7cps3hrj9q_h0000gn/T/ipykernel_34729/3856767485.py:4: PerformanceWarning: DataFrame is highly fragmented.  This is usually the result of calling `frame.insert` many times, which has poor performance.  Consider joining all columns at once using pd.concat(axis=1) instead. To get a de-fragmented frame, use `newframe = frame.copy()`\n",
      "  metadata[mlb.classes_[i]] = res.T[i]\n",
      "/var/folders/d7/b6t8w9c960vb7cps3hrj9q_h0000gn/T/ipykernel_34729/3856767485.py:4: PerformanceWarning: DataFrame is highly fragmented.  This is usually the result of calling `frame.insert` many times, which has poor performance.  Consider joining all columns at once using pd.concat(axis=1) instead. To get a de-fragmented frame, use `newframe = frame.copy()`\n",
      "  metadata[mlb.classes_[i]] = res.T[i]\n",
      "/var/folders/d7/b6t8w9c960vb7cps3hrj9q_h0000gn/T/ipykernel_34729/3856767485.py:4: PerformanceWarning: DataFrame is highly fragmented.  This is usually the result of calling `frame.insert` many times, which has poor performance.  Consider joining all columns at once using pd.concat(axis=1) instead. To get a de-fragmented frame, use `newframe = frame.copy()`\n",
      "  metadata[mlb.classes_[i]] = res.T[i]\n",
      "/var/folders/d7/b6t8w9c960vb7cps3hrj9q_h0000gn/T/ipykernel_34729/3856767485.py:4: PerformanceWarning: DataFrame is highly fragmented.  This is usually the result of calling `frame.insert` many times, which has poor performance.  Consider joining all columns at once using pd.concat(axis=1) instead. To get a de-fragmented frame, use `newframe = frame.copy()`\n",
      "  metadata[mlb.classes_[i]] = res.T[i]\n",
      "/var/folders/d7/b6t8w9c960vb7cps3hrj9q_h0000gn/T/ipykernel_34729/3856767485.py:4: PerformanceWarning: DataFrame is highly fragmented.  This is usually the result of calling `frame.insert` many times, which has poor performance.  Consider joining all columns at once using pd.concat(axis=1) instead. To get a de-fragmented frame, use `newframe = frame.copy()`\n",
      "  metadata[mlb.classes_[i]] = res.T[i]\n"
     ]
    },
    {
     "name": "stderr",
     "output_type": "stream",
     "text": [
      "/var/folders/d7/b6t8w9c960vb7cps3hrj9q_h0000gn/T/ipykernel_34729/3856767485.py:4: PerformanceWarning: DataFrame is highly fragmented.  This is usually the result of calling `frame.insert` many times, which has poor performance.  Consider joining all columns at once using pd.concat(axis=1) instead. To get a de-fragmented frame, use `newframe = frame.copy()`\n",
      "  metadata[mlb.classes_[i]] = res.T[i]\n",
      "/var/folders/d7/b6t8w9c960vb7cps3hrj9q_h0000gn/T/ipykernel_34729/3856767485.py:4: PerformanceWarning: DataFrame is highly fragmented.  This is usually the result of calling `frame.insert` many times, which has poor performance.  Consider joining all columns at once using pd.concat(axis=1) instead. To get a de-fragmented frame, use `newframe = frame.copy()`\n",
      "  metadata[mlb.classes_[i]] = res.T[i]\n",
      "/var/folders/d7/b6t8w9c960vb7cps3hrj9q_h0000gn/T/ipykernel_34729/3856767485.py:4: PerformanceWarning: DataFrame is highly fragmented.  This is usually the result of calling `frame.insert` many times, which has poor performance.  Consider joining all columns at once using pd.concat(axis=1) instead. To get a de-fragmented frame, use `newframe = frame.copy()`\n",
      "  metadata[mlb.classes_[i]] = res.T[i]\n",
      "/var/folders/d7/b6t8w9c960vb7cps3hrj9q_h0000gn/T/ipykernel_34729/3856767485.py:4: PerformanceWarning: DataFrame is highly fragmented.  This is usually the result of calling `frame.insert` many times, which has poor performance.  Consider joining all columns at once using pd.concat(axis=1) instead. To get a de-fragmented frame, use `newframe = frame.copy()`\n",
      "  metadata[mlb.classes_[i]] = res.T[i]\n",
      "/var/folders/d7/b6t8w9c960vb7cps3hrj9q_h0000gn/T/ipykernel_34729/3856767485.py:4: PerformanceWarning: DataFrame is highly fragmented.  This is usually the result of calling `frame.insert` many times, which has poor performance.  Consider joining all columns at once using pd.concat(axis=1) instead. To get a de-fragmented frame, use `newframe = frame.copy()`\n",
      "  metadata[mlb.classes_[i]] = res.T[i]\n",
      "/var/folders/d7/b6t8w9c960vb7cps3hrj9q_h0000gn/T/ipykernel_34729/3856767485.py:4: PerformanceWarning: DataFrame is highly fragmented.  This is usually the result of calling `frame.insert` many times, which has poor performance.  Consider joining all columns at once using pd.concat(axis=1) instead. To get a de-fragmented frame, use `newframe = frame.copy()`\n",
      "  metadata[mlb.classes_[i]] = res.T[i]\n",
      "/var/folders/d7/b6t8w9c960vb7cps3hrj9q_h0000gn/T/ipykernel_34729/3856767485.py:4: PerformanceWarning: DataFrame is highly fragmented.  This is usually the result of calling `frame.insert` many times, which has poor performance.  Consider joining all columns at once using pd.concat(axis=1) instead. To get a de-fragmented frame, use `newframe = frame.copy()`\n",
      "  metadata[mlb.classes_[i]] = res.T[i]\n",
      "/var/folders/d7/b6t8w9c960vb7cps3hrj9q_h0000gn/T/ipykernel_34729/3856767485.py:4: PerformanceWarning: DataFrame is highly fragmented.  This is usually the result of calling `frame.insert` many times, which has poor performance.  Consider joining all columns at once using pd.concat(axis=1) instead. To get a de-fragmented frame, use `newframe = frame.copy()`\n",
      "  metadata[mlb.classes_[i]] = res.T[i]\n",
      "/var/folders/d7/b6t8w9c960vb7cps3hrj9q_h0000gn/T/ipykernel_34729/3856767485.py:4: PerformanceWarning: DataFrame is highly fragmented.  This is usually the result of calling `frame.insert` many times, which has poor performance.  Consider joining all columns at once using pd.concat(axis=1) instead. To get a de-fragmented frame, use `newframe = frame.copy()`\n",
      "  metadata[mlb.classes_[i]] = res.T[i]\n",
      "/var/folders/d7/b6t8w9c960vb7cps3hrj9q_h0000gn/T/ipykernel_34729/3856767485.py:4: PerformanceWarning: DataFrame is highly fragmented.  This is usually the result of calling `frame.insert` many times, which has poor performance.  Consider joining all columns at once using pd.concat(axis=1) instead. To get a de-fragmented frame, use `newframe = frame.copy()`\n",
      "  metadata[mlb.classes_[i]] = res.T[i]\n",
      "/var/folders/d7/b6t8w9c960vb7cps3hrj9q_h0000gn/T/ipykernel_34729/3856767485.py:4: PerformanceWarning: DataFrame is highly fragmented.  This is usually the result of calling `frame.insert` many times, which has poor performance.  Consider joining all columns at once using pd.concat(axis=1) instead. To get a de-fragmented frame, use `newframe = frame.copy()`\n",
      "  metadata[mlb.classes_[i]] = res.T[i]\n",
      "/var/folders/d7/b6t8w9c960vb7cps3hrj9q_h0000gn/T/ipykernel_34729/3856767485.py:4: PerformanceWarning: DataFrame is highly fragmented.  This is usually the result of calling `frame.insert` many times, which has poor performance.  Consider joining all columns at once using pd.concat(axis=1) instead. To get a de-fragmented frame, use `newframe = frame.copy()`\n",
      "  metadata[mlb.classes_[i]] = res.T[i]\n",
      "/var/folders/d7/b6t8w9c960vb7cps3hrj9q_h0000gn/T/ipykernel_34729/3856767485.py:4: PerformanceWarning: DataFrame is highly fragmented.  This is usually the result of calling `frame.insert` many times, which has poor performance.  Consider joining all columns at once using pd.concat(axis=1) instead. To get a de-fragmented frame, use `newframe = frame.copy()`\n",
      "  metadata[mlb.classes_[i]] = res.T[i]\n",
      "/var/folders/d7/b6t8w9c960vb7cps3hrj9q_h0000gn/T/ipykernel_34729/3856767485.py:4: PerformanceWarning: DataFrame is highly fragmented.  This is usually the result of calling `frame.insert` many times, which has poor performance.  Consider joining all columns at once using pd.concat(axis=1) instead. To get a de-fragmented frame, use `newframe = frame.copy()`\n",
      "  metadata[mlb.classes_[i]] = res.T[i]\n",
      "/var/folders/d7/b6t8w9c960vb7cps3hrj9q_h0000gn/T/ipykernel_34729/3856767485.py:4: PerformanceWarning: DataFrame is highly fragmented.  This is usually the result of calling `frame.insert` many times, which has poor performance.  Consider joining all columns at once using pd.concat(axis=1) instead. To get a de-fragmented frame, use `newframe = frame.copy()`\n",
      "  metadata[mlb.classes_[i]] = res.T[i]\n",
      "/var/folders/d7/b6t8w9c960vb7cps3hrj9q_h0000gn/T/ipykernel_34729/3856767485.py:4: PerformanceWarning: DataFrame is highly fragmented.  This is usually the result of calling `frame.insert` many times, which has poor performance.  Consider joining all columns at once using pd.concat(axis=1) instead. To get a de-fragmented frame, use `newframe = frame.copy()`\n",
      "  metadata[mlb.classes_[i]] = res.T[i]\n",
      "/var/folders/d7/b6t8w9c960vb7cps3hrj9q_h0000gn/T/ipykernel_34729/3856767485.py:4: PerformanceWarning: DataFrame is highly fragmented.  This is usually the result of calling `frame.insert` many times, which has poor performance.  Consider joining all columns at once using pd.concat(axis=1) instead. To get a de-fragmented frame, use `newframe = frame.copy()`\n",
      "  metadata[mlb.classes_[i]] = res.T[i]\n",
      "/var/folders/d7/b6t8w9c960vb7cps3hrj9q_h0000gn/T/ipykernel_34729/3856767485.py:4: PerformanceWarning: DataFrame is highly fragmented.  This is usually the result of calling `frame.insert` many times, which has poor performance.  Consider joining all columns at once using pd.concat(axis=1) instead. To get a de-fragmented frame, use `newframe = frame.copy()`\n",
      "  metadata[mlb.classes_[i]] = res.T[i]\n",
      "/var/folders/d7/b6t8w9c960vb7cps3hrj9q_h0000gn/T/ipykernel_34729/3856767485.py:4: PerformanceWarning: DataFrame is highly fragmented.  This is usually the result of calling `frame.insert` many times, which has poor performance.  Consider joining all columns at once using pd.concat(axis=1) instead. To get a de-fragmented frame, use `newframe = frame.copy()`\n",
      "  metadata[mlb.classes_[i]] = res.T[i]\n",
      "/var/folders/d7/b6t8w9c960vb7cps3hrj9q_h0000gn/T/ipykernel_34729/3856767485.py:4: PerformanceWarning: DataFrame is highly fragmented.  This is usually the result of calling `frame.insert` many times, which has poor performance.  Consider joining all columns at once using pd.concat(axis=1) instead. To get a de-fragmented frame, use `newframe = frame.copy()`\n",
      "  metadata[mlb.classes_[i]] = res.T[i]\n",
      "/var/folders/d7/b6t8w9c960vb7cps3hrj9q_h0000gn/T/ipykernel_34729/3856767485.py:4: PerformanceWarning: DataFrame is highly fragmented.  This is usually the result of calling `frame.insert` many times, which has poor performance.  Consider joining all columns at once using pd.concat(axis=1) instead. To get a de-fragmented frame, use `newframe = frame.copy()`\n",
      "  metadata[mlb.classes_[i]] = res.T[i]\n",
      "/var/folders/d7/b6t8w9c960vb7cps3hrj9q_h0000gn/T/ipykernel_34729/3856767485.py:4: PerformanceWarning: DataFrame is highly fragmented.  This is usually the result of calling `frame.insert` many times, which has poor performance.  Consider joining all columns at once using pd.concat(axis=1) instead. To get a de-fragmented frame, use `newframe = frame.copy()`\n",
      "  metadata[mlb.classes_[i]] = res.T[i]\n",
      "/var/folders/d7/b6t8w9c960vb7cps3hrj9q_h0000gn/T/ipykernel_34729/3856767485.py:4: PerformanceWarning: DataFrame is highly fragmented.  This is usually the result of calling `frame.insert` many times, which has poor performance.  Consider joining all columns at once using pd.concat(axis=1) instead. To get a de-fragmented frame, use `newframe = frame.copy()`\n",
      "  metadata[mlb.classes_[i]] = res.T[i]\n",
      "/var/folders/d7/b6t8w9c960vb7cps3hrj9q_h0000gn/T/ipykernel_34729/3856767485.py:4: PerformanceWarning: DataFrame is highly fragmented.  This is usually the result of calling `frame.insert` many times, which has poor performance.  Consider joining all columns at once using pd.concat(axis=1) instead. To get a de-fragmented frame, use `newframe = frame.copy()`\n",
      "  metadata[mlb.classes_[i]] = res.T[i]\n",
      "/var/folders/d7/b6t8w9c960vb7cps3hrj9q_h0000gn/T/ipykernel_34729/3856767485.py:4: PerformanceWarning: DataFrame is highly fragmented.  This is usually the result of calling `frame.insert` many times, which has poor performance.  Consider joining all columns at once using pd.concat(axis=1) instead. To get a de-fragmented frame, use `newframe = frame.copy()`\n",
      "  metadata[mlb.classes_[i]] = res.T[i]\n",
      "/var/folders/d7/b6t8w9c960vb7cps3hrj9q_h0000gn/T/ipykernel_34729/3856767485.py:4: PerformanceWarning: DataFrame is highly fragmented.  This is usually the result of calling `frame.insert` many times, which has poor performance.  Consider joining all columns at once using pd.concat(axis=1) instead. To get a de-fragmented frame, use `newframe = frame.copy()`\n",
      "  metadata[mlb.classes_[i]] = res.T[i]\n",
      "/var/folders/d7/b6t8w9c960vb7cps3hrj9q_h0000gn/T/ipykernel_34729/3856767485.py:4: PerformanceWarning: DataFrame is highly fragmented.  This is usually the result of calling `frame.insert` many times, which has poor performance.  Consider joining all columns at once using pd.concat(axis=1) instead. To get a de-fragmented frame, use `newframe = frame.copy()`\n",
      "  metadata[mlb.classes_[i]] = res.T[i]\n",
      "/var/folders/d7/b6t8w9c960vb7cps3hrj9q_h0000gn/T/ipykernel_34729/3856767485.py:4: PerformanceWarning: DataFrame is highly fragmented.  This is usually the result of calling `frame.insert` many times, which has poor performance.  Consider joining all columns at once using pd.concat(axis=1) instead. To get a de-fragmented frame, use `newframe = frame.copy()`\n",
      "  metadata[mlb.classes_[i]] = res.T[i]\n",
      "/var/folders/d7/b6t8w9c960vb7cps3hrj9q_h0000gn/T/ipykernel_34729/3856767485.py:4: PerformanceWarning: DataFrame is highly fragmented.  This is usually the result of calling `frame.insert` many times, which has poor performance.  Consider joining all columns at once using pd.concat(axis=1) instead. To get a de-fragmented frame, use `newframe = frame.copy()`\n",
      "  metadata[mlb.classes_[i]] = res.T[i]\n",
      "/var/folders/d7/b6t8w9c960vb7cps3hrj9q_h0000gn/T/ipykernel_34729/3856767485.py:4: PerformanceWarning: DataFrame is highly fragmented.  This is usually the result of calling `frame.insert` many times, which has poor performance.  Consider joining all columns at once using pd.concat(axis=1) instead. To get a de-fragmented frame, use `newframe = frame.copy()`\n",
      "  metadata[mlb.classes_[i]] = res.T[i]\n",
      "/var/folders/d7/b6t8w9c960vb7cps3hrj9q_h0000gn/T/ipykernel_34729/3856767485.py:4: PerformanceWarning: DataFrame is highly fragmented.  This is usually the result of calling `frame.insert` many times, which has poor performance.  Consider joining all columns at once using pd.concat(axis=1) instead. To get a de-fragmented frame, use `newframe = frame.copy()`\n",
      "  metadata[mlb.classes_[i]] = res.T[i]\n",
      "/var/folders/d7/b6t8w9c960vb7cps3hrj9q_h0000gn/T/ipykernel_34729/3856767485.py:4: PerformanceWarning: DataFrame is highly fragmented.  This is usually the result of calling `frame.insert` many times, which has poor performance.  Consider joining all columns at once using pd.concat(axis=1) instead. To get a de-fragmented frame, use `newframe = frame.copy()`\n",
      "  metadata[mlb.classes_[i]] = res.T[i]\n",
      "/var/folders/d7/b6t8w9c960vb7cps3hrj9q_h0000gn/T/ipykernel_34729/3856767485.py:4: PerformanceWarning: DataFrame is highly fragmented.  This is usually the result of calling `frame.insert` many times, which has poor performance.  Consider joining all columns at once using pd.concat(axis=1) instead. To get a de-fragmented frame, use `newframe = frame.copy()`\n",
      "  metadata[mlb.classes_[i]] = res.T[i]\n",
      "/var/folders/d7/b6t8w9c960vb7cps3hrj9q_h0000gn/T/ipykernel_34729/3856767485.py:4: PerformanceWarning: DataFrame is highly fragmented.  This is usually the result of calling `frame.insert` many times, which has poor performance.  Consider joining all columns at once using pd.concat(axis=1) instead. To get a de-fragmented frame, use `newframe = frame.copy()`\n",
      "  metadata[mlb.classes_[i]] = res.T[i]\n",
      "/var/folders/d7/b6t8w9c960vb7cps3hrj9q_h0000gn/T/ipykernel_34729/3856767485.py:4: PerformanceWarning: DataFrame is highly fragmented.  This is usually the result of calling `frame.insert` many times, which has poor performance.  Consider joining all columns at once using pd.concat(axis=1) instead. To get a de-fragmented frame, use `newframe = frame.copy()`\n",
      "  metadata[mlb.classes_[i]] = res.T[i]\n",
      "/var/folders/d7/b6t8w9c960vb7cps3hrj9q_h0000gn/T/ipykernel_34729/3856767485.py:4: PerformanceWarning: DataFrame is highly fragmented.  This is usually the result of calling `frame.insert` many times, which has poor performance.  Consider joining all columns at once using pd.concat(axis=1) instead. To get a de-fragmented frame, use `newframe = frame.copy()`\n",
      "  metadata[mlb.classes_[i]] = res.T[i]\n",
      "/var/folders/d7/b6t8w9c960vb7cps3hrj9q_h0000gn/T/ipykernel_34729/3856767485.py:4: PerformanceWarning: DataFrame is highly fragmented.  This is usually the result of calling `frame.insert` many times, which has poor performance.  Consider joining all columns at once using pd.concat(axis=1) instead. To get a de-fragmented frame, use `newframe = frame.copy()`\n",
      "  metadata[mlb.classes_[i]] = res.T[i]\n",
      "/var/folders/d7/b6t8w9c960vb7cps3hrj9q_h0000gn/T/ipykernel_34729/3856767485.py:4: PerformanceWarning: DataFrame is highly fragmented.  This is usually the result of calling `frame.insert` many times, which has poor performance.  Consider joining all columns at once using pd.concat(axis=1) instead. To get a de-fragmented frame, use `newframe = frame.copy()`\n",
      "  metadata[mlb.classes_[i]] = res.T[i]\n",
      "/var/folders/d7/b6t8w9c960vb7cps3hrj9q_h0000gn/T/ipykernel_34729/3856767485.py:4: PerformanceWarning: DataFrame is highly fragmented.  This is usually the result of calling `frame.insert` many times, which has poor performance.  Consider joining all columns at once using pd.concat(axis=1) instead. To get a de-fragmented frame, use `newframe = frame.copy()`\n",
      "  metadata[mlb.classes_[i]] = res.T[i]\n",
      "/var/folders/d7/b6t8w9c960vb7cps3hrj9q_h0000gn/T/ipykernel_34729/3856767485.py:4: PerformanceWarning: DataFrame is highly fragmented.  This is usually the result of calling `frame.insert` many times, which has poor performance.  Consider joining all columns at once using pd.concat(axis=1) instead. To get a de-fragmented frame, use `newframe = frame.copy()`\n",
      "  metadata[mlb.classes_[i]] = res.T[i]\n",
      "/var/folders/d7/b6t8w9c960vb7cps3hrj9q_h0000gn/T/ipykernel_34729/3856767485.py:4: PerformanceWarning: DataFrame is highly fragmented.  This is usually the result of calling `frame.insert` many times, which has poor performance.  Consider joining all columns at once using pd.concat(axis=1) instead. To get a de-fragmented frame, use `newframe = frame.copy()`\n",
      "  metadata[mlb.classes_[i]] = res.T[i]\n",
      "/var/folders/d7/b6t8w9c960vb7cps3hrj9q_h0000gn/T/ipykernel_34729/3856767485.py:4: PerformanceWarning: DataFrame is highly fragmented.  This is usually the result of calling `frame.insert` many times, which has poor performance.  Consider joining all columns at once using pd.concat(axis=1) instead. To get a de-fragmented frame, use `newframe = frame.copy()`\n",
      "  metadata[mlb.classes_[i]] = res.T[i]\n",
      "/var/folders/d7/b6t8w9c960vb7cps3hrj9q_h0000gn/T/ipykernel_34729/3856767485.py:4: PerformanceWarning: DataFrame is highly fragmented.  This is usually the result of calling `frame.insert` many times, which has poor performance.  Consider joining all columns at once using pd.concat(axis=1) instead. To get a de-fragmented frame, use `newframe = frame.copy()`\n",
      "  metadata[mlb.classes_[i]] = res.T[i]\n",
      "/var/folders/d7/b6t8w9c960vb7cps3hrj9q_h0000gn/T/ipykernel_34729/3856767485.py:4: PerformanceWarning: DataFrame is highly fragmented.  This is usually the result of calling `frame.insert` many times, which has poor performance.  Consider joining all columns at once using pd.concat(axis=1) instead. To get a de-fragmented frame, use `newframe = frame.copy()`\n",
      "  metadata[mlb.classes_[i]] = res.T[i]\n",
      "/var/folders/d7/b6t8w9c960vb7cps3hrj9q_h0000gn/T/ipykernel_34729/3856767485.py:4: PerformanceWarning: DataFrame is highly fragmented.  This is usually the result of calling `frame.insert` many times, which has poor performance.  Consider joining all columns at once using pd.concat(axis=1) instead. To get a de-fragmented frame, use `newframe = frame.copy()`\n",
      "  metadata[mlb.classes_[i]] = res.T[i]\n",
      "/var/folders/d7/b6t8w9c960vb7cps3hrj9q_h0000gn/T/ipykernel_34729/3856767485.py:4: PerformanceWarning: DataFrame is highly fragmented.  This is usually the result of calling `frame.insert` many times, which has poor performance.  Consider joining all columns at once using pd.concat(axis=1) instead. To get a de-fragmented frame, use `newframe = frame.copy()`\n",
      "  metadata[mlb.classes_[i]] = res.T[i]\n",
      "/var/folders/d7/b6t8w9c960vb7cps3hrj9q_h0000gn/T/ipykernel_34729/3856767485.py:4: PerformanceWarning: DataFrame is highly fragmented.  This is usually the result of calling `frame.insert` many times, which has poor performance.  Consider joining all columns at once using pd.concat(axis=1) instead. To get a de-fragmented frame, use `newframe = frame.copy()`\n",
      "  metadata[mlb.classes_[i]] = res.T[i]\n",
      "/var/folders/d7/b6t8w9c960vb7cps3hrj9q_h0000gn/T/ipykernel_34729/3856767485.py:4: PerformanceWarning: DataFrame is highly fragmented.  This is usually the result of calling `frame.insert` many times, which has poor performance.  Consider joining all columns at once using pd.concat(axis=1) instead. To get a de-fragmented frame, use `newframe = frame.copy()`\n",
      "  metadata[mlb.classes_[i]] = res.T[i]\n",
      "/var/folders/d7/b6t8w9c960vb7cps3hrj9q_h0000gn/T/ipykernel_34729/3856767485.py:4: PerformanceWarning: DataFrame is highly fragmented.  This is usually the result of calling `frame.insert` many times, which has poor performance.  Consider joining all columns at once using pd.concat(axis=1) instead. To get a de-fragmented frame, use `newframe = frame.copy()`\n",
      "  metadata[mlb.classes_[i]] = res.T[i]\n"
     ]
    },
    {
     "name": "stderr",
     "output_type": "stream",
     "text": [
      "/var/folders/d7/b6t8w9c960vb7cps3hrj9q_h0000gn/T/ipykernel_34729/3856767485.py:4: PerformanceWarning: DataFrame is highly fragmented.  This is usually the result of calling `frame.insert` many times, which has poor performance.  Consider joining all columns at once using pd.concat(axis=1) instead. To get a de-fragmented frame, use `newframe = frame.copy()`\n",
      "  metadata[mlb.classes_[i]] = res.T[i]\n",
      "/var/folders/d7/b6t8w9c960vb7cps3hrj9q_h0000gn/T/ipykernel_34729/3856767485.py:4: PerformanceWarning: DataFrame is highly fragmented.  This is usually the result of calling `frame.insert` many times, which has poor performance.  Consider joining all columns at once using pd.concat(axis=1) instead. To get a de-fragmented frame, use `newframe = frame.copy()`\n",
      "  metadata[mlb.classes_[i]] = res.T[i]\n",
      "/var/folders/d7/b6t8w9c960vb7cps3hrj9q_h0000gn/T/ipykernel_34729/3856767485.py:4: PerformanceWarning: DataFrame is highly fragmented.  This is usually the result of calling `frame.insert` many times, which has poor performance.  Consider joining all columns at once using pd.concat(axis=1) instead. To get a de-fragmented frame, use `newframe = frame.copy()`\n",
      "  metadata[mlb.classes_[i]] = res.T[i]\n",
      "/var/folders/d7/b6t8w9c960vb7cps3hrj9q_h0000gn/T/ipykernel_34729/3856767485.py:4: PerformanceWarning: DataFrame is highly fragmented.  This is usually the result of calling `frame.insert` many times, which has poor performance.  Consider joining all columns at once using pd.concat(axis=1) instead. To get a de-fragmented frame, use `newframe = frame.copy()`\n",
      "  metadata[mlb.classes_[i]] = res.T[i]\n",
      "/var/folders/d7/b6t8w9c960vb7cps3hrj9q_h0000gn/T/ipykernel_34729/3856767485.py:4: PerformanceWarning: DataFrame is highly fragmented.  This is usually the result of calling `frame.insert` many times, which has poor performance.  Consider joining all columns at once using pd.concat(axis=1) instead. To get a de-fragmented frame, use `newframe = frame.copy()`\n",
      "  metadata[mlb.classes_[i]] = res.T[i]\n",
      "/var/folders/d7/b6t8w9c960vb7cps3hrj9q_h0000gn/T/ipykernel_34729/3856767485.py:4: PerformanceWarning: DataFrame is highly fragmented.  This is usually the result of calling `frame.insert` many times, which has poor performance.  Consider joining all columns at once using pd.concat(axis=1) instead. To get a de-fragmented frame, use `newframe = frame.copy()`\n",
      "  metadata[mlb.classes_[i]] = res.T[i]\n",
      "/var/folders/d7/b6t8w9c960vb7cps3hrj9q_h0000gn/T/ipykernel_34729/3856767485.py:4: PerformanceWarning: DataFrame is highly fragmented.  This is usually the result of calling `frame.insert` many times, which has poor performance.  Consider joining all columns at once using pd.concat(axis=1) instead. To get a de-fragmented frame, use `newframe = frame.copy()`\n",
      "  metadata[mlb.classes_[i]] = res.T[i]\n",
      "/var/folders/d7/b6t8w9c960vb7cps3hrj9q_h0000gn/T/ipykernel_34729/3856767485.py:4: PerformanceWarning: DataFrame is highly fragmented.  This is usually the result of calling `frame.insert` many times, which has poor performance.  Consider joining all columns at once using pd.concat(axis=1) instead. To get a de-fragmented frame, use `newframe = frame.copy()`\n",
      "  metadata[mlb.classes_[i]] = res.T[i]\n",
      "/var/folders/d7/b6t8w9c960vb7cps3hrj9q_h0000gn/T/ipykernel_34729/3856767485.py:4: PerformanceWarning: DataFrame is highly fragmented.  This is usually the result of calling `frame.insert` many times, which has poor performance.  Consider joining all columns at once using pd.concat(axis=1) instead. To get a de-fragmented frame, use `newframe = frame.copy()`\n",
      "  metadata[mlb.classes_[i]] = res.T[i]\n",
      "/var/folders/d7/b6t8w9c960vb7cps3hrj9q_h0000gn/T/ipykernel_34729/3856767485.py:4: PerformanceWarning: DataFrame is highly fragmented.  This is usually the result of calling `frame.insert` many times, which has poor performance.  Consider joining all columns at once using pd.concat(axis=1) instead. To get a de-fragmented frame, use `newframe = frame.copy()`\n",
      "  metadata[mlb.classes_[i]] = res.T[i]\n",
      "/var/folders/d7/b6t8w9c960vb7cps3hrj9q_h0000gn/T/ipykernel_34729/3856767485.py:4: PerformanceWarning: DataFrame is highly fragmented.  This is usually the result of calling `frame.insert` many times, which has poor performance.  Consider joining all columns at once using pd.concat(axis=1) instead. To get a de-fragmented frame, use `newframe = frame.copy()`\n",
      "  metadata[mlb.classes_[i]] = res.T[i]\n",
      "/var/folders/d7/b6t8w9c960vb7cps3hrj9q_h0000gn/T/ipykernel_34729/3856767485.py:4: PerformanceWarning: DataFrame is highly fragmented.  This is usually the result of calling `frame.insert` many times, which has poor performance.  Consider joining all columns at once using pd.concat(axis=1) instead. To get a de-fragmented frame, use `newframe = frame.copy()`\n",
      "  metadata[mlb.classes_[i]] = res.T[i]\n",
      "/var/folders/d7/b6t8w9c960vb7cps3hrj9q_h0000gn/T/ipykernel_34729/3856767485.py:4: PerformanceWarning: DataFrame is highly fragmented.  This is usually the result of calling `frame.insert` many times, which has poor performance.  Consider joining all columns at once using pd.concat(axis=1) instead. To get a de-fragmented frame, use `newframe = frame.copy()`\n",
      "  metadata[mlb.classes_[i]] = res.T[i]\n",
      "/var/folders/d7/b6t8w9c960vb7cps3hrj9q_h0000gn/T/ipykernel_34729/3856767485.py:4: PerformanceWarning: DataFrame is highly fragmented.  This is usually the result of calling `frame.insert` many times, which has poor performance.  Consider joining all columns at once using pd.concat(axis=1) instead. To get a de-fragmented frame, use `newframe = frame.copy()`\n",
      "  metadata[mlb.classes_[i]] = res.T[i]\n",
      "/var/folders/d7/b6t8w9c960vb7cps3hrj9q_h0000gn/T/ipykernel_34729/3856767485.py:4: PerformanceWarning: DataFrame is highly fragmented.  This is usually the result of calling `frame.insert` many times, which has poor performance.  Consider joining all columns at once using pd.concat(axis=1) instead. To get a de-fragmented frame, use `newframe = frame.copy()`\n",
      "  metadata[mlb.classes_[i]] = res.T[i]\n",
      "/var/folders/d7/b6t8w9c960vb7cps3hrj9q_h0000gn/T/ipykernel_34729/3856767485.py:4: PerformanceWarning: DataFrame is highly fragmented.  This is usually the result of calling `frame.insert` many times, which has poor performance.  Consider joining all columns at once using pd.concat(axis=1) instead. To get a de-fragmented frame, use `newframe = frame.copy()`\n",
      "  metadata[mlb.classes_[i]] = res.T[i]\n",
      "/var/folders/d7/b6t8w9c960vb7cps3hrj9q_h0000gn/T/ipykernel_34729/3856767485.py:4: PerformanceWarning: DataFrame is highly fragmented.  This is usually the result of calling `frame.insert` many times, which has poor performance.  Consider joining all columns at once using pd.concat(axis=1) instead. To get a de-fragmented frame, use `newframe = frame.copy()`\n",
      "  metadata[mlb.classes_[i]] = res.T[i]\n",
      "/var/folders/d7/b6t8w9c960vb7cps3hrj9q_h0000gn/T/ipykernel_34729/3856767485.py:4: PerformanceWarning: DataFrame is highly fragmented.  This is usually the result of calling `frame.insert` many times, which has poor performance.  Consider joining all columns at once using pd.concat(axis=1) instead. To get a de-fragmented frame, use `newframe = frame.copy()`\n",
      "  metadata[mlb.classes_[i]] = res.T[i]\n",
      "/var/folders/d7/b6t8w9c960vb7cps3hrj9q_h0000gn/T/ipykernel_34729/3856767485.py:4: PerformanceWarning: DataFrame is highly fragmented.  This is usually the result of calling `frame.insert` many times, which has poor performance.  Consider joining all columns at once using pd.concat(axis=1) instead. To get a de-fragmented frame, use `newframe = frame.copy()`\n",
      "  metadata[mlb.classes_[i]] = res.T[i]\n",
      "/var/folders/d7/b6t8w9c960vb7cps3hrj9q_h0000gn/T/ipykernel_34729/3856767485.py:4: PerformanceWarning: DataFrame is highly fragmented.  This is usually the result of calling `frame.insert` many times, which has poor performance.  Consider joining all columns at once using pd.concat(axis=1) instead. To get a de-fragmented frame, use `newframe = frame.copy()`\n",
      "  metadata[mlb.classes_[i]] = res.T[i]\n",
      "/var/folders/d7/b6t8w9c960vb7cps3hrj9q_h0000gn/T/ipykernel_34729/3856767485.py:4: PerformanceWarning: DataFrame is highly fragmented.  This is usually the result of calling `frame.insert` many times, which has poor performance.  Consider joining all columns at once using pd.concat(axis=1) instead. To get a de-fragmented frame, use `newframe = frame.copy()`\n",
      "  metadata[mlb.classes_[i]] = res.T[i]\n",
      "/var/folders/d7/b6t8w9c960vb7cps3hrj9q_h0000gn/T/ipykernel_34729/3856767485.py:4: PerformanceWarning: DataFrame is highly fragmented.  This is usually the result of calling `frame.insert` many times, which has poor performance.  Consider joining all columns at once using pd.concat(axis=1) instead. To get a de-fragmented frame, use `newframe = frame.copy()`\n",
      "  metadata[mlb.classes_[i]] = res.T[i]\n",
      "/var/folders/d7/b6t8w9c960vb7cps3hrj9q_h0000gn/T/ipykernel_34729/3856767485.py:4: PerformanceWarning: DataFrame is highly fragmented.  This is usually the result of calling `frame.insert` many times, which has poor performance.  Consider joining all columns at once using pd.concat(axis=1) instead. To get a de-fragmented frame, use `newframe = frame.copy()`\n",
      "  metadata[mlb.classes_[i]] = res.T[i]\n",
      "/var/folders/d7/b6t8w9c960vb7cps3hrj9q_h0000gn/T/ipykernel_34729/3856767485.py:4: PerformanceWarning: DataFrame is highly fragmented.  This is usually the result of calling `frame.insert` many times, which has poor performance.  Consider joining all columns at once using pd.concat(axis=1) instead. To get a de-fragmented frame, use `newframe = frame.copy()`\n",
      "  metadata[mlb.classes_[i]] = res.T[i]\n",
      "/var/folders/d7/b6t8w9c960vb7cps3hrj9q_h0000gn/T/ipykernel_34729/3856767485.py:4: PerformanceWarning: DataFrame is highly fragmented.  This is usually the result of calling `frame.insert` many times, which has poor performance.  Consider joining all columns at once using pd.concat(axis=1) instead. To get a de-fragmented frame, use `newframe = frame.copy()`\n",
      "  metadata[mlb.classes_[i]] = res.T[i]\n",
      "/var/folders/d7/b6t8w9c960vb7cps3hrj9q_h0000gn/T/ipykernel_34729/3856767485.py:4: PerformanceWarning: DataFrame is highly fragmented.  This is usually the result of calling `frame.insert` many times, which has poor performance.  Consider joining all columns at once using pd.concat(axis=1) instead. To get a de-fragmented frame, use `newframe = frame.copy()`\n",
      "  metadata[mlb.classes_[i]] = res.T[i]\n",
      "/var/folders/d7/b6t8w9c960vb7cps3hrj9q_h0000gn/T/ipykernel_34729/3856767485.py:4: PerformanceWarning: DataFrame is highly fragmented.  This is usually the result of calling `frame.insert` many times, which has poor performance.  Consider joining all columns at once using pd.concat(axis=1) instead. To get a de-fragmented frame, use `newframe = frame.copy()`\n",
      "  metadata[mlb.classes_[i]] = res.T[i]\n",
      "/var/folders/d7/b6t8w9c960vb7cps3hrj9q_h0000gn/T/ipykernel_34729/3856767485.py:4: PerformanceWarning: DataFrame is highly fragmented.  This is usually the result of calling `frame.insert` many times, which has poor performance.  Consider joining all columns at once using pd.concat(axis=1) instead. To get a de-fragmented frame, use `newframe = frame.copy()`\n",
      "  metadata[mlb.classes_[i]] = res.T[i]\n",
      "/var/folders/d7/b6t8w9c960vb7cps3hrj9q_h0000gn/T/ipykernel_34729/3856767485.py:4: PerformanceWarning: DataFrame is highly fragmented.  This is usually the result of calling `frame.insert` many times, which has poor performance.  Consider joining all columns at once using pd.concat(axis=1) instead. To get a de-fragmented frame, use `newframe = frame.copy()`\n",
      "  metadata[mlb.classes_[i]] = res.T[i]\n",
      "/var/folders/d7/b6t8w9c960vb7cps3hrj9q_h0000gn/T/ipykernel_34729/3856767485.py:4: PerformanceWarning: DataFrame is highly fragmented.  This is usually the result of calling `frame.insert` many times, which has poor performance.  Consider joining all columns at once using pd.concat(axis=1) instead. To get a de-fragmented frame, use `newframe = frame.copy()`\n",
      "  metadata[mlb.classes_[i]] = res.T[i]\n",
      "/var/folders/d7/b6t8w9c960vb7cps3hrj9q_h0000gn/T/ipykernel_34729/3856767485.py:4: PerformanceWarning: DataFrame is highly fragmented.  This is usually the result of calling `frame.insert` many times, which has poor performance.  Consider joining all columns at once using pd.concat(axis=1) instead. To get a de-fragmented frame, use `newframe = frame.copy()`\n",
      "  metadata[mlb.classes_[i]] = res.T[i]\n",
      "/var/folders/d7/b6t8w9c960vb7cps3hrj9q_h0000gn/T/ipykernel_34729/3856767485.py:4: PerformanceWarning: DataFrame is highly fragmented.  This is usually the result of calling `frame.insert` many times, which has poor performance.  Consider joining all columns at once using pd.concat(axis=1) instead. To get a de-fragmented frame, use `newframe = frame.copy()`\n",
      "  metadata[mlb.classes_[i]] = res.T[i]\n",
      "/var/folders/d7/b6t8w9c960vb7cps3hrj9q_h0000gn/T/ipykernel_34729/3856767485.py:4: PerformanceWarning: DataFrame is highly fragmented.  This is usually the result of calling `frame.insert` many times, which has poor performance.  Consider joining all columns at once using pd.concat(axis=1) instead. To get a de-fragmented frame, use `newframe = frame.copy()`\n",
      "  metadata[mlb.classes_[i]] = res.T[i]\n",
      "/var/folders/d7/b6t8w9c960vb7cps3hrj9q_h0000gn/T/ipykernel_34729/3856767485.py:4: PerformanceWarning: DataFrame is highly fragmented.  This is usually the result of calling `frame.insert` many times, which has poor performance.  Consider joining all columns at once using pd.concat(axis=1) instead. To get a de-fragmented frame, use `newframe = frame.copy()`\n",
      "  metadata[mlb.classes_[i]] = res.T[i]\n",
      "/var/folders/d7/b6t8w9c960vb7cps3hrj9q_h0000gn/T/ipykernel_34729/3856767485.py:4: PerformanceWarning: DataFrame is highly fragmented.  This is usually the result of calling `frame.insert` many times, which has poor performance.  Consider joining all columns at once using pd.concat(axis=1) instead. To get a de-fragmented frame, use `newframe = frame.copy()`\n",
      "  metadata[mlb.classes_[i]] = res.T[i]\n",
      "/var/folders/d7/b6t8w9c960vb7cps3hrj9q_h0000gn/T/ipykernel_34729/3856767485.py:4: PerformanceWarning: DataFrame is highly fragmented.  This is usually the result of calling `frame.insert` many times, which has poor performance.  Consider joining all columns at once using pd.concat(axis=1) instead. To get a de-fragmented frame, use `newframe = frame.copy()`\n",
      "  metadata[mlb.classes_[i]] = res.T[i]\n",
      "/var/folders/d7/b6t8w9c960vb7cps3hrj9q_h0000gn/T/ipykernel_34729/3856767485.py:4: PerformanceWarning: DataFrame is highly fragmented.  This is usually the result of calling `frame.insert` many times, which has poor performance.  Consider joining all columns at once using pd.concat(axis=1) instead. To get a de-fragmented frame, use `newframe = frame.copy()`\n",
      "  metadata[mlb.classes_[i]] = res.T[i]\n",
      "/var/folders/d7/b6t8w9c960vb7cps3hrj9q_h0000gn/T/ipykernel_34729/3856767485.py:4: PerformanceWarning: DataFrame is highly fragmented.  This is usually the result of calling `frame.insert` many times, which has poor performance.  Consider joining all columns at once using pd.concat(axis=1) instead. To get a de-fragmented frame, use `newframe = frame.copy()`\n",
      "  metadata[mlb.classes_[i]] = res.T[i]\n",
      "/var/folders/d7/b6t8w9c960vb7cps3hrj9q_h0000gn/T/ipykernel_34729/3856767485.py:4: PerformanceWarning: DataFrame is highly fragmented.  This is usually the result of calling `frame.insert` many times, which has poor performance.  Consider joining all columns at once using pd.concat(axis=1) instead. To get a de-fragmented frame, use `newframe = frame.copy()`\n",
      "  metadata[mlb.classes_[i]] = res.T[i]\n",
      "/var/folders/d7/b6t8w9c960vb7cps3hrj9q_h0000gn/T/ipykernel_34729/3856767485.py:4: PerformanceWarning: DataFrame is highly fragmented.  This is usually the result of calling `frame.insert` many times, which has poor performance.  Consider joining all columns at once using pd.concat(axis=1) instead. To get a de-fragmented frame, use `newframe = frame.copy()`\n",
      "  metadata[mlb.classes_[i]] = res.T[i]\n",
      "/var/folders/d7/b6t8w9c960vb7cps3hrj9q_h0000gn/T/ipykernel_34729/3856767485.py:4: PerformanceWarning: DataFrame is highly fragmented.  This is usually the result of calling `frame.insert` many times, which has poor performance.  Consider joining all columns at once using pd.concat(axis=1) instead. To get a de-fragmented frame, use `newframe = frame.copy()`\n",
      "  metadata[mlb.classes_[i]] = res.T[i]\n",
      "/var/folders/d7/b6t8w9c960vb7cps3hrj9q_h0000gn/T/ipykernel_34729/3856767485.py:4: PerformanceWarning: DataFrame is highly fragmented.  This is usually the result of calling `frame.insert` many times, which has poor performance.  Consider joining all columns at once using pd.concat(axis=1) instead. To get a de-fragmented frame, use `newframe = frame.copy()`\n",
      "  metadata[mlb.classes_[i]] = res.T[i]\n",
      "/var/folders/d7/b6t8w9c960vb7cps3hrj9q_h0000gn/T/ipykernel_34729/3856767485.py:4: PerformanceWarning: DataFrame is highly fragmented.  This is usually the result of calling `frame.insert` many times, which has poor performance.  Consider joining all columns at once using pd.concat(axis=1) instead. To get a de-fragmented frame, use `newframe = frame.copy()`\n",
      "  metadata[mlb.classes_[i]] = res.T[i]\n",
      "/var/folders/d7/b6t8w9c960vb7cps3hrj9q_h0000gn/T/ipykernel_34729/3856767485.py:4: PerformanceWarning: DataFrame is highly fragmented.  This is usually the result of calling `frame.insert` many times, which has poor performance.  Consider joining all columns at once using pd.concat(axis=1) instead. To get a de-fragmented frame, use `newframe = frame.copy()`\n",
      "  metadata[mlb.classes_[i]] = res.T[i]\n",
      "/var/folders/d7/b6t8w9c960vb7cps3hrj9q_h0000gn/T/ipykernel_34729/3856767485.py:4: PerformanceWarning: DataFrame is highly fragmented.  This is usually the result of calling `frame.insert` many times, which has poor performance.  Consider joining all columns at once using pd.concat(axis=1) instead. To get a de-fragmented frame, use `newframe = frame.copy()`\n",
      "  metadata[mlb.classes_[i]] = res.T[i]\n",
      "/var/folders/d7/b6t8w9c960vb7cps3hrj9q_h0000gn/T/ipykernel_34729/3856767485.py:4: PerformanceWarning: DataFrame is highly fragmented.  This is usually the result of calling `frame.insert` many times, which has poor performance.  Consider joining all columns at once using pd.concat(axis=1) instead. To get a de-fragmented frame, use `newframe = frame.copy()`\n",
      "  metadata[mlb.classes_[i]] = res.T[i]\n",
      "/var/folders/d7/b6t8w9c960vb7cps3hrj9q_h0000gn/T/ipykernel_34729/3856767485.py:4: PerformanceWarning: DataFrame is highly fragmented.  This is usually the result of calling `frame.insert` many times, which has poor performance.  Consider joining all columns at once using pd.concat(axis=1) instead. To get a de-fragmented frame, use `newframe = frame.copy()`\n",
      "  metadata[mlb.classes_[i]] = res.T[i]\n",
      "/var/folders/d7/b6t8w9c960vb7cps3hrj9q_h0000gn/T/ipykernel_34729/3856767485.py:4: PerformanceWarning: DataFrame is highly fragmented.  This is usually the result of calling `frame.insert` many times, which has poor performance.  Consider joining all columns at once using pd.concat(axis=1) instead. To get a de-fragmented frame, use `newframe = frame.copy()`\n",
      "  metadata[mlb.classes_[i]] = res.T[i]\n",
      "/var/folders/d7/b6t8w9c960vb7cps3hrj9q_h0000gn/T/ipykernel_34729/3856767485.py:4: PerformanceWarning: DataFrame is highly fragmented.  This is usually the result of calling `frame.insert` many times, which has poor performance.  Consider joining all columns at once using pd.concat(axis=1) instead. To get a de-fragmented frame, use `newframe = frame.copy()`\n",
      "  metadata[mlb.classes_[i]] = res.T[i]\n",
      "/var/folders/d7/b6t8w9c960vb7cps3hrj9q_h0000gn/T/ipykernel_34729/3856767485.py:4: PerformanceWarning: DataFrame is highly fragmented.  This is usually the result of calling `frame.insert` many times, which has poor performance.  Consider joining all columns at once using pd.concat(axis=1) instead. To get a de-fragmented frame, use `newframe = frame.copy()`\n",
      "  metadata[mlb.classes_[i]] = res.T[i]\n",
      "/var/folders/d7/b6t8w9c960vb7cps3hrj9q_h0000gn/T/ipykernel_34729/3856767485.py:4: PerformanceWarning: DataFrame is highly fragmented.  This is usually the result of calling `frame.insert` many times, which has poor performance.  Consider joining all columns at once using pd.concat(axis=1) instead. To get a de-fragmented frame, use `newframe = frame.copy()`\n",
      "  metadata[mlb.classes_[i]] = res.T[i]\n"
     ]
    },
    {
     "name": "stderr",
     "output_type": "stream",
     "text": [
      "/var/folders/d7/b6t8w9c960vb7cps3hrj9q_h0000gn/T/ipykernel_34729/3856767485.py:4: PerformanceWarning: DataFrame is highly fragmented.  This is usually the result of calling `frame.insert` many times, which has poor performance.  Consider joining all columns at once using pd.concat(axis=1) instead. To get a de-fragmented frame, use `newframe = frame.copy()`\n",
      "  metadata[mlb.classes_[i]] = res.T[i]\n",
      "/var/folders/d7/b6t8w9c960vb7cps3hrj9q_h0000gn/T/ipykernel_34729/3856767485.py:4: PerformanceWarning: DataFrame is highly fragmented.  This is usually the result of calling `frame.insert` many times, which has poor performance.  Consider joining all columns at once using pd.concat(axis=1) instead. To get a de-fragmented frame, use `newframe = frame.copy()`\n",
      "  metadata[mlb.classes_[i]] = res.T[i]\n",
      "/var/folders/d7/b6t8w9c960vb7cps3hrj9q_h0000gn/T/ipykernel_34729/3856767485.py:4: PerformanceWarning: DataFrame is highly fragmented.  This is usually the result of calling `frame.insert` many times, which has poor performance.  Consider joining all columns at once using pd.concat(axis=1) instead. To get a de-fragmented frame, use `newframe = frame.copy()`\n",
      "  metadata[mlb.classes_[i]] = res.T[i]\n",
      "/var/folders/d7/b6t8w9c960vb7cps3hrj9q_h0000gn/T/ipykernel_34729/3856767485.py:4: PerformanceWarning: DataFrame is highly fragmented.  This is usually the result of calling `frame.insert` many times, which has poor performance.  Consider joining all columns at once using pd.concat(axis=1) instead. To get a de-fragmented frame, use `newframe = frame.copy()`\n",
      "  metadata[mlb.classes_[i]] = res.T[i]\n",
      "/var/folders/d7/b6t8w9c960vb7cps3hrj9q_h0000gn/T/ipykernel_34729/3856767485.py:4: PerformanceWarning: DataFrame is highly fragmented.  This is usually the result of calling `frame.insert` many times, which has poor performance.  Consider joining all columns at once using pd.concat(axis=1) instead. To get a de-fragmented frame, use `newframe = frame.copy()`\n",
      "  metadata[mlb.classes_[i]] = res.T[i]\n",
      "/var/folders/d7/b6t8w9c960vb7cps3hrj9q_h0000gn/T/ipykernel_34729/3856767485.py:4: PerformanceWarning: DataFrame is highly fragmented.  This is usually the result of calling `frame.insert` many times, which has poor performance.  Consider joining all columns at once using pd.concat(axis=1) instead. To get a de-fragmented frame, use `newframe = frame.copy()`\n",
      "  metadata[mlb.classes_[i]] = res.T[i]\n",
      "/var/folders/d7/b6t8w9c960vb7cps3hrj9q_h0000gn/T/ipykernel_34729/3856767485.py:4: PerformanceWarning: DataFrame is highly fragmented.  This is usually the result of calling `frame.insert` many times, which has poor performance.  Consider joining all columns at once using pd.concat(axis=1) instead. To get a de-fragmented frame, use `newframe = frame.copy()`\n",
      "  metadata[mlb.classes_[i]] = res.T[i]\n",
      "/var/folders/d7/b6t8w9c960vb7cps3hrj9q_h0000gn/T/ipykernel_34729/3856767485.py:4: PerformanceWarning: DataFrame is highly fragmented.  This is usually the result of calling `frame.insert` many times, which has poor performance.  Consider joining all columns at once using pd.concat(axis=1) instead. To get a de-fragmented frame, use `newframe = frame.copy()`\n",
      "  metadata[mlb.classes_[i]] = res.T[i]\n",
      "/var/folders/d7/b6t8w9c960vb7cps3hrj9q_h0000gn/T/ipykernel_34729/3856767485.py:4: PerformanceWarning: DataFrame is highly fragmented.  This is usually the result of calling `frame.insert` many times, which has poor performance.  Consider joining all columns at once using pd.concat(axis=1) instead. To get a de-fragmented frame, use `newframe = frame.copy()`\n",
      "  metadata[mlb.classes_[i]] = res.T[i]\n",
      "/var/folders/d7/b6t8w9c960vb7cps3hrj9q_h0000gn/T/ipykernel_34729/3856767485.py:4: PerformanceWarning: DataFrame is highly fragmented.  This is usually the result of calling `frame.insert` many times, which has poor performance.  Consider joining all columns at once using pd.concat(axis=1) instead. To get a de-fragmented frame, use `newframe = frame.copy()`\n",
      "  metadata[mlb.classes_[i]] = res.T[i]\n",
      "/var/folders/d7/b6t8w9c960vb7cps3hrj9q_h0000gn/T/ipykernel_34729/3856767485.py:4: PerformanceWarning: DataFrame is highly fragmented.  This is usually the result of calling `frame.insert` many times, which has poor performance.  Consider joining all columns at once using pd.concat(axis=1) instead. To get a de-fragmented frame, use `newframe = frame.copy()`\n",
      "  metadata[mlb.classes_[i]] = res.T[i]\n",
      "/var/folders/d7/b6t8w9c960vb7cps3hrj9q_h0000gn/T/ipykernel_34729/3856767485.py:4: PerformanceWarning: DataFrame is highly fragmented.  This is usually the result of calling `frame.insert` many times, which has poor performance.  Consider joining all columns at once using pd.concat(axis=1) instead. To get a de-fragmented frame, use `newframe = frame.copy()`\n",
      "  metadata[mlb.classes_[i]] = res.T[i]\n",
      "/var/folders/d7/b6t8w9c960vb7cps3hrj9q_h0000gn/T/ipykernel_34729/3856767485.py:4: PerformanceWarning: DataFrame is highly fragmented.  This is usually the result of calling `frame.insert` many times, which has poor performance.  Consider joining all columns at once using pd.concat(axis=1) instead. To get a de-fragmented frame, use `newframe = frame.copy()`\n",
      "  metadata[mlb.classes_[i]] = res.T[i]\n",
      "/var/folders/d7/b6t8w9c960vb7cps3hrj9q_h0000gn/T/ipykernel_34729/3856767485.py:4: PerformanceWarning: DataFrame is highly fragmented.  This is usually the result of calling `frame.insert` many times, which has poor performance.  Consider joining all columns at once using pd.concat(axis=1) instead. To get a de-fragmented frame, use `newframe = frame.copy()`\n",
      "  metadata[mlb.classes_[i]] = res.T[i]\n",
      "/var/folders/d7/b6t8w9c960vb7cps3hrj9q_h0000gn/T/ipykernel_34729/3856767485.py:4: PerformanceWarning: DataFrame is highly fragmented.  This is usually the result of calling `frame.insert` many times, which has poor performance.  Consider joining all columns at once using pd.concat(axis=1) instead. To get a de-fragmented frame, use `newframe = frame.copy()`\n",
      "  metadata[mlb.classes_[i]] = res.T[i]\n",
      "/var/folders/d7/b6t8w9c960vb7cps3hrj9q_h0000gn/T/ipykernel_34729/3856767485.py:4: PerformanceWarning: DataFrame is highly fragmented.  This is usually the result of calling `frame.insert` many times, which has poor performance.  Consider joining all columns at once using pd.concat(axis=1) instead. To get a de-fragmented frame, use `newframe = frame.copy()`\n",
      "  metadata[mlb.classes_[i]] = res.T[i]\n",
      "/var/folders/d7/b6t8w9c960vb7cps3hrj9q_h0000gn/T/ipykernel_34729/3856767485.py:4: PerformanceWarning: DataFrame is highly fragmented.  This is usually the result of calling `frame.insert` many times, which has poor performance.  Consider joining all columns at once using pd.concat(axis=1) instead. To get a de-fragmented frame, use `newframe = frame.copy()`\n",
      "  metadata[mlb.classes_[i]] = res.T[i]\n",
      "/var/folders/d7/b6t8w9c960vb7cps3hrj9q_h0000gn/T/ipykernel_34729/3856767485.py:4: PerformanceWarning: DataFrame is highly fragmented.  This is usually the result of calling `frame.insert` many times, which has poor performance.  Consider joining all columns at once using pd.concat(axis=1) instead. To get a de-fragmented frame, use `newframe = frame.copy()`\n",
      "  metadata[mlb.classes_[i]] = res.T[i]\n"
     ]
    }
   ],
   "source": [
    "mlb = MultiLabelBinarizer()\n",
    "res = mlb.fit_transform(metadata['production_companies'])\n",
    "for i in range(len(mlb.classes_)):\n",
    "    metadata[mlb.classes_[i]] = res.T[i]"
   ]
  },
  {
   "cell_type": "markdown",
   "id": "f74b60c0",
   "metadata": {},
   "source": [
    "Сasts and directors cannot be considered categorical factors, since the number of unique values is too large, and the probability of new values appearing is high."
   ]
  },
  {
   "cell_type": "markdown",
   "id": "105f4087",
   "metadata": {},
   "source": [
    "Let's create another column: the average ratings of films in which the actors participated"
   ]
  },
  {
   "cell_type": "code",
   "execution_count": 207,
   "id": "e5e75525",
   "metadata": {},
   "outputs": [],
   "source": [
    "actors = list({i for lst in metadata['cast'] for i in lst})\n",
    "actors_ranking = {}\n",
    "for a in actors:\n",
    "    rank = metadata[metadata['cast'].apply(lambda x: a in x)]['vote_average'].mean()\n",
    "    actors_ranking[a] = rank"
   ]
  },
  {
   "cell_type": "code",
   "execution_count": 208,
   "id": "650ddf9a",
   "metadata": {},
   "outputs": [
    {
     "name": "stderr",
     "output_type": "stream",
     "text": [
      "/Users/user/opt/anaconda3/lib/python3.9/site-packages/numpy/core/fromnumeric.py:3440: RuntimeWarning: Mean of empty slice.\n",
      "  return _methods._mean(a, axis=axis, dtype=dtype,\n"
     ]
    }
   ],
   "source": [
    "metadata['cast_ranking'] = metadata['cast'].apply(lambda x: np.mean(np.array([actors_ranking[a] for a in x])))"
   ]
  },
  {
   "cell_type": "markdown",
   "id": "f182277f",
   "metadata": {},
   "source": [
    "Do the same with directors"
   ]
  },
  {
   "cell_type": "code",
   "execution_count": 209,
   "id": "2505af07",
   "metadata": {},
   "outputs": [
    {
     "name": "stderr",
     "output_type": "stream",
     "text": [
      "/Users/user/opt/anaconda3/lib/python3.9/site-packages/numpy/core/fromnumeric.py:3440: RuntimeWarning: Mean of empty slice.\n",
      "  return _methods._mean(a, axis=axis, dtype=dtype,\n"
     ]
    }
   ],
   "source": [
    "crew = list({i for lst in metadata['crew'] for i in lst})\n",
    "crew_ranking = {}\n",
    "for a in crew:\n",
    "    rank = metadata[metadata['crew'].apply(lambda x: a in x)]['vote_average'].mean()\n",
    "    crew_ranking[a] = rank\n",
    "\n",
    "metadata['crew_ranking'] = metadata['crew'].apply(lambda x: np.mean(np.array([crew_ranking[a] for a in x])))"
   ]
  },
  {
   "cell_type": "code",
   "execution_count": 210,
   "id": "36182701",
   "metadata": {},
   "outputs": [
    {
     "data": {
      "text/plain": [
       "<AxesSubplot:>"
      ]
     },
     "execution_count": 210,
     "metadata": {},
     "output_type": "execute_result"
    },
    {
     "data": {
      "image/png": "[encoded data removed]",
      "text/plain": [
       "<Figure size 432x288 with 1 Axes>"
      ]
     },
     "metadata": {
      "needs_background": "light"
     },
     "output_type": "display_data"
    }
   ],
   "source": [
    "metadata.boxplot(column = 'crew_ranking')"
   ]
  },
  {
   "cell_type": "code",
   "execution_count": 211,
   "id": "f457c42d",
   "metadata": {},
   "outputs": [
    {
     "data": {
      "text/plain": [
       "<AxesSubplot:>"
      ]
     },
     "execution_count": 211,
     "metadata": {},
     "output_type": "execute_result"
    },
    {
     "data": {
      "image/png": "[encoded data removed]",
      "text/plain": [
       "<Figure size 432x288 with 1 Axes>"
      ]
     },
     "metadata": {
      "needs_background": "light"
     },
     "output_type": "display_data"
    }
   ],
   "source": [
    "metadata.boxplot(column = 'cast_ranking')"
   ]
  },
  {
   "cell_type": "markdown",
   "id": "bc6fba18",
   "metadata": {},
   "source": [
    "It is planned to use gradient boosting to build the model, so the data normalization is not needed"
   ]
  },
  {
   "cell_type": "code",
   "execution_count": 214,
   "id": "74534074",
   "metadata": {},
   "outputs": [
    {
     "data": {
      "text/plain": [
       "Index(['adult', 'belongs_to_collection', 'budget', 'genres', 'homepage', 'id',\n",
       "       'imdb_id', 'original_language', 'original_title', 'popularity',\n",
       "       ...\n",
       "       'XYZ Films', 'Yari Film Group', 'Yash Raj Films',\n",
       "       'Zentropa Entertainments', 'Zide-Perry Productions',\n",
       "       'Zweites Deutsches Fernsehen (ZDF)', 'other', 'uFilm', 'cast_ranking',\n",
       "       'crew_ranking'],\n",
       "      dtype='object', length=722)"
      ]
     },
     "execution_count": 214,
     "metadata": {},
     "output_type": "execute_result"
    }
   ],
   "source": [
    "metadata.columns"
   ]
  },
  {
   "cell_type": "code",
   "execution_count": 215,
   "id": "2bb6bed2",
   "metadata": {},
   "outputs": [],
   "source": [
    "metadata.to_csv('processed_IMDB_dataset.csv', index=False)"
   ]
  },
  {
   "cell_type": "code",
   "execution_count": null,
   "id": "d7f822b4",
   "metadata": {},
   "outputs": [],
   "source": []
  }
 ],
 "metadata": {
  "kernelspec": {
   "display_name": "Python 3 (ipykernel)",
   "language": "python",
   "name": "python3"
  },
  "language_info": {
   "codemirror_mode": {
    "name": "ipython",
    "version": 3
   },
   "file_extension": ".py",
   "mimetype": "text/x-python",
   "name": "python",
   "nbconvert_exporter": "python",
   "pygments_lexer": "ipython3",
   "version": "3.9.12"
  }
 },
 "nbformat": 4,
 "nbformat_minor": 5
}
