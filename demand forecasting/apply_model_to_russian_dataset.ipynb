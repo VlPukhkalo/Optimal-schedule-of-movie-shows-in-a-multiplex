{
 "cells": [
  {
   "cell_type": "code",
   "execution_count": 1,
   "id": "edb69c8f",
   "metadata": {},
   "outputs": [],
   "source": [
    "import sys\n",
    "import os\n",
    "import pandas as pd\n",
    "import numpy as np\n",
    "import matplotlib.pyplot as plt\n",
    "import glob\n",
    "import random\n",
    "import re"
   ]
  },
  {
   "cell_type": "code",
   "execution_count": 4,
   "id": "353f8c39",
   "metadata": {},
   "outputs": [
    {
     "data": {
      "text/plain": [
       "['processed_IMDB_dataset.csv',\n",
       " 'df_films_from_data.csv',\n",
       " 'processed_russian_dataset.csv']"
      ]
     },
     "execution_count": 4,
     "metadata": {},
     "output_type": "execute_result"
    }
   ],
   "source": [
    "os.chdir('/Users/user/Desktop/ВКР/')\n",
    "\n",
    "names = glob.glob('*.csv')\n",
    "names"
   ]
  },
  {
   "cell_type": "code",
   "execution_count": 33,
   "id": "a94f2cc9",
   "metadata": {},
   "outputs": [],
   "source": [
    "df = pd.read_csv('processed_russian_dataset.csv')"
   ]
  },
  {
   "cell_type": "code",
   "execution_count": 34,
   "id": "a576b8e6",
   "metadata": {},
   "outputs": [],
   "source": [
    "X = df.drop(['Unnamed: 0','ranking', 'index', 'english_name', 'film_id', 'budget', 'currency', 'film_age', 'actors', 'directors', 'currency_course_to_dollars'], axis = 1)"
   ]
  },
  {
   "cell_type": "code",
   "execution_count": 35,
   "id": "cb8a1e59",
   "metadata": {},
   "outputs": [],
   "source": [
    "X['countries'] = X['countries'].apply(lambda x: eval(x)[0] if eval(x) else 'other')\n",
    "X['companies'] = X['companies'].apply(lambda x: eval(x)[0] if eval(x) else 'other')\n",
    "X['genres'] = X['genres'].apply(lambda x: eval(x))"
   ]
  },
  {
   "cell_type": "code",
   "execution_count": 36,
   "id": "50e6c36b",
   "metadata": {},
   "outputs": [],
   "source": [
    "from sklearn.preprocessing import MultiLabelBinarizer\n",
    "\n",
    "mlb = MultiLabelBinarizer()\n",
    "res = mlb.fit_transform(X['genres'])\n",
    "for i in range(len(mlb.classes_)):\n",
    "    X[mlb.classes_[i]] = res.T[i]\n",
    "\n",
    "X = X.drop(['genres'], axis = 1)"
   ]
  },
  {
   "cell_type": "code",
   "execution_count": 37,
   "id": "e3cbaf30",
   "metadata": {},
   "outputs": [],
   "source": [
    "X = X.rename(columns={'budget_in_dollars': 'budget', \n",
    "                      'companies': 'production_companies', \n",
    "                      'countries': 'production_countries', \n",
    "                     'rating_await': 'vote_count', \n",
    "                     'film_length': 'runtime', \n",
    "                     'actors_ranking': 'cast_ranking'})"
   ]
  },
  {
   "cell_type": "code",
   "execution_count": 38,
   "id": "6f32ef65",
   "metadata": {},
   "outputs": [],
   "source": [
    "all_genres = ['Action', 'Adventure', 'Animation', 'Comedy', 'Crime', 'Drama',\n",
    "       'Family', 'Fantasy', 'History', 'Horror', 'Music', 'Mystery', 'Romance',\n",
    "       'Science Fiction', 'Thriller', 'War', 'Western', 'Documentary', 'Foreign', 'TV Movie']"
   ]
  },
  {
   "cell_type": "code",
   "execution_count": 39,
   "id": "32ba8593",
   "metadata": {},
   "outputs": [],
   "source": [
    "for g in all_genres:\n",
    "    if g not in X.columns:\n",
    "        X[g] = np.zeros(len(X)).astype(int)"
   ]
  },
  {
   "cell_type": "code",
   "execution_count": 44,
   "id": "1721b0f4",
   "metadata": {},
   "outputs": [
    {
     "data": {
      "text/plain": [
       "Index(['belongs_to_collection', 'production_countries', 'production_companies',\n",
       "       'runtime', 'vote_count', 'budget', 'cast_ranking', 'crew_ranking',\n",
       "       'Action', 'Adventure', 'Animation', 'Comedy', 'Crime', 'Drama',\n",
       "       'Family', 'Fantasy', 'History', 'Horror', 'Music', 'Mystery', 'Romance',\n",
       "       'Science Fiction', 'Thriller', 'War', 'Western', 'Documentary',\n",
       "       'Foreign', 'TV Movie'],\n",
       "      dtype='object')"
      ]
     },
     "execution_count": 44,
     "metadata": {},
     "output_type": "execute_result"
    }
   ],
   "source": [
    "X.columns"
   ]
  },
  {
   "cell_type": "code",
   "execution_count": 45,
   "id": "d76f4660",
   "metadata": {},
   "outputs": [],
   "source": [
    "X = X[['belongs_to_collection', 'budget', 'production_companies', 'production_countries', 'runtime', 'vote_count', \n",
    "      'Action', 'Adventure', 'Animation', 'Comedy', 'Crime', 'Documentary', 'Drama',\n",
    "       'Family', 'Fantasy', 'Foreign', 'History', 'Horror', 'Music', 'Mystery', 'Romance',\n",
    "       'Science Fiction', 'TV Movie', 'Thriller', 'War', 'Western', 'cast_ranking', 'crew_ranking']]"
   ]
  },
  {
   "cell_type": "code",
   "execution_count": 46,
   "id": "0d75ebd7",
   "metadata": {},
   "outputs": [],
   "source": [
    "import joblib\n",
    "cbr = joblib.load(\"model.pkl\")"
   ]
  },
  {
   "cell_type": "code",
   "execution_count": 49,
   "id": "09193eb3",
   "metadata": {},
   "outputs": [],
   "source": [
    "predict = cbr.predict(X)"
   ]
  },
  {
   "cell_type": "code",
   "execution_count": 50,
   "id": "3be91725",
   "metadata": {},
   "outputs": [],
   "source": [
    "df['predicted_box_office'] = predict"
   ]
  },
  {
   "cell_type": "code",
   "execution_count": 51,
   "id": "5aec59f1",
   "metadata": {},
   "outputs": [],
   "source": [
    "df.to_csv('russian_dataset_with_predicted_box_office', index = False)"
   ]
  }
 ],
 "metadata": {
  "kernelspec": {
   "display_name": "Python 3 (ipykernel)",
   "language": "python",
   "name": "python3"
  },
  "language_info": {
   "codemirror_mode": {
    "name": "ipython",
    "version": 3
   },
   "file_extension": ".py",
   "mimetype": "text/x-python",
   "name": "python",
   "nbconvert_exporter": "python",
   "pygments_lexer": "ipython3",
   "version": "3.9.12"
  }
 },
 "nbformat": 4,
 "nbformat_minor": 5
}
